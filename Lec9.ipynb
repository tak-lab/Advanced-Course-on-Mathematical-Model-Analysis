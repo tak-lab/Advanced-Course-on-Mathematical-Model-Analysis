{
 "cells": [
  {
   "cell_type": "markdown",
   "metadata": {},
   "source": [
    "# 数理モデル解析特論 第4回\n",
    "\n",
    "このコードの実行の前に以下のパッケージをインストールする必要がある。\n",
    "\n",
    "```\n",
    "using Pkg\n",
    "Pkg.add(\"IJulia\")\n",
    "Pkg.add(\"Plots\")\n",
    "Pkg.add(\"IntervalArithmetic\")\n",
    "\n",
    "```\n",
    "\n",
    "## 数値計算に潜むリスク\n",
    "\n",
    "- 整数、浮動小数点数\n",
    "- 数値計算に生じる誤差\n",
    "- 区間演算\n",
    "\n",
    "\n",
    "## そもそも数値計算とは？\n",
    "* 数値計算（数値解析）とは…数学の問題を有限桁の浮動小数点数を使って「数値的」に解く．数式処理とは違う\n",
    "* 数値計算でできること，できないこと\n",
    "* 数値計算は誤差との戦い\n",
    "* 整数（integer）と浮動小数点数（binary32/binary64）\n",
    "\n",
    "## 整数型\n",
    "Juliaで整数は\n",
    "\n",
    "|型| 機械内表現 |\n",
    "|:-----------|:----------|\n",
    "| Int8    | 8bit整数  |\n",
    "| Int16    | 16bit整数  |\n",
    "| Int32    | 32bit整数  |\n",
    "| Int64   | 64bit整数 |\n",
    "| Int128   | 128bit整数 |\n",
    "| BigInt   | 任意精度 |\n",
    "\n",
    "\n",
    "のような数値がある．"
   ]
  },
  {
   "cell_type": "code",
   "execution_count": 1,
   "metadata": {},
   "outputs": [
    {
     "data": {
      "text/plain": [
       "10"
      ]
     },
     "execution_count": 1,
     "metadata": {},
     "output_type": "execute_result"
    }
   ],
   "source": [
    "a = Int32(10)"
   ]
  },
  {
   "cell_type": "code",
   "execution_count": 2,
   "metadata": {},
   "outputs": [
    {
     "data": {
      "text/plain": [
       "-2147483648"
      ]
     },
     "execution_count": 2,
     "metadata": {},
     "output_type": "execute_result"
    }
   ],
   "source": [
    "b = Int32(2147483647) + Int32(1)"
   ]
  },
  {
   "cell_type": "code",
   "execution_count": 3,
   "metadata": {},
   "outputs": [
    {
     "data": {
      "text/plain": [
       "2147483647"
      ]
     },
     "execution_count": 3,
     "metadata": {},
     "output_type": "execute_result"
    }
   ],
   "source": [
    "c = typemax(Int32)"
   ]
  },
  {
   "cell_type": "code",
   "execution_count": 4,
   "metadata": {
    "tags": []
   },
   "outputs": [
    {
     "name": "stdout",
     "output_type": "stream",
     "text": [
      "Counter example of Fermat's theorem\n",
      "(x, y, z) = (139, 954, 2115)\n"
     ]
    }
   ],
   "source": [
    "x = Int32(139)\n",
    "y = Int32(954)\n",
    "z = Int32(2115)\n",
    "if x ^ 3 + y ^ 3 == z ^ 3\n",
    "    println(\"Counter example of Fermat's theorem\")\n",
    "    println(\"(x, y, z) = ($x, $y, $z)\")\n",
    "end"
   ]
  },
  {
   "cell_type": "markdown",
   "metadata": {},
   "source": [
    "これからInt32の最大値が2147483647であることがわかり\n",
    "$2^{31}-1=2147483647$\n",
    "である．\n",
    "\n",
    "説明のために32bit整数（Int32）を考えると\n",
    "\n",
    "|ビットパターン | 数値 |\n",
    "|:-----------:|:----------:|\n",
    "|01111111111111111111111111111111 | 2147483647|\n",
    "|00000000000000000000000000000010 | 2|\n",
    "|00000000000000000000000000000001 | 1|\n",
    "|00000000000000000000000000000000 | 0|\n",
    "|11111111111111111111111111111111 | -1|\n",
    "|11111111111111111111111111111110 |-2|\n",
    "|10000000000000000000000000000000 |-2147483648|\n",
    "\n",
    "このような負の数の表現形式を「**2の補数形式**」と呼ぶ．\n",
    "32個の各bitが次のような重みをもっていると考えられる．\n",
    "\n",
    "$$\\fbox{$-2^{31}$}\\fbox{$2^{30}$}\\fbox{$2^{29}$}\\,\\cdots\\fbox{$2^{1}$}\\fbox{$2^{0}$}$$\n",
    "\n",
    "2の補数形式の場合，$n$ビットで $-2^{n-1}$〜$2^{n-1}-1$の範囲の数を表現できる．つまり\n",
    "\n",
    "|型|表現範囲|\n",
    "|:-|:-:|\n",
    "|Int8|-128〜127|\n",
    "|Int16|-32768〜32767|\n",
    "|Int32|-2147483648〜2147483647|\n",
    "|Int64|-9223372036854775808〜9223372036854775807|\n",
    "|Int128|-170141183460469231731687303715884105728〜170141183460469231731687303715884105727|\n",
    "\n",
    "の範囲の整数が表せる．\n"
   ]
  },
  {
   "cell_type": "code",
   "execution_count": 5,
   "metadata": {
    "tags": []
   },
   "outputs": [],
   "source": [
    "x = (139)\n",
    "y = (954)\n",
    "z = (2115)\n",
    "if x ^ 3 + y ^ 3 == z ^ 3\n",
    "    println(\"Counter example of Fermat's theorem\")\n",
    "    println(\"(x, y, z) = ($x, $y, $z)\")\n",
    "end"
   ]
  },
  {
   "cell_type": "code",
   "execution_count": 6,
   "metadata": {},
   "outputs": [
    {
     "data": {
      "text/plain": [
       "2147483648"
      ]
     },
     "execution_count": 6,
     "metadata": {},
     "output_type": "execute_result"
    }
   ],
   "source": [
    "2147483647+1"
   ]
  },
  {
   "cell_type": "code",
   "execution_count": 7,
   "metadata": {},
   "outputs": [
    {
     "data": {
      "text/plain": [
       "-9223372036854775808"
      ]
     },
     "execution_count": 7,
     "metadata": {},
     "output_type": "execute_result"
    }
   ],
   "source": [
    "9223372036854775807+1"
   ]
  },
  {
   "cell_type": "markdown",
   "metadata": {},
   "source": [
    "## 浮動小数点数\n",
    "\n",
    "**浮動小数点数**（Float64/double, Float32/float）は，「浮動小数点形式」と呼ばれる形式で表現できる．\n",
    "\n",
    "例えば，「$1234.5$」を「$1.2345\\times 10^3$」のように， 小数点の位置を1番左の数値と左から2番目の数値の間に移動（「正規化」と呼ぶ）し，それに指数を掛けた形式で数を表現する．\n",
    "この「$1.2345$」の部分を「仮数部」，「$10^3$」の部分（厳密には$~^3$）を「指数部」という．\n",
    "\n",
    "浮動小数点数は仮数部の長さ，指数部の長さ，基数が2，10，16など，多様な規格が考えられる．\n",
    "そこで1985年にWilliam Kahanが中心となって\n",
    "\n",
    "[IEEE 754: Standard for Binary Floating-Point Arithmetic](https://ja.wikipedia.org/wiki/IEEE_754)\n",
    "\n",
    "という標準規格が制定された．最近では世に出るハードウェアのほぼ全てがこの規格に従っている．\n",
    "\n",
    "### 倍精度 (Float64/double, binary64)\n",
    "倍精度は，符号（$\\pm$）に1ビット．指数部に11ビット，仮数部に 52ビットを使う．\n",
    "全部で64ビット=8バイトである．\n",
    "\n",
    "$\\fbox{1（符号）}\\fbox{11（指数部）}\\fbox{52（仮数部）}$\n",
    "\n",
    "* 符号は，0なら正，1なら負\n",
    "* 指数部は「$\\times 2^{\\mbox{指数}}$」の指数の部分に$1023$を加えたものが11ビット符号無しの整数の形で格納されている\n",
    "* 仮数部は，実際の仮数部の先頭の「1」を取り除いた残りが格納されている．仮数部の先頭は必ず1にしてメモリに格納しないことで1ビット分精度を稼いでいる\n",
    "\n",
    "数値$x$は\n",
    "\n",
    "$$x=\\pm\\; 1.d_1d_2\\cdots d_{52}\\times 2^{m}=\\pm\\left(\\frac{1}{2^0}+\\frac{d_1}{2^1}+\\frac{d_2}{2^2}+\\cdots+\\frac{d_{52}}{2^{52}}\\right)2^{e}_{(10)}$$\n",
    "\n",
    "と書ける（$-1022\\le e\\le 1023$，$m$：$e+1023$の2進表現）．\n",
    "\n",
    "例えば，5.25は2進数で書くと\n",
    "$$\n",
    "\t101.01_{(2)} = \\left(\\frac{1}{2^0}+\\frac{0}{2^1}+\\frac{1}{2^2}+\\frac{0}{2^{3}}+\\frac{1}{2^4}\\right)\\times 2^2_{(10)}\n",
    "$$\n",
    "であるから，計算機内では\n",
    "\n",
    "$\\fbox{0}\\fbox{10000000001}\\fbox{0101000000000000000000000000000000000000000000000000}$\n",
    "\n",
    "のように格納されている。指数部の「1000000001」は、「2+1023=1025」 を2進数にしたもの．\n",
    "\n",
    "これは**正規化数**と呼ばれる数の範囲．\n",
    "\n",
    "実際にJuliaのbitstring関数を使って浮動小数点数を見てみよう．"
   ]
  },
  {
   "cell_type": "code",
   "execution_count": 8,
   "metadata": {
    "tags": []
   },
   "outputs": [
    {
     "name": "stdout",
     "output_type": "stream",
     "text": [
      "0100000000010101000000000000000000000000000000000000000000000000\n",
      "0100000000010100111101011100001010001111010111000010100011110110\n"
     ]
    }
   ],
   "source": [
    "x = 5.25\n",
    "println(bitstring(x))\n",
    "println(bitstring(5.24))"
   ]
  },
  {
   "cell_type": "code",
   "execution_count": 4,
   "metadata": {
    "tags": []
   },
   "outputs": [
    {
     "name": "stdout",
     "output_type": "stream",
     "text": [
      "0\n",
      "10000000001\n",
      "0101000000000000000000000000000000000000000000000000\n"
     ]
    }
   ],
   "source": [
    "binx = bitstring(x) \n",
    "sign = binx[1]; println(sign)\n",
    "expo = binx[2:12]; println(expo)\n",
    "frac = binx[13:end]; println(frac)"
   ]
  },
  {
   "cell_type": "markdown",
   "metadata": {},
   "source": [
    "符号はsign = 0で正の数, 指数部はexp-1023=1025-1023=**2**，  \n",
    "仮数部はfrac=(101000000000000000000000000000000000000000000000000)$_2$で2進数表示され，実際の値は**1.3125**，  \n",
    "元の浮動小数点数に戻すと\n",
    "\n",
    "$$(-1)^{\\mathrm{sign}}*\\mathrm{frac}*2^{\\mathrm{expo}-1023}=5.25$$\n",
    "\n",
    "で次のように確かに元の数に戻ることがわかる．"
   ]
  },
  {
   "cell_type": "code",
   "execution_count": 5,
   "metadata": {
    "tags": []
   },
   "outputs": [
    {
     "name": "stdout",
     "output_type": "stream",
     "text": [
      "1.3125\n",
      "2\n",
      "5.25\n"
     ]
    }
   ],
   "source": [
    "aa = [parse(Int, f) for f in frac]\n",
    "bb = 2. .^(1:52)\n",
    "dfrac = 1 + sum(aa ./ bb); println(dfrac)\n",
    "cc = [parse(Int, f) for f in expo]\n",
    "dexp = sum(cc .* (2 .^(10:-1:0))) - 1023; println(dexp)\n",
    "x = (-1)^(parse(Int,sign))*dfrac*2^(dexp); println(x)"
   ]
  },
  {
   "cell_type": "markdown",
   "metadata": {},
   "source": [
    "次に$e$の範囲$-1022\\le e\\le 1023$に注目する．\n",
    "\n",
    "$e+1023$が11ビット符号無しの整数なら範囲は$0$〜$2047$であるが，$e$範囲から\n",
    "$e+1023=0$のときと$e+1023=2047$のときが使われていない．\n",
    "\n",
    "これらは**特殊な数を表す**のに使われる．それらは\n",
    "\n",
    "* 零\n",
    "* 無限大 (Inf)\n",
    "* NaN (Not a Number)\n",
    "* 非正規化数\n",
    "\n",
    "と呼ばれる．\n",
    "\n",
    "#### 零\n",
    "指数部が$e+1023=0$かつ仮数部が0のとき.\n",
    "\n",
    "$$\\pm\\; 0.00\\cdots 0\\times 2^{0}={\\pm\\left(\\frac{0}{2^0}+\\frac{0}{2^1}+\\frac{0}{2^2}+\\cdots+\\frac{0}{2^{52}}\\right)2^{-1023}}_{(10)}.$$\n",
    "\n",
    "\n"
   ]
  },
  {
   "cell_type": "code",
   "execution_count": 9,
   "metadata": {},
   "outputs": [
    {
     "name": "stdout",
     "output_type": "stream",
     "text": [
      "0.0\n",
      "0000000000000000000000000000000000000000000000000000000000000000\n",
      "-0.0\n",
      "1000000000000000000000000000000000000000000000000000000000000000\n"
     ]
    }
   ],
   "source": [
    "x = 0.0; println(x); println(bitstring(x))\n",
    "x = -0.0; println(x); println(bitstring(x))"
   ]
  },
  {
   "cell_type": "markdown",
   "metadata": {},
   "source": [
    "#### 無限大\n",
    "$e+1023=2047$かつ仮数部が0のとき，$\\pm\\infty$を表す．\n",
    "\n",
    "$$\\pm\\; 1.00\\cdots 0\\times 2^{m}={\\pm\\left(\\frac{1}{2^0}+\\frac{0}{2^1}+\\frac{0}{2^2}+\\cdots+\\frac{0}{2^{52}}\\right)2^{1024}}_{(10)},$$\n",
    "\n",
    "$m$: 2047の2進表現. このとき**オーバーフロー**が起こるという."
   ]
  },
  {
   "cell_type": "code",
   "execution_count": 9,
   "metadata": {},
   "outputs": [
    {
     "name": "stdout",
     "output_type": "stream",
     "text": [
      "Inf\n",
      "0111111111110000000000000000000000000000000000000000000000000000\n",
      "-Inf\n",
      "1111111111110000000000000000000000000000000000000000000000000000\n",
      "Inf\n"
     ]
    }
   ],
   "source": [
    "x = Inf; println(x); println(bitstring(x))\n",
    "println(-x); println(bitstring(-x))\n",
    "println(2.0^(1024))"
   ]
  },
  {
   "cell_type": "markdown",
   "metadata": {},
   "source": [
    "#### NaN (Not a Number)\n",
    "$e+1023=2047$かつ仮数部が0でないとき．\n",
    "\n",
    "負数の平方根など，不可能な演算の結果を表すのに使われる．"
   ]
  },
  {
   "cell_type": "code",
   "execution_count": 11,
   "metadata": {},
   "outputs": [
    {
     "name": "stdout",
     "output_type": "stream",
     "text": [
      "0111111111110000000000000000000000000000000000000000000000000000\n",
      "NaN\n",
      "0111111111111000000000000000000000000000000000000000000000000000\n",
      "NaN\n",
      "0111111111111000000000000000000000000000000000000000000000000000\n",
      "NaN\n",
      "0111111111111000000000000000000000000000000000000000000000000000\n"
     ]
    }
   ],
   "source": [
    "x = Inf; println(bitstring(x))\n",
    "x = NaN; println(x); println(bitstring(x))\n",
    "x = Inf - Inf; println(x); println(bitstring(x))\n",
    "x = Inf / Inf; println(x); println(bitstring(x))"
   ]
  },
  {
   "cell_type": "markdown",
   "metadata": {},
   "source": [
    "\n",
    "#### 正規化数の最大最小\n",
    "正の正規化数の最大の数は，$e+1023=2046$, かつ仮数部のビットが全て1のとき．\n",
    "\n",
    "$${\\left(\\frac{{1}}{2^0}+\\frac{1}{2^1}+\\frac{1}{2^2}+\\cdots+\\frac{1}{2^{52}}\\right)2^{{1023}}}_{(10)}= 2^{1024}-2^{971}\\approx10^{308.25}$$\n",
    "\n",
    "であり，これを1ビットでも超えたら無限大になる．これを**オーバーフロー**という．\n",
    "\n"
   ]
  },
  {
   "cell_type": "code",
   "execution_count": 12,
   "metadata": {},
   "outputs": [
    {
     "name": "stdout",
     "output_type": "stream",
     "text": [
      "1.7976931348623157e308\n",
      "0111111111101111111111111111111111111111111111111111111111111111\n",
      "Inf\n",
      "0111111111110000000000000000000000000000000000000000000000000000\n"
     ]
    }
   ],
   "source": [
    "x = (2. ^ 53 - 1) * 2. ^ 971\n",
    "println(x)\n",
    "println(bitstring(x))\n",
    "x = (2. ^ 53) * 2. ^ 971\n",
    "println(x)\n",
    "println(bitstring(x))"
   ]
  },
  {
   "cell_type": "markdown",
   "metadata": {},
   "source": [
    "正の正規化数の最小の数は，$e+1023=1$, かつ仮数部のビットが全て0のとき．\n",
    "\n",
    "$${\\left(\\frac{{1}}{2^0}+\\frac{0}{2^1}+\\frac{0}{2^2}+\\cdots+\\frac{0}{2^{52}}\\right)2^{-1022}}_{(10)}= 2^{-1022}\\approx10^{-307.65}$$\n",
    "\n",
    "であり，これを下回ると**アンダーフロー**というが，IEEE 754 では，ここでアンダーフローさせないで仮数部を使った「悪あがき」をする．次の例を見てみよう."
   ]
  },
  {
   "cell_type": "code",
   "execution_count": 13,
   "metadata": {},
   "outputs": [
    {
     "name": "stdout",
     "output_type": "stream",
     "text": [
      "2.2250738585072014e-308\n",
      "0000000000010000000000000000000000000000000000000000000000000000\n",
      "2.225073858507201e-308\n",
      "0000000000001111111111111111111111111111111111111111111111111111\n"
     ]
    }
   ],
   "source": [
    "x = 2. ^ (-1022)\n",
    "println(x)\n",
    "println(bitstring(x))\n",
    "y = x-2^(-1074);\n",
    "println(y)\n",
    "println(bitstring(y))"
   ]
  },
  {
   "cell_type": "markdown",
   "metadata": {},
   "source": [
    "#### 非正規化数\n",
    "指数部が$e+1023=0$かつ仮数部が0でないとき，\n",
    "\n",
    "仮数部の最初の桁を$0$にして\n",
    "\n",
    "$$\\pm\\; 0.d_1d_2\\cdots d_{52}\\times 2^{0}={\\pm\\left(\\frac{\\color{red}0}{2^0}+\\frac{d_1}{2^1}+\\frac{d_2}{2^2}+\\cdots+\\frac{d_{52}}{2^{52}}\\right)2^{{\\color{red}{-1022}}}}_{(10)}.$$\n",
    "\n",
    "という数の表現をする．つまり指数部が$e+1023=1$よりも小さくなったら、正規化しないで指数部は$e+1023=1$のままにする. 代わりに仮数部の最初の桁を$0$にする.\n",
    "このような決まりによって, 非正規化数は文字通り「正規化していない」数となる．\n",
    "\n",
    "#### 漸近アンダーフロー\n",
    "上の例のように正規化数の最小数の最終bitを1だけ減らすと\n",
    "\n",
    "$${\\left(\\frac{{0}}{2^0}+\\frac{1}{2^1}+\\frac{1}{2^2}+\\cdots+\\frac{1}{2^{52}}\\right)2^{-1022}}_{(10)}$$\n",
    "\n",
    "となり，これを正規化すると\n",
    "\n",
    "$${\\left(\\frac{{1}}{2^0}+\\frac{1}{2^1}+\\frac{1}{2^2}+\\cdots+\\frac{0}{2^{52}}\\right)2^{-1023}}_{(10)}$$\n",
    "\n",
    "となって，指数部の下限$-1022\\le e$を超えてしまう．\n",
    "そこで，「$2^{-1022}$を下回ったら正規化をやめて指数部を$2^{-1022}$に固定して仮数部の最初の桁を0としてみて格納する」ルールが発動し, 非正規化数での数の表現が始まる.\n",
    "以下, 1ビットずつ減らしていくと\n",
    "\n",
    "$${\\left(\\frac{{0}}{2^0}+\\frac{1}{2^1}+\\frac{1}{2^2}+\\cdots+\\frac{1}{2^{52}}\\right)2^{-1022}}_{(10)}$$\n",
    "$${\\left(\\frac{{0}}{2^0}+\\frac{1}{2^1}+\\frac{1}{2^2}+\\cdots+\\frac{0}{2^{52}}\\right)2^{-1022}}_{(10)}$$\n",
    "$$\\vdots$$\n",
    "$$\\left(\\frac{{0}}{2^0}+\\frac{1}{2^1}+\\frac{0}{2^2}+\\cdots+\\frac{0}{2^{52}}\\right)2^{-1022}$$\n",
    "$${\\left(\\frac{{0}}{2^0}+\\frac{0}{2^1}+\\frac{1}{2^2}+\\cdots+\\frac{1}{2^{52}}\\right)2^{-1022}}_{(10)}$$\n",
    "$$\\vdots$$\n",
    "$${\\left(\\frac{{0}}{2^0}+\\frac{0}{2^1}+\\frac{0}{2^2}+\\cdots+\\frac{1}{2^{52}}\\right)2^{-1022}}_{(10)}=2^{-1074}\\approx10^{-323.31}$$\n",
    "\n",
    "のような数が表現できる．ただし，$2^{-1022}$と$2^{-1074}$の間の数は，本来53ビットあるべき仮数部の長さが52ビット〜1ビットまで減ってしまっており，精度が低下していることに注意が必要である．"
   ]
  },
  {
   "cell_type": "code",
   "execution_count": 10,
   "metadata": {},
   "outputs": [
    {
     "name": "stdout",
     "output_type": "stream",
     "text": [
      "5.0e-324\n",
      "0000000000000000000000000000000000000000000000000000000000000001\n",
      "0.0\n",
      "0000000000000000000000000000000000000000000000000000000000000000\n"
     ]
    }
   ],
   "source": [
    "x = 2. ^ (-1074)\n",
    "println(x)\n",
    "println(bitstring(x))\n",
    "\n",
    "x = (2. ^ (-1074)) / 2\n",
    "println(x)\n",
    "println(bitstring(x))"
   ]
  },
  {
   "cell_type": "markdown",
   "metadata": {},
   "source": [
    "### 浮動小数点数まとめ\n",
    "\n",
    "倍精度(binary64, Float64/double)は\n",
    "\n",
    "||仮数部が0|仮数部が0でない|\n",
    "|:-:|:-:|:-:|\n",
    "|$e+1023=0$            | $\\pm0$      | 非正規化数|\n",
    "|$1\\le e+1023\\le 2046$ | 正規化数     | 正規化数 |\n",
    "|$e+1023=2047$         | $\\pm\\infty$ | NaN|\n",
    "\n",
    "\n",
    "単精度 (binary32, Float32/float) は\n",
    "\n",
    "\n",
    "||仮数部が0|仮数部が0でない|\n",
    "|:-:|:-:|:-:|\n",
    "|$e+127=0$            | $\\pm0$      | 非正規化数|\n",
    "|$1\\le e+127\\le 254$ | 正規化数     | 正規化数 |\n",
    "|$e+127=255$         | $\\pm\\infty$ | NaN|\n",
    "\n",
    "今後，浮動小数点数全体の集合を$\\mathbb{F}$と表すことにする．特に断りがなければ，浮動小数点数は倍精度浮動小数点数（64bit）とする．IEEE754では**binary64**とも呼ばれている．\n",
    "\n"
   ]
  },
  {
   "cell_type": "markdown",
   "metadata": {},
   "source": [
    "## 丸め誤差\n",
    "浮動小数点数を使用した演算に混入する誤差について述べる\n",
    "\n",
    "浮動小数点数同士の演算（加減乗除など）の結果は，浮動小数点数で表せるとは限らない．\n",
    "例えば，10進数で仮数部3桁の浮動小数点演算を考え，2/3を計算すると，\n",
    "\n",
    "$$\n",
    "\t2.00\\times 10^0/3.00\\times 10^0=0.66666666...\\times 10^0\n",
    "$$\n",
    "\n",
    "となり，仮数部3桁に収まらない．仮数部の4桁目で四捨五入を行うと\n",
    "\n",
    "$$\n",
    "\t6.67\\times10^{-1}\n",
    "$$\n",
    "\n",
    "となる．このときの計算値と真値との差\n",
    "\n",
    "$$\n",
    "\t6.67\\times10^{-1}-6.6666666...\\times10^{-1}=3.3333333...\\times10^{-4}\n",
    "$$\n",
    "\n",
    "が丸め誤差である．\n",
    "\n",
    "IEEE 754は2進数浮動小数点数なので，基本的には0捨1入で丸められる．\n",
    "例えば，10進数の「0.1」をIEEE 754のbinary64に変換してみると\n",
    "\n",
    "\\begin{align*}\n",
    "\t0.1_{(10)} &= 0.000110011001100110011..._{(2)}\\\\\n",
    "\t& = 1.10011001100110011...\\times 2^{m},\n",
    "\\end{align*}\n",
    "\n",
    "$m$は$-4+1023=1019$の2進表現，つまり$m=01111111011$.\n",
    "仮数部は無限小数になっているのでそのまま格納出来ない．\n",
    "小数点以下を 52bit以内とそれ以降で区切って表示すると\n",
    "\n",
    "$\\fbox{1001100110011001100110011001100110011001100110011001}\\fbox{10011001100....}$\n",
    "\n",
    "となり，はみ出た部分の先頭が「1」なので、0捨1入で繰り上げる．\n",
    "最終的には， 10進数の「0.1」は\n",
    "\n",
    "$\\fbox{0}\\fbox{01111111011}\\fbox{1001100110011001100110011001100110011001100110011010}$\n",
    "\n",
    "のように格納されている．"
   ]
  },
  {
   "cell_type": "code",
   "execution_count": 11,
   "metadata": {},
   "outputs": [
    {
     "name": "stdout",
     "output_type": "stream",
     "text": [
      "0011111110111001100110011001100110011001100110011001100110011010\n"
     ]
    }
   ],
   "source": [
    "x = 0.1\n",
    "println(bitstring(x))"
   ]
  },
  {
   "cell_type": "markdown",
   "metadata": {},
   "source": [
    "10進数の0.1は計算機には正確に格納できず，少しだけ0.1より大きい値で格納されており，\n",
    "**丸め誤差**が含まれている\n",
    "\n",
    "$$\n",
    "    \\displaystyle\\frac{1}{10}\\approx{\\color{red}{0.1000000000000000}}055511151231257827021181583404541015625\n",
    "$$"
   ]
  },
  {
   "cell_type": "code",
   "execution_count": 12,
   "metadata": {
    "tags": []
   },
   "outputs": [
    {
     "name": "stdout",
     "output_type": "stream",
     "text": [
      "0.1000000000000000055511151231257827021181583404541015625"
     ]
    }
   ],
   "source": [
    "using Printf\n",
    "@printf(\"%.55f\", x)"
   ]
  },
  {
   "cell_type": "markdown",
   "metadata": {},
   "source": [
    "さらに, 0.1を逐次的に加えていくと計算結果は丸め誤差の影響により, 不可解な計算結果を返す事がある."
   ]
  },
  {
   "cell_type": "code",
   "execution_count": 13,
   "metadata": {
    "tags": []
   },
   "outputs": [
    {
     "name": "stdout",
     "output_type": "stream",
     "text": [
      "0011111111110011001100110011001100110011001100110011001100110100\n",
      "0011111111110011001100110011001100110011001100110011001100110011\n"
     ]
    }
   ],
   "source": [
    "println(bitstring(0.1 + 1.1))\n",
    "println(bitstring(1.2))"
   ]
  },
  {
   "cell_type": "code",
   "execution_count": 37,
   "metadata": {
    "tags": []
   },
   "outputs": [
    {
     "data": {
      "image/png": "[encoded data removed]",
      "image/svg+xml": [
       "<?xml version=\"1.0\" encoding=\"utf-8\"?>\n",
       "<svg xmlns=\"http://www.w3.org/2000/svg\" xmlns:xlink=\"http://www.w3.org/1999/xlink\" width=\"600\" height=\"400\" viewBox=\"0 0 2400 1600\">\n",
       "<defs>\n",
       "  <clipPath id=\"clip710\">\n",
       "    <rect x=\"0\" y=\"0\" width=\"2400\" height=\"1600\"/>\n",
       "  </clipPath>\n",
       "</defs>\n",
       "<path clip-path=\"url(#clip710)\" d=\"M0 1600 L2400 1600 L2400 8.88178e-14 L0 8.88178e-14  Z\" fill=\"#ffffff\" fill-rule=\"evenodd\" fill-opacity=\"1\"/>\n",
       "<defs>\n",
       "  <clipPath id=\"clip711\">\n",
       "    <rect x=\"480\" y=\"0\" width=\"1681\" height=\"1600\"/>\n",
       "  </clipPath>\n",
       "</defs>\n",
       "<path clip-path=\"url(#clip710)\" d=\"M399.187 1486.45 L2352.76 1486.45 L2352.76 47.2441 L399.187 47.2441  Z\" fill=\"#ffffff\" fill-rule=\"evenodd\" fill-opacity=\"1\"/>\n",
       "<defs>\n",
       "  <clipPath id=\"clip712\">\n",
       "    <rect x=\"399\" y=\"47\" width=\"1955\" height=\"1440\"/>\n",
       "  </clipPath>\n",
       "</defs>\n",
       "<polyline clip-path=\"url(#clip712)\" style=\"stroke:#000000; stroke-linecap:round; stroke-linejoin:round; stroke-width:2; stroke-opacity:0.1; fill:none\" points=\"435.86,1486.45 435.86,47.2441 \"/>\n",
       "<polyline clip-path=\"url(#clip712)\" style=\"stroke:#000000; stroke-linecap:round; stroke-linejoin:round; stroke-width:2; stroke-opacity:0.1; fill:none\" points=\"901.262,1486.45 901.262,47.2441 \"/>\n",
       "<polyline clip-path=\"url(#clip712)\" style=\"stroke:#000000; stroke-linecap:round; stroke-linejoin:round; stroke-width:2; stroke-opacity:0.1; fill:none\" points=\"1366.66,1486.45 1366.66,47.2441 \"/>\n",
       "<polyline clip-path=\"url(#clip712)\" style=\"stroke:#000000; stroke-linecap:round; stroke-linejoin:round; stroke-width:2; stroke-opacity:0.1; fill:none\" points=\"1832.06,1486.45 1832.06,47.2441 \"/>\n",
       "<polyline clip-path=\"url(#clip712)\" style=\"stroke:#000000; stroke-linecap:round; stroke-linejoin:round; stroke-width:2; stroke-opacity:0.1; fill:none\" points=\"2297.47,1486.45 2297.47,47.2441 \"/>\n",
       "<polyline clip-path=\"url(#clip710)\" style=\"stroke:#000000; stroke-linecap:round; stroke-linejoin:round; stroke-width:4; stroke-opacity:1; fill:none\" points=\"399.187,1486.45 2352.76,1486.45 \"/>\n",
       "<polyline clip-path=\"url(#clip710)\" style=\"stroke:#000000; stroke-linecap:round; stroke-linejoin:round; stroke-width:4; stroke-opacity:1; fill:none\" points=\"435.86,1486.45 435.86,1467.55 \"/>\n",
       "<polyline clip-path=\"url(#clip710)\" style=\"stroke:#000000; stroke-linecap:round; stroke-linejoin:round; stroke-width:4; stroke-opacity:1; fill:none\" points=\"901.262,1486.45 901.262,1467.55 \"/>\n",
       "<polyline clip-path=\"url(#clip710)\" style=\"stroke:#000000; stroke-linecap:round; stroke-linejoin:round; stroke-width:4; stroke-opacity:1; fill:none\" points=\"1366.66,1486.45 1366.66,1467.55 \"/>\n",
       "<polyline clip-path=\"url(#clip710)\" style=\"stroke:#000000; stroke-linecap:round; stroke-linejoin:round; stroke-width:4; stroke-opacity:1; fill:none\" points=\"1832.06,1486.45 1832.06,1467.55 \"/>\n",
       "<polyline clip-path=\"url(#clip710)\" style=\"stroke:#000000; stroke-linecap:round; stroke-linejoin:round; stroke-width:4; stroke-opacity:1; fill:none\" points=\"2297.47,1486.45 2297.47,1467.55 \"/>\n",
       "<path clip-path=\"url(#clip710)\" d=\"M435.86 1517.37 Q432.249 1517.37 430.42 1520.93 Q428.615 1524.47 428.615 1531.6 Q428.615 1538.71 430.42 1542.27 Q432.249 1545.82 435.86 1545.82 Q439.495 1545.82 441.3 1542.27 Q443.129 1538.71 443.129 1531.6 Q443.129 1524.47 441.3 1520.93 Q439.495 1517.37 435.86 1517.37 M435.86 1513.66 Q441.67 1513.66 444.726 1518.27 Q447.805 1522.85 447.805 1531.6 Q447.805 1540.33 444.726 1544.94 Q441.67 1549.52 435.86 1549.52 Q430.05 1549.52 426.971 1544.94 Q423.916 1540.33 423.916 1531.6 Q423.916 1522.85 426.971 1518.27 Q430.05 1513.66 435.86 1513.66 Z\" fill=\"#000000\" fill-rule=\"nonzero\" fill-opacity=\"1\" /><path clip-path=\"url(#clip710)\" d=\"M880.533 1544.91 L896.852 1544.91 L896.852 1548.85 L874.908 1548.85 L874.908 1544.91 Q877.57 1542.16 882.153 1537.53 Q886.76 1532.88 887.94 1531.53 Q890.185 1529.01 891.065 1527.27 Q891.968 1525.51 891.968 1523.82 Q891.968 1521.07 890.023 1519.33 Q888.102 1517.6 885 1517.6 Q882.801 1517.6 880.348 1518.36 Q877.917 1519.13 875.139 1520.68 L875.139 1515.95 Q877.963 1514.82 880.417 1514.24 Q882.871 1513.66 884.908 1513.66 Q890.278 1513.66 893.472 1516.35 Q896.667 1519.03 896.667 1523.52 Q896.667 1525.65 895.857 1527.57 Q895.07 1529.47 892.963 1532.07 Q892.384 1532.74 889.283 1535.95 Q886.181 1539.15 880.533 1544.91 Z\" fill=\"#000000\" fill-rule=\"nonzero\" fill-opacity=\"1\" /><path clip-path=\"url(#clip710)\" d=\"M906.713 1514.29 L925.069 1514.29 L925.069 1518.22 L910.995 1518.22 L910.995 1526.7 Q912.014 1526.35 913.033 1526.19 Q914.051 1526 915.07 1526 Q920.857 1526 924.236 1529.17 Q927.616 1532.34 927.616 1537.76 Q927.616 1543.34 924.144 1546.44 Q920.671 1549.52 914.352 1549.52 Q912.176 1549.52 909.908 1549.15 Q907.662 1548.78 905.255 1548.04 L905.255 1543.34 Q907.338 1544.47 909.56 1545.03 Q911.783 1545.58 914.259 1545.58 Q918.264 1545.58 920.602 1543.48 Q922.94 1541.37 922.94 1537.76 Q922.94 1534.15 920.602 1532.04 Q918.264 1529.94 914.259 1529.94 Q912.384 1529.94 910.509 1530.35 Q908.658 1530.77 906.713 1531.65 L906.713 1514.29 Z\" fill=\"#000000\" fill-rule=\"nonzero\" fill-opacity=\"1\" /><path clip-path=\"url(#clip710)\" d=\"M1341.36 1514.29 L1359.72 1514.29 L1359.72 1518.22 L1345.64 1518.22 L1345.64 1526.7 Q1346.66 1526.35 1347.68 1526.19 Q1348.7 1526 1349.72 1526 Q1355.51 1526 1358.89 1529.17 Q1362.27 1532.34 1362.27 1537.76 Q1362.27 1543.34 1358.79 1546.44 Q1355.32 1549.52 1349 1549.52 Q1346.83 1549.52 1344.56 1549.15 Q1342.31 1548.78 1339.9 1548.04 L1339.9 1543.34 Q1341.99 1544.47 1344.21 1545.03 Q1346.43 1545.58 1348.91 1545.58 Q1352.91 1545.58 1355.25 1543.48 Q1357.59 1541.37 1357.59 1537.76 Q1357.59 1534.15 1355.25 1532.04 Q1352.91 1529.94 1348.91 1529.94 Q1347.03 1529.94 1345.16 1530.35 Q1343.31 1530.77 1341.36 1531.65 L1341.36 1514.29 Z\" fill=\"#000000\" fill-rule=\"nonzero\" fill-opacity=\"1\" /><path clip-path=\"url(#clip710)\" d=\"M1381.48 1517.37 Q1377.87 1517.37 1376.04 1520.93 Q1374.23 1524.47 1374.23 1531.6 Q1374.23 1538.71 1376.04 1542.27 Q1377.87 1545.82 1381.48 1545.82 Q1385.11 1545.82 1386.92 1542.27 Q1388.75 1538.71 1388.75 1531.6 Q1388.75 1524.47 1386.92 1520.93 Q1385.11 1517.37 1381.48 1517.37 M1381.48 1513.66 Q1387.29 1513.66 1390.34 1518.27 Q1393.42 1522.85 1393.42 1531.6 Q1393.42 1540.33 1390.34 1544.94 Q1387.29 1549.52 1381.48 1549.52 Q1375.67 1549.52 1372.59 1544.94 Q1369.53 1540.33 1369.53 1531.6 Q1369.53 1522.85 1372.59 1518.27 Q1375.67 1513.66 1381.48 1513.66 Z\" fill=\"#000000\" fill-rule=\"nonzero\" fill-opacity=\"1\" /><path clip-path=\"url(#clip710)\" d=\"M1805.92 1514.29 L1828.14 1514.29 L1828.14 1516.28 L1815.59 1548.85 L1810.71 1548.85 L1822.52 1518.22 L1805.92 1518.22 L1805.92 1514.29 Z\" fill=\"#000000\" fill-rule=\"nonzero\" fill-opacity=\"1\" /><path clip-path=\"url(#clip710)\" d=\"M1837.31 1514.29 L1855.66 1514.29 L1855.66 1518.22 L1841.59 1518.22 L1841.59 1526.7 Q1842.61 1526.35 1843.63 1526.19 Q1844.65 1526 1845.66 1526 Q1851.45 1526 1854.83 1529.17 Q1858.21 1532.34 1858.21 1537.76 Q1858.21 1543.34 1854.74 1546.44 Q1851.27 1549.52 1844.95 1549.52 Q1842.77 1549.52 1840.5 1549.15 Q1838.26 1548.78 1835.85 1548.04 L1835.85 1543.34 Q1837.93 1544.47 1840.15 1545.03 Q1842.38 1545.58 1844.85 1545.58 Q1848.86 1545.58 1851.2 1543.48 Q1853.53 1541.37 1853.53 1537.76 Q1853.53 1534.15 1851.2 1532.04 Q1848.86 1529.94 1844.85 1529.94 Q1842.98 1529.94 1841.1 1530.35 Q1839.25 1530.77 1837.31 1531.65 L1837.31 1514.29 Z\" fill=\"#000000\" fill-rule=\"nonzero\" fill-opacity=\"1\" /><path clip-path=\"url(#clip710)\" d=\"M2257.07 1544.91 L2264.71 1544.91 L2264.71 1518.55 L2256.4 1520.21 L2256.4 1515.95 L2264.67 1514.29 L2269.34 1514.29 L2269.34 1544.91 L2276.98 1544.91 L2276.98 1548.85 L2257.07 1548.85 L2257.07 1544.91 Z\" fill=\"#000000\" fill-rule=\"nonzero\" fill-opacity=\"1\" /><path clip-path=\"url(#clip710)\" d=\"M2296.42 1517.37 Q2292.81 1517.37 2290.98 1520.93 Q2289.18 1524.47 2289.18 1531.6 Q2289.18 1538.71 2290.98 1542.27 Q2292.81 1545.82 2296.42 1545.82 Q2300.06 1545.82 2301.86 1542.27 Q2303.69 1538.71 2303.69 1531.6 Q2303.69 1524.47 2301.86 1520.93 Q2300.06 1517.37 2296.42 1517.37 M2296.42 1513.66 Q2302.23 1513.66 2305.29 1518.27 Q2308.37 1522.85 2308.37 1531.6 Q2308.37 1540.33 2305.29 1544.94 Q2302.23 1549.52 2296.42 1549.52 Q2290.61 1549.52 2287.54 1544.94 Q2284.48 1540.33 2284.48 1531.6 Q2284.48 1522.85 2287.54 1518.27 Q2290.61 1513.66 2296.42 1513.66 Z\" fill=\"#000000\" fill-rule=\"nonzero\" fill-opacity=\"1\" /><path clip-path=\"url(#clip710)\" d=\"M2326.59 1517.37 Q2322.98 1517.37 2321.15 1520.93 Q2319.34 1524.47 2319.34 1531.6 Q2319.34 1538.71 2321.15 1542.27 Q2322.98 1545.82 2326.59 1545.82 Q2330.22 1545.82 2332.03 1542.27 Q2333.85 1538.71 2333.85 1531.6 Q2333.85 1524.47 2332.03 1520.93 Q2330.22 1517.37 2326.59 1517.37 M2326.59 1513.66 Q2332.4 1513.66 2335.45 1518.27 Q2338.53 1522.85 2338.53 1531.6 Q2338.53 1540.33 2335.45 1544.94 Q2332.4 1549.52 2326.59 1549.52 Q2320.78 1549.52 2317.7 1544.94 Q2314.64 1540.33 2314.64 1531.6 Q2314.64 1522.85 2317.7 1518.27 Q2320.78 1513.66 2326.59 1513.66 Z\" fill=\"#000000\" fill-rule=\"nonzero\" fill-opacity=\"1\" /><polyline clip-path=\"url(#clip712)\" style=\"stroke:#000000; stroke-linecap:round; stroke-linejoin:round; stroke-width:2; stroke-opacity:0.1; fill:none\" points=\"399.187,1475.02 2352.76,1475.02 \"/>\n",
       "<polyline clip-path=\"url(#clip712)\" style=\"stroke:#000000; stroke-linecap:round; stroke-linejoin:round; stroke-width:2; stroke-opacity:0.1; fill:none\" points=\"399.187,1156.55 2352.76,1156.55 \"/>\n",
       "<polyline clip-path=\"url(#clip712)\" style=\"stroke:#000000; stroke-linecap:round; stroke-linejoin:round; stroke-width:2; stroke-opacity:0.1; fill:none\" points=\"399.187,838.071 2352.76,838.071 \"/>\n",
       "<polyline clip-path=\"url(#clip712)\" style=\"stroke:#000000; stroke-linecap:round; stroke-linejoin:round; stroke-width:2; stroke-opacity:0.1; fill:none\" points=\"399.187,519.596 2352.76,519.596 \"/>\n",
       "<polyline clip-path=\"url(#clip712)\" style=\"stroke:#000000; stroke-linecap:round; stroke-linejoin:round; stroke-width:2; stroke-opacity:0.1; fill:none\" points=\"399.187,201.121 2352.76,201.121 \"/>\n",
       "<polyline clip-path=\"url(#clip710)\" style=\"stroke:#000000; stroke-linecap:round; stroke-linejoin:round; stroke-width:4; stroke-opacity:1; fill:none\" points=\"399.187,1486.45 399.187,47.2441 \"/>\n",
       "<polyline clip-path=\"url(#clip710)\" style=\"stroke:#000000; stroke-linecap:round; stroke-linejoin:round; stroke-width:4; stroke-opacity:1; fill:none\" points=\"399.187,1475.02 418.084,1475.02 \"/>\n",
       "<polyline clip-path=\"url(#clip710)\" style=\"stroke:#000000; stroke-linecap:round; stroke-linejoin:round; stroke-width:4; stroke-opacity:1; fill:none\" points=\"399.187,1156.55 418.084,1156.55 \"/>\n",
       "<polyline clip-path=\"url(#clip710)\" style=\"stroke:#000000; stroke-linecap:round; stroke-linejoin:round; stroke-width:4; stroke-opacity:1; fill:none\" points=\"399.187,838.071 418.084,838.071 \"/>\n",
       "<polyline clip-path=\"url(#clip710)\" style=\"stroke:#000000; stroke-linecap:round; stroke-linejoin:round; stroke-width:4; stroke-opacity:1; fill:none\" points=\"399.187,519.596 418.084,519.596 \"/>\n",
       "<polyline clip-path=\"url(#clip710)\" style=\"stroke:#000000; stroke-linecap:round; stroke-linejoin:round; stroke-width:4; stroke-opacity:1; fill:none\" points=\"399.187,201.121 418.084,201.121 \"/>\n",
       "<path clip-path=\"url(#clip710)\" d=\"M50.9921 1481.92 L80.6679 1481.92 L80.6679 1485.85 L50.9921 1485.85 L50.9921 1481.92 Z\" fill=\"#000000\" fill-rule=\"nonzero\" fill-opacity=\"1\" /><path clip-path=\"url(#clip710)\" d=\"M94.7882 1494.81 L111.108 1494.81 L111.108 1498.75 L89.1632 1498.75 L89.1632 1494.81 Q91.8252 1492.06 96.4085 1487.43 Q101.015 1482.78 102.196 1481.43 Q104.441 1478.91 105.321 1477.17 Q106.223 1475.41 106.223 1473.72 Q106.223 1470.97 104.279 1469.23 Q102.358 1467.5 99.2558 1467.5 Q97.0567 1467.5 94.603 1468.26 Q92.1725 1469.03 89.3947 1470.58 L89.3947 1465.85 Q92.2188 1464.72 94.6724 1464.14 Q97.1261 1463.56 99.1632 1463.56 Q104.534 1463.56 107.728 1466.25 Q110.922 1468.93 110.922 1473.42 Q110.922 1475.55 110.112 1477.47 Q109.325 1479.37 107.219 1481.97 Q106.64 1482.64 103.538 1485.85 Q100.436 1489.05 94.7882 1494.81 Z\" fill=\"#000000\" fill-rule=\"nonzero\" fill-opacity=\"1\" /><path clip-path=\"url(#clip710)\" d=\"M120.922 1492.87 L125.807 1492.87 L125.807 1498.75 L120.922 1498.75 L120.922 1492.87 Z\" fill=\"#000000\" fill-rule=\"nonzero\" fill-opacity=\"1\" /><path clip-path=\"url(#clip710)\" d=\"M145.992 1467.27 Q142.381 1467.27 140.552 1470.83 Q138.746 1474.37 138.746 1481.5 Q138.746 1488.61 140.552 1492.17 Q142.381 1495.72 145.992 1495.72 Q149.626 1495.72 151.431 1492.17 Q153.26 1488.61 153.26 1481.5 Q153.26 1474.37 151.431 1470.83 Q149.626 1467.27 145.992 1467.27 M145.992 1463.56 Q151.802 1463.56 154.857 1468.17 Q157.936 1472.75 157.936 1481.5 Q157.936 1490.23 154.857 1494.84 Q151.802 1499.42 145.992 1499.42 Q140.181 1499.42 137.103 1494.84 Q134.047 1490.23 134.047 1481.5 Q134.047 1472.75 137.103 1468.17 Q140.181 1463.56 145.992 1463.56 Z\" fill=\"#000000\" fill-rule=\"nonzero\" fill-opacity=\"1\" /><path clip-path=\"url(#clip710)\" d=\"M176.153 1467.27 Q172.542 1467.27 170.714 1470.83 Q168.908 1474.37 168.908 1481.5 Q168.908 1488.61 170.714 1492.17 Q172.542 1495.72 176.153 1495.72 Q179.788 1495.72 181.593 1492.17 Q183.422 1488.61 183.422 1481.5 Q183.422 1474.37 181.593 1470.83 Q179.788 1467.27 176.153 1467.27 M176.153 1463.56 Q181.964 1463.56 185.019 1468.17 Q188.098 1472.75 188.098 1481.5 Q188.098 1490.23 185.019 1494.84 Q181.964 1499.42 176.153 1499.42 Q170.343 1499.42 167.265 1494.84 Q164.209 1490.23 164.209 1481.5 Q164.209 1472.75 167.265 1468.17 Q170.343 1463.56 176.153 1463.56 Z\" fill=\"#000000\" fill-rule=\"nonzero\" fill-opacity=\"1\" /><path clip-path=\"url(#clip710)\" d=\"M224.487 1473.28 L213.908 1483.91 L224.487 1494.49 L221.732 1497.29 L211.107 1486.66 L200.482 1497.29 L197.751 1494.49 L208.306 1483.91 L197.751 1473.28 L200.482 1470.48 L211.107 1481.11 L221.732 1470.48 L224.487 1473.28 Z\" fill=\"#000000\" fill-rule=\"nonzero\" fill-opacity=\"1\" /><path clip-path=\"url(#clip710)\" d=\"M236.848 1494.81 L244.486 1494.81 L244.486 1468.45 L236.176 1470.11 L236.176 1465.85 L244.44 1464.19 L249.116 1464.19 L249.116 1494.81 L256.755 1494.81 L256.755 1498.75 L236.848 1498.75 L236.848 1494.81 Z\" fill=\"#000000\" fill-rule=\"nonzero\" fill-opacity=\"1\" /><path clip-path=\"url(#clip710)\" d=\"M276.199 1467.27 Q272.588 1467.27 270.759 1470.83 Q268.954 1474.37 268.954 1481.5 Q268.954 1488.61 270.759 1492.17 Q272.588 1495.72 276.199 1495.72 Q279.833 1495.72 281.639 1492.17 Q283.468 1488.61 283.468 1481.5 Q283.468 1474.37 281.639 1470.83 Q279.833 1467.27 276.199 1467.27 M276.199 1463.56 Q282.009 1463.56 285.065 1468.17 Q288.144 1472.75 288.144 1481.5 Q288.144 1490.23 285.065 1494.84 Q282.009 1499.42 276.199 1499.42 Q270.389 1499.42 267.31 1494.84 Q264.255 1490.23 264.255 1481.5 Q264.255 1472.75 267.31 1468.17 Q270.389 1463.56 276.199 1463.56 Z\" fill=\"#000000\" fill-rule=\"nonzero\" fill-opacity=\"1\" /><path clip-path=\"url(#clip710)\" d=\"M288.144 1457.66 L312.255 1457.66 L312.255 1460.86 L288.144 1460.86 L288.144 1457.66 Z\" fill=\"#000000\" fill-rule=\"nonzero\" fill-opacity=\"1\" /><path clip-path=\"url(#clip710)\" d=\"M321.114 1468.14 L327.32 1468.14 L327.32 1446.72 L320.568 1448.07 L320.568 1444.61 L327.283 1443.26 L331.082 1443.26 L331.082 1468.14 L337.288 1468.14 L337.288 1471.34 L321.114 1471.34 L321.114 1468.14 Z\" fill=\"#000000\" fill-rule=\"nonzero\" fill-opacity=\"1\" /><path clip-path=\"url(#clip710)\" d=\"M355.4 1446.57 L345.808 1461.56 L355.4 1461.56 L355.4 1446.57 M354.403 1443.26 L359.181 1443.26 L359.181 1461.56 L363.187 1461.56 L363.187 1464.72 L359.181 1464.72 L359.181 1471.34 L355.4 1471.34 L355.4 1464.72 L342.724 1464.72 L342.724 1461.05 L354.403 1443.26 Z\" fill=\"#000000\" fill-rule=\"nonzero\" fill-opacity=\"1\" /><path clip-path=\"url(#clip710)\" d=\"M50.9921 1163.44 L80.6679 1163.44 L80.6679 1167.38 L50.9921 1167.38 L50.9921 1163.44 Z\" fill=\"#000000\" fill-rule=\"nonzero\" fill-opacity=\"1\" /><path clip-path=\"url(#clip710)\" d=\"M91.5706 1176.34 L99.2095 1176.34 L99.2095 1149.97 L90.8993 1151.64 L90.8993 1147.38 L99.1632 1145.71 L103.839 1145.71 L103.839 1176.34 L111.478 1176.34 L111.478 1180.27 L91.5706 1180.27 L91.5706 1176.34 Z\" fill=\"#000000\" fill-rule=\"nonzero\" fill-opacity=\"1\" /><path clip-path=\"url(#clip710)\" d=\"M120.922 1174.39 L125.807 1174.39 L125.807 1180.27 L120.922 1180.27 L120.922 1174.39 Z\" fill=\"#000000\" fill-rule=\"nonzero\" fill-opacity=\"1\" /><path clip-path=\"url(#clip710)\" d=\"M136.038 1145.71 L154.394 1145.71 L154.394 1149.65 L140.32 1149.65 L140.32 1158.12 Q141.339 1157.77 142.357 1157.61 Q143.376 1157.43 144.394 1157.43 Q150.181 1157.43 153.561 1160.6 Q156.941 1163.77 156.941 1169.19 Q156.941 1174.76 153.468 1177.87 Q149.996 1180.94 143.677 1180.94 Q141.501 1180.94 139.232 1180.57 Q136.987 1180.2 134.58 1179.46 L134.58 1174.76 Q136.663 1175.9 138.885 1176.45 Q141.107 1177.01 143.584 1177.01 Q147.589 1177.01 149.927 1174.9 Q152.265 1172.8 152.265 1169.19 Q152.265 1165.57 149.927 1163.47 Q147.589 1161.36 143.584 1161.36 Q141.709 1161.36 139.834 1161.78 Q137.982 1162.19 136.038 1163.07 L136.038 1145.71 Z\" fill=\"#000000\" fill-rule=\"nonzero\" fill-opacity=\"1\" /><path clip-path=\"url(#clip710)\" d=\"M176.153 1148.79 Q172.542 1148.79 170.714 1152.36 Q168.908 1155.9 168.908 1163.03 Q168.908 1170.13 170.714 1173.7 Q172.542 1177.24 176.153 1177.24 Q179.788 1177.24 181.593 1173.7 Q183.422 1170.13 183.422 1163.03 Q183.422 1155.9 181.593 1152.36 Q179.788 1148.79 176.153 1148.79 M176.153 1145.09 Q181.964 1145.09 185.019 1149.69 Q188.098 1154.28 188.098 1163.03 Q188.098 1171.75 185.019 1176.36 Q181.964 1180.94 176.153 1180.94 Q170.343 1180.94 167.265 1176.36 Q164.209 1171.75 164.209 1163.03 Q164.209 1154.28 167.265 1149.69 Q170.343 1145.09 176.153 1145.09 Z\" fill=\"#000000\" fill-rule=\"nonzero\" fill-opacity=\"1\" /><path clip-path=\"url(#clip710)\" d=\"M224.487 1154.81 L213.908 1165.44 L224.487 1176.01 L221.732 1178.81 L211.107 1168.19 L200.482 1178.81 L197.751 1176.01 L208.306 1165.44 L197.751 1154.81 L200.482 1152.01 L211.107 1162.63 L221.732 1152.01 L224.487 1154.81 Z\" fill=\"#000000\" fill-rule=\"nonzero\" fill-opacity=\"1\" /><path clip-path=\"url(#clip710)\" d=\"M236.848 1176.34 L244.486 1176.34 L244.486 1149.97 L236.176 1151.64 L236.176 1147.38 L244.44 1145.71 L249.116 1145.71 L249.116 1176.34 L256.755 1176.34 L256.755 1180.27 L236.848 1180.27 L236.848 1176.34 Z\" fill=\"#000000\" fill-rule=\"nonzero\" fill-opacity=\"1\" /><path clip-path=\"url(#clip710)\" d=\"M276.199 1148.79 Q272.588 1148.79 270.759 1152.36 Q268.954 1155.9 268.954 1163.03 Q268.954 1170.13 270.759 1173.7 Q272.588 1177.24 276.199 1177.24 Q279.833 1177.24 281.639 1173.7 Q283.468 1170.13 283.468 1163.03 Q283.468 1155.9 281.639 1152.36 Q279.833 1148.79 276.199 1148.79 M276.199 1145.09 Q282.009 1145.09 285.065 1149.69 Q288.144 1154.28 288.144 1163.03 Q288.144 1171.75 285.065 1176.36 Q282.009 1180.94 276.199 1180.94 Q270.389 1180.94 267.31 1176.36 Q264.255 1171.75 264.255 1163.03 Q264.255 1154.28 267.31 1149.69 Q270.389 1145.09 276.199 1145.09 Z\" fill=\"#000000\" fill-rule=\"nonzero\" fill-opacity=\"1\" /><path clip-path=\"url(#clip710)\" d=\"M288.144 1139.19 L312.255 1139.19 L312.255 1142.39 L288.144 1142.39 L288.144 1139.19 Z\" fill=\"#000000\" fill-rule=\"nonzero\" fill-opacity=\"1\" /><path clip-path=\"url(#clip710)\" d=\"M321.114 1149.67 L327.32 1149.67 L327.32 1128.24 L320.568 1129.6 L320.568 1126.14 L327.283 1124.78 L331.082 1124.78 L331.082 1149.67 L337.288 1149.67 L337.288 1152.86 L321.114 1152.86 L321.114 1149.67 Z\" fill=\"#000000\" fill-rule=\"nonzero\" fill-opacity=\"1\" /><path clip-path=\"url(#clip710)\" d=\"M355.4 1128.09 L345.808 1143.08 L355.4 1143.08 L355.4 1128.09 M354.403 1124.78 L359.181 1124.78 L359.181 1143.08 L363.187 1143.08 L363.187 1146.24 L359.181 1146.24 L359.181 1152.86 L355.4 1152.86 L355.4 1146.24 L342.724 1146.24 L342.724 1142.57 L354.403 1124.78 Z\" fill=\"#000000\" fill-rule=\"nonzero\" fill-opacity=\"1\" /><path clip-path=\"url(#clip710)\" d=\"M50.9921 844.97 L80.6679 844.97 L80.6679 848.905 L50.9921 848.905 L50.9921 844.97 Z\" fill=\"#000000\" fill-rule=\"nonzero\" fill-opacity=\"1\" /><path clip-path=\"url(#clip710)\" d=\"M91.5706 857.863 L99.2095 857.863 L99.2095 831.498 L90.8993 833.164 L90.8993 828.905 L99.1632 827.238 L103.839 827.238 L103.839 857.863 L111.478 857.863 L111.478 861.798 L91.5706 861.798 L91.5706 857.863 Z\" fill=\"#000000\" fill-rule=\"nonzero\" fill-opacity=\"1\" /><path clip-path=\"url(#clip710)\" d=\"M120.922 855.919 L125.807 855.919 L125.807 861.798 L120.922 861.798 L120.922 855.919 Z\" fill=\"#000000\" fill-rule=\"nonzero\" fill-opacity=\"1\" /><path clip-path=\"url(#clip710)\" d=\"M145.992 830.317 Q142.381 830.317 140.552 833.882 Q138.746 837.423 138.746 844.553 Q138.746 851.659 140.552 855.224 Q142.381 858.766 145.992 858.766 Q149.626 858.766 151.431 855.224 Q153.26 851.659 153.26 844.553 Q153.26 837.423 151.431 833.882 Q149.626 830.317 145.992 830.317 M145.992 826.613 Q151.802 826.613 154.857 831.22 Q157.936 835.803 157.936 844.553 Q157.936 853.28 154.857 857.886 Q151.802 862.47 145.992 862.47 Q140.181 862.47 137.103 857.886 Q134.047 853.28 134.047 844.553 Q134.047 835.803 137.103 831.22 Q140.181 826.613 145.992 826.613 Z\" fill=\"#000000\" fill-rule=\"nonzero\" fill-opacity=\"1\" /><path clip-path=\"url(#clip710)\" d=\"M176.153 830.317 Q172.542 830.317 170.714 833.882 Q168.908 837.423 168.908 844.553 Q168.908 851.659 170.714 855.224 Q172.542 858.766 176.153 858.766 Q179.788 858.766 181.593 855.224 Q183.422 851.659 183.422 844.553 Q183.422 837.423 181.593 833.882 Q179.788 830.317 176.153 830.317 M176.153 826.613 Q181.964 826.613 185.019 831.22 Q188.098 835.803 188.098 844.553 Q188.098 853.28 185.019 857.886 Q181.964 862.47 176.153 862.47 Q170.343 862.47 167.265 857.886 Q164.209 853.28 164.209 844.553 Q164.209 835.803 167.265 831.22 Q170.343 826.613 176.153 826.613 Z\" fill=\"#000000\" fill-rule=\"nonzero\" fill-opacity=\"1\" /><path clip-path=\"url(#clip710)\" d=\"M224.487 836.335 L213.908 846.96 L224.487 857.539 L221.732 860.34 L211.107 849.715 L200.482 860.34 L197.751 857.539 L208.306 846.96 L197.751 836.335 L200.482 833.535 L211.107 844.159 L221.732 833.535 L224.487 836.335 Z\" fill=\"#000000\" fill-rule=\"nonzero\" fill-opacity=\"1\" /><path clip-path=\"url(#clip710)\" d=\"M236.848 857.863 L244.486 857.863 L244.486 831.498 L236.176 833.164 L236.176 828.905 L244.44 827.238 L249.116 827.238 L249.116 857.863 L256.755 857.863 L256.755 861.798 L236.848 861.798 L236.848 857.863 Z\" fill=\"#000000\" fill-rule=\"nonzero\" fill-opacity=\"1\" /><path clip-path=\"url(#clip710)\" d=\"M276.199 830.317 Q272.588 830.317 270.759 833.882 Q268.954 837.423 268.954 844.553 Q268.954 851.659 270.759 855.224 Q272.588 858.766 276.199 858.766 Q279.833 858.766 281.639 855.224 Q283.468 851.659 283.468 844.553 Q283.468 837.423 281.639 833.882 Q279.833 830.317 276.199 830.317 M276.199 826.613 Q282.009 826.613 285.065 831.22 Q288.144 835.803 288.144 844.553 Q288.144 853.28 285.065 857.886 Q282.009 862.47 276.199 862.47 Q270.389 862.47 267.31 857.886 Q264.255 853.28 264.255 844.553 Q264.255 835.803 267.31 831.22 Q270.389 826.613 276.199 826.613 Z\" fill=\"#000000\" fill-rule=\"nonzero\" fill-opacity=\"1\" /><path clip-path=\"url(#clip710)\" d=\"M288.144 820.715 L312.255 820.715 L312.255 823.912 L288.144 823.912 L288.144 820.715 Z\" fill=\"#000000\" fill-rule=\"nonzero\" fill-opacity=\"1\" /><path clip-path=\"url(#clip710)\" d=\"M321.114 831.191 L327.32 831.191 L327.32 809.769 L320.568 811.123 L320.568 807.662 L327.283 806.308 L331.082 806.308 L331.082 831.191 L337.288 831.191 L337.288 834.388 L321.114 834.388 L321.114 831.191 Z\" fill=\"#000000\" fill-rule=\"nonzero\" fill-opacity=\"1\" /><path clip-path=\"url(#clip710)\" d=\"M355.4 809.618 L345.808 824.608 L355.4 824.608 L355.4 809.618 M354.403 806.308 L359.181 806.308 L359.181 824.608 L363.187 824.608 L363.187 827.768 L359.181 827.768 L359.181 834.388 L355.4 834.388 L355.4 827.768 L342.724 827.768 L342.724 824.1 L354.403 806.308 Z\" fill=\"#000000\" fill-rule=\"nonzero\" fill-opacity=\"1\" /><path clip-path=\"url(#clip710)\" d=\"M52.1958 526.495 L81.8716 526.495 L81.8716 530.43 L52.1958 530.43 L52.1958 526.495 Z\" fill=\"#000000\" fill-rule=\"nonzero\" fill-opacity=\"1\" /><path clip-path=\"url(#clip710)\" d=\"M92.0104 508.764 L110.367 508.764 L110.367 512.699 L96.2928 512.699 L96.2928 521.171 Q97.3113 520.824 98.3298 520.662 Q99.3483 520.476 100.367 520.476 Q106.154 520.476 109.533 523.648 Q112.913 526.819 112.913 532.236 Q112.913 537.814 109.441 540.916 Q105.969 543.995 99.6493 543.995 Q97.4734 543.995 95.2049 543.624 Q92.9595 543.254 90.5521 542.513 L90.5521 537.814 Q92.6354 538.949 94.8576 539.504 Q97.0798 540.06 99.5567 540.06 Q103.561 540.06 105.899 537.953 Q108.237 535.847 108.237 532.236 Q108.237 528.625 105.899 526.518 Q103.561 524.412 99.5567 524.412 Q97.6817 524.412 95.8067 524.828 Q93.9549 525.245 92.0104 526.125 L92.0104 508.764 Z\" fill=\"#000000\" fill-rule=\"nonzero\" fill-opacity=\"1\" /><path clip-path=\"url(#clip710)\" d=\"M122.126 537.444 L127.01 537.444 L127.01 543.324 L122.126 543.324 L122.126 537.444 Z\" fill=\"#000000\" fill-rule=\"nonzero\" fill-opacity=\"1\" /><path clip-path=\"url(#clip710)\" d=\"M147.195 511.842 Q143.584 511.842 141.756 515.407 Q139.95 518.949 139.95 526.078 Q139.95 533.185 141.756 536.75 Q143.584 540.291 147.195 540.291 Q150.83 540.291 152.635 536.75 Q154.464 533.185 154.464 526.078 Q154.464 518.949 152.635 515.407 Q150.83 511.842 147.195 511.842 M147.195 508.139 Q153.005 508.139 156.061 512.745 Q159.14 517.328 159.14 526.078 Q159.14 534.805 156.061 539.412 Q153.005 543.995 147.195 543.995 Q141.385 543.995 138.306 539.412 Q135.251 534.805 135.251 526.078 Q135.251 517.328 138.306 512.745 Q141.385 508.139 147.195 508.139 Z\" fill=\"#000000\" fill-rule=\"nonzero\" fill-opacity=\"1\" /><path clip-path=\"url(#clip710)\" d=\"M177.357 511.842 Q173.746 511.842 171.917 515.407 Q170.112 518.949 170.112 526.078 Q170.112 533.185 171.917 536.75 Q173.746 540.291 177.357 540.291 Q180.991 540.291 182.797 536.75 Q184.626 533.185 184.626 526.078 Q184.626 518.949 182.797 515.407 Q180.991 511.842 177.357 511.842 M177.357 508.139 Q183.167 508.139 186.223 512.745 Q189.302 517.328 189.302 526.078 Q189.302 534.805 186.223 539.412 Q183.167 543.995 177.357 543.995 Q171.547 543.995 168.468 539.412 Q165.413 534.805 165.413 526.078 Q165.413 517.328 168.468 512.745 Q171.547 508.139 177.357 508.139 Z\" fill=\"#000000\" fill-rule=\"nonzero\" fill-opacity=\"1\" /><path clip-path=\"url(#clip710)\" d=\"M225.69 517.861 L215.112 528.486 L225.69 539.064 L222.936 541.865 L212.311 531.24 L201.686 541.865 L198.954 539.064 L209.51 528.486 L198.954 517.861 L201.686 515.06 L212.311 525.685 L222.936 515.06 L225.69 517.861 Z\" fill=\"#000000\" fill-rule=\"nonzero\" fill-opacity=\"1\" /><path clip-path=\"url(#clip710)\" d=\"M238.051 539.388 L245.69 539.388 L245.69 513.023 L237.38 514.689 L237.38 510.43 L245.644 508.764 L250.32 508.764 L250.32 539.388 L257.959 539.388 L257.959 543.324 L238.051 543.324 L238.051 539.388 Z\" fill=\"#000000\" fill-rule=\"nonzero\" fill-opacity=\"1\" /><path clip-path=\"url(#clip710)\" d=\"M277.403 511.842 Q273.792 511.842 271.963 515.407 Q270.158 518.949 270.158 526.078 Q270.158 533.185 271.963 536.75 Q273.792 540.291 277.403 540.291 Q281.037 540.291 282.843 536.75 Q284.671 533.185 284.671 526.078 Q284.671 518.949 282.843 515.407 Q281.037 511.842 277.403 511.842 M277.403 508.139 Q283.213 508.139 286.269 512.745 Q289.347 517.328 289.347 526.078 Q289.347 534.805 286.269 539.412 Q283.213 543.995 277.403 543.995 Q271.593 543.995 268.514 539.412 Q265.459 534.805 265.459 526.078 Q265.459 517.328 268.514 512.745 Q271.593 508.139 277.403 508.139 Z\" fill=\"#000000\" fill-rule=\"nonzero\" fill-opacity=\"1\" /><path clip-path=\"url(#clip710)\" d=\"M289.347 502.24 L313.459 502.24 L313.459 505.437 L289.347 505.437 L289.347 502.24 Z\" fill=\"#000000\" fill-rule=\"nonzero\" fill-opacity=\"1\" /><path clip-path=\"url(#clip710)\" d=\"M322.317 512.716 L328.524 512.716 L328.524 491.294 L321.772 492.648 L321.772 489.187 L328.486 487.833 L332.285 487.833 L332.285 512.716 L338.492 512.716 L338.492 515.913 L322.317 515.913 L322.317 512.716 Z\" fill=\"#000000\" fill-rule=\"nonzero\" fill-opacity=\"1\" /><path clip-path=\"url(#clip710)\" d=\"M346.203 487.833 L361.118 487.833 L361.118 491.03 L349.683 491.03 L349.683 497.914 Q350.51 497.632 351.338 497.5 Q352.165 497.35 352.993 497.35 Q357.695 497.35 360.441 499.927 Q363.187 502.503 363.187 506.904 Q363.187 511.437 360.365 513.957 Q357.544 516.459 352.41 516.459 Q350.642 516.459 348.799 516.158 Q346.974 515.857 345.018 515.255 L345.018 511.437 Q346.711 512.358 348.517 512.81 Q350.322 513.261 352.335 513.261 Q355.588 513.261 357.488 511.55 Q359.387 509.838 359.387 506.904 Q359.387 503.97 357.488 502.259 Q355.588 500.547 352.335 500.547 Q350.811 500.547 349.288 500.886 Q347.783 501.224 346.203 501.939 L346.203 487.833 Z\" fill=\"#000000\" fill-rule=\"nonzero\" fill-opacity=\"1\" /><path clip-path=\"url(#clip710)\" d=\"M351.242 186.92 Q347.631 186.92 345.802 190.485 Q343.997 194.026 343.997 201.156 Q343.997 208.262 345.802 211.827 Q347.631 215.369 351.242 215.369 Q354.876 215.369 356.682 211.827 Q358.511 208.262 358.511 201.156 Q358.511 194.026 356.682 190.485 Q354.876 186.92 351.242 186.92 M351.242 183.216 Q357.052 183.216 360.108 187.823 Q363.187 192.406 363.187 201.156 Q363.187 209.883 360.108 214.489 Q357.052 219.073 351.242 219.073 Q345.432 219.073 342.353 214.489 Q339.298 209.883 339.298 201.156 Q339.298 192.406 342.353 187.823 Q345.432 183.216 351.242 183.216 Z\" fill=\"#000000\" fill-rule=\"nonzero\" fill-opacity=\"1\" /><polyline clip-path=\"url(#clip712)\" style=\"stroke:#009af9; stroke-linecap:round; stroke-linejoin:round; stroke-width:4; stroke-opacity:1; fill:none\" points=\"454.476,201.121 473.092,201.121 491.708,201.121 510.325,201.121 528.941,201.121 547.557,208.193 566.173,208.193 584.789,208.193 603.405,208.193 622.021,208.193 640.637,215.264 659.253,215.264 677.869,201.121 696.485,201.121 715.101,186.978 733.717,186.978 752.333,186.978 770.949,172.835 789.565,172.835 808.181,172.835 826.798,172.835 845.414,172.835 864.03,172.835 882.646,172.835 901.262,144.549 919.878,144.549 938.494,144.549 957.11,144.549 975.726,144.549 994.342,116.263 1012.96,116.263 1031.57,116.263 1050.19,116.263 1068.81,116.263 1087.42,87.9763 1106.04,87.9763 1124.65,87.9763 1143.27,87.9763 1161.89,87.9763 1180.5,87.9763 1199.12,144.549 1217.73,144.549 1236.35,144.549 1254.97,201.121 1273.58,201.121 1292.2,257.694 1310.82,257.694 1329.43,314.266 1348.05,314.266 1366.66,314.266 1385.28,370.839 1403.9,370.839 1422.51,427.411 1441.13,427.411 1459.74,427.411 1478.36,483.984 1496.98,483.984 1515.59,540.556 1534.21,540.556 1552.82,540.556 1571.44,597.129 1590.06,597.129 1608.67,653.701 1627.29,653.701 1645.9,653.701 1664.52,710.274 1683.14,710.274 1701.75,766.846 1720.37,766.846 1738.98,766.846 1757.6,823.418 1776.22,823.418 1794.83,879.991 1813.45,879.991 1832.06,879.991 1850.68,936.563 1869.3,936.563 1887.91,993.136 1906.53,993.136 1925.15,993.136 1943.76,993.136 1962.38,1106.28 1980.99,1106.28 1999.61,1106.28 2018.23,1106.28 2036.84,1106.28 2055.46,1219.43 2074.07,1219.43 2092.69,1219.43 2111.31,1219.43 2129.92,1219.43 2148.54,1332.57 2167.15,1332.57 2185.77,1332.57 2204.39,1332.57 2223,1445.72 2241.62,1445.72 2260.23,1445.72 2278.85,1445.72 2297.47,1445.72 \"/>\n",
       "<path clip-path=\"url(#clip710)\" d=\"M2039.85 198.898 L2287.64 198.898 L2287.64 95.2176 L2039.85 95.2176  Z\" fill=\"#ffffff\" fill-rule=\"evenodd\" fill-opacity=\"1\"/>\n",
       "<polyline clip-path=\"url(#clip710)\" style=\"stroke:#000000; stroke-linecap:round; stroke-linejoin:round; stroke-width:4; stroke-opacity:1; fill:none\" points=\"2039.85,198.898 2287.64,198.898 2287.64,95.2176 2039.85,95.2176 2039.85,198.898 \"/>\n",
       "<polyline clip-path=\"url(#clip710)\" style=\"stroke:#009af9; stroke-linecap:round; stroke-linejoin:round; stroke-width:4; stroke-opacity:1; fill:none\" points=\"2061.56,147.058 2191.79,147.058 \"/>\n",
       "<path clip-path=\"url(#clip710)\" d=\"M2227.34 166.745 Q2225.54 171.375 2223.82 172.787 Q2222.11 174.199 2219.24 174.199 L2215.84 174.199 L2215.84 170.634 L2218.34 170.634 Q2220.1 170.634 2221.07 169.8 Q2222.04 168.967 2223.22 165.865 L2223.99 163.921 L2213.5 138.412 L2218.01 138.412 L2226.12 158.689 L2234.22 138.412 L2238.73 138.412 L2227.34 166.745 Z\" fill=\"#000000\" fill-rule=\"nonzero\" fill-opacity=\"1\" /><path clip-path=\"url(#clip710)\" d=\"M2246.02 160.402 L2253.66 160.402 L2253.66 134.037 L2245.35 135.703 L2245.35 131.444 L2253.62 129.778 L2258.29 129.778 L2258.29 160.402 L2265.93 160.402 L2265.93 164.338 L2246.02 164.338 L2246.02 160.402 Z\" fill=\"#000000\" fill-rule=\"nonzero\" fill-opacity=\"1\" /></svg>\n"
      ],
      "text/html": [
       "<?xml version=\"1.0\" encoding=\"utf-8\"?>\n",
       "<svg xmlns=\"http://www.w3.org/2000/svg\" xmlns:xlink=\"http://www.w3.org/1999/xlink\" width=\"600\" height=\"400\" viewBox=\"0 0 2400 1600\">\n",
       "<defs>\n",
       "  <clipPath id=\"clip760\">\n",
       "    <rect x=\"0\" y=\"0\" width=\"2400\" height=\"1600\"/>\n",
       "  </clipPath>\n",
       "</defs>\n",
       "<path clip-path=\"url(#clip760)\" d=\"M0 1600 L2400 1600 L2400 8.88178e-14 L0 8.88178e-14  Z\" fill=\"#ffffff\" fill-rule=\"evenodd\" fill-opacity=\"1\"/>\n",
       "<defs>\n",
       "  <clipPath id=\"clip761\">\n",
       "    <rect x=\"480\" y=\"0\" width=\"1681\" height=\"1600\"/>\n",
       "  </clipPath>\n",
       "</defs>\n",
       "<path clip-path=\"url(#clip760)\" d=\"M399.187 1486.45 L2352.76 1486.45 L2352.76 47.2441 L399.187 47.2441  Z\" fill=\"#ffffff\" fill-rule=\"evenodd\" fill-opacity=\"1\"/>\n",
       "<defs>\n",
       "  <clipPath id=\"clip762\">\n",
       "    <rect x=\"399\" y=\"47\" width=\"1955\" height=\"1440\"/>\n",
       "  </clipPath>\n",
       "</defs>\n",
       "<polyline clip-path=\"url(#clip762)\" style=\"stroke:#000000; stroke-linecap:round; stroke-linejoin:round; stroke-width:2; stroke-opacity:0.1; fill:none\" points=\"435.86,1486.45 435.86,47.2441 \"/>\n",
       "<polyline clip-path=\"url(#clip762)\" style=\"stroke:#000000; stroke-linecap:round; stroke-linejoin:round; stroke-width:2; stroke-opacity:0.1; fill:none\" points=\"901.262,1486.45 901.262,47.2441 \"/>\n",
       "<polyline clip-path=\"url(#clip762)\" style=\"stroke:#000000; stroke-linecap:round; stroke-linejoin:round; stroke-width:2; stroke-opacity:0.1; fill:none\" points=\"1366.66,1486.45 1366.66,47.2441 \"/>\n",
       "<polyline clip-path=\"url(#clip762)\" style=\"stroke:#000000; stroke-linecap:round; stroke-linejoin:round; stroke-width:2; stroke-opacity:0.1; fill:none\" points=\"1832.06,1486.45 1832.06,47.2441 \"/>\n",
       "<polyline clip-path=\"url(#clip762)\" style=\"stroke:#000000; stroke-linecap:round; stroke-linejoin:round; stroke-width:2; stroke-opacity:0.1; fill:none\" points=\"2297.47,1486.45 2297.47,47.2441 \"/>\n",
       "<polyline clip-path=\"url(#clip760)\" style=\"stroke:#000000; stroke-linecap:round; stroke-linejoin:round; stroke-width:4; stroke-opacity:1; fill:none\" points=\"399.187,1486.45 2352.76,1486.45 \"/>\n",
       "<polyline clip-path=\"url(#clip760)\" style=\"stroke:#000000; stroke-linecap:round; stroke-linejoin:round; stroke-width:4; stroke-opacity:1; fill:none\" points=\"435.86,1486.45 435.86,1467.55 \"/>\n",
       "<polyline clip-path=\"url(#clip760)\" style=\"stroke:#000000; stroke-linecap:round; stroke-linejoin:round; stroke-width:4; stroke-opacity:1; fill:none\" points=\"901.262,1486.45 901.262,1467.55 \"/>\n",
       "<polyline clip-path=\"url(#clip760)\" style=\"stroke:#000000; stroke-linecap:round; stroke-linejoin:round; stroke-width:4; stroke-opacity:1; fill:none\" points=\"1366.66,1486.45 1366.66,1467.55 \"/>\n",
       "<polyline clip-path=\"url(#clip760)\" style=\"stroke:#000000; stroke-linecap:round; stroke-linejoin:round; stroke-width:4; stroke-opacity:1; fill:none\" points=\"1832.06,1486.45 1832.06,1467.55 \"/>\n",
       "<polyline clip-path=\"url(#clip760)\" style=\"stroke:#000000; stroke-linecap:round; stroke-linejoin:round; stroke-width:4; stroke-opacity:1; fill:none\" points=\"2297.47,1486.45 2297.47,1467.55 \"/>\n",
       "<path clip-path=\"url(#clip760)\" d=\"M435.86 1517.37 Q432.249 1517.37 430.42 1520.93 Q428.615 1524.47 428.615 1531.6 Q428.615 1538.71 430.42 1542.27 Q432.249 1545.82 435.86 1545.82 Q439.495 1545.82 441.3 1542.27 Q443.129 1538.71 443.129 1531.6 Q443.129 1524.47 441.3 1520.93 Q439.495 1517.37 435.86 1517.37 M435.86 1513.66 Q441.67 1513.66 444.726 1518.27 Q447.805 1522.85 447.805 1531.6 Q447.805 1540.33 444.726 1544.94 Q441.67 1549.52 435.86 1549.52 Q430.05 1549.52 426.971 1544.94 Q423.916 1540.33 423.916 1531.6 Q423.916 1522.85 426.971 1518.27 Q430.05 1513.66 435.86 1513.66 Z\" fill=\"#000000\" fill-rule=\"nonzero\" fill-opacity=\"1\" /><path clip-path=\"url(#clip760)\" d=\"M880.533 1544.91 L896.852 1544.91 L896.852 1548.85 L874.908 1548.85 L874.908 1544.91 Q877.57 1542.16 882.153 1537.53 Q886.76 1532.88 887.94 1531.53 Q890.185 1529.01 891.065 1527.27 Q891.968 1525.51 891.968 1523.82 Q891.968 1521.07 890.023 1519.33 Q888.102 1517.6 885 1517.6 Q882.801 1517.6 880.348 1518.36 Q877.917 1519.13 875.139 1520.68 L875.139 1515.95 Q877.963 1514.82 880.417 1514.24 Q882.871 1513.66 884.908 1513.66 Q890.278 1513.66 893.472 1516.35 Q896.667 1519.03 896.667 1523.52 Q896.667 1525.65 895.857 1527.57 Q895.07 1529.47 892.963 1532.07 Q892.384 1532.74 889.283 1535.95 Q886.181 1539.15 880.533 1544.91 Z\" fill=\"#000000\" fill-rule=\"nonzero\" fill-opacity=\"1\" /><path clip-path=\"url(#clip760)\" d=\"M906.713 1514.29 L925.069 1514.29 L925.069 1518.22 L910.995 1518.22 L910.995 1526.7 Q912.014 1526.35 913.033 1526.19 Q914.051 1526 915.07 1526 Q920.857 1526 924.236 1529.17 Q927.616 1532.34 927.616 1537.76 Q927.616 1543.34 924.144 1546.44 Q920.671 1549.52 914.352 1549.52 Q912.176 1549.52 909.908 1549.15 Q907.662 1548.78 905.255 1548.04 L905.255 1543.34 Q907.338 1544.47 909.56 1545.03 Q911.783 1545.58 914.259 1545.58 Q918.264 1545.58 920.602 1543.48 Q922.94 1541.37 922.94 1537.76 Q922.94 1534.15 920.602 1532.04 Q918.264 1529.94 914.259 1529.94 Q912.384 1529.94 910.509 1530.35 Q908.658 1530.77 906.713 1531.65 L906.713 1514.29 Z\" fill=\"#000000\" fill-rule=\"nonzero\" fill-opacity=\"1\" /><path clip-path=\"url(#clip760)\" d=\"M1341.36 1514.29 L1359.72 1514.29 L1359.72 1518.22 L1345.64 1518.22 L1345.64 1526.7 Q1346.66 1526.35 1347.68 1526.19 Q1348.7 1526 1349.72 1526 Q1355.51 1526 1358.89 1529.17 Q1362.27 1532.34 1362.27 1537.76 Q1362.27 1543.34 1358.79 1546.44 Q1355.32 1549.52 1349 1549.52 Q1346.83 1549.52 1344.56 1549.15 Q1342.31 1548.78 1339.9 1548.04 L1339.9 1543.34 Q1341.99 1544.47 1344.21 1545.03 Q1346.43 1545.58 1348.91 1545.58 Q1352.91 1545.58 1355.25 1543.48 Q1357.59 1541.37 1357.59 1537.76 Q1357.59 1534.15 1355.25 1532.04 Q1352.91 1529.94 1348.91 1529.94 Q1347.03 1529.94 1345.16 1530.35 Q1343.31 1530.77 1341.36 1531.65 L1341.36 1514.29 Z\" fill=\"#000000\" fill-rule=\"nonzero\" fill-opacity=\"1\" /><path clip-path=\"url(#clip760)\" d=\"M1381.48 1517.37 Q1377.87 1517.37 1376.04 1520.93 Q1374.23 1524.47 1374.23 1531.6 Q1374.23 1538.71 1376.04 1542.27 Q1377.87 1545.82 1381.48 1545.82 Q1385.11 1545.82 1386.92 1542.27 Q1388.75 1538.71 1388.75 1531.6 Q1388.75 1524.47 1386.92 1520.93 Q1385.11 1517.37 1381.48 1517.37 M1381.48 1513.66 Q1387.29 1513.66 1390.34 1518.27 Q1393.42 1522.85 1393.42 1531.6 Q1393.42 1540.33 1390.34 1544.94 Q1387.29 1549.52 1381.48 1549.52 Q1375.67 1549.52 1372.59 1544.94 Q1369.53 1540.33 1369.53 1531.6 Q1369.53 1522.85 1372.59 1518.27 Q1375.67 1513.66 1381.48 1513.66 Z\" fill=\"#000000\" fill-rule=\"nonzero\" fill-opacity=\"1\" /><path clip-path=\"url(#clip760)\" d=\"M1805.92 1514.29 L1828.14 1514.29 L1828.14 1516.28 L1815.59 1548.85 L1810.71 1548.85 L1822.52 1518.22 L1805.92 1518.22 L1805.92 1514.29 Z\" fill=\"#000000\" fill-rule=\"nonzero\" fill-opacity=\"1\" /><path clip-path=\"url(#clip760)\" d=\"M1837.31 1514.29 L1855.66 1514.29 L1855.66 1518.22 L1841.59 1518.22 L1841.59 1526.7 Q1842.61 1526.35 1843.63 1526.19 Q1844.65 1526 1845.66 1526 Q1851.45 1526 1854.83 1529.17 Q1858.21 1532.34 1858.21 1537.76 Q1858.21 1543.34 1854.74 1546.44 Q1851.27 1549.52 1844.95 1549.52 Q1842.77 1549.52 1840.5 1549.15 Q1838.26 1548.78 1835.85 1548.04 L1835.85 1543.34 Q1837.93 1544.47 1840.15 1545.03 Q1842.38 1545.58 1844.85 1545.58 Q1848.86 1545.58 1851.2 1543.48 Q1853.53 1541.37 1853.53 1537.76 Q1853.53 1534.15 1851.2 1532.04 Q1848.86 1529.94 1844.85 1529.94 Q1842.98 1529.94 1841.1 1530.35 Q1839.25 1530.77 1837.31 1531.65 L1837.31 1514.29 Z\" fill=\"#000000\" fill-rule=\"nonzero\" fill-opacity=\"1\" /><path clip-path=\"url(#clip760)\" d=\"M2257.07 1544.91 L2264.71 1544.91 L2264.71 1518.55 L2256.4 1520.21 L2256.4 1515.95 L2264.67 1514.29 L2269.34 1514.29 L2269.34 1544.91 L2276.98 1544.91 L2276.98 1548.85 L2257.07 1548.85 L2257.07 1544.91 Z\" fill=\"#000000\" fill-rule=\"nonzero\" fill-opacity=\"1\" /><path clip-path=\"url(#clip760)\" d=\"M2296.42 1517.37 Q2292.81 1517.37 2290.98 1520.93 Q2289.18 1524.47 2289.18 1531.6 Q2289.18 1538.71 2290.98 1542.27 Q2292.81 1545.82 2296.42 1545.82 Q2300.06 1545.82 2301.86 1542.27 Q2303.69 1538.71 2303.69 1531.6 Q2303.69 1524.47 2301.86 1520.93 Q2300.06 1517.37 2296.42 1517.37 M2296.42 1513.66 Q2302.23 1513.66 2305.29 1518.27 Q2308.37 1522.85 2308.37 1531.6 Q2308.37 1540.33 2305.29 1544.94 Q2302.23 1549.52 2296.42 1549.52 Q2290.61 1549.52 2287.54 1544.94 Q2284.48 1540.33 2284.48 1531.6 Q2284.48 1522.85 2287.54 1518.27 Q2290.61 1513.66 2296.42 1513.66 Z\" fill=\"#000000\" fill-rule=\"nonzero\" fill-opacity=\"1\" /><path clip-path=\"url(#clip760)\" d=\"M2326.59 1517.37 Q2322.98 1517.37 2321.15 1520.93 Q2319.34 1524.47 2319.34 1531.6 Q2319.34 1538.71 2321.15 1542.27 Q2322.98 1545.82 2326.59 1545.82 Q2330.22 1545.82 2332.03 1542.27 Q2333.85 1538.71 2333.85 1531.6 Q2333.85 1524.47 2332.03 1520.93 Q2330.22 1517.37 2326.59 1517.37 M2326.59 1513.66 Q2332.4 1513.66 2335.45 1518.27 Q2338.53 1522.85 2338.53 1531.6 Q2338.53 1540.33 2335.45 1544.94 Q2332.4 1549.52 2326.59 1549.52 Q2320.78 1549.52 2317.7 1544.94 Q2314.64 1540.33 2314.64 1531.6 Q2314.64 1522.85 2317.7 1518.27 Q2320.78 1513.66 2326.59 1513.66 Z\" fill=\"#000000\" fill-rule=\"nonzero\" fill-opacity=\"1\" /><polyline clip-path=\"url(#clip762)\" style=\"stroke:#000000; stroke-linecap:round; stroke-linejoin:round; stroke-width:2; stroke-opacity:0.1; fill:none\" points=\"399.187,1475.02 2352.76,1475.02 \"/>\n",
       "<polyline clip-path=\"url(#clip762)\" style=\"stroke:#000000; stroke-linecap:round; stroke-linejoin:round; stroke-width:2; stroke-opacity:0.1; fill:none\" points=\"399.187,1156.55 2352.76,1156.55 \"/>\n",
       "<polyline clip-path=\"url(#clip762)\" style=\"stroke:#000000; stroke-linecap:round; stroke-linejoin:round; stroke-width:2; stroke-opacity:0.1; fill:none\" points=\"399.187,838.071 2352.76,838.071 \"/>\n",
       "<polyline clip-path=\"url(#clip762)\" style=\"stroke:#000000; stroke-linecap:round; stroke-linejoin:round; stroke-width:2; stroke-opacity:0.1; fill:none\" points=\"399.187,519.596 2352.76,519.596 \"/>\n",
       "<polyline clip-path=\"url(#clip762)\" style=\"stroke:#000000; stroke-linecap:round; stroke-linejoin:round; stroke-width:2; stroke-opacity:0.1; fill:none\" points=\"399.187,201.121 2352.76,201.121 \"/>\n",
       "<polyline clip-path=\"url(#clip760)\" style=\"stroke:#000000; stroke-linecap:round; stroke-linejoin:round; stroke-width:4; stroke-opacity:1; fill:none\" points=\"399.187,1486.45 399.187,47.2441 \"/>\n",
       "<polyline clip-path=\"url(#clip760)\" style=\"stroke:#000000; stroke-linecap:round; stroke-linejoin:round; stroke-width:4; stroke-opacity:1; fill:none\" points=\"399.187,1475.02 418.084,1475.02 \"/>\n",
       "<polyline clip-path=\"url(#clip760)\" style=\"stroke:#000000; stroke-linecap:round; stroke-linejoin:round; stroke-width:4; stroke-opacity:1; fill:none\" points=\"399.187,1156.55 418.084,1156.55 \"/>\n",
       "<polyline clip-path=\"url(#clip760)\" style=\"stroke:#000000; stroke-linecap:round; stroke-linejoin:round; stroke-width:4; stroke-opacity:1; fill:none\" points=\"399.187,838.071 418.084,838.071 \"/>\n",
       "<polyline clip-path=\"url(#clip760)\" style=\"stroke:#000000; stroke-linecap:round; stroke-linejoin:round; stroke-width:4; stroke-opacity:1; fill:none\" points=\"399.187,519.596 418.084,519.596 \"/>\n",
       "<polyline clip-path=\"url(#clip760)\" style=\"stroke:#000000; stroke-linecap:round; stroke-linejoin:round; stroke-width:4; stroke-opacity:1; fill:none\" points=\"399.187,201.121 418.084,201.121 \"/>\n",
       "<path clip-path=\"url(#clip760)\" d=\"M50.9921 1481.92 L80.6679 1481.92 L80.6679 1485.85 L50.9921 1485.85 L50.9921 1481.92 Z\" fill=\"#000000\" fill-rule=\"nonzero\" fill-opacity=\"1\" /><path clip-path=\"url(#clip760)\" d=\"M94.7882 1494.81 L111.108 1494.81 L111.108 1498.75 L89.1632 1498.75 L89.1632 1494.81 Q91.8252 1492.06 96.4085 1487.43 Q101.015 1482.78 102.196 1481.43 Q104.441 1478.91 105.321 1477.17 Q106.223 1475.41 106.223 1473.72 Q106.223 1470.97 104.279 1469.23 Q102.358 1467.5 99.2558 1467.5 Q97.0567 1467.5 94.603 1468.26 Q92.1725 1469.03 89.3947 1470.58 L89.3947 1465.85 Q92.2188 1464.72 94.6724 1464.14 Q97.1261 1463.56 99.1632 1463.56 Q104.534 1463.56 107.728 1466.25 Q110.922 1468.93 110.922 1473.42 Q110.922 1475.55 110.112 1477.47 Q109.325 1479.37 107.219 1481.97 Q106.64 1482.64 103.538 1485.85 Q100.436 1489.05 94.7882 1494.81 Z\" fill=\"#000000\" fill-rule=\"nonzero\" fill-opacity=\"1\" /><path clip-path=\"url(#clip760)\" d=\"M120.922 1492.87 L125.807 1492.87 L125.807 1498.75 L120.922 1498.75 L120.922 1492.87 Z\" fill=\"#000000\" fill-rule=\"nonzero\" fill-opacity=\"1\" /><path clip-path=\"url(#clip760)\" d=\"M145.992 1467.27 Q142.381 1467.27 140.552 1470.83 Q138.746 1474.37 138.746 1481.5 Q138.746 1488.61 140.552 1492.17 Q142.381 1495.72 145.992 1495.72 Q149.626 1495.72 151.431 1492.17 Q153.26 1488.61 153.26 1481.5 Q153.26 1474.37 151.431 1470.83 Q149.626 1467.27 145.992 1467.27 M145.992 1463.56 Q151.802 1463.56 154.857 1468.17 Q157.936 1472.75 157.936 1481.5 Q157.936 1490.23 154.857 1494.84 Q151.802 1499.42 145.992 1499.42 Q140.181 1499.42 137.103 1494.84 Q134.047 1490.23 134.047 1481.5 Q134.047 1472.75 137.103 1468.17 Q140.181 1463.56 145.992 1463.56 Z\" fill=\"#000000\" fill-rule=\"nonzero\" fill-opacity=\"1\" /><path clip-path=\"url(#clip760)\" d=\"M176.153 1467.27 Q172.542 1467.27 170.714 1470.83 Q168.908 1474.37 168.908 1481.5 Q168.908 1488.61 170.714 1492.17 Q172.542 1495.72 176.153 1495.72 Q179.788 1495.72 181.593 1492.17 Q183.422 1488.61 183.422 1481.5 Q183.422 1474.37 181.593 1470.83 Q179.788 1467.27 176.153 1467.27 M176.153 1463.56 Q181.964 1463.56 185.019 1468.17 Q188.098 1472.75 188.098 1481.5 Q188.098 1490.23 185.019 1494.84 Q181.964 1499.42 176.153 1499.42 Q170.343 1499.42 167.265 1494.84 Q164.209 1490.23 164.209 1481.5 Q164.209 1472.75 167.265 1468.17 Q170.343 1463.56 176.153 1463.56 Z\" fill=\"#000000\" fill-rule=\"nonzero\" fill-opacity=\"1\" /><path clip-path=\"url(#clip760)\" d=\"M224.487 1473.28 L213.908 1483.91 L224.487 1494.49 L221.732 1497.29 L211.107 1486.66 L200.482 1497.29 L197.751 1494.49 L208.306 1483.91 L197.751 1473.28 L200.482 1470.48 L211.107 1481.11 L221.732 1470.48 L224.487 1473.28 Z\" fill=\"#000000\" fill-rule=\"nonzero\" fill-opacity=\"1\" /><path clip-path=\"url(#clip760)\" d=\"M236.848 1494.81 L244.486 1494.81 L244.486 1468.45 L236.176 1470.11 L236.176 1465.85 L244.44 1464.19 L249.116 1464.19 L249.116 1494.81 L256.755 1494.81 L256.755 1498.75 L236.848 1498.75 L236.848 1494.81 Z\" fill=\"#000000\" fill-rule=\"nonzero\" fill-opacity=\"1\" /><path clip-path=\"url(#clip760)\" d=\"M276.199 1467.27 Q272.588 1467.27 270.759 1470.83 Q268.954 1474.37 268.954 1481.5 Q268.954 1488.61 270.759 1492.17 Q272.588 1495.72 276.199 1495.72 Q279.833 1495.72 281.639 1492.17 Q283.468 1488.61 283.468 1481.5 Q283.468 1474.37 281.639 1470.83 Q279.833 1467.27 276.199 1467.27 M276.199 1463.56 Q282.009 1463.56 285.065 1468.17 Q288.144 1472.75 288.144 1481.5 Q288.144 1490.23 285.065 1494.84 Q282.009 1499.42 276.199 1499.42 Q270.389 1499.42 267.31 1494.84 Q264.255 1490.23 264.255 1481.5 Q264.255 1472.75 267.31 1468.17 Q270.389 1463.56 276.199 1463.56 Z\" fill=\"#000000\" fill-rule=\"nonzero\" fill-opacity=\"1\" /><path clip-path=\"url(#clip760)\" d=\"M288.144 1457.66 L312.255 1457.66 L312.255 1460.86 L288.144 1460.86 L288.144 1457.66 Z\" fill=\"#000000\" fill-rule=\"nonzero\" fill-opacity=\"1\" /><path clip-path=\"url(#clip760)\" d=\"M321.114 1468.14 L327.32 1468.14 L327.32 1446.72 L320.568 1448.07 L320.568 1444.61 L327.283 1443.26 L331.082 1443.26 L331.082 1468.14 L337.288 1468.14 L337.288 1471.34 L321.114 1471.34 L321.114 1468.14 Z\" fill=\"#000000\" fill-rule=\"nonzero\" fill-opacity=\"1\" /><path clip-path=\"url(#clip760)\" d=\"M355.4 1446.57 L345.808 1461.56 L355.4 1461.56 L355.4 1446.57 M354.403 1443.26 L359.181 1443.26 L359.181 1461.56 L363.187 1461.56 L363.187 1464.72 L359.181 1464.72 L359.181 1471.34 L355.4 1471.34 L355.4 1464.72 L342.724 1464.72 L342.724 1461.05 L354.403 1443.26 Z\" fill=\"#000000\" fill-rule=\"nonzero\" fill-opacity=\"1\" /><path clip-path=\"url(#clip760)\" d=\"M50.9921 1163.44 L80.6679 1163.44 L80.6679 1167.38 L50.9921 1167.38 L50.9921 1163.44 Z\" fill=\"#000000\" fill-rule=\"nonzero\" fill-opacity=\"1\" /><path clip-path=\"url(#clip760)\" d=\"M91.5706 1176.34 L99.2095 1176.34 L99.2095 1149.97 L90.8993 1151.64 L90.8993 1147.38 L99.1632 1145.71 L103.839 1145.71 L103.839 1176.34 L111.478 1176.34 L111.478 1180.27 L91.5706 1180.27 L91.5706 1176.34 Z\" fill=\"#000000\" fill-rule=\"nonzero\" fill-opacity=\"1\" /><path clip-path=\"url(#clip760)\" d=\"M120.922 1174.39 L125.807 1174.39 L125.807 1180.27 L120.922 1180.27 L120.922 1174.39 Z\" fill=\"#000000\" fill-rule=\"nonzero\" fill-opacity=\"1\" /><path clip-path=\"url(#clip760)\" d=\"M136.038 1145.71 L154.394 1145.71 L154.394 1149.65 L140.32 1149.65 L140.32 1158.12 Q141.339 1157.77 142.357 1157.61 Q143.376 1157.43 144.394 1157.43 Q150.181 1157.43 153.561 1160.6 Q156.941 1163.77 156.941 1169.19 Q156.941 1174.76 153.468 1177.87 Q149.996 1180.94 143.677 1180.94 Q141.501 1180.94 139.232 1180.57 Q136.987 1180.2 134.58 1179.46 L134.58 1174.76 Q136.663 1175.9 138.885 1176.45 Q141.107 1177.01 143.584 1177.01 Q147.589 1177.01 149.927 1174.9 Q152.265 1172.8 152.265 1169.19 Q152.265 1165.57 149.927 1163.47 Q147.589 1161.36 143.584 1161.36 Q141.709 1161.36 139.834 1161.78 Q137.982 1162.19 136.038 1163.07 L136.038 1145.71 Z\" fill=\"#000000\" fill-rule=\"nonzero\" fill-opacity=\"1\" /><path clip-path=\"url(#clip760)\" d=\"M176.153 1148.79 Q172.542 1148.79 170.714 1152.36 Q168.908 1155.9 168.908 1163.03 Q168.908 1170.13 170.714 1173.7 Q172.542 1177.24 176.153 1177.24 Q179.788 1177.24 181.593 1173.7 Q183.422 1170.13 183.422 1163.03 Q183.422 1155.9 181.593 1152.36 Q179.788 1148.79 176.153 1148.79 M176.153 1145.09 Q181.964 1145.09 185.019 1149.69 Q188.098 1154.28 188.098 1163.03 Q188.098 1171.75 185.019 1176.36 Q181.964 1180.94 176.153 1180.94 Q170.343 1180.94 167.265 1176.36 Q164.209 1171.75 164.209 1163.03 Q164.209 1154.28 167.265 1149.69 Q170.343 1145.09 176.153 1145.09 Z\" fill=\"#000000\" fill-rule=\"nonzero\" fill-opacity=\"1\" /><path clip-path=\"url(#clip760)\" d=\"M224.487 1154.81 L213.908 1165.44 L224.487 1176.01 L221.732 1178.81 L211.107 1168.19 L200.482 1178.81 L197.751 1176.01 L208.306 1165.44 L197.751 1154.81 L200.482 1152.01 L211.107 1162.63 L221.732 1152.01 L224.487 1154.81 Z\" fill=\"#000000\" fill-rule=\"nonzero\" fill-opacity=\"1\" /><path clip-path=\"url(#clip760)\" d=\"M236.848 1176.34 L244.486 1176.34 L244.486 1149.97 L236.176 1151.64 L236.176 1147.38 L244.44 1145.71 L249.116 1145.71 L249.116 1176.34 L256.755 1176.34 L256.755 1180.27 L236.848 1180.27 L236.848 1176.34 Z\" fill=\"#000000\" fill-rule=\"nonzero\" fill-opacity=\"1\" /><path clip-path=\"url(#clip760)\" d=\"M276.199 1148.79 Q272.588 1148.79 270.759 1152.36 Q268.954 1155.9 268.954 1163.03 Q268.954 1170.13 270.759 1173.7 Q272.588 1177.24 276.199 1177.24 Q279.833 1177.24 281.639 1173.7 Q283.468 1170.13 283.468 1163.03 Q283.468 1155.9 281.639 1152.36 Q279.833 1148.79 276.199 1148.79 M276.199 1145.09 Q282.009 1145.09 285.065 1149.69 Q288.144 1154.28 288.144 1163.03 Q288.144 1171.75 285.065 1176.36 Q282.009 1180.94 276.199 1180.94 Q270.389 1180.94 267.31 1176.36 Q264.255 1171.75 264.255 1163.03 Q264.255 1154.28 267.31 1149.69 Q270.389 1145.09 276.199 1145.09 Z\" fill=\"#000000\" fill-rule=\"nonzero\" fill-opacity=\"1\" /><path clip-path=\"url(#clip760)\" d=\"M288.144 1139.19 L312.255 1139.19 L312.255 1142.39 L288.144 1142.39 L288.144 1139.19 Z\" fill=\"#000000\" fill-rule=\"nonzero\" fill-opacity=\"1\" /><path clip-path=\"url(#clip760)\" d=\"M321.114 1149.67 L327.32 1149.67 L327.32 1128.24 L320.568 1129.6 L320.568 1126.14 L327.283 1124.78 L331.082 1124.78 L331.082 1149.67 L337.288 1149.67 L337.288 1152.86 L321.114 1152.86 L321.114 1149.67 Z\" fill=\"#000000\" fill-rule=\"nonzero\" fill-opacity=\"1\" /><path clip-path=\"url(#clip760)\" d=\"M355.4 1128.09 L345.808 1143.08 L355.4 1143.08 L355.4 1128.09 M354.403 1124.78 L359.181 1124.78 L359.181 1143.08 L363.187 1143.08 L363.187 1146.24 L359.181 1146.24 L359.181 1152.86 L355.4 1152.86 L355.4 1146.24 L342.724 1146.24 L342.724 1142.57 L354.403 1124.78 Z\" fill=\"#000000\" fill-rule=\"nonzero\" fill-opacity=\"1\" /><path clip-path=\"url(#clip760)\" d=\"M50.9921 844.97 L80.6679 844.97 L80.6679 848.905 L50.9921 848.905 L50.9921 844.97 Z\" fill=\"#000000\" fill-rule=\"nonzero\" fill-opacity=\"1\" /><path clip-path=\"url(#clip760)\" d=\"M91.5706 857.863 L99.2095 857.863 L99.2095 831.498 L90.8993 833.164 L90.8993 828.905 L99.1632 827.238 L103.839 827.238 L103.839 857.863 L111.478 857.863 L111.478 861.798 L91.5706 861.798 L91.5706 857.863 Z\" fill=\"#000000\" fill-rule=\"nonzero\" fill-opacity=\"1\" /><path clip-path=\"url(#clip760)\" d=\"M120.922 855.919 L125.807 855.919 L125.807 861.798 L120.922 861.798 L120.922 855.919 Z\" fill=\"#000000\" fill-rule=\"nonzero\" fill-opacity=\"1\" /><path clip-path=\"url(#clip760)\" d=\"M145.992 830.317 Q142.381 830.317 140.552 833.882 Q138.746 837.423 138.746 844.553 Q138.746 851.659 140.552 855.224 Q142.381 858.766 145.992 858.766 Q149.626 858.766 151.431 855.224 Q153.26 851.659 153.26 844.553 Q153.26 837.423 151.431 833.882 Q149.626 830.317 145.992 830.317 M145.992 826.613 Q151.802 826.613 154.857 831.22 Q157.936 835.803 157.936 844.553 Q157.936 853.28 154.857 857.886 Q151.802 862.47 145.992 862.47 Q140.181 862.47 137.103 857.886 Q134.047 853.28 134.047 844.553 Q134.047 835.803 137.103 831.22 Q140.181 826.613 145.992 826.613 Z\" fill=\"#000000\" fill-rule=\"nonzero\" fill-opacity=\"1\" /><path clip-path=\"url(#clip760)\" d=\"M176.153 830.317 Q172.542 830.317 170.714 833.882 Q168.908 837.423 168.908 844.553 Q168.908 851.659 170.714 855.224 Q172.542 858.766 176.153 858.766 Q179.788 858.766 181.593 855.224 Q183.422 851.659 183.422 844.553 Q183.422 837.423 181.593 833.882 Q179.788 830.317 176.153 830.317 M176.153 826.613 Q181.964 826.613 185.019 831.22 Q188.098 835.803 188.098 844.553 Q188.098 853.28 185.019 857.886 Q181.964 862.47 176.153 862.47 Q170.343 862.47 167.265 857.886 Q164.209 853.28 164.209 844.553 Q164.209 835.803 167.265 831.22 Q170.343 826.613 176.153 826.613 Z\" fill=\"#000000\" fill-rule=\"nonzero\" fill-opacity=\"1\" /><path clip-path=\"url(#clip760)\" d=\"M224.487 836.335 L213.908 846.96 L224.487 857.539 L221.732 860.34 L211.107 849.715 L200.482 860.34 L197.751 857.539 L208.306 846.96 L197.751 836.335 L200.482 833.535 L211.107 844.159 L221.732 833.535 L224.487 836.335 Z\" fill=\"#000000\" fill-rule=\"nonzero\" fill-opacity=\"1\" /><path clip-path=\"url(#clip760)\" d=\"M236.848 857.863 L244.486 857.863 L244.486 831.498 L236.176 833.164 L236.176 828.905 L244.44 827.238 L249.116 827.238 L249.116 857.863 L256.755 857.863 L256.755 861.798 L236.848 861.798 L236.848 857.863 Z\" fill=\"#000000\" fill-rule=\"nonzero\" fill-opacity=\"1\" /><path clip-path=\"url(#clip760)\" d=\"M276.199 830.317 Q272.588 830.317 270.759 833.882 Q268.954 837.423 268.954 844.553 Q268.954 851.659 270.759 855.224 Q272.588 858.766 276.199 858.766 Q279.833 858.766 281.639 855.224 Q283.468 851.659 283.468 844.553 Q283.468 837.423 281.639 833.882 Q279.833 830.317 276.199 830.317 M276.199 826.613 Q282.009 826.613 285.065 831.22 Q288.144 835.803 288.144 844.553 Q288.144 853.28 285.065 857.886 Q282.009 862.47 276.199 862.47 Q270.389 862.47 267.31 857.886 Q264.255 853.28 264.255 844.553 Q264.255 835.803 267.31 831.22 Q270.389 826.613 276.199 826.613 Z\" fill=\"#000000\" fill-rule=\"nonzero\" fill-opacity=\"1\" /><path clip-path=\"url(#clip760)\" d=\"M288.144 820.715 L312.255 820.715 L312.255 823.912 L288.144 823.912 L288.144 820.715 Z\" fill=\"#000000\" fill-rule=\"nonzero\" fill-opacity=\"1\" /><path clip-path=\"url(#clip760)\" d=\"M321.114 831.191 L327.32 831.191 L327.32 809.769 L320.568 811.123 L320.568 807.662 L327.283 806.308 L331.082 806.308 L331.082 831.191 L337.288 831.191 L337.288 834.388 L321.114 834.388 L321.114 831.191 Z\" fill=\"#000000\" fill-rule=\"nonzero\" fill-opacity=\"1\" /><path clip-path=\"url(#clip760)\" d=\"M355.4 809.618 L345.808 824.608 L355.4 824.608 L355.4 809.618 M354.403 806.308 L359.181 806.308 L359.181 824.608 L363.187 824.608 L363.187 827.768 L359.181 827.768 L359.181 834.388 L355.4 834.388 L355.4 827.768 L342.724 827.768 L342.724 824.1 L354.403 806.308 Z\" fill=\"#000000\" fill-rule=\"nonzero\" fill-opacity=\"1\" /><path clip-path=\"url(#clip760)\" d=\"M52.1958 526.495 L81.8716 526.495 L81.8716 530.43 L52.1958 530.43 L52.1958 526.495 Z\" fill=\"#000000\" fill-rule=\"nonzero\" fill-opacity=\"1\" /><path clip-path=\"url(#clip760)\" d=\"M92.0104 508.764 L110.367 508.764 L110.367 512.699 L96.2928 512.699 L96.2928 521.171 Q97.3113 520.824 98.3298 520.662 Q99.3483 520.476 100.367 520.476 Q106.154 520.476 109.533 523.648 Q112.913 526.819 112.913 532.236 Q112.913 537.814 109.441 540.916 Q105.969 543.995 99.6493 543.995 Q97.4734 543.995 95.2049 543.624 Q92.9595 543.254 90.5521 542.513 L90.5521 537.814 Q92.6354 538.949 94.8576 539.504 Q97.0798 540.06 99.5567 540.06 Q103.561 540.06 105.899 537.953 Q108.237 535.847 108.237 532.236 Q108.237 528.625 105.899 526.518 Q103.561 524.412 99.5567 524.412 Q97.6817 524.412 95.8067 524.828 Q93.9549 525.245 92.0104 526.125 L92.0104 508.764 Z\" fill=\"#000000\" fill-rule=\"nonzero\" fill-opacity=\"1\" /><path clip-path=\"url(#clip760)\" d=\"M122.126 537.444 L127.01 537.444 L127.01 543.324 L122.126 543.324 L122.126 537.444 Z\" fill=\"#000000\" fill-rule=\"nonzero\" fill-opacity=\"1\" /><path clip-path=\"url(#clip760)\" d=\"M147.195 511.842 Q143.584 511.842 141.756 515.407 Q139.95 518.949 139.95 526.078 Q139.95 533.185 141.756 536.75 Q143.584 540.291 147.195 540.291 Q150.83 540.291 152.635 536.75 Q154.464 533.185 154.464 526.078 Q154.464 518.949 152.635 515.407 Q150.83 511.842 147.195 511.842 M147.195 508.139 Q153.005 508.139 156.061 512.745 Q159.14 517.328 159.14 526.078 Q159.14 534.805 156.061 539.412 Q153.005 543.995 147.195 543.995 Q141.385 543.995 138.306 539.412 Q135.251 534.805 135.251 526.078 Q135.251 517.328 138.306 512.745 Q141.385 508.139 147.195 508.139 Z\" fill=\"#000000\" fill-rule=\"nonzero\" fill-opacity=\"1\" /><path clip-path=\"url(#clip760)\" d=\"M177.357 511.842 Q173.746 511.842 171.917 515.407 Q170.112 518.949 170.112 526.078 Q170.112 533.185 171.917 536.75 Q173.746 540.291 177.357 540.291 Q180.991 540.291 182.797 536.75 Q184.626 533.185 184.626 526.078 Q184.626 518.949 182.797 515.407 Q180.991 511.842 177.357 511.842 M177.357 508.139 Q183.167 508.139 186.223 512.745 Q189.302 517.328 189.302 526.078 Q189.302 534.805 186.223 539.412 Q183.167 543.995 177.357 543.995 Q171.547 543.995 168.468 539.412 Q165.413 534.805 165.413 526.078 Q165.413 517.328 168.468 512.745 Q171.547 508.139 177.357 508.139 Z\" fill=\"#000000\" fill-rule=\"nonzero\" fill-opacity=\"1\" /><path clip-path=\"url(#clip760)\" d=\"M225.69 517.861 L215.112 528.486 L225.69 539.064 L222.936 541.865 L212.311 531.24 L201.686 541.865 L198.954 539.064 L209.51 528.486 L198.954 517.861 L201.686 515.06 L212.311 525.685 L222.936 515.06 L225.69 517.861 Z\" fill=\"#000000\" fill-rule=\"nonzero\" fill-opacity=\"1\" /><path clip-path=\"url(#clip760)\" d=\"M238.051 539.388 L245.69 539.388 L245.69 513.023 L237.38 514.689 L237.38 510.43 L245.644 508.764 L250.32 508.764 L250.32 539.388 L257.959 539.388 L257.959 543.324 L238.051 543.324 L238.051 539.388 Z\" fill=\"#000000\" fill-rule=\"nonzero\" fill-opacity=\"1\" /><path clip-path=\"url(#clip760)\" d=\"M277.403 511.842 Q273.792 511.842 271.963 515.407 Q270.158 518.949 270.158 526.078 Q270.158 533.185 271.963 536.75 Q273.792 540.291 277.403 540.291 Q281.037 540.291 282.843 536.75 Q284.671 533.185 284.671 526.078 Q284.671 518.949 282.843 515.407 Q281.037 511.842 277.403 511.842 M277.403 508.139 Q283.213 508.139 286.269 512.745 Q289.347 517.328 289.347 526.078 Q289.347 534.805 286.269 539.412 Q283.213 543.995 277.403 543.995 Q271.593 543.995 268.514 539.412 Q265.459 534.805 265.459 526.078 Q265.459 517.328 268.514 512.745 Q271.593 508.139 277.403 508.139 Z\" fill=\"#000000\" fill-rule=\"nonzero\" fill-opacity=\"1\" /><path clip-path=\"url(#clip760)\" d=\"M289.347 502.24 L313.459 502.24 L313.459 505.437 L289.347 505.437 L289.347 502.24 Z\" fill=\"#000000\" fill-rule=\"nonzero\" fill-opacity=\"1\" /><path clip-path=\"url(#clip760)\" d=\"M322.317 512.716 L328.524 512.716 L328.524 491.294 L321.772 492.648 L321.772 489.187 L328.486 487.833 L332.285 487.833 L332.285 512.716 L338.492 512.716 L338.492 515.913 L322.317 515.913 L322.317 512.716 Z\" fill=\"#000000\" fill-rule=\"nonzero\" fill-opacity=\"1\" /><path clip-path=\"url(#clip760)\" d=\"M346.203 487.833 L361.118 487.833 L361.118 491.03 L349.683 491.03 L349.683 497.914 Q350.51 497.632 351.338 497.5 Q352.165 497.35 352.993 497.35 Q357.695 497.35 360.441 499.927 Q363.187 502.503 363.187 506.904 Q363.187 511.437 360.365 513.957 Q357.544 516.459 352.41 516.459 Q350.642 516.459 348.799 516.158 Q346.974 515.857 345.018 515.255 L345.018 511.437 Q346.711 512.358 348.517 512.81 Q350.322 513.261 352.335 513.261 Q355.588 513.261 357.488 511.55 Q359.387 509.838 359.387 506.904 Q359.387 503.97 357.488 502.259 Q355.588 500.547 352.335 500.547 Q350.811 500.547 349.288 500.886 Q347.783 501.224 346.203 501.939 L346.203 487.833 Z\" fill=\"#000000\" fill-rule=\"nonzero\" fill-opacity=\"1\" /><path clip-path=\"url(#clip760)\" d=\"M351.242 186.92 Q347.631 186.92 345.802 190.485 Q343.997 194.026 343.997 201.156 Q343.997 208.262 345.802 211.827 Q347.631 215.369 351.242 215.369 Q354.876 215.369 356.682 211.827 Q358.511 208.262 358.511 201.156 Q358.511 194.026 356.682 190.485 Q354.876 186.92 351.242 186.92 M351.242 183.216 Q357.052 183.216 360.108 187.823 Q363.187 192.406 363.187 201.156 Q363.187 209.883 360.108 214.489 Q357.052 219.073 351.242 219.073 Q345.432 219.073 342.353 214.489 Q339.298 209.883 339.298 201.156 Q339.298 192.406 342.353 187.823 Q345.432 183.216 351.242 183.216 Z\" fill=\"#000000\" fill-rule=\"nonzero\" fill-opacity=\"1\" /><polyline clip-path=\"url(#clip762)\" style=\"stroke:#009af9; stroke-linecap:round; stroke-linejoin:round; stroke-width:4; stroke-opacity:1; fill:none\" points=\"454.476,201.121 473.092,201.121 491.708,201.121 510.325,201.121 528.941,201.121 547.557,208.193 566.173,208.193 584.789,208.193 603.405,208.193 622.021,208.193 640.637,215.264 659.253,215.264 677.869,201.121 696.485,201.121 715.101,186.978 733.717,186.978 752.333,186.978 770.949,172.835 789.565,172.835 808.181,172.835 826.798,172.835 845.414,172.835 864.03,172.835 882.646,172.835 901.262,144.549 919.878,144.549 938.494,144.549 957.11,144.549 975.726,144.549 994.342,116.263 1012.96,116.263 1031.57,116.263 1050.19,116.263 1068.81,116.263 1087.42,87.9763 1106.04,87.9763 1124.65,87.9763 1143.27,87.9763 1161.89,87.9763 1180.5,87.9763 1199.12,144.549 1217.73,144.549 1236.35,144.549 1254.97,201.121 1273.58,201.121 1292.2,257.694 1310.82,257.694 1329.43,314.266 1348.05,314.266 1366.66,314.266 1385.28,370.839 1403.9,370.839 1422.51,427.411 1441.13,427.411 1459.74,427.411 1478.36,483.984 1496.98,483.984 1515.59,540.556 1534.21,540.556 1552.82,540.556 1571.44,597.129 1590.06,597.129 1608.67,653.701 1627.29,653.701 1645.9,653.701 1664.52,710.274 1683.14,710.274 1701.75,766.846 1720.37,766.846 1738.98,766.846 1757.6,823.418 1776.22,823.418 1794.83,879.991 1813.45,879.991 1832.06,879.991 1850.68,936.563 1869.3,936.563 1887.91,993.136 1906.53,993.136 1925.15,993.136 1943.76,993.136 1962.38,1106.28 1980.99,1106.28 1999.61,1106.28 2018.23,1106.28 2036.84,1106.28 2055.46,1219.43 2074.07,1219.43 2092.69,1219.43 2111.31,1219.43 2129.92,1219.43 2148.54,1332.57 2167.15,1332.57 2185.77,1332.57 2204.39,1332.57 2223,1445.72 2241.62,1445.72 2260.23,1445.72 2278.85,1445.72 2297.47,1445.72 \"/>\n",
       "<path clip-path=\"url(#clip760)\" d=\"M2039.85 198.898 L2287.64 198.898 L2287.64 95.2176 L2039.85 95.2176  Z\" fill=\"#ffffff\" fill-rule=\"evenodd\" fill-opacity=\"1\"/>\n",
       "<polyline clip-path=\"url(#clip760)\" style=\"stroke:#000000; stroke-linecap:round; stroke-linejoin:round; stroke-width:4; stroke-opacity:1; fill:none\" points=\"2039.85,198.898 2287.64,198.898 2287.64,95.2176 2039.85,95.2176 2039.85,198.898 \"/>\n",
       "<polyline clip-path=\"url(#clip760)\" style=\"stroke:#009af9; stroke-linecap:round; stroke-linejoin:round; stroke-width:4; stroke-opacity:1; fill:none\" points=\"2061.56,147.058 2191.79,147.058 \"/>\n",
       "<path clip-path=\"url(#clip760)\" d=\"M2227.34 166.745 Q2225.54 171.375 2223.82 172.787 Q2222.11 174.199 2219.24 174.199 L2215.84 174.199 L2215.84 170.634 L2218.34 170.634 Q2220.1 170.634 2221.07 169.8 Q2222.04 168.967 2223.22 165.865 L2223.99 163.921 L2213.5 138.412 L2218.01 138.412 L2226.12 158.689 L2234.22 138.412 L2238.73 138.412 L2227.34 166.745 Z\" fill=\"#000000\" fill-rule=\"nonzero\" fill-opacity=\"1\" /><path clip-path=\"url(#clip760)\" d=\"M2246.02 160.402 L2253.66 160.402 L2253.66 134.037 L2245.35 135.703 L2245.35 131.444 L2253.62 129.778 L2258.29 129.778 L2258.29 160.402 L2265.93 160.402 L2265.93 164.338 L2246.02 164.338 L2246.02 160.402 Z\" fill=\"#000000\" fill-rule=\"nonzero\" fill-opacity=\"1\" /></svg>\n"
      ]
     },
     "execution_count": 37,
     "metadata": {},
     "output_type": "execute_result"
    }
   ],
   "source": [
    "x = 0.0\n",
    "itr_num = 100\n",
    "result = zeros(itr_num)\n",
    "for i = 1:itr_num\n",
    "    x += 0.1\n",
    "    result[i] = x\n",
    "end\n",
    "# @printf(\"%.55f\\n\", x)\n",
    "# println(bitstring(x))\n",
    "# println(bitstring(10.))\n",
    "using Plots\n",
    "f(x) = 0.1x\n",
    "# plot(f,1,itr_num)\n",
    "plot(result .- [f(x) for x in 1:itr_num])"
   ]
  },
  {
   "cell_type": "markdown",
   "metadata": {},
   "source": [
    "## 丸めの制御\n",
    "\n",
    "IEEE754では，4つの丸めモードを用意している．$\\tilde{x}$を実数（$\\tilde{x}\\in\\mathbb{R}$）とする．いま実数 $\\tilde x$ が\n",
    "\n",
    "$$\\tilde x=\\pm\\left(\\frac{1}{2^0}+\\frac{d_1}{2^1}+\\frac{d_2}{2^2}+\\dots\\right)2^{e}_{(10)}$$\n",
    "\n",
    "であるときに，その近似\n",
    "\n",
    "$$x=\\pm\\left(\\frac{1}{2^0}+\\frac{d_1}{2^1}+\\frac{d_2}{2^2}+\\cdots+\\frac{d_{52}}{2^{52}}\\right)2^{e}_{(10)}\\in\\mathbb{F}$$\n",
    "\n",
    "を採用する丸めは**原点方向への丸め**（切り捨て）と呼ばれている．\n",
    "\n",
    "また $\\tilde x$ の近似として誤差$|x-\\tilde{x}|$の値が最小になる$x\\in\\mathbb{F}$，すなわち\n",
    "\n",
    "$$\n",
    "    |x-\\tilde{x}|=\\min_{y\\in\\mathbb{F}}|y-\\tilde{x}|\n",
    "$$\n",
    "\n",
    "をみたす$x\\in\\mathbb{F}$を採用する方法を**最近点への丸め**という．しかし $\\tilde x$ が2つの浮動小数点数\n",
    "\n",
    "$$\n",
    "    x_1=\\left(\\frac{1}{2^0}+\\frac{d_1}{2^1}+\\frac{d_2}{2^2}+\\cdots+\\frac{d_{52}}{2^{52}}\\right)2^{e}_{(10)},~~~x_2=\\left(\\frac{1}{2^0}+\\frac{d_1}{2^1}+\\frac{d_2}{2^2}+\\cdots+\\frac{d_{52}+1}{2^{52}}\\right)2^{e}_{(10)}\n",
    "$$\n",
    "\n",
    "の中点となると$|x_1-\\tilde{x}|=|x_2-\\tilde{x}|$が成り立ち，$x$は一つに決まらない．このときは**仮数部の最後のビットが0**になる方に丸めが実行される．これを**最近偶数への丸め**という．\n"
   ]
  },
  {
   "cell_type": "code",
   "execution_count": 18,
   "metadata": {},
   "outputs": [
    {
     "name": "stdout",
     "output_type": "stream",
     "text": [
      "1.00000000000000000000000000000000000000000000000000\n",
      "0011111111110000000000000000000000000000000000000000000000000000\n",
      "1.00000000000000022204460492503130808472633361816406\n",
      "0011111111110000000000000000000000000000000000000000000000000001\n",
      "1.00000000000000000000000000000000000000000000000000\n",
      "0011111111110000000000000000000000000000000000000000000000000000\n"
     ]
    }
   ],
   "source": [
    "eps = 2. ^ (-52) # unit round off\n",
    "x = 1. + eps/4.\n",
    "@printf(\"%.50f\\n\", x)\n",
    "println(bitstring(x))\n",
    "\n",
    "y = 1. + 3*(eps/4.)\n",
    "@printf(\"%.50f\\n\", y)\n",
    "println(bitstring(y))\n",
    "\n",
    "z = 1. + (eps/2.)\n",
    "@printf(\"%.50f\\n\", z)\n",
    "println(bitstring(z))"
   ]
  },
  {
   "cell_type": "code",
   "execution_count": 19,
   "metadata": {},
   "outputs": [
    {
     "name": "stdout",
     "output_type": "stream",
     "text": [
      "2.00000000000000000000000000000000000000000000000000\n",
      "0100000000000000000000000000000000000000000000000000000000000000\n",
      "1.99999999999999977795539507496869191527366638183594\n",
      "0011111111111111111111111111111111111111111111111111111111111111\n",
      "2.00000000000000000000000000000000000000000000000000\n",
      "0100000000000000000000000000000000000000000000000000000000000000\n"
     ]
    }
   ],
   "source": [
    "x = 2.\n",
    "@printf(\"%.50f\\n\", x)\n",
    "println(bitstring(x))\n",
    "\n",
    "y = 2. - eps\n",
    "@printf(\"%.50f\\n\", y)\n",
    "println(bitstring(y))\n",
    "\n",
    "z = 2. - eps/2.\n",
    "@printf(\"%.50f\\n\", z)\n",
    "println(bitstring(z))"
   ]
  },
  {
   "cell_type": "markdown",
   "metadata": {},
   "source": [
    "次は$\\tilde{x}$よりも必ず大きな$a\\in\\mathbb{F}$，すなわち\n",
    "\n",
    "$$\n",
    "    a=\\min\\left\\{x\\in\\mathbb{F}:x\\ge\\tilde{x}\\right\\}\n",
    "$$\n",
    "\n",
    "をみたす$a\\in\\mathbb{F}$を採用する方法を$+\\infty$**方向への丸め**（上向き丸め）という．逆に$\\tilde{x}$よりも必ず小さな$b\\in\\mathbb{F}$，すなわち\n",
    "\n",
    "$$\n",
    "    b=\\max\\left\\{x\\in\\mathbb{F}:x\\le\\tilde{x}\\right\\}\n",
    "$$\n",
    "\n",
    "をみたす$b\\in\\mathbb{F}$を採用する方法を$-\\infty$**方向への丸め**（下向き丸め）という．これらより\n",
    "\n",
    "$$ b\\le\\tilde{x}\\le a $$\n",
    "\n",
    "が常に成立する．特に精度保証付き数値計算ではこの2つの丸めモードを利用することで，*厳密な包含*を得ることができるようになる．まとめると\n",
    "\n",
    "* 最近点への丸め（デフォルト）：$\\tilde{x}$ に最も近い浮動小数点数に丸める．もし2点あるならば仮数部の最後のビットが0である浮動小数点数に丸める．\n",
    "* $+\\infty$方向への丸め：$\\tilde{x}$ 以上の浮動小数点数の中で最も小さい浮動小数点数に丸める．\n",
    "* $-\\infty$方向への丸め：$\\tilde{x}$ 以下の浮動小数点数の中で最も大きい浮動小数点数に丸める．\n",
    "* 原点方向への丸め：絶対値が $\\tilde{x}$ 以下の浮動小数点数の中で，$\\tilde{x}$ に最も近いものに丸める．\n",
    "\n",
    "## その他の誤差いろいろ\n",
    "\n",
    "丸め誤差は実数を浮動小数点数で近似する際の誤差であった．ここでは浮動小数点数を用いた演算のその他の問題点を紹介する．\n",
    "\n",
    "### 桁落ち\n",
    "極めて近い数どうしの減算によって，誤差が著しく大きくなってしまう現象．\n",
    "2つの浮動小数点数\n",
    "\n",
    "$$\n",
    "    x=\\left(\\frac{1}{2^0}+\\frac{d_1}{2^1}+\\dots+\\frac{d_p}{2^p}+\\frac{1}{2^{p+1}}+\\cdots+\\frac{b_{p+2}}{2^{p+2}}+\\dots+\\frac{b_{52}}{2^{52}}\\right)2^{e}_{(10)},\n",
    "$$\n",
    "$$\n",
    "    y=\\left(\\frac{1}{2^0}+\\frac{d_1}{2^1}+\\dots+\\frac{d_p}{2^p}+\\frac{0}{2^{p+1}}+\\cdots+\\frac{c_{p+2}}{2^{p+2}}+\\dots+\\frac{c_{52}}{2^{52}}\\right)2^{e}_{(10)}\n",
    "$$\n",
    "\n",
    "が$x>y$とし，仮数部の最初から $p$ ビットが等しいとする．このとき\n",
    "\n",
    "$$\n",
    "    x-y=\\left(\\frac{1}{2^0}+\\frac{b_{p+2}-c_{p+2}}{2^1}+\\dots+\\frac{b_{52}-c_{52}}{2^{52-p-1}}\\right)2^{e-p-1}_{(10)}\n",
    "$$\n",
    "\n",
    "これよりもともと $52$ 個あった仮数部の情報が，$52-p$ 個に減っている．例を挙げよう．\n",
    "\n",
    "$b>0$とし，2次方程式 $x^2+bx+c=0$の解の公式\n",
    "\n",
    "$$\n",
    "    x_1=\\frac{-b+\\sqrt{b^2-4c}}{2},\\quad x_2=\\frac{-b-\\sqrt{b^2-4c}}{2}\n",
    "$$\n",
    "\n",
    "を考える．いまもしも$b^2\\gg c$となるならば，$b$ と $\\sqrt{b^2-4c}$が近い数になるので，$x_1$の分子の計算で，桁落ちが起こる．"
   ]
  },
  {
   "cell_type": "code",
   "execution_count": 20,
   "metadata": {},
   "outputs": [
    {
     "name": "stdout",
     "output_type": "stream",
     "text": [
      "-0.125\n",
      "-2.4999999999999984e13\n",
      "-0.10000000000000002\n",
      "0.0\n"
     ]
    }
   ],
   "source": [
    "b = 1e+15\n",
    "c = 1e+14\n",
    "\n",
    "x1 = (-b + sqrt(b^2 - 4c)) / 2\n",
    "println(x1)\n",
    "println(x1^2 + b*x1 + c)\n",
    "\n",
    "x2 = 2c / (-b - sqrt(b^2 - 4*c))\n",
    "println(x2)\n",
    "println(x2^2 + b*x2 + c)"
   ]
  },
  {
   "cell_type": "markdown",
   "metadata": {},
   "source": [
    "### 情報落ち\n",
    "絶対値の大きさが極端に違う2 数の加減算を行った時，小さいほうの数値の下位の桁が失われてしまう現象．"
   ]
  },
  {
   "cell_type": "code",
   "execution_count": 21,
   "metadata": {},
   "outputs": [
    {
     "name": "stdout",
     "output_type": "stream",
     "text": [
      "3.141592025756836\n",
      "3.14159265358979\n"
     ]
    }
   ],
   "source": [
    "println((3.14159265358979+1e10)-1e10)\n",
    "println(3.14159265358979 + (1e10-1e10))"
   ]
  },
  {
   "cell_type": "code",
   "execution_count": 22,
   "metadata": {},
   "outputs": [
    {
     "name": "stdout",
     "output_type": "stream",
     "text": [
      "0.0\n",
      "666.6\n",
      "-3.9230984419161617e30\n"
     ]
    }
   ],
   "source": [
    "println(1e48+543.2-1e48-1e36+123.4+1e36)\n",
    "println(1e48-1e48-1e36+1e36+543.2+123.4)\n",
    "println(1e48-1e36-1e48+1e36+543.2+123.4)"
   ]
  },
  {
   "cell_type": "markdown",
   "metadata": {},
   "source": [
    "## 打ち切り誤差\n",
    "無限回行うべき計算を有限回の計算で置き換えることにより生じる誤差．計算機は有限回の四則演算しかできない．そのため，無限級数や収束列のような値を求めるためには，有限項で打ち切った近似値を用いる．その際に誤差が生じる．\n",
    "\n",
    "（例）Taylor展開の打ち切り誤差，Newton法の打ち切り誤差，数値積分の打ち切り誤差"
   ]
  },
  {
   "cell_type": "code",
   "execution_count": 23,
   "metadata": {},
   "outputs": [
    {
     "name": "stdout",
     "output_type": "stream",
     "text": [
      "4.851651954097903e8\n",
      "4.851651954097903e8\n",
      "6.147561828914626e-9\n",
      "2.061153622438558e-9\n"
     ]
    }
   ],
   "source": [
    "function exp_taylor(x) # naive implementation of \"exp\" function\n",
    "    s = 0.0\n",
    "    t = 1.0\n",
    "    i = 1\n",
    "    while true\n",
    "        s += t\n",
    "        if abs(t) < abs(s) * 1e-15\n",
    "            break\n",
    "        end\n",
    "        t *= x / i\n",
    "        i += 1\n",
    "    end\n",
    "    return s\n",
    "end\n",
    "println(exp_taylor(20.))\n",
    "println(exp(20.))\n",
    "println(exp_taylor(-20.))\n",
    "println(exp(-20.))"
   ]
  },
  {
   "cell_type": "markdown",
   "metadata": {},
   "source": [
    "# 区間演算\n",
    "\n",
    "区間の表現，区間演算について述べる．精度保証付き数値計算の基本的な原理は，実数値で与えられる真の値の上限と下限を浮動小数点数により浮動小数点演算を用いて包み込むことである．\n",
    "\n",
    "$\\mathbb{R}$上の区間を\n",
    "$$\n",
    "\t\\boldsymbol{a}:=\\{x\\in\\mathbb{R}:\\underline{a}\\le x\\le\\overline{a},~\\underline{a}, \\overline{a}\\in\\mathbb{R}\\}=[\\underline{a}, \\overline{a}]\n",
    "$$\n",
    "\n",
    "と表し，区間の全体を$\\mathbb{IR}$とする．\n",
    "この時 $\\underline{a}$ を区間の下端，$\\overline{a}$ を区間の上端という．\n",
    "さらに区間の\n",
    "\n",
    "$$\n",
    "\\begin{array}{ll}\n",
    "\\mbox{直径（diameter）:}&\\mathrm{d}(\\boldsymbol{a})=\\overline{a}-\\underline{a}\\in\\mathbb{R}\\\\\n",
    "\\mbox{半径（radious）:}&\\mathrm{rad}(\\boldsymbol{a})=\\frac{\\overline{a}-\\underline{a}}{2}\\in\\mathbb{R}\\\\\n",
    "\\mbox{中点（center）:}&\\mathrm{mid}(\\boldsymbol{a})=\\frac{\\overline{a}+\\underline{a}}{2}\\in\\mathbb{R}\\\\\n",
    "\\mbox{最小絶対値:}&\\mathrm{mig}(\\boldsymbol{a})=\\min\\{|a|:a\\in\\boldsymbol{a}\\}\\in\\mathbb{R}\\\\\n",
    "\\mbox{最大絶対値:}&\\mathrm{mag}(\\boldsymbol{a})=\\max\\{|a|:a\\in\\boldsymbol{a}\\}\\in\\mathbb{R}\\\\\n",
    "\\end{array}\n",
    "$$\n",
    "\n",
    "をそれぞれ表すとする．\n",
    "\n",
    "Juliaで区間を扱うために[IntervalArithmetic.jl](https://github.com/JuliaIntervals/IntervalArithmetic.jl)パッケージを使う."
   ]
  },
  {
   "cell_type": "code",
   "execution_count": 38,
   "metadata": {
    "tags": []
   },
   "outputs": [
    {
     "name": "stdout",
     "output_type": "stream",
     "text": [
      "Interval{Float64}(-2.0, 1.0, com)\n",
      "d(a)   = 3.0\n",
      "rad(a) = 1.5\n",
      "mid(a) = -0.5\n",
      "mig(a) = 0.0\n",
      "mag(a) = 2.0\n"
     ]
    }
   ],
   "source": [
    "using IntervalArithmetic\n",
    "\n",
    "a = interval(-2, 1)\n",
    "# a = -2. .. 1.    # .. operator\n",
    "println(a)\n",
    "\n",
    "print(\"d(a)   = \")\n",
    "println(diam(a))\n",
    "\n",
    "print(\"rad(a) = \")\n",
    "println(radius(a))\n",
    "\n",
    "print(\"mid(a) = \")\n",
    "println(mid(a))\n",
    "\n",
    "print(\"mig(a) = \")\n",
    "println(mig(a))\n",
    "\n",
    "print(\"mag(a) = \")\n",
    "println(mag(a))\n",
    "\n",
    "# @format midpoint 3\n",
    "# @format full\n",
    "# @format standard 10"
   ]
  },
  {
   "cell_type": "markdown",
   "metadata": {},
   "source": [
    "## 区間演算（上端下端型）\n",
    "\n",
    "区間$\\boldsymbol{X}=[a,b]$, $\\boldsymbol{Y}=[c,d]$に対して，四則演算を定義する：\n",
    "\n",
    "\\begin{align*}\n",
    "\t\\boldsymbol{X}+\\boldsymbol{Y}&=[a+c,b+d]\\\\\n",
    "\t\\boldsymbol{X}-\\boldsymbol{Y}&=[a-d,b-c]\\\\\n",
    "\t\\boldsymbol{X}\\times\\boldsymbol{Y}&=[\\min\\{ac,ad,bc,bd\\},\\max\\{ac,ad,bc,bd\\}]\\\\\n",
    "\t\\boldsymbol{X}\\div\\boldsymbol{Y}&=[\\min\\{a/c,a/d,b/c,b/d\\},\\max\\{a/c,a/d,b/c,b/d\\}]\n",
    "\\end{align*}\n",
    "\n",
    "$\\times,~\\div$は場合分けをする．\n",
    "\n",
    "||$c>0$|$0\\in\\boldsymbol{Y}$|$d<0$|\n",
    "|:-------------:|:-------------:|:---------------:|:-------------:|\n",
    "|$a>0$|$[ac,bd]$|$[bc,bd]$|$[bc,ad]$|\n",
    "|$0\\in\\boldsymbol{X}$|$[ad,bd]$|$A$|$[bc,ac]$|\n",
    "|$b<0$|$[ad,bc]$|$[ad,ad]$|$[bd,ac]$|\n",
    "\n",
    "ただし $A=[\\min\\{ad,bc\\},\\max\\{ad,bc\\}].$\n",
    "\n",
    "注：区間内全ての要素について演算を行うため無限回の計算が必要のように思えるが，これをまとめて実現するのが区間演算．さらに除算で割る区間$\\boldsymbol{Y}$に0が含まれる（$0\\in\\boldsymbol{Y}$）と演算結果は無限大を含むことになる．\n"
   ]
  },
  {
   "cell_type": "code",
   "execution_count": 39,
   "metadata": {
    "tags": []
   },
   "outputs": [
    {
     "name": "stdout",
     "output_type": "stream",
     "text": [
      "Interval{Float64}(-1.0, 4.0, com)\n",
      "Interval{Float64}(-5.0, 0.0, com)\n",
      "Interval{Float64}(-6.0, 3.0, com)\n",
      "Interval{Float64}(-2.0, 1.0, com)\n",
      "Interval{Float64}(-Inf, Inf, trv)\n"
     ]
    }
   ],
   "source": [
    "X = interval(-2, 1)\n",
    "Y = interval(1, 3)\n",
    "\n",
    "println(X + Y)\n",
    "println(X - Y)\n",
    "println(X * Y)\n",
    "println(X / Y)\n",
    "println(Y / X)"
   ]
  },
  {
   "cell_type": "markdown",
   "metadata": {},
   "source": [
    "包含関係の単調性が成立する．すなわち $\\boldsymbol{X}_1\\subseteq \\boldsymbol{X}_2$ かつ $\\boldsymbol{Y}_1\\subseteq \\boldsymbol{Y}_2$ ならば $\\boldsymbol{X}_1\\circ\\boldsymbol{Y}_1\\subseteq \\boldsymbol{X}_2\\circ\\boldsymbol{Y}_2$ が成立する．ここで，$\\circ\\in\\{+,-,\\times,\\div\\}$とする．\n",
    "\n",
    "さらに $+$, $\\times$ に関しては，交換則と結合則が成立する．\n",
    "\n",
    "$$\n",
    "    \\boldsymbol{X}\\circ\\boldsymbol{Y}=\\boldsymbol{Y}\\circ\\boldsymbol{X},~\\boldsymbol{X}\\circ(\\boldsymbol{Y}\\circ\\boldsymbol{Z})=(\\boldsymbol{X}\\circ\\boldsymbol{Y})\\circ\\boldsymbol{Z},\\quad\\circ\\in\\{+,\\times\\}.\n",
    "$$\n",
    "\n",
    "しかし，加法と乗法の逆元は存在しない．すなわち分配則が成立しない．劣分配則のみ成立する．\n",
    "\n",
    "$$\n",
    "    \\boldsymbol{X}(\\boldsymbol{Y}+\\boldsymbol{Z})\\subseteq\\boldsymbol{X}\\boldsymbol{Y}+\\boldsymbol{X}\\boldsymbol{Z}.\n",
    "$$"
   ]
  },
  {
   "cell_type": "code",
   "execution_count": 41,
   "metadata": {},
   "outputs": [
    {
     "name": "stdout",
     "output_type": "stream",
     "text": [
      "Interval{Float64}(-3.0, 3.0, com)\n",
      "Interval{Float64}(-4.0, 4.0, com)\n",
      "true\n"
     ]
    }
   ],
   "source": [
    "X = interval(-1, 1)\n",
    "Y = interval(1, 2)\n",
    "Z = interval(-2, 1)\n",
    "\n",
    "println(X * (Y + Z))\n",
    "println(X * Y + X * Z)\n",
    "println(isinterior(X * (Y + Z) , X * Y + X * Z))"
   ]
  },
  {
   "cell_type": "markdown",
   "metadata": {},
   "source": [
    "## 中心半径型区間演算\n",
    "\n",
    "上端下端型区間の他に区間を中心と半径で表す型もある．それを**中心半径型区間**という．中心半径型（mid-rad 型）区間は実数 $x\\in\\mathbb{R}$ に対して，区間の中心を $x_c$，半径を $x_r$ としたとき\n",
    "\n",
    "$$\n",
    "    \\boldsymbol{x}=\\langle x_c,x_r\\rangle=\\left\\{x:x_c-x_r\\le x\\le x_c+x_r\\right\\}\n",
    "$$\n",
    "\n",
    "と表される．中心半径型区間と上端下端型区間の間には次のような関係が成り立つ：\n",
    "\n",
    "$$\n",
    "    \\boldsymbol{x}=[\\underline{x},\\overline{x}]=[x_c-x_r,x_c+x_r]=\\left\\langle\\frac{\\underline{x}+\\overline{x}}{2},\\frac{\\underline{x}-\\overline{x}}{2}\\right\\rangle=\\langle x_c,x_r\\rangle=\\boldsymbol{x}\n",
    "$$\n",
    "\n",
    "中心半径型区間 $\\boldsymbol{x}=\\langle x_c,x_r\\rangle$, $\\boldsymbol{y}=\\langle y_c,y_r\\rangle$ に対して，四則演算を定義する．\n",
    "\n",
    "\\begin{align*}\n",
    "    \\boldsymbol{x}+\\boldsymbol{y}&=\\langle x_c+y_c,x_r+y_r\\rangle\\\\\n",
    "    \\boldsymbol{x}-\\boldsymbol{y}&=\\langle x_c-y_c,x_r+y_r\\rangle\\\\\n",
    "    \\boldsymbol{x}\\times\\boldsymbol{y}&\\subseteq\\langle x_cy_c,|x_c|y_r+|y_c|x_r+x_ry_r\\rangle\\\\\n",
    "    \\boldsymbol{x}\\div\\boldsymbol{y}&=\\frac{\\boldsymbol{x}\\times\\boldsymbol{y}}{\\underline{y}\\overline{y}}=\\frac{\\boldsymbol{x}\\times\\boldsymbol{y}}{y_c^2-y_r^2}\n",
    "\\end{align*}\n",
    "\n",
    "ちなみに乗算は$\\mathop{sgn}(\\cdot)$を括弧内の符号を返す関数とすると\n",
    "\n",
    "$$\n",
    "    \\boldsymbol{x}\\times\\boldsymbol{y}=\\langle x_cy_c+\\delta_1,\\delta_2\\rangle\n",
    "$$\n",
    "\n",
    "と書ける．ここで\n",
    "\n",
    "$$\n",
    "    \\delta_1=\\mathop{sgn}(x_cy_c)\\min\\left\\{x_r|y_c|,|x_c|y_r,x_ry_r\\right\\}\n",
    "$$\n",
    "$$\n",
    "\\delta_2=\\max\\left\\{x_r(|y_c|+y_r),(|x_c|+x_r)y_r,x_r|y_c|+|x_c|y_r\\right\\}\n",
    "$$\n",
    "\n",
    "である．"
   ]
  },
  {
   "cell_type": "code",
   "execution_count": 46,
   "metadata": {},
   "outputs": [
    {
     "name": "stdout",
     "output_type": "stream",
     "text": [
      "Interval{Float64}(0.0, 3.0, com)\n",
      "Interval{Float64}(-3.0, 0.0, com)\n",
      "Interval{Float64}(-2.0, 2.0, com)\n",
      "Interval{Float64}(-1.0, 1.0, com)\n"
     ]
    }
   ],
   "source": [
    "X = interval(0, 1,format=:midpoint)\n",
    "Y = interval(1.5, 0.5, format=:midpoint)\n",
    "Z = interval(-0.5, 1.5,format=:midpoint)\n",
    "\n",
    "# @format midpoint 3\n",
    "println(X + Y)\n",
    "println(X - Y)\n",
    "println(X * Y)\n",
    "println(X / Y)"
   ]
  },
  {
   "cell_type": "markdown",
   "metadata": {},
   "source": [
    "## 関数の値域評価\n",
    "\n",
    "$ \\boldsymbol{I}\\in\\mathbb{IR}$をある区間とし，$f:D\\subset\\mathbb{R}\\to\\mathbb{R}$を領域 $D$ で連続な関数とする．\n",
    "このとき関数 $f$ は $\\mathbb{IR}$ 上の関数として拡張できる．\n",
    "\n",
    "$$\n",
    "\tf(\\boldsymbol{I})=\\{f(x):x\\in\\boldsymbol{I}\\}\n",
    "$$\n",
    "\n",
    "この $f(\\boldsymbol{I})$ は関数の値域で，これを厳密に計算することは非線形関数の場合不可能である．よって\n",
    "\n",
    "$$\n",
    "\tf(\\boldsymbol{I})\\subseteq [a,b]\n",
    "$$\n",
    "\n",
    "となる区間 $[a,b]$ で関数の値域を包含する．これを $f$ の区間 $\\boldsymbol{I}$ における**区間拡張**（区間拡張は一意的でないことに注意！）といい，$f_{[\\,]}(\\boldsymbol{I})=[a,b]$ と表す．\n",
    "\n",
    "**注意**　IEEE 754 標準規格における丸めに従っているのは「**四則演算・平方根**」だけ．それ以外の関数（例えば，$\\sin$，$\\cos$ などは）丸めの向きの\n",
    "変更が不可能（**自作するか，丸めに対応し作成されたものを使う**こと）．ただし，デフォルトの関数も精度が十分に高く作られているため，精度保証などを考えない場合はそれで十分．\n",
    "\n",
    "### 例\n",
    "\n",
    "例えば，関数 $f(x)=x^2+2x$ を考える．関数に区間を単純に代入すると\n",
    "\\begin{align*}\n",
    "\tx&\\in[0.9,1.1]\\\\\n",
    "\tx^2&\\in[0.81,1.21]\\\\\n",
    "\t2x&\\in[1.8,2.2]\\\\\n",
    "\tx^2+2x&\\in[2.61,3.41]\\\\\n",
    "\\end{align*}"
   ]
  },
  {
   "cell_type": "code",
   "execution_count": 64,
   "metadata": {
    "tags": []
   },
   "outputs": [
    {
     "name": "stdout",
     "output_type": "stream",
     "text": [
      "Interval{Float64}(2.6099999999999994, 3.4100000000000006, com)\n"
     ]
    },
    {
     "data": {
      "image/png": "[encoded data removed]",
      "image/svg+xml": [
       "<?xml version=\"1.0\" encoding=\"utf-8\"?>\n",
       "<svg xmlns=\"http://www.w3.org/2000/svg\" xmlns:xlink=\"http://www.w3.org/1999/xlink\" width=\"600\" height=\"400\" viewBox=\"0 0 2400 1600\">\n",
       "<defs>\n",
       "  <clipPath id=\"clip160\">\n",
       "    <rect x=\"0\" y=\"0\" width=\"2400\" height=\"1600\"/>\n",
       "  </clipPath>\n",
       "</defs>\n",
       "<path clip-path=\"url(#clip160)\" d=\"M0 1600 L2400 1600 L2400 8.88178e-14 L0 8.88178e-14  Z\" fill=\"#ffffff\" fill-rule=\"evenodd\" fill-opacity=\"1\"/>\n",
       "<defs>\n",
       "  <clipPath id=\"clip161\">\n",
       "    <rect x=\"480\" y=\"0\" width=\"1681\" height=\"1600\"/>\n",
       "  </clipPath>\n",
       "</defs>\n",
       "<path clip-path=\"url(#clip160)\" d=\"M202.227 1423.18 L2352.76 1423.18 L2352.76 47.2441 L202.227 47.2441  Z\" fill=\"#ffffff\" fill-rule=\"evenodd\" fill-opacity=\"1\"/>\n",
       "<defs>\n",
       "  <clipPath id=\"clip162\">\n",
       "    <rect x=\"202\" y=\"47\" width=\"2152\" height=\"1377\"/>\n",
       "  </clipPath>\n",
       "</defs>\n",
       "<polyline clip-path=\"url(#clip162)\" style=\"stroke:#000000; stroke-linecap:round; stroke-linejoin:round; stroke-width:2; stroke-opacity:0.1; fill:none\" points=\"263.091,1423.18 263.091,47.2441 \"/>\n",
       "<polyline clip-path=\"url(#clip162)\" style=\"stroke:#000000; stroke-linecap:round; stroke-linejoin:round; stroke-width:2; stroke-opacity:0.1; fill:none\" points=\"601.225,1423.18 601.225,47.2441 \"/>\n",
       "<polyline clip-path=\"url(#clip162)\" style=\"stroke:#000000; stroke-linecap:round; stroke-linejoin:round; stroke-width:2; stroke-opacity:0.1; fill:none\" points=\"939.358,1423.18 939.358,47.2441 \"/>\n",
       "<polyline clip-path=\"url(#clip162)\" style=\"stroke:#000000; stroke-linecap:round; stroke-linejoin:round; stroke-width:2; stroke-opacity:0.1; fill:none\" points=\"1277.49,1423.18 1277.49,47.2441 \"/>\n",
       "<polyline clip-path=\"url(#clip162)\" style=\"stroke:#000000; stroke-linecap:round; stroke-linejoin:round; stroke-width:2; stroke-opacity:0.1; fill:none\" points=\"1615.63,1423.18 1615.63,47.2441 \"/>\n",
       "<polyline clip-path=\"url(#clip162)\" style=\"stroke:#000000; stroke-linecap:round; stroke-linejoin:round; stroke-width:2; stroke-opacity:0.1; fill:none\" points=\"1953.76,1423.18 1953.76,47.2441 \"/>\n",
       "<polyline clip-path=\"url(#clip162)\" style=\"stroke:#000000; stroke-linecap:round; stroke-linejoin:round; stroke-width:2; stroke-opacity:0.1; fill:none\" points=\"2291.89,1423.18 2291.89,47.2441 \"/>\n",
       "<polyline clip-path=\"url(#clip160)\" style=\"stroke:#000000; stroke-linecap:round; stroke-linejoin:round; stroke-width:4; stroke-opacity:1; fill:none\" points=\"202.227,1423.18 2352.76,1423.18 \"/>\n",
       "<polyline clip-path=\"url(#clip160)\" style=\"stroke:#000000; stroke-linecap:round; stroke-linejoin:round; stroke-width:4; stroke-opacity:1; fill:none\" points=\"263.091,1423.18 263.091,1404.28 \"/>\n",
       "<polyline clip-path=\"url(#clip160)\" style=\"stroke:#000000; stroke-linecap:round; stroke-linejoin:round; stroke-width:4; stroke-opacity:1; fill:none\" points=\"601.225,1423.18 601.225,1404.28 \"/>\n",
       "<polyline clip-path=\"url(#clip160)\" style=\"stroke:#000000; stroke-linecap:round; stroke-linejoin:round; stroke-width:4; stroke-opacity:1; fill:none\" points=\"939.358,1423.18 939.358,1404.28 \"/>\n",
       "<polyline clip-path=\"url(#clip160)\" style=\"stroke:#000000; stroke-linecap:round; stroke-linejoin:round; stroke-width:4; stroke-opacity:1; fill:none\" points=\"1277.49,1423.18 1277.49,1404.28 \"/>\n",
       "<polyline clip-path=\"url(#clip160)\" style=\"stroke:#000000; stroke-linecap:round; stroke-linejoin:round; stroke-width:4; stroke-opacity:1; fill:none\" points=\"1615.63,1423.18 1615.63,1404.28 \"/>\n",
       "<polyline clip-path=\"url(#clip160)\" style=\"stroke:#000000; stroke-linecap:round; stroke-linejoin:round; stroke-width:4; stroke-opacity:1; fill:none\" points=\"1953.76,1423.18 1953.76,1404.28 \"/>\n",
       "<polyline clip-path=\"url(#clip160)\" style=\"stroke:#000000; stroke-linecap:round; stroke-linejoin:round; stroke-width:4; stroke-opacity:1; fill:none\" points=\"2291.89,1423.18 2291.89,1404.28 \"/>\n",
       "<path clip-path=\"url(#clip160)\" d=\"M232.559 1468.75 L262.235 1468.75 L262.235 1472.69 L232.559 1472.69 L232.559 1468.75 Z\" fill=\"#000000\" fill-rule=\"nonzero\" fill-opacity=\"1\" /><path clip-path=\"url(#clip160)\" d=\"M286.494 1466.95 Q289.851 1467.66 291.726 1469.93 Q293.624 1472.2 293.624 1475.53 Q293.624 1480.65 290.105 1483.45 Q286.587 1486.25 280.105 1486.25 Q277.929 1486.25 275.615 1485.81 Q273.323 1485.39 270.869 1484.54 L270.869 1480.02 Q272.814 1481.16 275.128 1481.74 Q277.443 1482.32 279.966 1482.32 Q284.365 1482.32 286.656 1480.58 Q288.971 1478.84 288.971 1475.53 Q288.971 1472.48 286.818 1470.77 Q284.689 1469.03 280.869 1469.03 L276.841 1469.03 L276.841 1465.19 L281.054 1465.19 Q284.503 1465.19 286.332 1463.82 Q288.161 1462.43 288.161 1459.84 Q288.161 1457.18 286.263 1455.77 Q284.388 1454.33 280.869 1454.33 Q278.948 1454.33 276.749 1454.75 Q274.55 1455.16 271.911 1456.04 L271.911 1451.88 Q274.573 1451.14 276.888 1450.77 Q279.226 1450.39 281.286 1450.39 Q286.61 1450.39 289.712 1452.83 Q292.814 1455.23 292.814 1459.35 Q292.814 1462.22 291.17 1464.21 Q289.527 1466.18 286.494 1466.95 Z\" fill=\"#000000\" fill-rule=\"nonzero\" fill-opacity=\"1\" /><path clip-path=\"url(#clip160)\" d=\"M571.167 1468.75 L600.843 1468.75 L600.843 1472.69 L571.167 1472.69 L571.167 1468.75 Z\" fill=\"#000000\" fill-rule=\"nonzero\" fill-opacity=\"1\" /><path clip-path=\"url(#clip160)\" d=\"M614.963 1481.64 L631.283 1481.64 L631.283 1485.58 L609.338 1485.58 L609.338 1481.64 Q612 1478.89 616.584 1474.26 Q621.19 1469.61 622.371 1468.27 Q624.616 1465.74 625.496 1464.01 Q626.398 1462.25 626.398 1460.56 Q626.398 1457.8 624.454 1456.07 Q622.533 1454.33 619.431 1454.33 Q617.232 1454.33 614.778 1455.09 Q612.348 1455.86 609.57 1457.41 L609.57 1452.69 Q612.394 1451.55 614.847 1450.97 Q617.301 1450.39 619.338 1450.39 Q624.709 1450.39 627.903 1453.08 Q631.097 1455.77 631.097 1460.26 Q631.097 1462.39 630.287 1464.31 Q629.5 1466.2 627.394 1468.8 Q626.815 1469.47 623.713 1472.69 Q620.611 1475.88 614.963 1481.64 Z\" fill=\"#000000\" fill-rule=\"nonzero\" fill-opacity=\"1\" /><path clip-path=\"url(#clip160)\" d=\"M909.115 1468.75 L938.791 1468.75 L938.791 1472.69 L909.115 1472.69 L909.115 1468.75 Z\" fill=\"#000000\" fill-rule=\"nonzero\" fill-opacity=\"1\" /><path clip-path=\"url(#clip160)\" d=\"M949.694 1481.64 L957.333 1481.64 L957.333 1455.28 L949.023 1456.95 L949.023 1452.69 L957.286 1451.02 L961.962 1451.02 L961.962 1481.64 L969.601 1481.64 L969.601 1485.58 L949.694 1485.58 L949.694 1481.64 Z\" fill=\"#000000\" fill-rule=\"nonzero\" fill-opacity=\"1\" /><path clip-path=\"url(#clip160)\" d=\"M1277.49 1454.1 Q1273.88 1454.1 1272.05 1457.66 Q1270.25 1461.2 1270.25 1468.33 Q1270.25 1475.44 1272.05 1479.01 Q1273.88 1482.55 1277.49 1482.55 Q1281.13 1482.55 1282.93 1479.01 Q1284.76 1475.44 1284.76 1468.33 Q1284.76 1461.2 1282.93 1457.66 Q1281.13 1454.1 1277.49 1454.1 M1277.49 1450.39 Q1283.3 1450.39 1286.36 1455 Q1289.44 1459.58 1289.44 1468.33 Q1289.44 1477.06 1286.36 1481.67 Q1283.3 1486.25 1277.49 1486.25 Q1271.68 1486.25 1268.6 1481.67 Q1265.55 1477.06 1265.55 1468.33 Q1265.55 1459.58 1268.6 1455 Q1271.68 1450.39 1277.49 1450.39 Z\" fill=\"#000000\" fill-rule=\"nonzero\" fill-opacity=\"1\" /><path clip-path=\"url(#clip160)\" d=\"M1606.01 1481.64 L1613.65 1481.64 L1613.65 1455.28 L1605.34 1456.95 L1605.34 1452.69 L1613.6 1451.02 L1618.28 1451.02 L1618.28 1481.64 L1625.91 1481.64 L1625.91 1485.58 L1606.01 1485.58 L1606.01 1481.64 Z\" fill=\"#000000\" fill-rule=\"nonzero\" fill-opacity=\"1\" /><path clip-path=\"url(#clip160)\" d=\"M1948.41 1481.64 L1964.73 1481.64 L1964.73 1485.58 L1942.79 1485.58 L1942.79 1481.64 Q1945.45 1478.89 1950.03 1474.26 Q1954.64 1469.61 1955.82 1468.27 Q1958.06 1465.74 1958.94 1464.01 Q1959.85 1462.25 1959.85 1460.56 Q1959.85 1457.8 1957.9 1456.07 Q1955.98 1454.33 1952.88 1454.33 Q1950.68 1454.33 1948.23 1455.09 Q1945.8 1455.86 1943.02 1457.41 L1943.02 1452.69 Q1945.84 1451.55 1948.3 1450.97 Q1950.75 1450.39 1952.79 1450.39 Q1958.16 1450.39 1961.35 1453.08 Q1964.55 1455.77 1964.55 1460.26 Q1964.55 1462.39 1963.74 1464.31 Q1962.95 1466.2 1960.84 1468.8 Q1960.26 1469.47 1957.16 1472.69 Q1954.06 1475.88 1948.41 1481.64 Z\" fill=\"#000000\" fill-rule=\"nonzero\" fill-opacity=\"1\" /><path clip-path=\"url(#clip160)\" d=\"M2296.14 1466.95 Q2299.5 1467.66 2301.37 1469.93 Q2303.27 1472.2 2303.27 1475.53 Q2303.27 1480.65 2299.75 1483.45 Q2296.23 1486.25 2289.75 1486.25 Q2287.57 1486.25 2285.26 1485.81 Q2282.97 1485.39 2280.51 1484.54 L2280.51 1480.02 Q2282.46 1481.16 2284.77 1481.74 Q2287.09 1482.32 2289.61 1482.32 Q2294.01 1482.32 2296.3 1480.58 Q2298.62 1478.84 2298.62 1475.53 Q2298.62 1472.48 2296.46 1470.77 Q2294.33 1469.03 2290.51 1469.03 L2286.49 1469.03 L2286.49 1465.19 L2290.7 1465.19 Q2294.15 1465.19 2295.98 1463.82 Q2297.81 1462.43 2297.81 1459.84 Q2297.81 1457.18 2295.91 1455.77 Q2294.03 1454.33 2290.51 1454.33 Q2288.59 1454.33 2286.39 1454.75 Q2284.2 1455.16 2281.56 1456.04 L2281.56 1451.88 Q2284.22 1451.14 2286.53 1450.77 Q2288.87 1450.39 2290.93 1450.39 Q2296.26 1450.39 2299.36 1452.83 Q2302.46 1455.23 2302.46 1459.35 Q2302.46 1462.22 2300.82 1464.21 Q2299.17 1466.18 2296.14 1466.95 Z\" fill=\"#000000\" fill-rule=\"nonzero\" fill-opacity=\"1\" /><path clip-path=\"url(#clip160)\" d=\"M1291.67 1528.8 Q1291.67 1530.61 1290.54 1531.64 Q1289.41 1532.64 1288.12 1532.64 Q1286.9 1532.64 1286.25 1531.93 Q1285.61 1531.22 1285.61 1530.32 Q1285.61 1529.09 1286.51 1528.03 Q1287.41 1526.97 1288.77 1526.74 Q1287.45 1525.91 1285.48 1525.91 Q1284.19 1525.91 1283.07 1526.58 Q1281.97 1527.26 1281.29 1528.13 Q1280.65 1529 1280.07 1530.25 Q1279.52 1531.48 1279.3 1532.22 Q1279.1 1532.93 1278.94 1533.7 L1276.69 1542.72 Q1275.59 1547 1275.59 1548.51 Q1275.59 1550.38 1276.5 1551.64 Q1277.4 1552.86 1279.2 1552.86 Q1279.91 1552.86 1280.72 1552.67 Q1281.52 1552.44 1282.55 1551.86 Q1283.61 1551.25 1284.55 1550.35 Q1285.51 1549.42 1286.45 1547.84 Q1287.38 1546.26 1287.99 1544.23 Q1288.19 1543.52 1288.83 1543.52 Q1289.64 1543.52 1289.64 1544.17 Q1289.64 1544.71 1289.19 1545.87 Q1288.77 1547 1287.83 1548.48 Q1286.93 1549.93 1285.74 1551.25 Q1284.55 1552.54 1282.78 1553.44 Q1281 1554.34 1279.07 1554.34 Q1276.3 1554.34 1274.47 1552.86 Q1272.63 1551.38 1271.96 1549.32 Q1271.79 1549.61 1271.57 1550 Q1271.34 1550.38 1270.67 1551.25 Q1270.02 1552.09 1269.28 1552.73 Q1268.54 1553.34 1267.38 1553.83 Q1266.25 1554.34 1265.03 1554.34 Q1263.48 1554.34 1262.1 1553.89 Q1260.75 1553.44 1259.78 1552.41 Q1258.82 1551.38 1258.82 1549.96 Q1258.82 1548.38 1259.88 1547.29 Q1260.97 1546.16 1262.45 1546.16 Q1263.39 1546.16 1264.13 1546.71 Q1264.9 1547.26 1264.9 1548.45 Q1264.9 1549.77 1264 1550.77 Q1263.1 1551.77 1261.81 1552.02 Q1263.13 1552.86 1265.1 1552.86 Q1267.22 1552.86 1268.9 1550.99 Q1270.57 1549.13 1271.38 1546 Q1273.37 1538.5 1274.15 1535.15 Q1274.92 1531.77 1274.92 1530.32 Q1274.92 1528.96 1274.56 1528.03 Q1274.21 1527.1 1273.6 1526.68 Q1273.02 1526.23 1272.47 1526.07 Q1271.96 1525.91 1271.38 1525.91 Q1270.41 1525.91 1269.31 1526.29 Q1268.25 1526.68 1266.96 1527.58 Q1265.71 1528.45 1264.52 1530.25 Q1263.32 1532.06 1262.52 1534.54 Q1262.36 1535.28 1261.65 1535.28 Q1260.88 1535.24 1260.88 1534.6 Q1260.88 1534.05 1261.29 1532.93 Q1261.75 1531.77 1262.65 1530.32 Q1263.58 1528.87 1264.77 1527.58 Q1266 1526.26 1267.77 1525.36 Q1269.57 1524.46 1271.5 1524.46 Q1272.37 1524.46 1273.21 1524.65 Q1274.08 1524.81 1275.11 1525.29 Q1276.17 1525.78 1277.11 1526.84 Q1278.04 1527.9 1278.62 1529.45 Q1279.01 1528.71 1279.52 1528 Q1280.07 1527.29 1280.91 1526.42 Q1281.78 1525.52 1282.97 1525 Q1284.19 1524.46 1285.55 1524.46 Q1286.87 1524.46 1288.15 1524.81 Q1289.44 1525.13 1290.54 1526.19 Q1291.67 1527.23 1291.67 1528.8 Z\" fill=\"#000000\" fill-rule=\"nonzero\" fill-opacity=\"1\" /><polyline clip-path=\"url(#clip162)\" style=\"stroke:#000000; stroke-linecap:round; stroke-linejoin:round; stroke-width:2; stroke-opacity:0.1; fill:none\" points=\"202.227,1303.11 2352.76,1303.11 \"/>\n",
       "<polyline clip-path=\"url(#clip162)\" style=\"stroke:#000000; stroke-linecap:round; stroke-linejoin:round; stroke-width:2; stroke-opacity:0.1; fill:none\" points=\"202.227,897.469 2352.76,897.469 \"/>\n",
       "<polyline clip-path=\"url(#clip162)\" style=\"stroke:#000000; stroke-linecap:round; stroke-linejoin:round; stroke-width:2; stroke-opacity:0.1; fill:none\" points=\"202.227,491.827 2352.76,491.827 \"/>\n",
       "<polyline clip-path=\"url(#clip162)\" style=\"stroke:#000000; stroke-linecap:round; stroke-linejoin:round; stroke-width:2; stroke-opacity:0.1; fill:none\" points=\"202.227,86.1857 2352.76,86.1857 \"/>\n",
       "<polyline clip-path=\"url(#clip160)\" style=\"stroke:#000000; stroke-linecap:round; stroke-linejoin:round; stroke-width:4; stroke-opacity:1; fill:none\" points=\"202.227,1423.18 202.227,47.2441 \"/>\n",
       "<polyline clip-path=\"url(#clip160)\" style=\"stroke:#000000; stroke-linecap:round; stroke-linejoin:round; stroke-width:4; stroke-opacity:1; fill:none\" points=\"202.227,1303.11 221.125,1303.11 \"/>\n",
       "<polyline clip-path=\"url(#clip160)\" style=\"stroke:#000000; stroke-linecap:round; stroke-linejoin:round; stroke-width:4; stroke-opacity:1; fill:none\" points=\"202.227,897.469 221.125,897.469 \"/>\n",
       "<polyline clip-path=\"url(#clip160)\" style=\"stroke:#000000; stroke-linecap:round; stroke-linejoin:round; stroke-width:4; stroke-opacity:1; fill:none\" points=\"202.227,491.827 221.125,491.827 \"/>\n",
       "<polyline clip-path=\"url(#clip160)\" style=\"stroke:#000000; stroke-linecap:round; stroke-linejoin:round; stroke-width:4; stroke-opacity:1; fill:none\" points=\"202.227,86.1857 221.125,86.1857 \"/>\n",
       "<path clip-path=\"url(#clip160)\" d=\"M154.283 1288.91 Q150.672 1288.91 148.843 1292.47 Q147.038 1296.02 147.038 1303.14 Q147.038 1310.25 148.843 1313.82 Q150.672 1317.36 154.283 1317.36 Q157.917 1317.36 159.723 1313.82 Q161.552 1310.25 161.552 1303.14 Q161.552 1296.02 159.723 1292.47 Q157.917 1288.91 154.283 1288.91 M154.283 1285.2 Q160.093 1285.2 163.149 1289.81 Q166.227 1294.39 166.227 1303.14 Q166.227 1311.87 163.149 1316.48 Q160.093 1321.06 154.283 1321.06 Q148.473 1321.06 145.394 1316.48 Q142.339 1311.87 142.339 1303.14 Q142.339 1294.39 145.394 1289.81 Q148.473 1285.2 154.283 1285.2 Z\" fill=\"#000000\" fill-rule=\"nonzero\" fill-opacity=\"1\" /><path clip-path=\"url(#clip160)\" d=\"M145.325 880.189 L163.681 880.189 L163.681 884.124 L149.607 884.124 L149.607 892.596 Q150.626 892.249 151.644 892.087 Q152.663 891.901 153.681 891.901 Q159.468 891.901 162.848 895.073 Q166.227 898.244 166.227 903.661 Q166.227 909.239 162.755 912.341 Q159.283 915.42 152.964 915.42 Q150.788 915.42 148.519 915.049 Q146.274 914.679 143.866 913.938 L143.866 909.239 Q145.95 910.374 148.172 910.929 Q150.394 911.485 152.871 911.485 Q156.876 911.485 159.214 909.378 Q161.552 907.272 161.552 903.661 Q161.552 900.05 159.214 897.943 Q156.876 895.837 152.871 895.837 Q150.996 895.837 149.121 896.253 Q147.269 896.67 145.325 897.55 L145.325 880.189 Z\" fill=\"#000000\" fill-rule=\"nonzero\" fill-opacity=\"1\" /><path clip-path=\"url(#clip160)\" d=\"M114.931 505.172 L122.57 505.172 L122.57 478.806 L114.26 480.473 L114.26 476.214 L122.524 474.547 L127.2 474.547 L127.2 505.172 L134.839 505.172 L134.839 509.107 L114.931 509.107 L114.931 505.172 Z\" fill=\"#000000\" fill-rule=\"nonzero\" fill-opacity=\"1\" /><path clip-path=\"url(#clip160)\" d=\"M154.283 477.626 Q150.672 477.626 148.843 481.191 Q147.038 484.732 147.038 491.862 Q147.038 498.968 148.843 502.533 Q150.672 506.075 154.283 506.075 Q157.917 506.075 159.723 502.533 Q161.552 498.968 161.552 491.862 Q161.552 484.732 159.723 481.191 Q157.917 477.626 154.283 477.626 M154.283 473.922 Q160.093 473.922 163.149 478.529 Q166.227 483.112 166.227 491.862 Q166.227 500.589 163.149 505.195 Q160.093 509.778 154.283 509.778 Q148.473 509.778 145.394 505.195 Q142.339 500.589 142.339 491.862 Q142.339 483.112 145.394 478.529 Q148.473 473.922 154.283 473.922 Z\" fill=\"#000000\" fill-rule=\"nonzero\" fill-opacity=\"1\" /><path clip-path=\"url(#clip160)\" d=\"M115.927 99.5305 L123.566 99.5305 L123.566 73.1649 L115.256 74.8316 L115.256 70.5723 L123.519 68.9057 L128.195 68.9057 L128.195 99.5305 L135.834 99.5305 L135.834 103.466 L115.927 103.466 L115.927 99.5305 Z\" fill=\"#000000\" fill-rule=\"nonzero\" fill-opacity=\"1\" /><path clip-path=\"url(#clip160)\" d=\"M145.325 68.9057 L163.681 68.9057 L163.681 72.8408 L149.607 72.8408 L149.607 81.313 Q150.626 80.9658 151.644 80.8038 Q152.663 80.6186 153.681 80.6186 Q159.468 80.6186 162.848 83.7899 Q166.227 86.9611 166.227 92.3778 Q166.227 97.9564 162.755 101.058 Q159.283 104.137 152.964 104.137 Q150.788 104.137 148.519 103.767 Q146.274 103.396 143.866 102.655 L143.866 97.9564 Q145.95 99.0907 148.172 99.6462 Q150.394 100.202 152.871 100.202 Q156.876 100.202 159.214 98.0953 Q161.552 95.9889 161.552 92.3778 Q161.552 88.7667 159.214 86.6602 Q156.876 84.5537 152.871 84.5537 Q150.996 84.5537 149.121 84.9704 Q147.269 85.3871 145.325 86.2667 L145.325 68.9057 Z\" fill=\"#000000\" fill-rule=\"nonzero\" fill-opacity=\"1\" /><path clip-path=\"url(#clip160)\" d=\"M24.1199 765.105 Q25.8912 765.105 26.9862 766.232 Q28.0812 767.327 28.0812 768.712 Q28.0812 769.71 27.4693 770.451 Q26.8574 771.159 25.7946 771.159 Q24.6996 771.159 23.5402 770.322 Q22.3807 769.485 22.2197 767.585 Q21.0281 768.841 21.0281 770.837 Q21.0281 771.836 21.6722 772.673 Q22.2841 773.478 23.2825 773.929 Q24.3131 774.412 30.1424 775.507 Q32.0425 775.861 33.8782 776.184 Q35.714 776.506 37.6463 776.892 L37.6463 771.417 Q37.6463 770.709 37.6785 770.419 Q37.7107 770.129 37.8718 769.903 Q38.0328 769.646 38.3871 769.646 Q39.2888 769.646 39.5143 770.064 Q39.7075 770.451 39.7075 771.61 L39.7075 777.279 L60.6091 781.24 Q61.221 781.336 63.1534 781.755 Q65.0535 782.142 68.1775 783.076 Q71.3337 784.01 73.2016 784.944 Q74.2644 785.459 75.2628 786.135 Q76.2934 786.779 77.3239 787.713 Q78.3545 788.647 78.9664 789.871 Q79.6106 791.095 79.6106 792.383 Q79.6106 794.573 78.3867 796.28 Q77.1629 797.987 75.0695 797.987 Q73.2982 797.987 72.2032 796.892 Q71.1082 795.765 71.1082 794.38 Q71.1082 793.381 71.7201 792.673 Q72.332 791.932 73.3948 791.932 Q73.8457 791.932 74.361 792.093 Q74.8763 792.254 75.456 792.609 Q76.0679 792.963 76.4866 793.736 Q76.9053 794.509 76.9697 795.571 Q78.1613 794.315 78.1613 792.383 Q78.1613 791.771 77.9036 791.224 Q77.6782 790.676 77.0985 790.225 Q76.5188 789.742 75.9391 789.388 Q75.3916 789.034 74.3288 788.679 Q73.2982 788.325 72.5253 788.1 Q71.7523 787.874 70.3675 787.584 Q68.9826 787.262 68.1453 787.101 Q67.3401 786.94 65.762 786.65 L39.7075 781.723 L39.7075 786.071 Q39.7075 786.844 39.6753 787.166 Q39.6431 787.456 39.4821 787.681 Q39.2888 787.906 38.9023 787.906 Q38.2904 787.906 38.0328 787.649 Q37.7429 787.359 37.7107 787.037 Q37.6463 786.715 37.6463 785.942 L37.6463 781.369 Q29.4982 779.823 27.3082 779.211 Q24.9894 778.502 23.3791 777.407 Q21.7366 776.312 20.9637 775.089 Q20.1907 773.865 19.9009 772.866 Q19.5788 771.836 19.5788 770.837 Q19.5788 768.583 20.8027 766.844 Q21.9943 765.105 24.1199 765.105 Z\" fill=\"#000000\" fill-rule=\"nonzero\" fill-opacity=\"1\" /><path clip-path=\"url(#clip160)\" d=\"M49.5947 757.277 Q38.4515 757.277 29.466 753.122 Q25.6979 751.351 22.5418 748.871 Q19.3856 746.391 18.0007 744.749 Q16.6159 743.106 16.6159 742.656 Q16.6159 742.011 17.26 741.979 Q17.5821 741.979 18.3872 742.849 Q29.2084 753.477 49.5947 753.445 Q70.0454 753.445 80.4479 743.106 Q81.5751 741.979 81.9294 741.979 Q82.5735 741.979 82.5735 742.656 Q82.5735 743.106 81.2531 744.685 Q79.9326 746.263 76.9053 748.71 Q73.8779 751.158 70.1742 752.929 Q61.1888 757.277 49.5947 757.277 Z\" fill=\"#000000\" fill-rule=\"nonzero\" fill-opacity=\"1\" /><path clip-path=\"url(#clip160)\" d=\"M41.2856 704.116 Q43.0891 704.116 44.1197 705.243 Q45.1181 706.37 45.1181 707.658 Q45.1181 708.882 44.4096 709.526 Q43.701 710.17 42.7993 710.17 Q41.5754 710.17 40.5126 709.269 Q39.4498 708.367 39.2244 707.014 Q38.3871 708.335 38.3871 710.299 Q38.3871 711.587 39.0634 712.715 Q39.7397 713.81 40.6093 714.486 Q41.4788 715.13 42.7348 715.71 Q43.9587 716.257 44.6994 716.483 Q45.4079 716.676 46.1809 716.837 L55.1985 719.091 Q59.4819 720.186 60.9956 720.186 Q62.8635 720.186 64.1195 719.285 Q65.3434 718.383 65.3434 716.579 Q65.3434 715.871 65.1501 715.066 Q64.9247 714.26 64.345 713.23 Q63.7331 712.167 62.8313 711.233 Q61.8973 710.267 60.3192 709.333 Q58.7412 708.399 56.7122 707.787 Q56.0037 707.594 56.0037 706.95 Q56.0037 706.145 56.6478 706.145 Q57.1953 706.145 58.3547 706.595 Q59.4819 707.014 60.9634 707.948 Q62.4126 708.85 63.7331 710.041 Q65.0213 711.233 65.9231 713.004 Q66.8248 714.776 66.8248 716.708 Q66.8248 719.478 65.3434 721.314 Q63.8619 723.149 61.8007 723.826 Q62.0906 723.987 62.477 724.212 Q62.8635 724.438 63.7331 725.114 Q64.5704 725.758 65.2145 726.499 Q65.8264 727.239 66.3095 728.399 Q66.8248 729.526 66.8248 730.75 Q66.8248 732.296 66.3739 733.681 Q65.9231 735.033 64.8925 735.999 Q63.8619 736.966 62.4448 736.966 Q60.8667 736.966 59.7717 735.903 Q58.6445 734.808 58.6445 733.326 Q58.6445 732.392 59.192 731.652 Q59.7395 730.879 60.9312 730.879 Q62.2516 730.879 63.25 731.78 Q64.2484 732.682 64.506 733.97 Q65.3434 732.65 65.3434 730.685 Q65.3434 728.56 63.4754 726.885 Q61.6075 725.21 58.4835 724.405 Q50.9795 722.409 47.6301 721.636 Q44.2485 720.863 42.7993 720.863 Q41.4466 720.863 40.5126 721.217 Q39.5787 721.571 39.16 722.183 Q38.7091 722.763 38.5481 723.31 Q38.3871 723.826 38.3871 724.405 Q38.3871 725.371 38.7735 726.466 Q39.16 727.529 40.0618 728.818 Q40.9313 730.074 42.7348 731.265 Q44.5384 732.457 47.0182 733.262 Q47.759 733.423 47.759 734.131 Q47.7268 734.904 47.0826 734.904 Q46.5351 734.904 45.4079 734.486 Q44.2485 734.035 42.7993 733.133 Q41.35 732.199 40.0618 731.008 Q38.7413 729.784 37.8396 728.012 Q36.9378 726.209 36.9378 724.276 Q36.9378 723.407 37.131 722.57 Q37.2921 721.7 37.7751 720.669 Q38.2582 719.607 39.321 718.673 Q40.3838 717.739 41.9297 717.159 Q41.189 716.773 40.4804 716.257 Q39.7719 715.71 38.9023 714.872 Q38.0006 714.003 37.4853 712.811 Q36.9378 711.587 36.9378 710.235 Q36.9378 708.914 37.2921 707.626 Q37.6141 706.338 38.6769 705.243 Q39.7075 704.116 41.2856 704.116 Z\" fill=\"#000000\" fill-rule=\"nonzero\" fill-opacity=\"1\" /><path clip-path=\"url(#clip160)\" d=\"M81.9294 697.764 Q81.6073 697.764 80.8022 696.927 Q69.981 686.299 49.5947 686.299 Q29.144 686.299 18.8059 696.508 Q17.6143 697.764 17.26 697.764 Q16.6159 697.764 16.6159 697.12 Q16.6159 696.669 17.9363 695.091 Q19.2568 693.481 22.2841 691.066 Q25.3115 688.618 29.0151 686.814 Q38.0006 682.467 49.5947 682.467 Q60.7379 682.467 69.7234 686.621 Q73.4914 688.393 76.6476 690.872 Q79.8038 693.352 81.1886 694.995 Q82.5735 696.637 82.5735 697.12 Q82.5735 697.764 81.9294 697.764 Z\" fill=\"#000000\" fill-rule=\"nonzero\" fill-opacity=\"1\" /><polyline clip-path=\"url(#clip162)\" style=\"stroke:#009af9; stroke-linecap:round; stroke-linejoin:round; stroke-width:8; stroke-opacity:1; fill:none\" points=\"263.091,1059.73 296.905,1091.37 330.718,1121.38 364.532,1149.78 398.345,1176.55 432.158,1201.7 465.972,1225.23 499.785,1247.13 533.598,1267.41 567.412,1286.07 601.225,1303.11 635.038,1318.52 668.852,1332.32 702.665,1344.49 736.478,1355.03 770.292,1363.96 804.105,1371.26 837.918,1376.94 871.732,1380.99 905.545,1383.43 939.358,1384.24 973.172,1383.43 1006.98,1380.99 1040.8,1376.94 1074.61,1371.26 1108.42,1363.96 1142.24,1355.03 1176.05,1344.49 1209.87,1332.32 1243.68,1318.52 1277.49,1303.11 1311.31,1286.07 1345.12,1267.41 1378.93,1247.13 1412.75,1225.23 1446.56,1201.7 1480.37,1176.55 1514.19,1149.78 1548,1121.38 1581.81,1091.37 1615.63,1059.73 1649.44,1026.46 1683.25,991.577 1717.07,955.07 1750.88,916.939 1784.69,877.186 1818.51,835.811 1852.32,792.813 1886.13,748.192 1919.95,701.949 1953.76,654.084 1987.57,604.595 2021.39,553.485 2055.2,500.751 2089.01,446.395 2122.83,390.417 2156.64,332.816 2190.45,273.592 2224.27,212.746 2258.08,150.277 2291.89,86.1857 \"/>\n",
       "</svg>\n"
      ],
      "text/html": [
       "<?xml version=\"1.0\" encoding=\"utf-8\"?>\n",
       "<svg xmlns=\"http://www.w3.org/2000/svg\" xmlns:xlink=\"http://www.w3.org/1999/xlink\" width=\"600\" height=\"400\" viewBox=\"0 0 2400 1600\">\n",
       "<defs>\n",
       "  <clipPath id=\"clip210\">\n",
       "    <rect x=\"0\" y=\"0\" width=\"2400\" height=\"1600\"/>\n",
       "  </clipPath>\n",
       "</defs>\n",
       "<path clip-path=\"url(#clip210)\" d=\"M0 1600 L2400 1600 L2400 8.88178e-14 L0 8.88178e-14  Z\" fill=\"#ffffff\" fill-rule=\"evenodd\" fill-opacity=\"1\"/>\n",
       "<defs>\n",
       "  <clipPath id=\"clip211\">\n",
       "    <rect x=\"480\" y=\"0\" width=\"1681\" height=\"1600\"/>\n",
       "  </clipPath>\n",
       "</defs>\n",
       "<path clip-path=\"url(#clip210)\" d=\"M202.227 1423.18 L2352.76 1423.18 L2352.76 47.2441 L202.227 47.2441  Z\" fill=\"#ffffff\" fill-rule=\"evenodd\" fill-opacity=\"1\"/>\n",
       "<defs>\n",
       "  <clipPath id=\"clip212\">\n",
       "    <rect x=\"202\" y=\"47\" width=\"2152\" height=\"1377\"/>\n",
       "  </clipPath>\n",
       "</defs>\n",
       "<polyline clip-path=\"url(#clip212)\" style=\"stroke:#000000; stroke-linecap:round; stroke-linejoin:round; stroke-width:2; stroke-opacity:0.1; fill:none\" points=\"263.091,1423.18 263.091,47.2441 \"/>\n",
       "<polyline clip-path=\"url(#clip212)\" style=\"stroke:#000000; stroke-linecap:round; stroke-linejoin:round; stroke-width:2; stroke-opacity:0.1; fill:none\" points=\"601.225,1423.18 601.225,47.2441 \"/>\n",
       "<polyline clip-path=\"url(#clip212)\" style=\"stroke:#000000; stroke-linecap:round; stroke-linejoin:round; stroke-width:2; stroke-opacity:0.1; fill:none\" points=\"939.358,1423.18 939.358,47.2441 \"/>\n",
       "<polyline clip-path=\"url(#clip212)\" style=\"stroke:#000000; stroke-linecap:round; stroke-linejoin:round; stroke-width:2; stroke-opacity:0.1; fill:none\" points=\"1277.49,1423.18 1277.49,47.2441 \"/>\n",
       "<polyline clip-path=\"url(#clip212)\" style=\"stroke:#000000; stroke-linecap:round; stroke-linejoin:round; stroke-width:2; stroke-opacity:0.1; fill:none\" points=\"1615.63,1423.18 1615.63,47.2441 \"/>\n",
       "<polyline clip-path=\"url(#clip212)\" style=\"stroke:#000000; stroke-linecap:round; stroke-linejoin:round; stroke-width:2; stroke-opacity:0.1; fill:none\" points=\"1953.76,1423.18 1953.76,47.2441 \"/>\n",
       "<polyline clip-path=\"url(#clip212)\" style=\"stroke:#000000; stroke-linecap:round; stroke-linejoin:round; stroke-width:2; stroke-opacity:0.1; fill:none\" points=\"2291.89,1423.18 2291.89,47.2441 \"/>\n",
       "<polyline clip-path=\"url(#clip210)\" style=\"stroke:#000000; stroke-linecap:round; stroke-linejoin:round; stroke-width:4; stroke-opacity:1; fill:none\" points=\"202.227,1423.18 2352.76,1423.18 \"/>\n",
       "<polyline clip-path=\"url(#clip210)\" style=\"stroke:#000000; stroke-linecap:round; stroke-linejoin:round; stroke-width:4; stroke-opacity:1; fill:none\" points=\"263.091,1423.18 263.091,1404.28 \"/>\n",
       "<polyline clip-path=\"url(#clip210)\" style=\"stroke:#000000; stroke-linecap:round; stroke-linejoin:round; stroke-width:4; stroke-opacity:1; fill:none\" points=\"601.225,1423.18 601.225,1404.28 \"/>\n",
       "<polyline clip-path=\"url(#clip210)\" style=\"stroke:#000000; stroke-linecap:round; stroke-linejoin:round; stroke-width:4; stroke-opacity:1; fill:none\" points=\"939.358,1423.18 939.358,1404.28 \"/>\n",
       "<polyline clip-path=\"url(#clip210)\" style=\"stroke:#000000; stroke-linecap:round; stroke-linejoin:round; stroke-width:4; stroke-opacity:1; fill:none\" points=\"1277.49,1423.18 1277.49,1404.28 \"/>\n",
       "<polyline clip-path=\"url(#clip210)\" style=\"stroke:#000000; stroke-linecap:round; stroke-linejoin:round; stroke-width:4; stroke-opacity:1; fill:none\" points=\"1615.63,1423.18 1615.63,1404.28 \"/>\n",
       "<polyline clip-path=\"url(#clip210)\" style=\"stroke:#000000; stroke-linecap:round; stroke-linejoin:round; stroke-width:4; stroke-opacity:1; fill:none\" points=\"1953.76,1423.18 1953.76,1404.28 \"/>\n",
       "<polyline clip-path=\"url(#clip210)\" style=\"stroke:#000000; stroke-linecap:round; stroke-linejoin:round; stroke-width:4; stroke-opacity:1; fill:none\" points=\"2291.89,1423.18 2291.89,1404.28 \"/>\n",
       "<path clip-path=\"url(#clip210)\" d=\"M232.559 1468.75 L262.235 1468.75 L262.235 1472.69 L232.559 1472.69 L232.559 1468.75 Z\" fill=\"#000000\" fill-rule=\"nonzero\" fill-opacity=\"1\" /><path clip-path=\"url(#clip210)\" d=\"M286.494 1466.95 Q289.851 1467.66 291.726 1469.93 Q293.624 1472.2 293.624 1475.53 Q293.624 1480.65 290.105 1483.45 Q286.587 1486.25 280.105 1486.25 Q277.929 1486.25 275.615 1485.81 Q273.323 1485.39 270.869 1484.54 L270.869 1480.02 Q272.814 1481.16 275.128 1481.74 Q277.443 1482.32 279.966 1482.32 Q284.365 1482.32 286.656 1480.58 Q288.971 1478.84 288.971 1475.53 Q288.971 1472.48 286.818 1470.77 Q284.689 1469.03 280.869 1469.03 L276.841 1469.03 L276.841 1465.19 L281.054 1465.19 Q284.503 1465.19 286.332 1463.82 Q288.161 1462.43 288.161 1459.84 Q288.161 1457.18 286.263 1455.77 Q284.388 1454.33 280.869 1454.33 Q278.948 1454.33 276.749 1454.75 Q274.55 1455.16 271.911 1456.04 L271.911 1451.88 Q274.573 1451.14 276.888 1450.77 Q279.226 1450.39 281.286 1450.39 Q286.61 1450.39 289.712 1452.83 Q292.814 1455.23 292.814 1459.35 Q292.814 1462.22 291.17 1464.21 Q289.527 1466.18 286.494 1466.95 Z\" fill=\"#000000\" fill-rule=\"nonzero\" fill-opacity=\"1\" /><path clip-path=\"url(#clip210)\" d=\"M571.167 1468.75 L600.843 1468.75 L600.843 1472.69 L571.167 1472.69 L571.167 1468.75 Z\" fill=\"#000000\" fill-rule=\"nonzero\" fill-opacity=\"1\" /><path clip-path=\"url(#clip210)\" d=\"M614.963 1481.64 L631.283 1481.64 L631.283 1485.58 L609.338 1485.58 L609.338 1481.64 Q612 1478.89 616.584 1474.26 Q621.19 1469.61 622.371 1468.27 Q624.616 1465.74 625.496 1464.01 Q626.398 1462.25 626.398 1460.56 Q626.398 1457.8 624.454 1456.07 Q622.533 1454.33 619.431 1454.33 Q617.232 1454.33 614.778 1455.09 Q612.348 1455.86 609.57 1457.41 L609.57 1452.69 Q612.394 1451.55 614.847 1450.97 Q617.301 1450.39 619.338 1450.39 Q624.709 1450.39 627.903 1453.08 Q631.097 1455.77 631.097 1460.26 Q631.097 1462.39 630.287 1464.31 Q629.5 1466.2 627.394 1468.8 Q626.815 1469.47 623.713 1472.69 Q620.611 1475.88 614.963 1481.64 Z\" fill=\"#000000\" fill-rule=\"nonzero\" fill-opacity=\"1\" /><path clip-path=\"url(#clip210)\" d=\"M909.115 1468.75 L938.791 1468.75 L938.791 1472.69 L909.115 1472.69 L909.115 1468.75 Z\" fill=\"#000000\" fill-rule=\"nonzero\" fill-opacity=\"1\" /><path clip-path=\"url(#clip210)\" d=\"M949.694 1481.64 L957.333 1481.64 L957.333 1455.28 L949.023 1456.95 L949.023 1452.69 L957.286 1451.02 L961.962 1451.02 L961.962 1481.64 L969.601 1481.64 L969.601 1485.58 L949.694 1485.58 L949.694 1481.64 Z\" fill=\"#000000\" fill-rule=\"nonzero\" fill-opacity=\"1\" /><path clip-path=\"url(#clip210)\" d=\"M1277.49 1454.1 Q1273.88 1454.1 1272.05 1457.66 Q1270.25 1461.2 1270.25 1468.33 Q1270.25 1475.44 1272.05 1479.01 Q1273.88 1482.55 1277.49 1482.55 Q1281.13 1482.55 1282.93 1479.01 Q1284.76 1475.44 1284.76 1468.33 Q1284.76 1461.2 1282.93 1457.66 Q1281.13 1454.1 1277.49 1454.1 M1277.49 1450.39 Q1283.3 1450.39 1286.36 1455 Q1289.44 1459.58 1289.44 1468.33 Q1289.44 1477.06 1286.36 1481.67 Q1283.3 1486.25 1277.49 1486.25 Q1271.68 1486.25 1268.6 1481.67 Q1265.55 1477.06 1265.55 1468.33 Q1265.55 1459.58 1268.6 1455 Q1271.68 1450.39 1277.49 1450.39 Z\" fill=\"#000000\" fill-rule=\"nonzero\" fill-opacity=\"1\" /><path clip-path=\"url(#clip210)\" d=\"M1606.01 1481.64 L1613.65 1481.64 L1613.65 1455.28 L1605.34 1456.95 L1605.34 1452.69 L1613.6 1451.02 L1618.28 1451.02 L1618.28 1481.64 L1625.91 1481.64 L1625.91 1485.58 L1606.01 1485.58 L1606.01 1481.64 Z\" fill=\"#000000\" fill-rule=\"nonzero\" fill-opacity=\"1\" /><path clip-path=\"url(#clip210)\" d=\"M1948.41 1481.64 L1964.73 1481.64 L1964.73 1485.58 L1942.79 1485.58 L1942.79 1481.64 Q1945.45 1478.89 1950.03 1474.26 Q1954.64 1469.61 1955.82 1468.27 Q1958.06 1465.74 1958.94 1464.01 Q1959.85 1462.25 1959.85 1460.56 Q1959.85 1457.8 1957.9 1456.07 Q1955.98 1454.33 1952.88 1454.33 Q1950.68 1454.33 1948.23 1455.09 Q1945.8 1455.86 1943.02 1457.41 L1943.02 1452.69 Q1945.84 1451.55 1948.3 1450.97 Q1950.75 1450.39 1952.79 1450.39 Q1958.16 1450.39 1961.35 1453.08 Q1964.55 1455.77 1964.55 1460.26 Q1964.55 1462.39 1963.74 1464.31 Q1962.95 1466.2 1960.84 1468.8 Q1960.26 1469.47 1957.16 1472.69 Q1954.06 1475.88 1948.41 1481.64 Z\" fill=\"#000000\" fill-rule=\"nonzero\" fill-opacity=\"1\" /><path clip-path=\"url(#clip210)\" d=\"M2296.14 1466.95 Q2299.5 1467.66 2301.37 1469.93 Q2303.27 1472.2 2303.27 1475.53 Q2303.27 1480.65 2299.75 1483.45 Q2296.23 1486.25 2289.75 1486.25 Q2287.57 1486.25 2285.26 1485.81 Q2282.97 1485.39 2280.51 1484.54 L2280.51 1480.02 Q2282.46 1481.16 2284.77 1481.74 Q2287.09 1482.32 2289.61 1482.32 Q2294.01 1482.32 2296.3 1480.58 Q2298.62 1478.84 2298.62 1475.53 Q2298.62 1472.48 2296.46 1470.77 Q2294.33 1469.03 2290.51 1469.03 L2286.49 1469.03 L2286.49 1465.19 L2290.7 1465.19 Q2294.15 1465.19 2295.98 1463.82 Q2297.81 1462.43 2297.81 1459.84 Q2297.81 1457.18 2295.91 1455.77 Q2294.03 1454.33 2290.51 1454.33 Q2288.59 1454.33 2286.39 1454.75 Q2284.2 1455.16 2281.56 1456.04 L2281.56 1451.88 Q2284.22 1451.14 2286.53 1450.77 Q2288.87 1450.39 2290.93 1450.39 Q2296.26 1450.39 2299.36 1452.83 Q2302.46 1455.23 2302.46 1459.35 Q2302.46 1462.22 2300.82 1464.21 Q2299.17 1466.18 2296.14 1466.95 Z\" fill=\"#000000\" fill-rule=\"nonzero\" fill-opacity=\"1\" /><path clip-path=\"url(#clip210)\" d=\"M1291.67 1528.8 Q1291.67 1530.61 1290.54 1531.64 Q1289.41 1532.64 1288.12 1532.64 Q1286.9 1532.64 1286.25 1531.93 Q1285.61 1531.22 1285.61 1530.32 Q1285.61 1529.09 1286.51 1528.03 Q1287.41 1526.97 1288.77 1526.74 Q1287.45 1525.91 1285.48 1525.91 Q1284.19 1525.91 1283.07 1526.58 Q1281.97 1527.26 1281.29 1528.13 Q1280.65 1529 1280.07 1530.25 Q1279.52 1531.48 1279.3 1532.22 Q1279.1 1532.93 1278.94 1533.7 L1276.69 1542.72 Q1275.59 1547 1275.59 1548.51 Q1275.59 1550.38 1276.5 1551.64 Q1277.4 1552.86 1279.2 1552.86 Q1279.91 1552.86 1280.72 1552.67 Q1281.52 1552.44 1282.55 1551.86 Q1283.61 1551.25 1284.55 1550.35 Q1285.51 1549.42 1286.45 1547.84 Q1287.38 1546.26 1287.99 1544.23 Q1288.19 1543.52 1288.83 1543.52 Q1289.64 1543.52 1289.64 1544.17 Q1289.64 1544.71 1289.19 1545.87 Q1288.77 1547 1287.83 1548.48 Q1286.93 1549.93 1285.74 1551.25 Q1284.55 1552.54 1282.78 1553.44 Q1281 1554.34 1279.07 1554.34 Q1276.3 1554.34 1274.47 1552.86 Q1272.63 1551.38 1271.96 1549.32 Q1271.79 1549.61 1271.57 1550 Q1271.34 1550.38 1270.67 1551.25 Q1270.02 1552.09 1269.28 1552.73 Q1268.54 1553.34 1267.38 1553.83 Q1266.25 1554.34 1265.03 1554.34 Q1263.48 1554.34 1262.1 1553.89 Q1260.75 1553.44 1259.78 1552.41 Q1258.82 1551.38 1258.82 1549.96 Q1258.82 1548.38 1259.88 1547.29 Q1260.97 1546.16 1262.45 1546.16 Q1263.39 1546.16 1264.13 1546.71 Q1264.9 1547.26 1264.9 1548.45 Q1264.9 1549.77 1264 1550.77 Q1263.1 1551.77 1261.81 1552.02 Q1263.13 1552.86 1265.1 1552.86 Q1267.22 1552.86 1268.9 1550.99 Q1270.57 1549.13 1271.38 1546 Q1273.37 1538.5 1274.15 1535.15 Q1274.92 1531.77 1274.92 1530.32 Q1274.92 1528.96 1274.56 1528.03 Q1274.21 1527.1 1273.6 1526.68 Q1273.02 1526.23 1272.47 1526.07 Q1271.96 1525.91 1271.38 1525.91 Q1270.41 1525.91 1269.31 1526.29 Q1268.25 1526.68 1266.96 1527.58 Q1265.71 1528.45 1264.52 1530.25 Q1263.32 1532.06 1262.52 1534.54 Q1262.36 1535.28 1261.65 1535.28 Q1260.88 1535.24 1260.88 1534.6 Q1260.88 1534.05 1261.29 1532.93 Q1261.75 1531.77 1262.65 1530.32 Q1263.58 1528.87 1264.77 1527.58 Q1266 1526.26 1267.77 1525.36 Q1269.57 1524.46 1271.5 1524.46 Q1272.37 1524.46 1273.21 1524.65 Q1274.08 1524.81 1275.11 1525.29 Q1276.17 1525.78 1277.11 1526.84 Q1278.04 1527.9 1278.62 1529.45 Q1279.01 1528.71 1279.52 1528 Q1280.07 1527.29 1280.91 1526.42 Q1281.78 1525.52 1282.97 1525 Q1284.19 1524.46 1285.55 1524.46 Q1286.87 1524.46 1288.15 1524.81 Q1289.44 1525.13 1290.54 1526.19 Q1291.67 1527.23 1291.67 1528.8 Z\" fill=\"#000000\" fill-rule=\"nonzero\" fill-opacity=\"1\" /><polyline clip-path=\"url(#clip212)\" style=\"stroke:#000000; stroke-linecap:round; stroke-linejoin:round; stroke-width:2; stroke-opacity:0.1; fill:none\" points=\"202.227,1303.11 2352.76,1303.11 \"/>\n",
       "<polyline clip-path=\"url(#clip212)\" style=\"stroke:#000000; stroke-linecap:round; stroke-linejoin:round; stroke-width:2; stroke-opacity:0.1; fill:none\" points=\"202.227,897.469 2352.76,897.469 \"/>\n",
       "<polyline clip-path=\"url(#clip212)\" style=\"stroke:#000000; stroke-linecap:round; stroke-linejoin:round; stroke-width:2; stroke-opacity:0.1; fill:none\" points=\"202.227,491.827 2352.76,491.827 \"/>\n",
       "<polyline clip-path=\"url(#clip212)\" style=\"stroke:#000000; stroke-linecap:round; stroke-linejoin:round; stroke-width:2; stroke-opacity:0.1; fill:none\" points=\"202.227,86.1857 2352.76,86.1857 \"/>\n",
       "<polyline clip-path=\"url(#clip210)\" style=\"stroke:#000000; stroke-linecap:round; stroke-linejoin:round; stroke-width:4; stroke-opacity:1; fill:none\" points=\"202.227,1423.18 202.227,47.2441 \"/>\n",
       "<polyline clip-path=\"url(#clip210)\" style=\"stroke:#000000; stroke-linecap:round; stroke-linejoin:round; stroke-width:4; stroke-opacity:1; fill:none\" points=\"202.227,1303.11 221.125,1303.11 \"/>\n",
       "<polyline clip-path=\"url(#clip210)\" style=\"stroke:#000000; stroke-linecap:round; stroke-linejoin:round; stroke-width:4; stroke-opacity:1; fill:none\" points=\"202.227,897.469 221.125,897.469 \"/>\n",
       "<polyline clip-path=\"url(#clip210)\" style=\"stroke:#000000; stroke-linecap:round; stroke-linejoin:round; stroke-width:4; stroke-opacity:1; fill:none\" points=\"202.227,491.827 221.125,491.827 \"/>\n",
       "<polyline clip-path=\"url(#clip210)\" style=\"stroke:#000000; stroke-linecap:round; stroke-linejoin:round; stroke-width:4; stroke-opacity:1; fill:none\" points=\"202.227,86.1857 221.125,86.1857 \"/>\n",
       "<path clip-path=\"url(#clip210)\" d=\"M154.283 1288.91 Q150.672 1288.91 148.843 1292.47 Q147.038 1296.02 147.038 1303.14 Q147.038 1310.25 148.843 1313.82 Q150.672 1317.36 154.283 1317.36 Q157.917 1317.36 159.723 1313.82 Q161.552 1310.25 161.552 1303.14 Q161.552 1296.02 159.723 1292.47 Q157.917 1288.91 154.283 1288.91 M154.283 1285.2 Q160.093 1285.2 163.149 1289.81 Q166.227 1294.39 166.227 1303.14 Q166.227 1311.87 163.149 1316.48 Q160.093 1321.06 154.283 1321.06 Q148.473 1321.06 145.394 1316.48 Q142.339 1311.87 142.339 1303.14 Q142.339 1294.39 145.394 1289.81 Q148.473 1285.2 154.283 1285.2 Z\" fill=\"#000000\" fill-rule=\"nonzero\" fill-opacity=\"1\" /><path clip-path=\"url(#clip210)\" d=\"M145.325 880.189 L163.681 880.189 L163.681 884.124 L149.607 884.124 L149.607 892.596 Q150.626 892.249 151.644 892.087 Q152.663 891.901 153.681 891.901 Q159.468 891.901 162.848 895.073 Q166.227 898.244 166.227 903.661 Q166.227 909.239 162.755 912.341 Q159.283 915.42 152.964 915.42 Q150.788 915.42 148.519 915.049 Q146.274 914.679 143.866 913.938 L143.866 909.239 Q145.95 910.374 148.172 910.929 Q150.394 911.485 152.871 911.485 Q156.876 911.485 159.214 909.378 Q161.552 907.272 161.552 903.661 Q161.552 900.05 159.214 897.943 Q156.876 895.837 152.871 895.837 Q150.996 895.837 149.121 896.253 Q147.269 896.67 145.325 897.55 L145.325 880.189 Z\" fill=\"#000000\" fill-rule=\"nonzero\" fill-opacity=\"1\" /><path clip-path=\"url(#clip210)\" d=\"M114.931 505.172 L122.57 505.172 L122.57 478.806 L114.26 480.473 L114.26 476.214 L122.524 474.547 L127.2 474.547 L127.2 505.172 L134.839 505.172 L134.839 509.107 L114.931 509.107 L114.931 505.172 Z\" fill=\"#000000\" fill-rule=\"nonzero\" fill-opacity=\"1\" /><path clip-path=\"url(#clip210)\" d=\"M154.283 477.626 Q150.672 477.626 148.843 481.191 Q147.038 484.732 147.038 491.862 Q147.038 498.968 148.843 502.533 Q150.672 506.075 154.283 506.075 Q157.917 506.075 159.723 502.533 Q161.552 498.968 161.552 491.862 Q161.552 484.732 159.723 481.191 Q157.917 477.626 154.283 477.626 M154.283 473.922 Q160.093 473.922 163.149 478.529 Q166.227 483.112 166.227 491.862 Q166.227 500.589 163.149 505.195 Q160.093 509.778 154.283 509.778 Q148.473 509.778 145.394 505.195 Q142.339 500.589 142.339 491.862 Q142.339 483.112 145.394 478.529 Q148.473 473.922 154.283 473.922 Z\" fill=\"#000000\" fill-rule=\"nonzero\" fill-opacity=\"1\" /><path clip-path=\"url(#clip210)\" d=\"M115.927 99.5305 L123.566 99.5305 L123.566 73.1649 L115.256 74.8316 L115.256 70.5723 L123.519 68.9057 L128.195 68.9057 L128.195 99.5305 L135.834 99.5305 L135.834 103.466 L115.927 103.466 L115.927 99.5305 Z\" fill=\"#000000\" fill-rule=\"nonzero\" fill-opacity=\"1\" /><path clip-path=\"url(#clip210)\" d=\"M145.325 68.9057 L163.681 68.9057 L163.681 72.8408 L149.607 72.8408 L149.607 81.313 Q150.626 80.9658 151.644 80.8038 Q152.663 80.6186 153.681 80.6186 Q159.468 80.6186 162.848 83.7899 Q166.227 86.9611 166.227 92.3778 Q166.227 97.9564 162.755 101.058 Q159.283 104.137 152.964 104.137 Q150.788 104.137 148.519 103.767 Q146.274 103.396 143.866 102.655 L143.866 97.9564 Q145.95 99.0907 148.172 99.6462 Q150.394 100.202 152.871 100.202 Q156.876 100.202 159.214 98.0953 Q161.552 95.9889 161.552 92.3778 Q161.552 88.7667 159.214 86.6602 Q156.876 84.5537 152.871 84.5537 Q150.996 84.5537 149.121 84.9704 Q147.269 85.3871 145.325 86.2667 L145.325 68.9057 Z\" fill=\"#000000\" fill-rule=\"nonzero\" fill-opacity=\"1\" /><path clip-path=\"url(#clip210)\" d=\"M24.1199 765.105 Q25.8912 765.105 26.9862 766.232 Q28.0812 767.327 28.0812 768.712 Q28.0812 769.71 27.4693 770.451 Q26.8574 771.159 25.7946 771.159 Q24.6996 771.159 23.5402 770.322 Q22.3807 769.485 22.2197 767.585 Q21.0281 768.841 21.0281 770.837 Q21.0281 771.836 21.6722 772.673 Q22.2841 773.478 23.2825 773.929 Q24.3131 774.412 30.1424 775.507 Q32.0425 775.861 33.8782 776.184 Q35.714 776.506 37.6463 776.892 L37.6463 771.417 Q37.6463 770.709 37.6785 770.419 Q37.7107 770.129 37.8718 769.903 Q38.0328 769.646 38.3871 769.646 Q39.2888 769.646 39.5143 770.064 Q39.7075 770.451 39.7075 771.61 L39.7075 777.279 L60.6091 781.24 Q61.221 781.336 63.1534 781.755 Q65.0535 782.142 68.1775 783.076 Q71.3337 784.01 73.2016 784.944 Q74.2644 785.459 75.2628 786.135 Q76.2934 786.779 77.3239 787.713 Q78.3545 788.647 78.9664 789.871 Q79.6106 791.095 79.6106 792.383 Q79.6106 794.573 78.3867 796.28 Q77.1629 797.987 75.0695 797.987 Q73.2982 797.987 72.2032 796.892 Q71.1082 795.765 71.1082 794.38 Q71.1082 793.381 71.7201 792.673 Q72.332 791.932 73.3948 791.932 Q73.8457 791.932 74.361 792.093 Q74.8763 792.254 75.456 792.609 Q76.0679 792.963 76.4866 793.736 Q76.9053 794.509 76.9697 795.571 Q78.1613 794.315 78.1613 792.383 Q78.1613 791.771 77.9036 791.224 Q77.6782 790.676 77.0985 790.225 Q76.5188 789.742 75.9391 789.388 Q75.3916 789.034 74.3288 788.679 Q73.2982 788.325 72.5253 788.1 Q71.7523 787.874 70.3675 787.584 Q68.9826 787.262 68.1453 787.101 Q67.3401 786.94 65.762 786.65 L39.7075 781.723 L39.7075 786.071 Q39.7075 786.844 39.6753 787.166 Q39.6431 787.456 39.4821 787.681 Q39.2888 787.906 38.9023 787.906 Q38.2904 787.906 38.0328 787.649 Q37.7429 787.359 37.7107 787.037 Q37.6463 786.715 37.6463 785.942 L37.6463 781.369 Q29.4982 779.823 27.3082 779.211 Q24.9894 778.502 23.3791 777.407 Q21.7366 776.312 20.9637 775.089 Q20.1907 773.865 19.9009 772.866 Q19.5788 771.836 19.5788 770.837 Q19.5788 768.583 20.8027 766.844 Q21.9943 765.105 24.1199 765.105 Z\" fill=\"#000000\" fill-rule=\"nonzero\" fill-opacity=\"1\" /><path clip-path=\"url(#clip210)\" d=\"M49.5947 757.277 Q38.4515 757.277 29.466 753.122 Q25.6979 751.351 22.5418 748.871 Q19.3856 746.391 18.0007 744.749 Q16.6159 743.106 16.6159 742.656 Q16.6159 742.011 17.26 741.979 Q17.5821 741.979 18.3872 742.849 Q29.2084 753.477 49.5947 753.445 Q70.0454 753.445 80.4479 743.106 Q81.5751 741.979 81.9294 741.979 Q82.5735 741.979 82.5735 742.656 Q82.5735 743.106 81.2531 744.685 Q79.9326 746.263 76.9053 748.71 Q73.8779 751.158 70.1742 752.929 Q61.1888 757.277 49.5947 757.277 Z\" fill=\"#000000\" fill-rule=\"nonzero\" fill-opacity=\"1\" /><path clip-path=\"url(#clip210)\" d=\"M41.2856 704.116 Q43.0891 704.116 44.1197 705.243 Q45.1181 706.37 45.1181 707.658 Q45.1181 708.882 44.4096 709.526 Q43.701 710.17 42.7993 710.17 Q41.5754 710.17 40.5126 709.269 Q39.4498 708.367 39.2244 707.014 Q38.3871 708.335 38.3871 710.299 Q38.3871 711.587 39.0634 712.715 Q39.7397 713.81 40.6093 714.486 Q41.4788 715.13 42.7348 715.71 Q43.9587 716.257 44.6994 716.483 Q45.4079 716.676 46.1809 716.837 L55.1985 719.091 Q59.4819 720.186 60.9956 720.186 Q62.8635 720.186 64.1195 719.285 Q65.3434 718.383 65.3434 716.579 Q65.3434 715.871 65.1501 715.066 Q64.9247 714.26 64.345 713.23 Q63.7331 712.167 62.8313 711.233 Q61.8973 710.267 60.3192 709.333 Q58.7412 708.399 56.7122 707.787 Q56.0037 707.594 56.0037 706.95 Q56.0037 706.145 56.6478 706.145 Q57.1953 706.145 58.3547 706.595 Q59.4819 707.014 60.9634 707.948 Q62.4126 708.85 63.7331 710.041 Q65.0213 711.233 65.9231 713.004 Q66.8248 714.776 66.8248 716.708 Q66.8248 719.478 65.3434 721.314 Q63.8619 723.149 61.8007 723.826 Q62.0906 723.987 62.477 724.212 Q62.8635 724.438 63.7331 725.114 Q64.5704 725.758 65.2145 726.499 Q65.8264 727.239 66.3095 728.399 Q66.8248 729.526 66.8248 730.75 Q66.8248 732.296 66.3739 733.681 Q65.9231 735.033 64.8925 735.999 Q63.8619 736.966 62.4448 736.966 Q60.8667 736.966 59.7717 735.903 Q58.6445 734.808 58.6445 733.326 Q58.6445 732.392 59.192 731.652 Q59.7395 730.879 60.9312 730.879 Q62.2516 730.879 63.25 731.78 Q64.2484 732.682 64.506 733.97 Q65.3434 732.65 65.3434 730.685 Q65.3434 728.56 63.4754 726.885 Q61.6075 725.21 58.4835 724.405 Q50.9795 722.409 47.6301 721.636 Q44.2485 720.863 42.7993 720.863 Q41.4466 720.863 40.5126 721.217 Q39.5787 721.571 39.16 722.183 Q38.7091 722.763 38.5481 723.31 Q38.3871 723.826 38.3871 724.405 Q38.3871 725.371 38.7735 726.466 Q39.16 727.529 40.0618 728.818 Q40.9313 730.074 42.7348 731.265 Q44.5384 732.457 47.0182 733.262 Q47.759 733.423 47.759 734.131 Q47.7268 734.904 47.0826 734.904 Q46.5351 734.904 45.4079 734.486 Q44.2485 734.035 42.7993 733.133 Q41.35 732.199 40.0618 731.008 Q38.7413 729.784 37.8396 728.012 Q36.9378 726.209 36.9378 724.276 Q36.9378 723.407 37.131 722.57 Q37.2921 721.7 37.7751 720.669 Q38.2582 719.607 39.321 718.673 Q40.3838 717.739 41.9297 717.159 Q41.189 716.773 40.4804 716.257 Q39.7719 715.71 38.9023 714.872 Q38.0006 714.003 37.4853 712.811 Q36.9378 711.587 36.9378 710.235 Q36.9378 708.914 37.2921 707.626 Q37.6141 706.338 38.6769 705.243 Q39.7075 704.116 41.2856 704.116 Z\" fill=\"#000000\" fill-rule=\"nonzero\" fill-opacity=\"1\" /><path clip-path=\"url(#clip210)\" d=\"M81.9294 697.764 Q81.6073 697.764 80.8022 696.927 Q69.981 686.299 49.5947 686.299 Q29.144 686.299 18.8059 696.508 Q17.6143 697.764 17.26 697.764 Q16.6159 697.764 16.6159 697.12 Q16.6159 696.669 17.9363 695.091 Q19.2568 693.481 22.2841 691.066 Q25.3115 688.618 29.0151 686.814 Q38.0006 682.467 49.5947 682.467 Q60.7379 682.467 69.7234 686.621 Q73.4914 688.393 76.6476 690.872 Q79.8038 693.352 81.1886 694.995 Q82.5735 696.637 82.5735 697.12 Q82.5735 697.764 81.9294 697.764 Z\" fill=\"#000000\" fill-rule=\"nonzero\" fill-opacity=\"1\" /><polyline clip-path=\"url(#clip212)\" style=\"stroke:#009af9; stroke-linecap:round; stroke-linejoin:round; stroke-width:8; stroke-opacity:1; fill:none\" points=\"263.091,1059.73 296.905,1091.37 330.718,1121.38 364.532,1149.78 398.345,1176.55 432.158,1201.7 465.972,1225.23 499.785,1247.13 533.598,1267.41 567.412,1286.07 601.225,1303.11 635.038,1318.52 668.852,1332.32 702.665,1344.49 736.478,1355.03 770.292,1363.96 804.105,1371.26 837.918,1376.94 871.732,1380.99 905.545,1383.43 939.358,1384.24 973.172,1383.43 1006.98,1380.99 1040.8,1376.94 1074.61,1371.26 1108.42,1363.96 1142.24,1355.03 1176.05,1344.49 1209.87,1332.32 1243.68,1318.52 1277.49,1303.11 1311.31,1286.07 1345.12,1267.41 1378.93,1247.13 1412.75,1225.23 1446.56,1201.7 1480.37,1176.55 1514.19,1149.78 1548,1121.38 1581.81,1091.37 1615.63,1059.73 1649.44,1026.46 1683.25,991.577 1717.07,955.07 1750.88,916.939 1784.69,877.186 1818.51,835.811 1852.32,792.813 1886.13,748.192 1919.95,701.949 1953.76,654.084 1987.57,604.595 2021.39,553.485 2055.2,500.751 2089.01,446.395 2122.83,390.417 2156.64,332.816 2190.45,273.592 2224.27,212.746 2258.08,150.277 2291.89,86.1857 \"/>\n",
       "</svg>\n"
      ]
     },
     "execution_count": 64,
     "metadata": {},
     "output_type": "execute_result"
    }
   ],
   "source": [
    "# @format standard 5\n",
    "using Plots\n",
    "\n",
    "function f(x)\n",
    "    return x.^2 + 2x\n",
    "end\n",
    "\n",
    "function f(x::Interval{Float64})\n",
    "    return x^interval(2) + interval(2)*x\n",
    "end\n",
    "\n",
    "\n",
    "x = range(-3, 3, step = 0.1);\n",
    "y = f(x);\n",
    "\n",
    "println(f(interval(I\"0.9\",I\"1.1\")))\n",
    "plot(x, y, xlabel=\"\\$x\\$\", ylabel=\"\\$f\\\\,(x)\\$\", linewidth =2, legend = false)"
   ]
  },
  {
   "cell_type": "code",
   "execution_count": 65,
   "metadata": {},
   "outputs": [
    {
     "name": "stdout",
     "output_type": "stream",
     "text": [
      "2.6100000000000003\n",
      "3.41\n"
     ]
    }
   ],
   "source": [
    "println(f(0.9))\n",
    "println(f(1.1))"
   ]
  },
  {
   "cell_type": "markdown",
   "metadata": {},
   "source": [
    "$f(x)=x^2+2x$ のときは値域評価が区間拡張を利用しても精度が良い．一方で"
   ]
  },
  {
   "cell_type": "markdown",
   "metadata": {},
   "source": [
    "$f(x)=x^2-2x$;\n",
    "\n",
    "\\begin{align*}\n",
    "\tx&\\in[0.9,1.1]\\\\\n",
    "\tx^2&\\in[0.81,1.21]\\\\\n",
    "\t2x&\\in[1.8,2.2]\\\\\n",
    "\tx^2-2x&\\in[-1.39,-0.59]\\mbox{（幅0.8!）}\\\\\n",
    "\\end{align*}\n"
   ]
  },
  {
   "cell_type": "code",
   "execution_count": 66,
   "metadata": {
    "tags": []
   },
   "outputs": [
    {
     "name": "stdout",
     "output_type": "stream",
     "text": [
      "Interval{Float64}(-1.3900000000000003, -0.5899999999999994, com)\n",
      "-1\n",
      "-0.99\n"
     ]
    },
    {
     "data": {
      "image/png": "[encoded data removed]",
      "image/svg+xml": [
       "<?xml version=\"1.0\" encoding=\"utf-8\"?>\n",
       "<svg xmlns=\"http://www.w3.org/2000/svg\" xmlns:xlink=\"http://www.w3.org/1999/xlink\" width=\"600\" height=\"400\" viewBox=\"0 0 2400 1600\">\n",
       "<defs>\n",
       "  <clipPath id=\"clip250\">\n",
       "    <rect x=\"0\" y=\"0\" width=\"2400\" height=\"1600\"/>\n",
       "  </clipPath>\n",
       "</defs>\n",
       "<path clip-path=\"url(#clip250)\" d=\"M0 1600 L2400 1600 L2400 8.88178e-14 L0 8.88178e-14  Z\" fill=\"#ffffff\" fill-rule=\"evenodd\" fill-opacity=\"1\"/>\n",
       "<defs>\n",
       "  <clipPath id=\"clip251\">\n",
       "    <rect x=\"480\" y=\"0\" width=\"1681\" height=\"1600\"/>\n",
       "  </clipPath>\n",
       "</defs>\n",
       "<path clip-path=\"url(#clip250)\" d=\"M347.69 1423.18 L2352.76 1423.18 L2352.76 47.2441 L347.69 47.2441  Z\" fill=\"#ffffff\" fill-rule=\"evenodd\" fill-opacity=\"1\"/>\n",
       "<defs>\n",
       "  <clipPath id=\"clip252\">\n",
       "    <rect x=\"347\" y=\"47\" width=\"2006\" height=\"1377\"/>\n",
       "  </clipPath>\n",
       "</defs>\n",
       "<polyline clip-path=\"url(#clip252)\" style=\"stroke:#000000; stroke-linecap:round; stroke-linejoin:round; stroke-width:2; stroke-opacity:0.1; fill:none\" points=\"404.437,1423.18 404.437,47.2441 \"/>\n",
       "<polyline clip-path=\"url(#clip252)\" style=\"stroke:#000000; stroke-linecap:round; stroke-linejoin:round; stroke-width:2; stroke-opacity:0.1; fill:none\" points=\"877.33,1423.18 877.33,47.2441 \"/>\n",
       "<polyline clip-path=\"url(#clip252)\" style=\"stroke:#000000; stroke-linecap:round; stroke-linejoin:round; stroke-width:2; stroke-opacity:0.1; fill:none\" points=\"1350.22,1423.18 1350.22,47.2441 \"/>\n",
       "<polyline clip-path=\"url(#clip252)\" style=\"stroke:#000000; stroke-linecap:round; stroke-linejoin:round; stroke-width:2; stroke-opacity:0.1; fill:none\" points=\"1823.12,1423.18 1823.12,47.2441 \"/>\n",
       "<polyline clip-path=\"url(#clip252)\" style=\"stroke:#000000; stroke-linecap:round; stroke-linejoin:round; stroke-width:2; stroke-opacity:0.1; fill:none\" points=\"2296.01,1423.18 2296.01,47.2441 \"/>\n",
       "<polyline clip-path=\"url(#clip250)\" style=\"stroke:#000000; stroke-linecap:round; stroke-linejoin:round; stroke-width:4; stroke-opacity:1; fill:none\" points=\"347.69,1423.18 2352.76,1423.18 \"/>\n",
       "<polyline clip-path=\"url(#clip250)\" style=\"stroke:#000000; stroke-linecap:round; stroke-linejoin:round; stroke-width:4; stroke-opacity:1; fill:none\" points=\"404.437,1423.18 404.437,1404.28 \"/>\n",
       "<polyline clip-path=\"url(#clip250)\" style=\"stroke:#000000; stroke-linecap:round; stroke-linejoin:round; stroke-width:4; stroke-opacity:1; fill:none\" points=\"877.33,1423.18 877.33,1404.28 \"/>\n",
       "<polyline clip-path=\"url(#clip250)\" style=\"stroke:#000000; stroke-linecap:round; stroke-linejoin:round; stroke-width:4; stroke-opacity:1; fill:none\" points=\"1350.22,1423.18 1350.22,1404.28 \"/>\n",
       "<polyline clip-path=\"url(#clip250)\" style=\"stroke:#000000; stroke-linecap:round; stroke-linejoin:round; stroke-width:4; stroke-opacity:1; fill:none\" points=\"1823.12,1423.18 1823.12,1404.28 \"/>\n",
       "<polyline clip-path=\"url(#clip250)\" style=\"stroke:#000000; stroke-linecap:round; stroke-linejoin:round; stroke-width:4; stroke-opacity:1; fill:none\" points=\"2296.01,1423.18 2296.01,1404.28 \"/>\n",
       "<path clip-path=\"url(#clip250)\" d=\"M366.74 1454.1 Q363.129 1454.1 361.3 1457.66 Q359.495 1461.2 359.495 1468.33 Q359.495 1475.44 361.3 1479.01 Q363.129 1482.55 366.74 1482.55 Q370.374 1482.55 372.18 1479.01 Q374.009 1475.44 374.009 1468.33 Q374.009 1461.2 372.18 1457.66 Q370.374 1454.1 366.74 1454.1 M366.74 1450.39 Q372.55 1450.39 375.606 1455 Q378.685 1459.58 378.685 1468.33 Q378.685 1477.06 375.606 1481.67 Q372.55 1486.25 366.74 1486.25 Q360.93 1486.25 357.851 1481.67 Q354.796 1477.06 354.796 1468.33 Q354.796 1459.58 357.851 1455 Q360.93 1450.39 366.74 1450.39 Z\" fill=\"#000000\" fill-rule=\"nonzero\" fill-opacity=\"1\" /><path clip-path=\"url(#clip250)\" d=\"M386.902 1479.7 L391.786 1479.7 L391.786 1485.58 L386.902 1485.58 L386.902 1479.7 Z\" fill=\"#000000\" fill-rule=\"nonzero\" fill-opacity=\"1\" /><path clip-path=\"url(#clip250)\" d=\"M402.11 1484.86 L402.11 1480.6 Q403.87 1481.44 405.675 1481.88 Q407.481 1482.32 409.217 1482.32 Q413.846 1482.32 416.277 1479.21 Q418.731 1476.09 419.078 1469.75 Q417.735 1471.74 415.675 1472.8 Q413.615 1473.87 411.115 1473.87 Q405.93 1473.87 402.897 1470.74 Q399.888 1467.59 399.888 1462.15 Q399.888 1456.83 403.036 1453.61 Q406.184 1450.39 411.416 1450.39 Q417.411 1450.39 420.559 1455 Q423.731 1459.58 423.731 1468.33 Q423.731 1476.51 419.842 1481.39 Q415.976 1486.25 409.425 1486.25 Q407.666 1486.25 405.86 1485.9 Q404.055 1485.56 402.11 1484.86 M411.416 1470.21 Q414.564 1470.21 416.393 1468.06 Q418.245 1465.9 418.245 1462.15 Q418.245 1458.43 416.393 1456.27 Q414.564 1454.1 411.416 1454.1 Q408.268 1454.1 406.416 1456.27 Q404.587 1458.43 404.587 1462.15 Q404.587 1465.9 406.416 1468.06 Q408.268 1470.21 411.416 1470.21 Z\" fill=\"#000000\" fill-rule=\"nonzero\" fill-opacity=\"1\" /><path clip-path=\"url(#clip250)\" d=\"M442.133 1454.1 Q438.522 1454.1 436.694 1457.66 Q434.888 1461.2 434.888 1468.33 Q434.888 1475.44 436.694 1479.01 Q438.522 1482.55 442.133 1482.55 Q445.768 1482.55 447.573 1479.01 Q449.402 1475.44 449.402 1468.33 Q449.402 1461.2 447.573 1457.66 Q445.768 1454.1 442.133 1454.1 M442.133 1450.39 Q447.944 1450.39 450.999 1455 Q454.078 1459.58 454.078 1468.33 Q454.078 1477.06 450.999 1481.67 Q447.944 1486.25 442.133 1486.25 Q436.323 1486.25 433.245 1481.67 Q430.189 1477.06 430.189 1468.33 Q430.189 1459.58 433.245 1455 Q436.323 1450.39 442.133 1450.39 Z\" fill=\"#000000\" fill-rule=\"nonzero\" fill-opacity=\"1\" /><path clip-path=\"url(#clip250)\" d=\"M840.131 1454.1 Q836.52 1454.1 834.691 1457.66 Q832.886 1461.2 832.886 1468.33 Q832.886 1475.44 834.691 1479.01 Q836.52 1482.55 840.131 1482.55 Q843.765 1482.55 845.571 1479.01 Q847.399 1475.44 847.399 1468.33 Q847.399 1461.2 845.571 1457.66 Q843.765 1454.1 840.131 1454.1 M840.131 1450.39 Q845.941 1450.39 848.997 1455 Q852.075 1459.58 852.075 1468.33 Q852.075 1477.06 848.997 1481.67 Q845.941 1486.25 840.131 1486.25 Q834.321 1486.25 831.242 1481.67 Q828.187 1477.06 828.187 1468.33 Q828.187 1459.58 831.242 1455 Q834.321 1450.39 840.131 1450.39 Z\" fill=\"#000000\" fill-rule=\"nonzero\" fill-opacity=\"1\" /><path clip-path=\"url(#clip250)\" d=\"M860.293 1479.7 L865.177 1479.7 L865.177 1485.58 L860.293 1485.58 L860.293 1479.7 Z\" fill=\"#000000\" fill-rule=\"nonzero\" fill-opacity=\"1\" /><path clip-path=\"url(#clip250)\" d=\"M875.501 1484.86 L875.501 1480.6 Q877.26 1481.44 879.066 1481.88 Q880.871 1482.32 882.608 1482.32 Q887.237 1482.32 889.668 1479.21 Q892.121 1476.09 892.469 1469.75 Q891.126 1471.74 889.066 1472.8 Q887.006 1473.87 884.506 1473.87 Q879.321 1473.87 876.288 1470.74 Q873.279 1467.59 873.279 1462.15 Q873.279 1456.83 876.427 1453.61 Q879.575 1450.39 884.807 1450.39 Q890.802 1450.39 893.95 1455 Q897.121 1459.58 897.121 1468.33 Q897.121 1476.51 893.232 1481.39 Q889.367 1486.25 882.816 1486.25 Q881.057 1486.25 879.251 1485.9 Q877.446 1485.56 875.501 1484.86 M884.807 1470.21 Q887.955 1470.21 889.783 1468.06 Q891.635 1465.9 891.635 1462.15 Q891.635 1458.43 889.783 1456.27 Q887.955 1454.1 884.807 1454.1 Q881.658 1454.1 879.807 1456.27 Q877.978 1458.43 877.978 1462.15 Q877.978 1465.9 879.807 1468.06 Q881.658 1470.21 884.807 1470.21 Z\" fill=\"#000000\" fill-rule=\"nonzero\" fill-opacity=\"1\" /><path clip-path=\"url(#clip250)\" d=\"M905.57 1451.02 L923.927 1451.02 L923.927 1454.96 L909.853 1454.96 L909.853 1463.43 Q910.871 1463.08 911.89 1462.92 Q912.908 1462.73 913.927 1462.73 Q919.714 1462.73 923.093 1465.9 Q926.473 1469.08 926.473 1474.49 Q926.473 1480.07 923.001 1483.17 Q919.529 1486.25 913.209 1486.25 Q911.033 1486.25 908.765 1485.88 Q906.519 1485.51 904.112 1484.77 L904.112 1480.07 Q906.195 1481.2 908.418 1481.76 Q910.64 1482.32 913.117 1482.32 Q917.121 1482.32 919.459 1480.21 Q921.797 1478.1 921.797 1474.49 Q921.797 1470.88 919.459 1468.77 Q917.121 1466.67 913.117 1466.67 Q911.242 1466.67 909.367 1467.08 Q907.515 1467.5 905.57 1468.38 L905.57 1451.02 Z\" fill=\"#000000\" fill-rule=\"nonzero\" fill-opacity=\"1\" /><path clip-path=\"url(#clip250)\" d=\"M1302.29 1481.64 L1309.93 1481.64 L1309.93 1455.28 L1301.62 1456.95 L1301.62 1452.69 L1309.89 1451.02 L1314.56 1451.02 L1314.56 1481.64 L1322.2 1481.64 L1322.2 1485.58 L1302.29 1485.58 L1302.29 1481.64 Z\" fill=\"#000000\" fill-rule=\"nonzero\" fill-opacity=\"1\" /><path clip-path=\"url(#clip250)\" d=\"M1331.65 1479.7 L1336.53 1479.7 L1336.53 1485.58 L1331.65 1485.58 L1331.65 1479.7 Z\" fill=\"#000000\" fill-rule=\"nonzero\" fill-opacity=\"1\" /><path clip-path=\"url(#clip250)\" d=\"M1356.72 1454.1 Q1353.1 1454.1 1351.28 1457.66 Q1349.47 1461.2 1349.47 1468.33 Q1349.47 1475.44 1351.28 1479.01 Q1353.1 1482.55 1356.72 1482.55 Q1360.35 1482.55 1362.16 1479.01 Q1363.98 1475.44 1363.98 1468.33 Q1363.98 1461.2 1362.16 1457.66 Q1360.35 1454.1 1356.72 1454.1 M1356.72 1450.39 Q1362.53 1450.39 1365.58 1455 Q1368.66 1459.58 1368.66 1468.33 Q1368.66 1477.06 1365.58 1481.67 Q1362.53 1486.25 1356.72 1486.25 Q1350.91 1486.25 1347.83 1481.67 Q1344.77 1477.06 1344.77 1468.33 Q1344.77 1459.58 1347.83 1455 Q1350.91 1450.39 1356.72 1450.39 Z\" fill=\"#000000\" fill-rule=\"nonzero\" fill-opacity=\"1\" /><path clip-path=\"url(#clip250)\" d=\"M1386.88 1454.1 Q1383.27 1454.1 1381.44 1457.66 Q1379.63 1461.2 1379.63 1468.33 Q1379.63 1475.44 1381.44 1479.01 Q1383.27 1482.55 1386.88 1482.55 Q1390.51 1482.55 1392.32 1479.01 Q1394.15 1475.44 1394.15 1468.33 Q1394.15 1461.2 1392.32 1457.66 Q1390.51 1454.1 1386.88 1454.1 M1386.88 1450.39 Q1392.69 1450.39 1395.74 1455 Q1398.82 1459.58 1398.82 1468.33 Q1398.82 1477.06 1395.74 1481.67 Q1392.69 1486.25 1386.88 1486.25 Q1381.07 1486.25 1377.99 1481.67 Q1374.93 1477.06 1374.93 1468.33 Q1374.93 1459.58 1377.99 1455 Q1381.07 1450.39 1386.88 1450.39 Z\" fill=\"#000000\" fill-rule=\"nonzero\" fill-opacity=\"1\" /><path clip-path=\"url(#clip250)\" d=\"M1775.69 1481.64 L1783.32 1481.64 L1783.32 1455.28 L1775.01 1456.95 L1775.01 1452.69 L1783.28 1451.02 L1787.95 1451.02 L1787.95 1481.64 L1795.59 1481.64 L1795.59 1485.58 L1775.69 1485.58 L1775.69 1481.64 Z\" fill=\"#000000\" fill-rule=\"nonzero\" fill-opacity=\"1\" /><path clip-path=\"url(#clip250)\" d=\"M1805.04 1479.7 L1809.92 1479.7 L1809.92 1485.58 L1805.04 1485.58 L1805.04 1479.7 Z\" fill=\"#000000\" fill-rule=\"nonzero\" fill-opacity=\"1\" /><path clip-path=\"url(#clip250)\" d=\"M1830.11 1454.1 Q1826.5 1454.1 1824.67 1457.66 Q1822.86 1461.2 1822.86 1468.33 Q1822.86 1475.44 1824.67 1479.01 Q1826.5 1482.55 1830.11 1482.55 Q1833.74 1482.55 1835.55 1479.01 Q1837.37 1475.44 1837.37 1468.33 Q1837.37 1461.2 1835.55 1457.66 Q1833.74 1454.1 1830.11 1454.1 M1830.11 1450.39 Q1835.92 1450.39 1838.97 1455 Q1842.05 1459.58 1842.05 1468.33 Q1842.05 1477.06 1838.97 1481.67 Q1835.92 1486.25 1830.11 1486.25 Q1824.3 1486.25 1821.22 1481.67 Q1818.16 1477.06 1818.16 1468.33 Q1818.16 1459.58 1821.22 1455 Q1824.3 1450.39 1830.11 1450.39 Z\" fill=\"#000000\" fill-rule=\"nonzero\" fill-opacity=\"1\" /><path clip-path=\"url(#clip250)\" d=\"M1850.31 1451.02 L1868.67 1451.02 L1868.67 1454.96 L1854.6 1454.96 L1854.6 1463.43 Q1855.62 1463.08 1856.63 1462.92 Q1857.65 1462.73 1858.67 1462.73 Q1864.46 1462.73 1867.84 1465.9 Q1871.22 1469.08 1871.22 1474.49 Q1871.22 1480.07 1867.75 1483.17 Q1864.27 1486.25 1857.95 1486.25 Q1855.78 1486.25 1853.51 1485.88 Q1851.26 1485.51 1848.86 1484.77 L1848.86 1480.07 Q1850.94 1481.2 1853.16 1481.76 Q1855.38 1482.32 1857.86 1482.32 Q1861.87 1482.32 1864.2 1480.21 Q1866.54 1478.1 1866.54 1474.49 Q1866.54 1470.88 1864.2 1468.77 Q1861.87 1466.67 1857.86 1466.67 Q1855.99 1466.67 1854.11 1467.08 Q1852.26 1467.5 1850.31 1468.38 L1850.31 1451.02 Z\" fill=\"#000000\" fill-rule=\"nonzero\" fill-opacity=\"1\" /><path clip-path=\"url(#clip250)\" d=\"M2248.08 1481.64 L2255.72 1481.64 L2255.72 1455.28 L2247.41 1456.95 L2247.41 1452.69 L2255.67 1451.02 L2260.35 1451.02 L2260.35 1481.64 L2267.99 1481.64 L2267.99 1485.58 L2248.08 1485.58 L2248.08 1481.64 Z\" fill=\"#000000\" fill-rule=\"nonzero\" fill-opacity=\"1\" /><path clip-path=\"url(#clip250)\" d=\"M2277.43 1479.7 L2282.32 1479.7 L2282.32 1485.58 L2277.43 1485.58 L2277.43 1479.7 Z\" fill=\"#000000\" fill-rule=\"nonzero\" fill-opacity=\"1\" /><path clip-path=\"url(#clip250)\" d=\"M2293.31 1481.64 L2300.95 1481.64 L2300.95 1455.28 L2292.64 1456.95 L2292.64 1452.69 L2300.9 1451.02 L2305.58 1451.02 L2305.58 1481.64 L2313.22 1481.64 L2313.22 1485.58 L2293.31 1485.58 L2293.31 1481.64 Z\" fill=\"#000000\" fill-rule=\"nonzero\" fill-opacity=\"1\" /><path clip-path=\"url(#clip250)\" d=\"M2332.66 1454.1 Q2329.05 1454.1 2327.22 1457.66 Q2325.42 1461.2 2325.42 1468.33 Q2325.42 1475.44 2327.22 1479.01 Q2329.05 1482.55 2332.66 1482.55 Q2336.3 1482.55 2338.1 1479.01 Q2339.93 1475.44 2339.93 1468.33 Q2339.93 1461.2 2338.1 1457.66 Q2336.3 1454.1 2332.66 1454.1 M2332.66 1450.39 Q2338.47 1450.39 2341.53 1455 Q2344.61 1459.58 2344.61 1468.33 Q2344.61 1477.06 2341.53 1481.67 Q2338.47 1486.25 2332.66 1486.25 Q2326.85 1486.25 2323.77 1481.67 Q2320.72 1477.06 2320.72 1468.33 Q2320.72 1459.58 2323.77 1455 Q2326.85 1450.39 2332.66 1450.39 Z\" fill=\"#000000\" fill-rule=\"nonzero\" fill-opacity=\"1\" /><path clip-path=\"url(#clip250)\" d=\"M1364.4 1528.8 Q1364.4 1530.61 1363.27 1531.64 Q1362.14 1532.64 1360.85 1532.64 Q1359.63 1532.64 1358.99 1531.93 Q1358.34 1531.22 1358.34 1530.32 Q1358.34 1529.09 1359.24 1528.03 Q1360.15 1526.97 1361.5 1526.74 Q1360.18 1525.91 1358.21 1525.91 Q1356.92 1525.91 1355.8 1526.58 Q1354.7 1527.26 1354.03 1528.13 Q1353.38 1529 1352.8 1530.25 Q1352.25 1531.48 1352.03 1532.22 Q1351.84 1532.93 1351.67 1533.7 L1349.42 1542.72 Q1348.33 1547 1348.33 1548.51 Q1348.33 1550.38 1349.23 1551.64 Q1350.13 1552.86 1351.93 1552.86 Q1352.64 1552.86 1353.45 1552.67 Q1354.25 1552.44 1355.28 1551.86 Q1356.34 1551.25 1357.28 1550.35 Q1358.24 1549.42 1359.18 1547.84 Q1360.11 1546.26 1360.72 1544.23 Q1360.92 1543.52 1361.56 1543.52 Q1362.37 1543.52 1362.37 1544.17 Q1362.37 1544.71 1361.92 1545.87 Q1361.5 1547 1360.56 1548.48 Q1359.66 1549.93 1358.47 1551.25 Q1357.28 1552.54 1355.51 1553.44 Q1353.74 1554.34 1351.8 1554.34 Q1349.03 1554.34 1347.2 1552.86 Q1345.36 1551.38 1344.69 1549.32 Q1344.53 1549.61 1344.3 1550 Q1344.07 1550.38 1343.4 1551.25 Q1342.75 1552.09 1342.01 1552.73 Q1341.27 1553.34 1340.11 1553.83 Q1338.99 1554.34 1337.76 1554.34 Q1336.22 1554.34 1334.83 1553.89 Q1333.48 1553.44 1332.51 1552.41 Q1331.55 1551.38 1331.55 1549.96 Q1331.55 1548.38 1332.61 1547.29 Q1333.7 1546.16 1335.19 1546.16 Q1336.12 1546.16 1336.86 1546.71 Q1337.63 1547.26 1337.63 1548.45 Q1337.63 1549.77 1336.73 1550.77 Q1335.83 1551.77 1334.54 1552.02 Q1335.86 1552.86 1337.83 1552.86 Q1339.95 1552.86 1341.63 1550.99 Q1343.3 1549.13 1344.11 1546 Q1346.1 1538.5 1346.88 1535.15 Q1347.65 1531.77 1347.65 1530.32 Q1347.65 1528.96 1347.29 1528.03 Q1346.94 1527.1 1346.33 1526.68 Q1345.75 1526.23 1345.2 1526.07 Q1344.69 1525.91 1344.11 1525.91 Q1343.14 1525.91 1342.05 1526.29 Q1340.98 1526.68 1339.69 1527.58 Q1338.44 1528.45 1337.25 1530.25 Q1336.06 1532.06 1335.25 1534.54 Q1335.09 1535.28 1334.38 1535.28 Q1333.61 1535.24 1333.61 1534.6 Q1333.61 1534.05 1334.03 1532.93 Q1334.48 1531.77 1335.38 1530.32 Q1336.31 1528.87 1337.5 1527.58 Q1338.73 1526.26 1340.5 1525.36 Q1342.3 1524.46 1344.24 1524.46 Q1345.1 1524.46 1345.94 1524.65 Q1346.81 1524.81 1347.84 1525.29 Q1348.91 1525.78 1349.84 1526.84 Q1350.77 1527.9 1351.35 1529.45 Q1351.74 1528.71 1352.25 1528 Q1352.8 1527.29 1353.64 1526.42 Q1354.51 1525.52 1355.7 1525 Q1356.92 1524.46 1358.28 1524.46 Q1359.6 1524.46 1360.89 1524.81 Q1362.17 1525.13 1363.27 1526.19 Q1364.4 1527.23 1364.4 1528.8 Z\" fill=\"#000000\" fill-rule=\"nonzero\" fill-opacity=\"1\" /><polyline clip-path=\"url(#clip252)\" style=\"stroke:#000000; stroke-linecap:round; stroke-linejoin:round; stroke-width:2; stroke-opacity:0.1; fill:none\" points=\"347.69,1384.24 2352.76,1384.24 \"/>\n",
       "<polyline clip-path=\"url(#clip252)\" style=\"stroke:#000000; stroke-linecap:round; stroke-linejoin:round; stroke-width:2; stroke-opacity:0.1; fill:none\" points=\"347.69,1059.73 2352.76,1059.73 \"/>\n",
       "<polyline clip-path=\"url(#clip252)\" style=\"stroke:#000000; stroke-linecap:round; stroke-linejoin:round; stroke-width:2; stroke-opacity:0.1; fill:none\" points=\"347.69,735.212 2352.76,735.212 \"/>\n",
       "<polyline clip-path=\"url(#clip252)\" style=\"stroke:#000000; stroke-linecap:round; stroke-linejoin:round; stroke-width:2; stroke-opacity:0.1; fill:none\" points=\"347.69,410.699 2352.76,410.699 \"/>\n",
       "<polyline clip-path=\"url(#clip252)\" style=\"stroke:#000000; stroke-linecap:round; stroke-linejoin:round; stroke-width:2; stroke-opacity:0.1; fill:none\" points=\"347.69,86.1857 2352.76,86.1857 \"/>\n",
       "<polyline clip-path=\"url(#clip250)\" style=\"stroke:#000000; stroke-linecap:round; stroke-linejoin:round; stroke-width:4; stroke-opacity:1; fill:none\" points=\"347.69,1423.18 347.69,47.2441 \"/>\n",
       "<polyline clip-path=\"url(#clip250)\" style=\"stroke:#000000; stroke-linecap:round; stroke-linejoin:round; stroke-width:4; stroke-opacity:1; fill:none\" points=\"347.69,1384.24 366.587,1384.24 \"/>\n",
       "<polyline clip-path=\"url(#clip250)\" style=\"stroke:#000000; stroke-linecap:round; stroke-linejoin:round; stroke-width:4; stroke-opacity:1; fill:none\" points=\"347.69,1059.73 366.587,1059.73 \"/>\n",
       "<polyline clip-path=\"url(#clip250)\" style=\"stroke:#000000; stroke-linecap:round; stroke-linejoin:round; stroke-width:4; stroke-opacity:1; fill:none\" points=\"347.69,735.212 366.587,735.212 \"/>\n",
       "<polyline clip-path=\"url(#clip250)\" style=\"stroke:#000000; stroke-linecap:round; stroke-linejoin:round; stroke-width:4; stroke-opacity:1; fill:none\" points=\"347.69,410.699 366.587,410.699 \"/>\n",
       "<polyline clip-path=\"url(#clip250)\" style=\"stroke:#000000; stroke-linecap:round; stroke-linejoin:round; stroke-width:4; stroke-opacity:1; fill:none\" points=\"347.69,86.1857 366.587,86.1857 \"/>\n",
       "<path clip-path=\"url(#clip250)\" d=\"M114.26 1384.69 L143.936 1384.69 L143.936 1388.62 L114.26 1388.62 L114.26 1384.69 Z\" fill=\"#000000\" fill-rule=\"nonzero\" fill-opacity=\"1\" /><path clip-path=\"url(#clip250)\" d=\"M154.839 1397.58 L162.477 1397.58 L162.477 1371.22 L154.167 1372.88 L154.167 1368.62 L162.431 1366.96 L167.107 1366.96 L167.107 1397.58 L174.746 1397.58 L174.746 1401.52 L154.839 1401.52 L154.839 1397.58 Z\" fill=\"#000000\" fill-rule=\"nonzero\" fill-opacity=\"1\" /><path clip-path=\"url(#clip250)\" d=\"M184.19 1395.64 L189.075 1395.64 L189.075 1401.52 L184.19 1401.52 L184.19 1395.64 Z\" fill=\"#000000\" fill-rule=\"nonzero\" fill-opacity=\"1\" /><path clip-path=\"url(#clip250)\" d=\"M209.26 1370.04 Q205.649 1370.04 203.82 1373.6 Q202.014 1377.14 202.014 1384.27 Q202.014 1391.38 203.82 1394.94 Q205.649 1398.49 209.26 1398.49 Q212.894 1398.49 214.699 1394.94 Q216.528 1391.38 216.528 1384.27 Q216.528 1377.14 214.699 1373.6 Q212.894 1370.04 209.26 1370.04 M209.26 1366.33 Q215.07 1366.33 218.125 1370.94 Q221.204 1375.52 221.204 1384.27 Q221.204 1393 218.125 1397.61 Q215.07 1402.19 209.26 1402.19 Q203.449 1402.19 200.371 1397.61 Q197.315 1393 197.315 1384.27 Q197.315 1375.52 200.371 1370.94 Q203.449 1366.33 209.26 1366.33 Z\" fill=\"#000000\" fill-rule=\"nonzero\" fill-opacity=\"1\" /><path clip-path=\"url(#clip250)\" d=\"M239.422 1370.04 Q235.81 1370.04 233.982 1373.6 Q232.176 1377.14 232.176 1384.27 Q232.176 1391.38 233.982 1394.94 Q235.81 1398.49 239.422 1398.49 Q243.056 1398.49 244.861 1394.94 Q246.69 1391.38 246.69 1384.27 Q246.69 1377.14 244.861 1373.6 Q243.056 1370.04 239.422 1370.04 M239.422 1366.33 Q245.232 1366.33 248.287 1370.94 Q251.366 1375.52 251.366 1384.27 Q251.366 1393 248.287 1397.61 Q245.232 1402.19 239.422 1402.19 Q233.611 1402.19 230.533 1397.61 Q227.477 1393 227.477 1384.27 Q227.477 1375.52 230.533 1370.94 Q233.611 1366.33 239.422 1366.33 Z\" fill=\"#000000\" fill-rule=\"nonzero\" fill-opacity=\"1\" /><path clip-path=\"url(#clip250)\" d=\"M269.583 1370.04 Q265.972 1370.04 264.144 1373.6 Q262.338 1377.14 262.338 1384.27 Q262.338 1391.38 264.144 1394.94 Q265.972 1398.49 269.583 1398.49 Q273.218 1398.49 275.023 1394.94 Q276.852 1391.38 276.852 1384.27 Q276.852 1377.14 275.023 1373.6 Q273.218 1370.04 269.583 1370.04 M269.583 1366.33 Q275.394 1366.33 278.449 1370.94 Q281.528 1375.52 281.528 1384.27 Q281.528 1393 278.449 1397.61 Q275.394 1402.19 269.583 1402.19 Q263.773 1402.19 260.695 1397.61 Q257.639 1393 257.639 1384.27 Q257.639 1375.52 260.695 1370.94 Q263.773 1366.33 269.583 1366.33 Z\" fill=\"#000000\" fill-rule=\"nonzero\" fill-opacity=\"1\" /><path clip-path=\"url(#clip250)\" d=\"M299.745 1370.04 Q296.134 1370.04 294.305 1373.6 Q292.5 1377.14 292.5 1384.27 Q292.5 1391.38 294.305 1394.94 Q296.134 1398.49 299.745 1398.49 Q303.38 1398.49 305.185 1394.94 Q307.014 1391.38 307.014 1384.27 Q307.014 1377.14 305.185 1373.6 Q303.38 1370.04 299.745 1370.04 M299.745 1366.33 Q305.555 1366.33 308.611 1370.94 Q311.69 1375.52 311.69 1384.27 Q311.69 1393 308.611 1397.61 Q305.555 1402.19 299.745 1402.19 Q293.935 1402.19 290.856 1397.61 Q287.801 1393 287.801 1384.27 Q287.801 1375.52 290.856 1370.94 Q293.935 1366.33 299.745 1366.33 Z\" fill=\"#000000\" fill-rule=\"nonzero\" fill-opacity=\"1\" /><path clip-path=\"url(#clip250)\" d=\"M115.256 1060.18 L144.931 1060.18 L144.931 1064.11 L115.256 1064.11 L115.256 1060.18 Z\" fill=\"#000000\" fill-rule=\"nonzero\" fill-opacity=\"1\" /><path clip-path=\"url(#clip250)\" d=\"M165.024 1045.52 Q161.413 1045.52 159.584 1049.09 Q157.778 1052.63 157.778 1059.76 Q157.778 1066.87 159.584 1070.43 Q161.413 1073.97 165.024 1073.97 Q168.658 1073.97 170.464 1070.43 Q172.292 1066.87 172.292 1059.76 Q172.292 1052.63 170.464 1049.09 Q168.658 1045.52 165.024 1045.52 M165.024 1041.82 Q170.834 1041.82 173.889 1046.43 Q176.968 1051.01 176.968 1059.76 Q176.968 1068.49 173.889 1073.09 Q170.834 1077.68 165.024 1077.68 Q159.214 1077.68 156.135 1073.09 Q153.079 1068.49 153.079 1059.76 Q153.079 1051.01 156.135 1046.43 Q159.214 1041.82 165.024 1041.82 Z\" fill=\"#000000\" fill-rule=\"nonzero\" fill-opacity=\"1\" /><path clip-path=\"url(#clip250)\" d=\"M185.186 1071.13 L190.07 1071.13 L190.07 1077.01 L185.186 1077.01 L185.186 1071.13 Z\" fill=\"#000000\" fill-rule=\"nonzero\" fill-opacity=\"1\" /><path clip-path=\"url(#clip250)\" d=\"M200.394 1076.29 L200.394 1072.03 Q202.153 1072.86 203.959 1073.3 Q205.764 1073.74 207.5 1073.74 Q212.13 1073.74 214.561 1070.64 Q217.014 1067.51 217.361 1061.17 Q216.019 1063.16 213.959 1064.23 Q211.899 1065.29 209.399 1065.29 Q204.213 1065.29 201.181 1062.17 Q198.172 1059.02 198.172 1053.58 Q198.172 1048.26 201.32 1045.04 Q204.468 1041.82 209.699 1041.82 Q215.695 1041.82 218.843 1046.43 Q222.014 1051.01 222.014 1059.76 Q222.014 1067.93 218.125 1072.82 Q214.26 1077.68 207.709 1077.68 Q205.949 1077.68 204.144 1077.33 Q202.338 1076.98 200.394 1076.29 M209.699 1061.63 Q212.848 1061.63 214.676 1059.48 Q216.528 1057.33 216.528 1053.58 Q216.528 1049.85 214.676 1047.7 Q212.848 1045.52 209.699 1045.52 Q206.551 1045.52 204.699 1047.7 Q202.871 1049.85 202.871 1053.58 Q202.871 1057.33 204.699 1059.48 Q206.551 1061.63 209.699 1061.63 Z\" fill=\"#000000\" fill-rule=\"nonzero\" fill-opacity=\"1\" /><path clip-path=\"url(#clip250)\" d=\"M230.556 1076.29 L230.556 1072.03 Q232.315 1072.86 234.121 1073.3 Q235.926 1073.74 237.662 1073.74 Q242.292 1073.74 244.722 1070.64 Q247.176 1067.51 247.523 1061.17 Q246.181 1063.16 244.121 1064.23 Q242.06 1065.29 239.56 1065.29 Q234.375 1065.29 231.343 1062.17 Q228.334 1059.02 228.334 1053.58 Q228.334 1048.26 231.482 1045.04 Q234.63 1041.82 239.861 1041.82 Q245.857 1041.82 249.005 1046.43 Q252.176 1051.01 252.176 1059.76 Q252.176 1067.93 248.287 1072.82 Q244.421 1077.68 237.871 1077.68 Q236.111 1077.68 234.306 1077.33 Q232.5 1076.98 230.556 1076.29 M239.861 1061.63 Q243.009 1061.63 244.838 1059.48 Q246.69 1057.33 246.69 1053.58 Q246.69 1049.85 244.838 1047.7 Q243.009 1045.52 239.861 1045.52 Q236.713 1045.52 234.861 1047.7 Q233.033 1049.85 233.033 1053.58 Q233.033 1057.33 234.861 1059.48 Q236.713 1061.63 239.861 1061.63 Z\" fill=\"#000000\" fill-rule=\"nonzero\" fill-opacity=\"1\" /><path clip-path=\"url(#clip250)\" d=\"M259.398 1042.45 L281.62 1042.45 L281.62 1044.44 L269.074 1077.01 L264.19 1077.01 L275.995 1046.38 L259.398 1046.38 L259.398 1042.45 Z\" fill=\"#000000\" fill-rule=\"nonzero\" fill-opacity=\"1\" /><path clip-path=\"url(#clip250)\" d=\"M290.787 1042.45 L309.143 1042.45 L309.143 1046.38 L295.069 1046.38 L295.069 1054.85 Q296.088 1054.51 297.106 1054.34 Q298.125 1054.16 299.143 1054.16 Q304.93 1054.16 308.31 1057.33 Q311.69 1060.5 311.69 1065.92 Q311.69 1071.5 308.217 1074.6 Q304.745 1077.68 298.426 1077.68 Q296.25 1077.68 293.981 1077.31 Q291.736 1076.94 289.329 1076.19 L289.329 1071.5 Q291.412 1072.63 293.634 1073.19 Q295.856 1073.74 298.333 1073.74 Q302.338 1073.74 304.676 1071.63 Q307.014 1069.53 307.014 1065.92 Q307.014 1062.31 304.676 1060.2 Q302.338 1058.09 298.333 1058.09 Q296.458 1058.09 294.583 1058.51 Q292.731 1058.93 290.787 1059.81 L290.787 1042.45 Z\" fill=\"#000000\" fill-rule=\"nonzero\" fill-opacity=\"1\" /><path clip-path=\"url(#clip250)\" d=\"M114.26 735.663 L143.936 735.663 L143.936 739.599 L114.26 739.599 L114.26 735.663 Z\" fill=\"#000000\" fill-rule=\"nonzero\" fill-opacity=\"1\" /><path clip-path=\"url(#clip250)\" d=\"M164.028 721.011 Q160.417 721.011 158.589 724.575 Q156.783 728.117 156.783 735.247 Q156.783 742.353 158.589 745.918 Q160.417 749.46 164.028 749.46 Q167.663 749.46 169.468 745.918 Q171.297 742.353 171.297 735.247 Q171.297 728.117 169.468 724.575 Q167.663 721.011 164.028 721.011 M164.028 717.307 Q169.839 717.307 172.894 721.913 Q175.973 726.497 175.973 735.247 Q175.973 743.973 172.894 748.58 Q169.839 753.163 164.028 753.163 Q158.218 753.163 155.14 748.58 Q152.084 743.973 152.084 735.247 Q152.084 726.497 155.14 721.913 Q158.218 717.307 164.028 717.307 Z\" fill=\"#000000\" fill-rule=\"nonzero\" fill-opacity=\"1\" /><path clip-path=\"url(#clip250)\" d=\"M184.19 746.612 L189.075 746.612 L189.075 752.492 L184.19 752.492 L184.19 746.612 Z\" fill=\"#000000\" fill-rule=\"nonzero\" fill-opacity=\"1\" /><path clip-path=\"url(#clip250)\" d=\"M199.399 751.774 L199.399 747.515 Q201.158 748.348 202.963 748.788 Q204.769 749.228 206.505 749.228 Q211.135 749.228 213.565 746.126 Q216.019 743.001 216.366 736.659 Q215.024 738.649 212.963 739.714 Q210.903 740.779 208.403 740.779 Q203.218 740.779 200.186 737.654 Q197.176 734.506 197.176 729.066 Q197.176 723.742 200.325 720.525 Q203.473 717.307 208.704 717.307 Q214.699 717.307 217.848 721.913 Q221.019 726.497 221.019 735.247 Q221.019 743.418 217.13 748.302 Q213.264 753.163 206.713 753.163 Q204.954 753.163 203.149 752.816 Q201.343 752.469 199.399 751.774 M208.704 737.122 Q211.852 737.122 213.681 734.969 Q215.533 732.816 215.533 729.066 Q215.533 725.339 213.681 723.187 Q211.852 721.011 208.704 721.011 Q205.556 721.011 203.704 723.187 Q201.875 725.339 201.875 729.066 Q201.875 732.816 203.704 734.969 Q205.556 737.122 208.704 737.122 Z\" fill=\"#000000\" fill-rule=\"nonzero\" fill-opacity=\"1\" /><path clip-path=\"url(#clip250)\" d=\"M229.56 751.774 L229.56 747.515 Q231.32 748.348 233.125 748.788 Q234.931 749.228 236.667 749.228 Q241.297 749.228 243.727 746.126 Q246.181 743.001 246.528 736.659 Q245.185 738.649 243.125 739.714 Q241.065 740.779 238.565 740.779 Q233.38 740.779 230.347 737.654 Q227.338 734.506 227.338 729.066 Q227.338 723.742 230.486 720.525 Q233.635 717.307 238.866 717.307 Q244.861 717.307 248.009 721.913 Q251.181 726.497 251.181 735.247 Q251.181 743.418 247.292 748.302 Q243.426 753.163 236.875 753.163 Q235.116 753.163 233.31 752.816 Q231.505 752.469 229.56 751.774 M238.866 737.122 Q242.014 737.122 243.843 734.969 Q245.695 732.816 245.695 729.066 Q245.695 725.339 243.843 723.187 Q242.014 721.011 238.866 721.011 Q235.718 721.011 233.866 723.187 Q232.037 725.339 232.037 729.066 Q232.037 732.816 233.866 734.969 Q235.718 737.122 238.866 737.122 Z\" fill=\"#000000\" fill-rule=\"nonzero\" fill-opacity=\"1\" /><path clip-path=\"url(#clip250)\" d=\"M259.63 717.932 L277.986 717.932 L277.986 721.867 L263.912 721.867 L263.912 730.339 Q264.931 729.992 265.949 729.83 Q266.968 729.645 267.986 729.645 Q273.773 729.645 277.153 732.816 Q280.532 735.987 280.532 741.404 Q280.532 746.983 277.06 750.085 Q273.588 753.163 267.269 753.163 Q265.093 753.163 262.824 752.793 Q260.579 752.423 258.171 751.682 L258.171 746.983 Q260.255 748.117 262.477 748.673 Q264.699 749.228 267.176 749.228 Q271.181 749.228 273.519 747.122 Q275.857 745.015 275.857 741.404 Q275.857 737.793 273.519 735.687 Q271.181 733.58 267.176 733.58 Q265.301 733.58 263.426 733.997 Q261.574 734.413 259.63 735.293 L259.63 717.932 Z\" fill=\"#000000\" fill-rule=\"nonzero\" fill-opacity=\"1\" /><path clip-path=\"url(#clip250)\" d=\"M299.745 721.011 Q296.134 721.011 294.305 724.575 Q292.5 728.117 292.5 735.247 Q292.5 742.353 294.305 745.918 Q296.134 749.46 299.745 749.46 Q303.38 749.46 305.185 745.918 Q307.014 742.353 307.014 735.247 Q307.014 728.117 305.185 724.575 Q303.38 721.011 299.745 721.011 M299.745 717.307 Q305.555 717.307 308.611 721.913 Q311.69 726.497 311.69 735.247 Q311.69 743.973 308.611 748.58 Q305.555 753.163 299.745 753.163 Q293.935 753.163 290.856 748.58 Q287.801 743.973 287.801 735.247 Q287.801 726.497 290.856 721.913 Q293.935 717.307 299.745 717.307 Z\" fill=\"#000000\" fill-rule=\"nonzero\" fill-opacity=\"1\" /><path clip-path=\"url(#clip250)\" d=\"M115.256 411.15 L144.931 411.15 L144.931 415.085 L115.256 415.085 L115.256 411.15 Z\" fill=\"#000000\" fill-rule=\"nonzero\" fill-opacity=\"1\" /><path clip-path=\"url(#clip250)\" d=\"M165.024 396.498 Q161.413 396.498 159.584 400.062 Q157.778 403.604 157.778 410.734 Q157.778 417.84 159.584 421.405 Q161.413 424.946 165.024 424.946 Q168.658 424.946 170.464 421.405 Q172.292 417.84 172.292 410.734 Q172.292 403.604 170.464 400.062 Q168.658 396.498 165.024 396.498 M165.024 392.794 Q170.834 392.794 173.889 397.4 Q176.968 401.984 176.968 410.734 Q176.968 419.46 173.889 424.067 Q170.834 428.65 165.024 428.65 Q159.214 428.65 156.135 424.067 Q153.079 419.46 153.079 410.734 Q153.079 401.984 156.135 397.4 Q159.214 392.794 165.024 392.794 Z\" fill=\"#000000\" fill-rule=\"nonzero\" fill-opacity=\"1\" /><path clip-path=\"url(#clip250)\" d=\"M185.186 422.099 L190.07 422.099 L190.07 427.979 L185.186 427.979 L185.186 422.099 Z\" fill=\"#000000\" fill-rule=\"nonzero\" fill-opacity=\"1\" /><path clip-path=\"url(#clip250)\" d=\"M200.394 427.261 L200.394 423.002 Q202.153 423.835 203.959 424.275 Q205.764 424.715 207.5 424.715 Q212.13 424.715 214.561 421.613 Q217.014 418.488 217.361 412.146 Q216.019 414.136 213.959 415.201 Q211.899 416.266 209.399 416.266 Q204.213 416.266 201.181 413.141 Q198.172 409.993 198.172 404.553 Q198.172 399.229 201.32 396.011 Q204.468 392.794 209.699 392.794 Q215.695 392.794 218.843 397.4 Q222.014 401.984 222.014 410.734 Q222.014 418.905 218.125 423.789 Q214.26 428.65 207.709 428.65 Q205.949 428.65 204.144 428.303 Q202.338 427.956 200.394 427.261 M209.699 412.609 Q212.848 412.609 214.676 410.456 Q216.528 408.303 216.528 404.553 Q216.528 400.826 214.676 398.673 Q212.848 396.498 209.699 396.498 Q206.551 396.498 204.699 398.673 Q202.871 400.826 202.871 404.553 Q202.871 408.303 204.699 410.456 Q206.551 412.609 209.699 412.609 Z\" fill=\"#000000\" fill-rule=\"nonzero\" fill-opacity=\"1\" /><path clip-path=\"url(#clip250)\" d=\"M230.556 427.261 L230.556 423.002 Q232.315 423.835 234.121 424.275 Q235.926 424.715 237.662 424.715 Q242.292 424.715 244.722 421.613 Q247.176 418.488 247.523 412.146 Q246.181 414.136 244.121 415.201 Q242.06 416.266 239.56 416.266 Q234.375 416.266 231.343 413.141 Q228.334 409.993 228.334 404.553 Q228.334 399.229 231.482 396.011 Q234.63 392.794 239.861 392.794 Q245.857 392.794 249.005 397.4 Q252.176 401.984 252.176 410.734 Q252.176 418.905 248.287 423.789 Q244.421 428.65 237.871 428.65 Q236.111 428.65 234.306 428.303 Q232.5 427.956 230.556 427.261 M239.861 412.609 Q243.009 412.609 244.838 410.456 Q246.69 408.303 246.69 404.553 Q246.69 400.826 244.838 398.673 Q243.009 396.498 239.861 396.498 Q236.713 396.498 234.861 398.673 Q233.033 400.826 233.033 404.553 Q233.033 408.303 234.861 410.456 Q236.713 412.609 239.861 412.609 Z\" fill=\"#000000\" fill-rule=\"nonzero\" fill-opacity=\"1\" /><path clip-path=\"url(#clip250)\" d=\"M264.607 424.044 L280.926 424.044 L280.926 427.979 L258.982 427.979 L258.982 424.044 Q261.644 421.289 266.227 416.659 Q270.833 412.007 272.014 410.664 Q274.259 408.141 275.139 406.405 Q276.042 404.646 276.042 402.956 Q276.042 400.201 274.097 398.465 Q272.176 396.729 269.074 396.729 Q266.875 396.729 264.421 397.493 Q261.991 398.257 259.213 399.808 L259.213 395.085 Q262.037 393.951 264.491 393.373 Q266.945 392.794 268.982 392.794 Q274.352 392.794 277.546 395.479 Q280.741 398.164 280.741 402.655 Q280.741 404.785 279.931 406.706 Q279.144 408.604 277.037 411.197 Q276.458 411.868 273.357 415.085 Q270.255 418.28 264.607 424.044 Z\" fill=\"#000000\" fill-rule=\"nonzero\" fill-opacity=\"1\" /><path clip-path=\"url(#clip250)\" d=\"M290.787 393.419 L309.143 393.419 L309.143 397.354 L295.069 397.354 L295.069 405.826 Q296.088 405.479 297.106 405.317 Q298.125 405.132 299.143 405.132 Q304.93 405.132 308.31 408.303 Q311.69 411.474 311.69 416.891 Q311.69 422.47 308.217 425.571 Q304.745 428.65 298.426 428.65 Q296.25 428.65 293.981 428.28 Q291.736 427.909 289.329 427.169 L289.329 422.47 Q291.412 423.604 293.634 424.159 Q295.856 424.715 298.333 424.715 Q302.338 424.715 304.676 422.608 Q307.014 420.502 307.014 416.891 Q307.014 413.28 304.676 411.173 Q302.338 409.067 298.333 409.067 Q296.458 409.067 294.583 409.484 Q292.731 409.9 290.787 410.78 L290.787 393.419 Z\" fill=\"#000000\" fill-rule=\"nonzero\" fill-opacity=\"1\" /><path clip-path=\"url(#clip250)\" d=\"M114.26 86.6371 L143.936 86.6371 L143.936 90.5722 L114.26 90.5722 L114.26 86.6371 Z\" fill=\"#000000\" fill-rule=\"nonzero\" fill-opacity=\"1\" /><path clip-path=\"url(#clip250)\" d=\"M164.028 71.9844 Q160.417 71.9844 158.589 75.5492 Q156.783 79.0908 156.783 86.2204 Q156.783 93.3268 158.589 96.8916 Q160.417 100.433 164.028 100.433 Q167.663 100.433 169.468 96.8916 Q171.297 93.3268 171.297 86.2204 Q171.297 79.0908 169.468 75.5492 Q167.663 71.9844 164.028 71.9844 M164.028 68.2807 Q169.839 68.2807 172.894 72.8871 Q175.973 77.4704 175.973 86.2204 Q175.973 94.9472 172.894 99.5537 Q169.839 104.137 164.028 104.137 Q158.218 104.137 155.14 99.5537 Q152.084 94.9472 152.084 86.2204 Q152.084 77.4704 155.14 72.8871 Q158.218 68.2807 164.028 68.2807 Z\" fill=\"#000000\" fill-rule=\"nonzero\" fill-opacity=\"1\" /><path clip-path=\"url(#clip250)\" d=\"M184.19 97.5861 L189.075 97.5861 L189.075 103.466 L184.19 103.466 L184.19 97.5861 Z\" fill=\"#000000\" fill-rule=\"nonzero\" fill-opacity=\"1\" /><path clip-path=\"url(#clip250)\" d=\"M199.399 102.748 L199.399 98.4888 Q201.158 99.3222 202.963 99.762 Q204.769 100.202 206.505 100.202 Q211.135 100.202 213.565 97.1 Q216.019 93.975 216.366 87.6324 Q215.024 89.6232 212.963 90.688 Q210.903 91.7528 208.403 91.7528 Q203.218 91.7528 200.186 88.6278 Q197.176 85.4797 197.176 80.0399 Q197.176 74.7158 200.325 71.4983 Q203.473 68.2807 208.704 68.2807 Q214.699 68.2807 217.848 72.8871 Q221.019 77.4704 221.019 86.2204 Q221.019 94.3916 217.13 99.2759 Q213.264 104.137 206.713 104.137 Q204.954 104.137 203.149 103.79 Q201.343 103.443 199.399 102.748 M208.704 88.0954 Q211.852 88.0954 213.681 85.9426 Q215.533 83.7899 215.533 80.0399 Q215.533 76.313 213.681 74.1603 Q211.852 71.9844 208.704 71.9844 Q205.556 71.9844 203.704 74.1603 Q201.875 76.313 201.875 80.0399 Q201.875 83.7899 203.704 85.9426 Q205.556 88.0954 208.704 88.0954 Z\" fill=\"#000000\" fill-rule=\"nonzero\" fill-opacity=\"1\" /><path clip-path=\"url(#clip250)\" d=\"M229.56 102.748 L229.56 98.4888 Q231.32 99.3222 233.125 99.762 Q234.931 100.202 236.667 100.202 Q241.297 100.202 243.727 97.1 Q246.181 93.975 246.528 87.6324 Q245.185 89.6232 243.125 90.688 Q241.065 91.7528 238.565 91.7528 Q233.38 91.7528 230.347 88.6278 Q227.338 85.4797 227.338 80.0399 Q227.338 74.7158 230.486 71.4983 Q233.635 68.2807 238.866 68.2807 Q244.861 68.2807 248.009 72.8871 Q251.181 77.4704 251.181 86.2204 Q251.181 94.3916 247.292 99.2759 Q243.426 104.137 236.875 104.137 Q235.116 104.137 233.31 103.79 Q231.505 103.443 229.56 102.748 M238.866 88.0954 Q242.014 88.0954 243.843 85.9426 Q245.695 83.7899 245.695 80.0399 Q245.695 76.313 243.843 74.1603 Q242.014 71.9844 238.866 71.9844 Q235.718 71.9844 233.866 74.1603 Q232.037 76.313 232.037 80.0399 Q232.037 83.7899 233.866 85.9426 Q235.718 88.0954 238.866 88.0954 Z\" fill=\"#000000\" fill-rule=\"nonzero\" fill-opacity=\"1\" /><path clip-path=\"url(#clip250)\" d=\"M269.583 71.9844 Q265.972 71.9844 264.144 75.5492 Q262.338 79.0908 262.338 86.2204 Q262.338 93.3268 264.144 96.8916 Q265.972 100.433 269.583 100.433 Q273.218 100.433 275.023 96.8916 Q276.852 93.3268 276.852 86.2204 Q276.852 79.0908 275.023 75.5492 Q273.218 71.9844 269.583 71.9844 M269.583 68.2807 Q275.394 68.2807 278.449 72.8871 Q281.528 77.4704 281.528 86.2204 Q281.528 94.9472 278.449 99.5537 Q275.394 104.137 269.583 104.137 Q263.773 104.137 260.695 99.5537 Q257.639 94.9472 257.639 86.2204 Q257.639 77.4704 260.695 72.8871 Q263.773 68.2807 269.583 68.2807 Z\" fill=\"#000000\" fill-rule=\"nonzero\" fill-opacity=\"1\" /><path clip-path=\"url(#clip250)\" d=\"M299.745 71.9844 Q296.134 71.9844 294.305 75.5492 Q292.5 79.0908 292.5 86.2204 Q292.5 93.3268 294.305 96.8916 Q296.134 100.433 299.745 100.433 Q303.38 100.433 305.185 96.8916 Q307.014 93.3268 307.014 86.2204 Q307.014 79.0908 305.185 75.5492 Q303.38 71.9844 299.745 71.9844 M299.745 68.2807 Q305.555 68.2807 308.611 72.8871 Q311.69 77.4704 311.69 86.2204 Q311.69 94.9472 308.611 99.5537 Q305.555 104.137 299.745 104.137 Q293.935 104.137 290.856 99.5537 Q287.801 94.9472 287.801 86.2204 Q287.801 77.4704 290.856 72.8871 Q293.935 68.2807 299.745 68.2807 Z\" fill=\"#000000\" fill-rule=\"nonzero\" fill-opacity=\"1\" /><path clip-path=\"url(#clip250)\" d=\"M24.1199 765.105 Q25.8912 765.105 26.9862 766.232 Q28.0812 767.327 28.0812 768.712 Q28.0812 769.71 27.4693 770.451 Q26.8574 771.159 25.7946 771.159 Q24.6996 771.159 23.5402 770.322 Q22.3807 769.485 22.2197 767.585 Q21.0281 768.841 21.0281 770.837 Q21.0281 771.836 21.6722 772.673 Q22.2841 773.478 23.2825 773.929 Q24.3131 774.412 30.1424 775.507 Q32.0425 775.861 33.8782 776.184 Q35.714 776.506 37.6463 776.892 L37.6463 771.417 Q37.6463 770.709 37.6785 770.419 Q37.7107 770.129 37.8718 769.903 Q38.0328 769.646 38.3871 769.646 Q39.2888 769.646 39.5143 770.064 Q39.7075 770.451 39.7075 771.61 L39.7075 777.279 L60.6091 781.24 Q61.221 781.336 63.1534 781.755 Q65.0535 782.142 68.1775 783.076 Q71.3337 784.01 73.2016 784.944 Q74.2644 785.459 75.2628 786.135 Q76.2934 786.779 77.3239 787.713 Q78.3545 788.647 78.9664 789.871 Q79.6106 791.095 79.6106 792.383 Q79.6106 794.573 78.3867 796.28 Q77.1629 797.987 75.0695 797.987 Q73.2982 797.987 72.2032 796.892 Q71.1082 795.765 71.1082 794.38 Q71.1082 793.381 71.7201 792.673 Q72.332 791.932 73.3948 791.932 Q73.8457 791.932 74.361 792.093 Q74.8763 792.254 75.456 792.609 Q76.0679 792.963 76.4866 793.736 Q76.9053 794.509 76.9697 795.571 Q78.1613 794.315 78.1613 792.383 Q78.1613 791.771 77.9036 791.224 Q77.6782 790.676 77.0985 790.225 Q76.5188 789.742 75.9391 789.388 Q75.3916 789.034 74.3288 788.679 Q73.2982 788.325 72.5253 788.1 Q71.7523 787.874 70.3675 787.584 Q68.9826 787.262 68.1453 787.101 Q67.3401 786.94 65.762 786.65 L39.7075 781.723 L39.7075 786.071 Q39.7075 786.844 39.6753 787.166 Q39.6431 787.456 39.4821 787.681 Q39.2888 787.906 38.9023 787.906 Q38.2904 787.906 38.0328 787.649 Q37.7429 787.359 37.7107 787.037 Q37.6463 786.715 37.6463 785.942 L37.6463 781.369 Q29.4982 779.823 27.3082 779.211 Q24.9894 778.502 23.3791 777.407 Q21.7366 776.312 20.9637 775.089 Q20.1907 773.865 19.9009 772.866 Q19.5788 771.836 19.5788 770.837 Q19.5788 768.583 20.8027 766.844 Q21.9943 765.105 24.1199 765.105 Z\" fill=\"#000000\" fill-rule=\"nonzero\" fill-opacity=\"1\" /><path clip-path=\"url(#clip250)\" d=\"M49.5947 757.277 Q38.4515 757.277 29.466 753.122 Q25.6979 751.351 22.5418 748.871 Q19.3856 746.391 18.0007 744.749 Q16.6159 743.106 16.6159 742.656 Q16.6159 742.011 17.26 741.979 Q17.5821 741.979 18.3872 742.849 Q29.2084 753.477 49.5947 753.445 Q70.0454 753.445 80.4479 743.106 Q81.5751 741.979 81.9294 741.979 Q82.5735 741.979 82.5735 742.656 Q82.5735 743.106 81.2531 744.685 Q79.9326 746.263 76.9053 748.71 Q73.8779 751.158 70.1742 752.929 Q61.1888 757.277 49.5947 757.277 Z\" fill=\"#000000\" fill-rule=\"nonzero\" fill-opacity=\"1\" /><path clip-path=\"url(#clip250)\" d=\"M41.2856 704.116 Q43.0891 704.116 44.1197 705.243 Q45.1181 706.37 45.1181 707.658 Q45.1181 708.882 44.4096 709.526 Q43.701 710.17 42.7993 710.17 Q41.5754 710.17 40.5126 709.269 Q39.4498 708.367 39.2244 707.014 Q38.3871 708.335 38.3871 710.299 Q38.3871 711.587 39.0634 712.715 Q39.7397 713.81 40.6093 714.486 Q41.4788 715.13 42.7348 715.71 Q43.9587 716.257 44.6994 716.483 Q45.4079 716.676 46.1809 716.837 L55.1985 719.091 Q59.4819 720.186 60.9956 720.186 Q62.8635 720.186 64.1195 719.285 Q65.3434 718.383 65.3434 716.579 Q65.3434 715.871 65.1501 715.066 Q64.9247 714.26 64.345 713.23 Q63.7331 712.167 62.8313 711.233 Q61.8973 710.267 60.3192 709.333 Q58.7412 708.399 56.7122 707.787 Q56.0037 707.594 56.0037 706.95 Q56.0037 706.145 56.6478 706.145 Q57.1953 706.145 58.3547 706.595 Q59.4819 707.014 60.9634 707.948 Q62.4126 708.85 63.7331 710.041 Q65.0213 711.233 65.9231 713.004 Q66.8248 714.776 66.8248 716.708 Q66.8248 719.478 65.3434 721.314 Q63.8619 723.149 61.8007 723.826 Q62.0906 723.987 62.477 724.212 Q62.8635 724.438 63.7331 725.114 Q64.5704 725.758 65.2145 726.499 Q65.8264 727.239 66.3095 728.399 Q66.8248 729.526 66.8248 730.75 Q66.8248 732.296 66.3739 733.681 Q65.9231 735.033 64.8925 735.999 Q63.8619 736.966 62.4448 736.966 Q60.8667 736.966 59.7717 735.903 Q58.6445 734.808 58.6445 733.326 Q58.6445 732.392 59.192 731.652 Q59.7395 730.879 60.9312 730.879 Q62.2516 730.879 63.25 731.78 Q64.2484 732.682 64.506 733.97 Q65.3434 732.65 65.3434 730.685 Q65.3434 728.56 63.4754 726.885 Q61.6075 725.21 58.4835 724.405 Q50.9795 722.409 47.6301 721.636 Q44.2485 720.863 42.7993 720.863 Q41.4466 720.863 40.5126 721.217 Q39.5787 721.571 39.16 722.183 Q38.7091 722.763 38.5481 723.31 Q38.3871 723.826 38.3871 724.405 Q38.3871 725.371 38.7735 726.466 Q39.16 727.529 40.0618 728.818 Q40.9313 730.074 42.7348 731.265 Q44.5384 732.457 47.0182 733.262 Q47.759 733.423 47.759 734.131 Q47.7268 734.904 47.0826 734.904 Q46.5351 734.904 45.4079 734.486 Q44.2485 734.035 42.7993 733.133 Q41.35 732.199 40.0618 731.008 Q38.7413 729.784 37.8396 728.012 Q36.9378 726.209 36.9378 724.276 Q36.9378 723.407 37.131 722.57 Q37.2921 721.7 37.7751 720.669 Q38.2582 719.607 39.321 718.673 Q40.3838 717.739 41.9297 717.159 Q41.189 716.773 40.4804 716.257 Q39.7719 715.71 38.9023 714.872 Q38.0006 714.003 37.4853 712.811 Q36.9378 711.587 36.9378 710.235 Q36.9378 708.914 37.2921 707.626 Q37.6141 706.338 38.6769 705.243 Q39.7075 704.116 41.2856 704.116 Z\" fill=\"#000000\" fill-rule=\"nonzero\" fill-opacity=\"1\" /><path clip-path=\"url(#clip250)\" d=\"M81.9294 697.764 Q81.6073 697.764 80.8022 696.927 Q69.981 686.299 49.5947 686.299 Q29.144 686.299 18.8059 696.508 Q17.6143 697.764 17.26 697.764 Q16.6159 697.764 16.6159 697.12 Q16.6159 696.669 17.9363 695.091 Q19.2568 693.481 22.2841 691.066 Q25.3115 688.618 29.0151 686.814 Q38.0006 682.467 49.5947 682.467 Q60.7379 682.467 69.7234 686.621 Q73.4914 688.393 76.6476 690.872 Q79.8038 693.352 81.1886 694.995 Q82.5735 696.637 82.5735 697.12 Q82.5735 697.764 81.9294 697.764 Z\" fill=\"#000000\" fill-rule=\"nonzero\" fill-opacity=\"1\" /><polyline clip-path=\"url(#clip252)\" style=\"stroke:#009af9; stroke-linecap:round; stroke-linejoin:round; stroke-width:8; stroke-opacity:1; fill:none\" points=\"404.437,86.1857 413.895,112.017 423.353,137.589 432.81,162.901 442.268,187.953 451.726,212.746 461.184,237.279 470.642,261.553 480.1,285.567 489.558,309.321 499.015,332.816 508.473,356.051 517.931,379.026 527.389,401.742 536.847,424.199 546.305,446.395 555.763,468.332 565.22,490.01 574.678,511.428 584.136,532.586 593.594,553.485 603.052,574.124 612.51,594.503 621.968,614.623 631.425,634.483 640.883,654.084 650.341,673.425 659.799,692.506 669.257,711.328 678.715,729.89 688.173,748.192 697.63,766.235 707.088,784.019 716.546,801.542 726.004,818.807 735.462,835.811 744.92,852.556 754.378,869.041 763.835,885.267 773.293,901.233 782.751,916.939 792.209,932.386 801.667,947.573 811.125,962.501 820.583,977.169 830.04,991.577 839.498,1005.73 848.956,1019.62 858.414,1033.24 867.872,1046.61 877.33,1059.73 886.788,1072.58 896.246,1085.17 905.703,1097.5 915.161,1109.57 924.619,1121.38 934.077,1132.94 943.535,1144.23 952.993,1155.26 962.451,1166.04 971.908,1176.55 981.366,1186.8 990.824,1196.8 1000.28,1206.53 1009.74,1216.01 1019.2,1225.23 1028.66,1234.18 1038.11,1242.88 1047.57,1251.32 1057.03,1259.5 1066.49,1267.41 1075.94,1275.07 1085.4,1282.47 1094.86,1289.61 1104.32,1296.49 1113.78,1303.11 1123.23,1309.47 1132.69,1315.57 1142.15,1321.41 1151.61,1326.99 1161.07,1332.32 1170.52,1337.38 1179.98,1342.18 1189.44,1346.72 1198.9,1351.01 1208.35,1355.03 1217.81,1358.8 1227.27,1362.3 1236.73,1365.55 1246.19,1368.53 1255.64,1371.26 1265.1,1373.72 1274.56,1375.93 1284.02,1377.88 1293.48,1379.57 1302.93,1380.99 1312.39,1382.16 1321.85,1383.07 1331.31,1383.72 1340.76,1384.11 1350.22,1384.24 1359.68,1384.11 1369.14,1383.72 1378.6,1383.07 1388.05,1382.16 1397.51,1380.99 1406.97,1379.57 1416.43,1377.88 1425.89,1375.93 1435.34,1373.72 1444.8,1371.26 1454.26,1368.53 1463.72,1365.55 1473.17,1362.3 1482.63,1358.8 1492.09,1355.03 1501.55,1351.01 1511.01,1346.72 1520.46,1342.18 1529.92,1337.38 1539.38,1332.32 1548.84,1326.99 1558.3,1321.41 1567.75,1315.57 1577.21,1309.47 1586.67,1303.11 1596.13,1296.49 1605.58,1289.61 1615.04,1282.47 1624.5,1275.07 1633.96,1267.41 1643.42,1259.5 1652.87,1251.32 1662.33,1242.88 1671.79,1234.18 1681.25,1225.23 1690.71,1216.01 1700.16,1206.53 1709.62,1196.8 1719.08,1186.8 1728.54,1176.55 1738,1166.04 1747.45,1155.26 1756.91,1144.23 1766.37,1132.94 1775.83,1121.38 1785.28,1109.57 1794.74,1097.5 1804.2,1085.17 1813.66,1072.58 1823.12,1059.73 1832.57,1046.61 1842.03,1033.24 1851.49,1019.62 1860.95,1005.73 1870.41,991.577 1879.86,977.169 1889.32,962.501 1898.78,947.573 1908.24,932.386 1917.69,916.939 1927.15,901.233 1936.61,885.267 1946.07,869.041 1955.53,852.556 1964.98,835.811 1974.44,818.807 1983.9,801.542 1993.36,784.019 2002.82,766.235 2012.27,748.192 2021.73,729.89 2031.19,711.328 2040.65,692.506 2050.1,673.425 2059.56,654.084 2069.02,634.483 2078.48,614.623 2087.94,594.503 2097.39,574.124 2106.85,553.485 2116.31,532.586 2125.77,511.428 2135.23,490.01 2144.68,468.332 2154.14,446.395 2163.6,424.199 2173.06,401.742 2182.51,379.026 2191.97,356.051 2201.43,332.816 2210.89,309.321 2220.35,285.567 2229.8,261.553 2239.26,237.279 2248.72,212.746 2258.18,187.953 2267.64,162.901 2277.09,137.589 2286.55,112.017 2296.01,86.1857 \"/>\n",
       "</svg>\n"
      ],
      "text/html": [
       "<?xml version=\"1.0\" encoding=\"utf-8\"?>\n",
       "<svg xmlns=\"http://www.w3.org/2000/svg\" xmlns:xlink=\"http://www.w3.org/1999/xlink\" width=\"600\" height=\"400\" viewBox=\"0 0 2400 1600\">\n",
       "<defs>\n",
       "  <clipPath id=\"clip300\">\n",
       "    <rect x=\"0\" y=\"0\" width=\"2400\" height=\"1600\"/>\n",
       "  </clipPath>\n",
       "</defs>\n",
       "<path clip-path=\"url(#clip300)\" d=\"M0 1600 L2400 1600 L2400 8.88178e-14 L0 8.88178e-14  Z\" fill=\"#ffffff\" fill-rule=\"evenodd\" fill-opacity=\"1\"/>\n",
       "<defs>\n",
       "  <clipPath id=\"clip301\">\n",
       "    <rect x=\"480\" y=\"0\" width=\"1681\" height=\"1600\"/>\n",
       "  </clipPath>\n",
       "</defs>\n",
       "<path clip-path=\"url(#clip300)\" d=\"M347.69 1423.18 L2352.76 1423.18 L2352.76 47.2441 L347.69 47.2441  Z\" fill=\"#ffffff\" fill-rule=\"evenodd\" fill-opacity=\"1\"/>\n",
       "<defs>\n",
       "  <clipPath id=\"clip302\">\n",
       "    <rect x=\"347\" y=\"47\" width=\"2006\" height=\"1377\"/>\n",
       "  </clipPath>\n",
       "</defs>\n",
       "<polyline clip-path=\"url(#clip302)\" style=\"stroke:#000000; stroke-linecap:round; stroke-linejoin:round; stroke-width:2; stroke-opacity:0.1; fill:none\" points=\"404.437,1423.18 404.437,47.2441 \"/>\n",
       "<polyline clip-path=\"url(#clip302)\" style=\"stroke:#000000; stroke-linecap:round; stroke-linejoin:round; stroke-width:2; stroke-opacity:0.1; fill:none\" points=\"877.33,1423.18 877.33,47.2441 \"/>\n",
       "<polyline clip-path=\"url(#clip302)\" style=\"stroke:#000000; stroke-linecap:round; stroke-linejoin:round; stroke-width:2; stroke-opacity:0.1; fill:none\" points=\"1350.22,1423.18 1350.22,47.2441 \"/>\n",
       "<polyline clip-path=\"url(#clip302)\" style=\"stroke:#000000; stroke-linecap:round; stroke-linejoin:round; stroke-width:2; stroke-opacity:0.1; fill:none\" points=\"1823.12,1423.18 1823.12,47.2441 \"/>\n",
       "<polyline clip-path=\"url(#clip302)\" style=\"stroke:#000000; stroke-linecap:round; stroke-linejoin:round; stroke-width:2; stroke-opacity:0.1; fill:none\" points=\"2296.01,1423.18 2296.01,47.2441 \"/>\n",
       "<polyline clip-path=\"url(#clip300)\" style=\"stroke:#000000; stroke-linecap:round; stroke-linejoin:round; stroke-width:4; stroke-opacity:1; fill:none\" points=\"347.69,1423.18 2352.76,1423.18 \"/>\n",
       "<polyline clip-path=\"url(#clip300)\" style=\"stroke:#000000; stroke-linecap:round; stroke-linejoin:round; stroke-width:4; stroke-opacity:1; fill:none\" points=\"404.437,1423.18 404.437,1404.28 \"/>\n",
       "<polyline clip-path=\"url(#clip300)\" style=\"stroke:#000000; stroke-linecap:round; stroke-linejoin:round; stroke-width:4; stroke-opacity:1; fill:none\" points=\"877.33,1423.18 877.33,1404.28 \"/>\n",
       "<polyline clip-path=\"url(#clip300)\" style=\"stroke:#000000; stroke-linecap:round; stroke-linejoin:round; stroke-width:4; stroke-opacity:1; fill:none\" points=\"1350.22,1423.18 1350.22,1404.28 \"/>\n",
       "<polyline clip-path=\"url(#clip300)\" style=\"stroke:#000000; stroke-linecap:round; stroke-linejoin:round; stroke-width:4; stroke-opacity:1; fill:none\" points=\"1823.12,1423.18 1823.12,1404.28 \"/>\n",
       "<polyline clip-path=\"url(#clip300)\" style=\"stroke:#000000; stroke-linecap:round; stroke-linejoin:round; stroke-width:4; stroke-opacity:1; fill:none\" points=\"2296.01,1423.18 2296.01,1404.28 \"/>\n",
       "<path clip-path=\"url(#clip300)\" d=\"M366.74 1454.1 Q363.129 1454.1 361.3 1457.66 Q359.495 1461.2 359.495 1468.33 Q359.495 1475.44 361.3 1479.01 Q363.129 1482.55 366.74 1482.55 Q370.374 1482.55 372.18 1479.01 Q374.009 1475.44 374.009 1468.33 Q374.009 1461.2 372.18 1457.66 Q370.374 1454.1 366.74 1454.1 M366.74 1450.39 Q372.55 1450.39 375.606 1455 Q378.685 1459.58 378.685 1468.33 Q378.685 1477.06 375.606 1481.67 Q372.55 1486.25 366.74 1486.25 Q360.93 1486.25 357.851 1481.67 Q354.796 1477.06 354.796 1468.33 Q354.796 1459.58 357.851 1455 Q360.93 1450.39 366.74 1450.39 Z\" fill=\"#000000\" fill-rule=\"nonzero\" fill-opacity=\"1\" /><path clip-path=\"url(#clip300)\" d=\"M386.902 1479.7 L391.786 1479.7 L391.786 1485.58 L386.902 1485.58 L386.902 1479.7 Z\" fill=\"#000000\" fill-rule=\"nonzero\" fill-opacity=\"1\" /><path clip-path=\"url(#clip300)\" d=\"M402.11 1484.86 L402.11 1480.6 Q403.87 1481.44 405.675 1481.88 Q407.481 1482.32 409.217 1482.32 Q413.846 1482.32 416.277 1479.21 Q418.731 1476.09 419.078 1469.75 Q417.735 1471.74 415.675 1472.8 Q413.615 1473.87 411.115 1473.87 Q405.93 1473.87 402.897 1470.74 Q399.888 1467.59 399.888 1462.15 Q399.888 1456.83 403.036 1453.61 Q406.184 1450.39 411.416 1450.39 Q417.411 1450.39 420.559 1455 Q423.731 1459.58 423.731 1468.33 Q423.731 1476.51 419.842 1481.39 Q415.976 1486.25 409.425 1486.25 Q407.666 1486.25 405.86 1485.9 Q404.055 1485.56 402.11 1484.86 M411.416 1470.21 Q414.564 1470.21 416.393 1468.06 Q418.245 1465.9 418.245 1462.15 Q418.245 1458.43 416.393 1456.27 Q414.564 1454.1 411.416 1454.1 Q408.268 1454.1 406.416 1456.27 Q404.587 1458.43 404.587 1462.15 Q404.587 1465.9 406.416 1468.06 Q408.268 1470.21 411.416 1470.21 Z\" fill=\"#000000\" fill-rule=\"nonzero\" fill-opacity=\"1\" /><path clip-path=\"url(#clip300)\" d=\"M442.133 1454.1 Q438.522 1454.1 436.694 1457.66 Q434.888 1461.2 434.888 1468.33 Q434.888 1475.44 436.694 1479.01 Q438.522 1482.55 442.133 1482.55 Q445.768 1482.55 447.573 1479.01 Q449.402 1475.44 449.402 1468.33 Q449.402 1461.2 447.573 1457.66 Q445.768 1454.1 442.133 1454.1 M442.133 1450.39 Q447.944 1450.39 450.999 1455 Q454.078 1459.58 454.078 1468.33 Q454.078 1477.06 450.999 1481.67 Q447.944 1486.25 442.133 1486.25 Q436.323 1486.25 433.245 1481.67 Q430.189 1477.06 430.189 1468.33 Q430.189 1459.58 433.245 1455 Q436.323 1450.39 442.133 1450.39 Z\" fill=\"#000000\" fill-rule=\"nonzero\" fill-opacity=\"1\" /><path clip-path=\"url(#clip300)\" d=\"M840.131 1454.1 Q836.52 1454.1 834.691 1457.66 Q832.886 1461.2 832.886 1468.33 Q832.886 1475.44 834.691 1479.01 Q836.52 1482.55 840.131 1482.55 Q843.765 1482.55 845.571 1479.01 Q847.399 1475.44 847.399 1468.33 Q847.399 1461.2 845.571 1457.66 Q843.765 1454.1 840.131 1454.1 M840.131 1450.39 Q845.941 1450.39 848.997 1455 Q852.075 1459.58 852.075 1468.33 Q852.075 1477.06 848.997 1481.67 Q845.941 1486.25 840.131 1486.25 Q834.321 1486.25 831.242 1481.67 Q828.187 1477.06 828.187 1468.33 Q828.187 1459.58 831.242 1455 Q834.321 1450.39 840.131 1450.39 Z\" fill=\"#000000\" fill-rule=\"nonzero\" fill-opacity=\"1\" /><path clip-path=\"url(#clip300)\" d=\"M860.293 1479.7 L865.177 1479.7 L865.177 1485.58 L860.293 1485.58 L860.293 1479.7 Z\" fill=\"#000000\" fill-rule=\"nonzero\" fill-opacity=\"1\" /><path clip-path=\"url(#clip300)\" d=\"M875.501 1484.86 L875.501 1480.6 Q877.26 1481.44 879.066 1481.88 Q880.871 1482.32 882.608 1482.32 Q887.237 1482.32 889.668 1479.21 Q892.121 1476.09 892.469 1469.75 Q891.126 1471.74 889.066 1472.8 Q887.006 1473.87 884.506 1473.87 Q879.321 1473.87 876.288 1470.74 Q873.279 1467.59 873.279 1462.15 Q873.279 1456.83 876.427 1453.61 Q879.575 1450.39 884.807 1450.39 Q890.802 1450.39 893.95 1455 Q897.121 1459.58 897.121 1468.33 Q897.121 1476.51 893.232 1481.39 Q889.367 1486.25 882.816 1486.25 Q881.057 1486.25 879.251 1485.9 Q877.446 1485.56 875.501 1484.86 M884.807 1470.21 Q887.955 1470.21 889.783 1468.06 Q891.635 1465.9 891.635 1462.15 Q891.635 1458.43 889.783 1456.27 Q887.955 1454.1 884.807 1454.1 Q881.658 1454.1 879.807 1456.27 Q877.978 1458.43 877.978 1462.15 Q877.978 1465.9 879.807 1468.06 Q881.658 1470.21 884.807 1470.21 Z\" fill=\"#000000\" fill-rule=\"nonzero\" fill-opacity=\"1\" /><path clip-path=\"url(#clip300)\" d=\"M905.57 1451.02 L923.927 1451.02 L923.927 1454.96 L909.853 1454.96 L909.853 1463.43 Q910.871 1463.08 911.89 1462.92 Q912.908 1462.73 913.927 1462.73 Q919.714 1462.73 923.093 1465.9 Q926.473 1469.08 926.473 1474.49 Q926.473 1480.07 923.001 1483.17 Q919.529 1486.25 913.209 1486.25 Q911.033 1486.25 908.765 1485.88 Q906.519 1485.51 904.112 1484.77 L904.112 1480.07 Q906.195 1481.2 908.418 1481.76 Q910.64 1482.32 913.117 1482.32 Q917.121 1482.32 919.459 1480.21 Q921.797 1478.1 921.797 1474.49 Q921.797 1470.88 919.459 1468.77 Q917.121 1466.67 913.117 1466.67 Q911.242 1466.67 909.367 1467.08 Q907.515 1467.5 905.57 1468.38 L905.57 1451.02 Z\" fill=\"#000000\" fill-rule=\"nonzero\" fill-opacity=\"1\" /><path clip-path=\"url(#clip300)\" d=\"M1302.29 1481.64 L1309.93 1481.64 L1309.93 1455.28 L1301.62 1456.95 L1301.62 1452.69 L1309.89 1451.02 L1314.56 1451.02 L1314.56 1481.64 L1322.2 1481.64 L1322.2 1485.58 L1302.29 1485.58 L1302.29 1481.64 Z\" fill=\"#000000\" fill-rule=\"nonzero\" fill-opacity=\"1\" /><path clip-path=\"url(#clip300)\" d=\"M1331.65 1479.7 L1336.53 1479.7 L1336.53 1485.58 L1331.65 1485.58 L1331.65 1479.7 Z\" fill=\"#000000\" fill-rule=\"nonzero\" fill-opacity=\"1\" /><path clip-path=\"url(#clip300)\" d=\"M1356.72 1454.1 Q1353.1 1454.1 1351.28 1457.66 Q1349.47 1461.2 1349.47 1468.33 Q1349.47 1475.44 1351.28 1479.01 Q1353.1 1482.55 1356.72 1482.55 Q1360.35 1482.55 1362.16 1479.01 Q1363.98 1475.44 1363.98 1468.33 Q1363.98 1461.2 1362.16 1457.66 Q1360.35 1454.1 1356.72 1454.1 M1356.72 1450.39 Q1362.53 1450.39 1365.58 1455 Q1368.66 1459.58 1368.66 1468.33 Q1368.66 1477.06 1365.58 1481.67 Q1362.53 1486.25 1356.72 1486.25 Q1350.91 1486.25 1347.83 1481.67 Q1344.77 1477.06 1344.77 1468.33 Q1344.77 1459.58 1347.83 1455 Q1350.91 1450.39 1356.72 1450.39 Z\" fill=\"#000000\" fill-rule=\"nonzero\" fill-opacity=\"1\" /><path clip-path=\"url(#clip300)\" d=\"M1386.88 1454.1 Q1383.27 1454.1 1381.44 1457.66 Q1379.63 1461.2 1379.63 1468.33 Q1379.63 1475.44 1381.44 1479.01 Q1383.27 1482.55 1386.88 1482.55 Q1390.51 1482.55 1392.32 1479.01 Q1394.15 1475.44 1394.15 1468.33 Q1394.15 1461.2 1392.32 1457.66 Q1390.51 1454.1 1386.88 1454.1 M1386.88 1450.39 Q1392.69 1450.39 1395.74 1455 Q1398.82 1459.58 1398.82 1468.33 Q1398.82 1477.06 1395.74 1481.67 Q1392.69 1486.25 1386.88 1486.25 Q1381.07 1486.25 1377.99 1481.67 Q1374.93 1477.06 1374.93 1468.33 Q1374.93 1459.58 1377.99 1455 Q1381.07 1450.39 1386.88 1450.39 Z\" fill=\"#000000\" fill-rule=\"nonzero\" fill-opacity=\"1\" /><path clip-path=\"url(#clip300)\" d=\"M1775.69 1481.64 L1783.32 1481.64 L1783.32 1455.28 L1775.01 1456.95 L1775.01 1452.69 L1783.28 1451.02 L1787.95 1451.02 L1787.95 1481.64 L1795.59 1481.64 L1795.59 1485.58 L1775.69 1485.58 L1775.69 1481.64 Z\" fill=\"#000000\" fill-rule=\"nonzero\" fill-opacity=\"1\" /><path clip-path=\"url(#clip300)\" d=\"M1805.04 1479.7 L1809.92 1479.7 L1809.92 1485.58 L1805.04 1485.58 L1805.04 1479.7 Z\" fill=\"#000000\" fill-rule=\"nonzero\" fill-opacity=\"1\" /><path clip-path=\"url(#clip300)\" d=\"M1830.11 1454.1 Q1826.5 1454.1 1824.67 1457.66 Q1822.86 1461.2 1822.86 1468.33 Q1822.86 1475.44 1824.67 1479.01 Q1826.5 1482.55 1830.11 1482.55 Q1833.74 1482.55 1835.55 1479.01 Q1837.37 1475.44 1837.37 1468.33 Q1837.37 1461.2 1835.55 1457.66 Q1833.74 1454.1 1830.11 1454.1 M1830.11 1450.39 Q1835.92 1450.39 1838.97 1455 Q1842.05 1459.58 1842.05 1468.33 Q1842.05 1477.06 1838.97 1481.67 Q1835.92 1486.25 1830.11 1486.25 Q1824.3 1486.25 1821.22 1481.67 Q1818.16 1477.06 1818.16 1468.33 Q1818.16 1459.58 1821.22 1455 Q1824.3 1450.39 1830.11 1450.39 Z\" fill=\"#000000\" fill-rule=\"nonzero\" fill-opacity=\"1\" /><path clip-path=\"url(#clip300)\" d=\"M1850.31 1451.02 L1868.67 1451.02 L1868.67 1454.96 L1854.6 1454.96 L1854.6 1463.43 Q1855.62 1463.08 1856.63 1462.92 Q1857.65 1462.73 1858.67 1462.73 Q1864.46 1462.73 1867.84 1465.9 Q1871.22 1469.08 1871.22 1474.49 Q1871.22 1480.07 1867.75 1483.17 Q1864.27 1486.25 1857.95 1486.25 Q1855.78 1486.25 1853.51 1485.88 Q1851.26 1485.51 1848.86 1484.77 L1848.86 1480.07 Q1850.94 1481.2 1853.16 1481.76 Q1855.38 1482.32 1857.86 1482.32 Q1861.87 1482.32 1864.2 1480.21 Q1866.54 1478.1 1866.54 1474.49 Q1866.54 1470.88 1864.2 1468.77 Q1861.87 1466.67 1857.86 1466.67 Q1855.99 1466.67 1854.11 1467.08 Q1852.26 1467.5 1850.31 1468.38 L1850.31 1451.02 Z\" fill=\"#000000\" fill-rule=\"nonzero\" fill-opacity=\"1\" /><path clip-path=\"url(#clip300)\" d=\"M2248.08 1481.64 L2255.72 1481.64 L2255.72 1455.28 L2247.41 1456.95 L2247.41 1452.69 L2255.67 1451.02 L2260.35 1451.02 L2260.35 1481.64 L2267.99 1481.64 L2267.99 1485.58 L2248.08 1485.58 L2248.08 1481.64 Z\" fill=\"#000000\" fill-rule=\"nonzero\" fill-opacity=\"1\" /><path clip-path=\"url(#clip300)\" d=\"M2277.43 1479.7 L2282.32 1479.7 L2282.32 1485.58 L2277.43 1485.58 L2277.43 1479.7 Z\" fill=\"#000000\" fill-rule=\"nonzero\" fill-opacity=\"1\" /><path clip-path=\"url(#clip300)\" d=\"M2293.31 1481.64 L2300.95 1481.64 L2300.95 1455.28 L2292.64 1456.95 L2292.64 1452.69 L2300.9 1451.02 L2305.58 1451.02 L2305.58 1481.64 L2313.22 1481.64 L2313.22 1485.58 L2293.31 1485.58 L2293.31 1481.64 Z\" fill=\"#000000\" fill-rule=\"nonzero\" fill-opacity=\"1\" /><path clip-path=\"url(#clip300)\" d=\"M2332.66 1454.1 Q2329.05 1454.1 2327.22 1457.66 Q2325.42 1461.2 2325.42 1468.33 Q2325.42 1475.44 2327.22 1479.01 Q2329.05 1482.55 2332.66 1482.55 Q2336.3 1482.55 2338.1 1479.01 Q2339.93 1475.44 2339.93 1468.33 Q2339.93 1461.2 2338.1 1457.66 Q2336.3 1454.1 2332.66 1454.1 M2332.66 1450.39 Q2338.47 1450.39 2341.53 1455 Q2344.61 1459.58 2344.61 1468.33 Q2344.61 1477.06 2341.53 1481.67 Q2338.47 1486.25 2332.66 1486.25 Q2326.85 1486.25 2323.77 1481.67 Q2320.72 1477.06 2320.72 1468.33 Q2320.72 1459.58 2323.77 1455 Q2326.85 1450.39 2332.66 1450.39 Z\" fill=\"#000000\" fill-rule=\"nonzero\" fill-opacity=\"1\" /><path clip-path=\"url(#clip300)\" d=\"M1364.4 1528.8 Q1364.4 1530.61 1363.27 1531.64 Q1362.14 1532.64 1360.85 1532.64 Q1359.63 1532.64 1358.99 1531.93 Q1358.34 1531.22 1358.34 1530.32 Q1358.34 1529.09 1359.24 1528.03 Q1360.15 1526.97 1361.5 1526.74 Q1360.18 1525.91 1358.21 1525.91 Q1356.92 1525.91 1355.8 1526.58 Q1354.7 1527.26 1354.03 1528.13 Q1353.38 1529 1352.8 1530.25 Q1352.25 1531.48 1352.03 1532.22 Q1351.84 1532.93 1351.67 1533.7 L1349.42 1542.72 Q1348.33 1547 1348.33 1548.51 Q1348.33 1550.38 1349.23 1551.64 Q1350.13 1552.86 1351.93 1552.86 Q1352.64 1552.86 1353.45 1552.67 Q1354.25 1552.44 1355.28 1551.86 Q1356.34 1551.25 1357.28 1550.35 Q1358.24 1549.42 1359.18 1547.84 Q1360.11 1546.26 1360.72 1544.23 Q1360.92 1543.52 1361.56 1543.52 Q1362.37 1543.52 1362.37 1544.17 Q1362.37 1544.71 1361.92 1545.87 Q1361.5 1547 1360.56 1548.48 Q1359.66 1549.93 1358.47 1551.25 Q1357.28 1552.54 1355.51 1553.44 Q1353.74 1554.34 1351.8 1554.34 Q1349.03 1554.34 1347.2 1552.86 Q1345.36 1551.38 1344.69 1549.32 Q1344.53 1549.61 1344.3 1550 Q1344.07 1550.38 1343.4 1551.25 Q1342.75 1552.09 1342.01 1552.73 Q1341.27 1553.34 1340.11 1553.83 Q1338.99 1554.34 1337.76 1554.34 Q1336.22 1554.34 1334.83 1553.89 Q1333.48 1553.44 1332.51 1552.41 Q1331.55 1551.38 1331.55 1549.96 Q1331.55 1548.38 1332.61 1547.29 Q1333.7 1546.16 1335.19 1546.16 Q1336.12 1546.16 1336.86 1546.71 Q1337.63 1547.26 1337.63 1548.45 Q1337.63 1549.77 1336.73 1550.77 Q1335.83 1551.77 1334.54 1552.02 Q1335.86 1552.86 1337.83 1552.86 Q1339.95 1552.86 1341.63 1550.99 Q1343.3 1549.13 1344.11 1546 Q1346.1 1538.5 1346.88 1535.15 Q1347.65 1531.77 1347.65 1530.32 Q1347.65 1528.96 1347.29 1528.03 Q1346.94 1527.1 1346.33 1526.68 Q1345.75 1526.23 1345.2 1526.07 Q1344.69 1525.91 1344.11 1525.91 Q1343.14 1525.91 1342.05 1526.29 Q1340.98 1526.68 1339.69 1527.58 Q1338.44 1528.45 1337.25 1530.25 Q1336.06 1532.06 1335.25 1534.54 Q1335.09 1535.28 1334.38 1535.28 Q1333.61 1535.24 1333.61 1534.6 Q1333.61 1534.05 1334.03 1532.93 Q1334.48 1531.77 1335.38 1530.32 Q1336.31 1528.87 1337.5 1527.58 Q1338.73 1526.26 1340.5 1525.36 Q1342.3 1524.46 1344.24 1524.46 Q1345.1 1524.46 1345.94 1524.65 Q1346.81 1524.81 1347.84 1525.29 Q1348.91 1525.78 1349.84 1526.84 Q1350.77 1527.9 1351.35 1529.45 Q1351.74 1528.71 1352.25 1528 Q1352.8 1527.29 1353.64 1526.42 Q1354.51 1525.52 1355.7 1525 Q1356.92 1524.46 1358.28 1524.46 Q1359.6 1524.46 1360.89 1524.81 Q1362.17 1525.13 1363.27 1526.19 Q1364.4 1527.23 1364.4 1528.8 Z\" fill=\"#000000\" fill-rule=\"nonzero\" fill-opacity=\"1\" /><polyline clip-path=\"url(#clip302)\" style=\"stroke:#000000; stroke-linecap:round; stroke-linejoin:round; stroke-width:2; stroke-opacity:0.1; fill:none\" points=\"347.69,1384.24 2352.76,1384.24 \"/>\n",
       "<polyline clip-path=\"url(#clip302)\" style=\"stroke:#000000; stroke-linecap:round; stroke-linejoin:round; stroke-width:2; stroke-opacity:0.1; fill:none\" points=\"347.69,1059.73 2352.76,1059.73 \"/>\n",
       "<polyline clip-path=\"url(#clip302)\" style=\"stroke:#000000; stroke-linecap:round; stroke-linejoin:round; stroke-width:2; stroke-opacity:0.1; fill:none\" points=\"347.69,735.212 2352.76,735.212 \"/>\n",
       "<polyline clip-path=\"url(#clip302)\" style=\"stroke:#000000; stroke-linecap:round; stroke-linejoin:round; stroke-width:2; stroke-opacity:0.1; fill:none\" points=\"347.69,410.699 2352.76,410.699 \"/>\n",
       "<polyline clip-path=\"url(#clip302)\" style=\"stroke:#000000; stroke-linecap:round; stroke-linejoin:round; stroke-width:2; stroke-opacity:0.1; fill:none\" points=\"347.69,86.1857 2352.76,86.1857 \"/>\n",
       "<polyline clip-path=\"url(#clip300)\" style=\"stroke:#000000; stroke-linecap:round; stroke-linejoin:round; stroke-width:4; stroke-opacity:1; fill:none\" points=\"347.69,1423.18 347.69,47.2441 \"/>\n",
       "<polyline clip-path=\"url(#clip300)\" style=\"stroke:#000000; stroke-linecap:round; stroke-linejoin:round; stroke-width:4; stroke-opacity:1; fill:none\" points=\"347.69,1384.24 366.587,1384.24 \"/>\n",
       "<polyline clip-path=\"url(#clip300)\" style=\"stroke:#000000; stroke-linecap:round; stroke-linejoin:round; stroke-width:4; stroke-opacity:1; fill:none\" points=\"347.69,1059.73 366.587,1059.73 \"/>\n",
       "<polyline clip-path=\"url(#clip300)\" style=\"stroke:#000000; stroke-linecap:round; stroke-linejoin:round; stroke-width:4; stroke-opacity:1; fill:none\" points=\"347.69,735.212 366.587,735.212 \"/>\n",
       "<polyline clip-path=\"url(#clip300)\" style=\"stroke:#000000; stroke-linecap:round; stroke-linejoin:round; stroke-width:4; stroke-opacity:1; fill:none\" points=\"347.69,410.699 366.587,410.699 \"/>\n",
       "<polyline clip-path=\"url(#clip300)\" style=\"stroke:#000000; stroke-linecap:round; stroke-linejoin:round; stroke-width:4; stroke-opacity:1; fill:none\" points=\"347.69,86.1857 366.587,86.1857 \"/>\n",
       "<path clip-path=\"url(#clip300)\" d=\"M114.26 1384.69 L143.936 1384.69 L143.936 1388.62 L114.26 1388.62 L114.26 1384.69 Z\" fill=\"#000000\" fill-rule=\"nonzero\" fill-opacity=\"1\" /><path clip-path=\"url(#clip300)\" d=\"M154.839 1397.58 L162.477 1397.58 L162.477 1371.22 L154.167 1372.88 L154.167 1368.62 L162.431 1366.96 L167.107 1366.96 L167.107 1397.58 L174.746 1397.58 L174.746 1401.52 L154.839 1401.52 L154.839 1397.58 Z\" fill=\"#000000\" fill-rule=\"nonzero\" fill-opacity=\"1\" /><path clip-path=\"url(#clip300)\" d=\"M184.19 1395.64 L189.075 1395.64 L189.075 1401.52 L184.19 1401.52 L184.19 1395.64 Z\" fill=\"#000000\" fill-rule=\"nonzero\" fill-opacity=\"1\" /><path clip-path=\"url(#clip300)\" d=\"M209.26 1370.04 Q205.649 1370.04 203.82 1373.6 Q202.014 1377.14 202.014 1384.27 Q202.014 1391.38 203.82 1394.94 Q205.649 1398.49 209.26 1398.49 Q212.894 1398.49 214.699 1394.94 Q216.528 1391.38 216.528 1384.27 Q216.528 1377.14 214.699 1373.6 Q212.894 1370.04 209.26 1370.04 M209.26 1366.33 Q215.07 1366.33 218.125 1370.94 Q221.204 1375.52 221.204 1384.27 Q221.204 1393 218.125 1397.61 Q215.07 1402.19 209.26 1402.19 Q203.449 1402.19 200.371 1397.61 Q197.315 1393 197.315 1384.27 Q197.315 1375.52 200.371 1370.94 Q203.449 1366.33 209.26 1366.33 Z\" fill=\"#000000\" fill-rule=\"nonzero\" fill-opacity=\"1\" /><path clip-path=\"url(#clip300)\" d=\"M239.422 1370.04 Q235.81 1370.04 233.982 1373.6 Q232.176 1377.14 232.176 1384.27 Q232.176 1391.38 233.982 1394.94 Q235.81 1398.49 239.422 1398.49 Q243.056 1398.49 244.861 1394.94 Q246.69 1391.38 246.69 1384.27 Q246.69 1377.14 244.861 1373.6 Q243.056 1370.04 239.422 1370.04 M239.422 1366.33 Q245.232 1366.33 248.287 1370.94 Q251.366 1375.52 251.366 1384.27 Q251.366 1393 248.287 1397.61 Q245.232 1402.19 239.422 1402.19 Q233.611 1402.19 230.533 1397.61 Q227.477 1393 227.477 1384.27 Q227.477 1375.52 230.533 1370.94 Q233.611 1366.33 239.422 1366.33 Z\" fill=\"#000000\" fill-rule=\"nonzero\" fill-opacity=\"1\" /><path clip-path=\"url(#clip300)\" d=\"M269.583 1370.04 Q265.972 1370.04 264.144 1373.6 Q262.338 1377.14 262.338 1384.27 Q262.338 1391.38 264.144 1394.94 Q265.972 1398.49 269.583 1398.49 Q273.218 1398.49 275.023 1394.94 Q276.852 1391.38 276.852 1384.27 Q276.852 1377.14 275.023 1373.6 Q273.218 1370.04 269.583 1370.04 M269.583 1366.33 Q275.394 1366.33 278.449 1370.94 Q281.528 1375.52 281.528 1384.27 Q281.528 1393 278.449 1397.61 Q275.394 1402.19 269.583 1402.19 Q263.773 1402.19 260.695 1397.61 Q257.639 1393 257.639 1384.27 Q257.639 1375.52 260.695 1370.94 Q263.773 1366.33 269.583 1366.33 Z\" fill=\"#000000\" fill-rule=\"nonzero\" fill-opacity=\"1\" /><path clip-path=\"url(#clip300)\" d=\"M299.745 1370.04 Q296.134 1370.04 294.305 1373.6 Q292.5 1377.14 292.5 1384.27 Q292.5 1391.38 294.305 1394.94 Q296.134 1398.49 299.745 1398.49 Q303.38 1398.49 305.185 1394.94 Q307.014 1391.38 307.014 1384.27 Q307.014 1377.14 305.185 1373.6 Q303.38 1370.04 299.745 1370.04 M299.745 1366.33 Q305.555 1366.33 308.611 1370.94 Q311.69 1375.52 311.69 1384.27 Q311.69 1393 308.611 1397.61 Q305.555 1402.19 299.745 1402.19 Q293.935 1402.19 290.856 1397.61 Q287.801 1393 287.801 1384.27 Q287.801 1375.52 290.856 1370.94 Q293.935 1366.33 299.745 1366.33 Z\" fill=\"#000000\" fill-rule=\"nonzero\" fill-opacity=\"1\" /><path clip-path=\"url(#clip300)\" d=\"M115.256 1060.18 L144.931 1060.18 L144.931 1064.11 L115.256 1064.11 L115.256 1060.18 Z\" fill=\"#000000\" fill-rule=\"nonzero\" fill-opacity=\"1\" /><path clip-path=\"url(#clip300)\" d=\"M165.024 1045.52 Q161.413 1045.52 159.584 1049.09 Q157.778 1052.63 157.778 1059.76 Q157.778 1066.87 159.584 1070.43 Q161.413 1073.97 165.024 1073.97 Q168.658 1073.97 170.464 1070.43 Q172.292 1066.87 172.292 1059.76 Q172.292 1052.63 170.464 1049.09 Q168.658 1045.52 165.024 1045.52 M165.024 1041.82 Q170.834 1041.82 173.889 1046.43 Q176.968 1051.01 176.968 1059.76 Q176.968 1068.49 173.889 1073.09 Q170.834 1077.68 165.024 1077.68 Q159.214 1077.68 156.135 1073.09 Q153.079 1068.49 153.079 1059.76 Q153.079 1051.01 156.135 1046.43 Q159.214 1041.82 165.024 1041.82 Z\" fill=\"#000000\" fill-rule=\"nonzero\" fill-opacity=\"1\" /><path clip-path=\"url(#clip300)\" d=\"M185.186 1071.13 L190.07 1071.13 L190.07 1077.01 L185.186 1077.01 L185.186 1071.13 Z\" fill=\"#000000\" fill-rule=\"nonzero\" fill-opacity=\"1\" /><path clip-path=\"url(#clip300)\" d=\"M200.394 1076.29 L200.394 1072.03 Q202.153 1072.86 203.959 1073.3 Q205.764 1073.74 207.5 1073.74 Q212.13 1073.74 214.561 1070.64 Q217.014 1067.51 217.361 1061.17 Q216.019 1063.16 213.959 1064.23 Q211.899 1065.29 209.399 1065.29 Q204.213 1065.29 201.181 1062.17 Q198.172 1059.02 198.172 1053.58 Q198.172 1048.26 201.32 1045.04 Q204.468 1041.82 209.699 1041.82 Q215.695 1041.82 218.843 1046.43 Q222.014 1051.01 222.014 1059.76 Q222.014 1067.93 218.125 1072.82 Q214.26 1077.68 207.709 1077.68 Q205.949 1077.68 204.144 1077.33 Q202.338 1076.98 200.394 1076.29 M209.699 1061.63 Q212.848 1061.63 214.676 1059.48 Q216.528 1057.33 216.528 1053.58 Q216.528 1049.85 214.676 1047.7 Q212.848 1045.52 209.699 1045.52 Q206.551 1045.52 204.699 1047.7 Q202.871 1049.85 202.871 1053.58 Q202.871 1057.33 204.699 1059.48 Q206.551 1061.63 209.699 1061.63 Z\" fill=\"#000000\" fill-rule=\"nonzero\" fill-opacity=\"1\" /><path clip-path=\"url(#clip300)\" d=\"M230.556 1076.29 L230.556 1072.03 Q232.315 1072.86 234.121 1073.3 Q235.926 1073.74 237.662 1073.74 Q242.292 1073.74 244.722 1070.64 Q247.176 1067.51 247.523 1061.17 Q246.181 1063.16 244.121 1064.23 Q242.06 1065.29 239.56 1065.29 Q234.375 1065.29 231.343 1062.17 Q228.334 1059.02 228.334 1053.58 Q228.334 1048.26 231.482 1045.04 Q234.63 1041.82 239.861 1041.82 Q245.857 1041.82 249.005 1046.43 Q252.176 1051.01 252.176 1059.76 Q252.176 1067.93 248.287 1072.82 Q244.421 1077.68 237.871 1077.68 Q236.111 1077.68 234.306 1077.33 Q232.5 1076.98 230.556 1076.29 M239.861 1061.63 Q243.009 1061.63 244.838 1059.48 Q246.69 1057.33 246.69 1053.58 Q246.69 1049.85 244.838 1047.7 Q243.009 1045.52 239.861 1045.52 Q236.713 1045.52 234.861 1047.7 Q233.033 1049.85 233.033 1053.58 Q233.033 1057.33 234.861 1059.48 Q236.713 1061.63 239.861 1061.63 Z\" fill=\"#000000\" fill-rule=\"nonzero\" fill-opacity=\"1\" /><path clip-path=\"url(#clip300)\" d=\"M259.398 1042.45 L281.62 1042.45 L281.62 1044.44 L269.074 1077.01 L264.19 1077.01 L275.995 1046.38 L259.398 1046.38 L259.398 1042.45 Z\" fill=\"#000000\" fill-rule=\"nonzero\" fill-opacity=\"1\" /><path clip-path=\"url(#clip300)\" d=\"M290.787 1042.45 L309.143 1042.45 L309.143 1046.38 L295.069 1046.38 L295.069 1054.85 Q296.088 1054.51 297.106 1054.34 Q298.125 1054.16 299.143 1054.16 Q304.93 1054.16 308.31 1057.33 Q311.69 1060.5 311.69 1065.92 Q311.69 1071.5 308.217 1074.6 Q304.745 1077.68 298.426 1077.68 Q296.25 1077.68 293.981 1077.31 Q291.736 1076.94 289.329 1076.19 L289.329 1071.5 Q291.412 1072.63 293.634 1073.19 Q295.856 1073.74 298.333 1073.74 Q302.338 1073.74 304.676 1071.63 Q307.014 1069.53 307.014 1065.92 Q307.014 1062.31 304.676 1060.2 Q302.338 1058.09 298.333 1058.09 Q296.458 1058.09 294.583 1058.51 Q292.731 1058.93 290.787 1059.81 L290.787 1042.45 Z\" fill=\"#000000\" fill-rule=\"nonzero\" fill-opacity=\"1\" /><path clip-path=\"url(#clip300)\" d=\"M114.26 735.663 L143.936 735.663 L143.936 739.599 L114.26 739.599 L114.26 735.663 Z\" fill=\"#000000\" fill-rule=\"nonzero\" fill-opacity=\"1\" /><path clip-path=\"url(#clip300)\" d=\"M164.028 721.011 Q160.417 721.011 158.589 724.575 Q156.783 728.117 156.783 735.247 Q156.783 742.353 158.589 745.918 Q160.417 749.46 164.028 749.46 Q167.663 749.46 169.468 745.918 Q171.297 742.353 171.297 735.247 Q171.297 728.117 169.468 724.575 Q167.663 721.011 164.028 721.011 M164.028 717.307 Q169.839 717.307 172.894 721.913 Q175.973 726.497 175.973 735.247 Q175.973 743.973 172.894 748.58 Q169.839 753.163 164.028 753.163 Q158.218 753.163 155.14 748.58 Q152.084 743.973 152.084 735.247 Q152.084 726.497 155.14 721.913 Q158.218 717.307 164.028 717.307 Z\" fill=\"#000000\" fill-rule=\"nonzero\" fill-opacity=\"1\" /><path clip-path=\"url(#clip300)\" d=\"M184.19 746.612 L189.075 746.612 L189.075 752.492 L184.19 752.492 L184.19 746.612 Z\" fill=\"#000000\" fill-rule=\"nonzero\" fill-opacity=\"1\" /><path clip-path=\"url(#clip300)\" d=\"M199.399 751.774 L199.399 747.515 Q201.158 748.348 202.963 748.788 Q204.769 749.228 206.505 749.228 Q211.135 749.228 213.565 746.126 Q216.019 743.001 216.366 736.659 Q215.024 738.649 212.963 739.714 Q210.903 740.779 208.403 740.779 Q203.218 740.779 200.186 737.654 Q197.176 734.506 197.176 729.066 Q197.176 723.742 200.325 720.525 Q203.473 717.307 208.704 717.307 Q214.699 717.307 217.848 721.913 Q221.019 726.497 221.019 735.247 Q221.019 743.418 217.13 748.302 Q213.264 753.163 206.713 753.163 Q204.954 753.163 203.149 752.816 Q201.343 752.469 199.399 751.774 M208.704 737.122 Q211.852 737.122 213.681 734.969 Q215.533 732.816 215.533 729.066 Q215.533 725.339 213.681 723.187 Q211.852 721.011 208.704 721.011 Q205.556 721.011 203.704 723.187 Q201.875 725.339 201.875 729.066 Q201.875 732.816 203.704 734.969 Q205.556 737.122 208.704 737.122 Z\" fill=\"#000000\" fill-rule=\"nonzero\" fill-opacity=\"1\" /><path clip-path=\"url(#clip300)\" d=\"M229.56 751.774 L229.56 747.515 Q231.32 748.348 233.125 748.788 Q234.931 749.228 236.667 749.228 Q241.297 749.228 243.727 746.126 Q246.181 743.001 246.528 736.659 Q245.185 738.649 243.125 739.714 Q241.065 740.779 238.565 740.779 Q233.38 740.779 230.347 737.654 Q227.338 734.506 227.338 729.066 Q227.338 723.742 230.486 720.525 Q233.635 717.307 238.866 717.307 Q244.861 717.307 248.009 721.913 Q251.181 726.497 251.181 735.247 Q251.181 743.418 247.292 748.302 Q243.426 753.163 236.875 753.163 Q235.116 753.163 233.31 752.816 Q231.505 752.469 229.56 751.774 M238.866 737.122 Q242.014 737.122 243.843 734.969 Q245.695 732.816 245.695 729.066 Q245.695 725.339 243.843 723.187 Q242.014 721.011 238.866 721.011 Q235.718 721.011 233.866 723.187 Q232.037 725.339 232.037 729.066 Q232.037 732.816 233.866 734.969 Q235.718 737.122 238.866 737.122 Z\" fill=\"#000000\" fill-rule=\"nonzero\" fill-opacity=\"1\" /><path clip-path=\"url(#clip300)\" d=\"M259.63 717.932 L277.986 717.932 L277.986 721.867 L263.912 721.867 L263.912 730.339 Q264.931 729.992 265.949 729.83 Q266.968 729.645 267.986 729.645 Q273.773 729.645 277.153 732.816 Q280.532 735.987 280.532 741.404 Q280.532 746.983 277.06 750.085 Q273.588 753.163 267.269 753.163 Q265.093 753.163 262.824 752.793 Q260.579 752.423 258.171 751.682 L258.171 746.983 Q260.255 748.117 262.477 748.673 Q264.699 749.228 267.176 749.228 Q271.181 749.228 273.519 747.122 Q275.857 745.015 275.857 741.404 Q275.857 737.793 273.519 735.687 Q271.181 733.58 267.176 733.58 Q265.301 733.58 263.426 733.997 Q261.574 734.413 259.63 735.293 L259.63 717.932 Z\" fill=\"#000000\" fill-rule=\"nonzero\" fill-opacity=\"1\" /><path clip-path=\"url(#clip300)\" d=\"M299.745 721.011 Q296.134 721.011 294.305 724.575 Q292.5 728.117 292.5 735.247 Q292.5 742.353 294.305 745.918 Q296.134 749.46 299.745 749.46 Q303.38 749.46 305.185 745.918 Q307.014 742.353 307.014 735.247 Q307.014 728.117 305.185 724.575 Q303.38 721.011 299.745 721.011 M299.745 717.307 Q305.555 717.307 308.611 721.913 Q311.69 726.497 311.69 735.247 Q311.69 743.973 308.611 748.58 Q305.555 753.163 299.745 753.163 Q293.935 753.163 290.856 748.58 Q287.801 743.973 287.801 735.247 Q287.801 726.497 290.856 721.913 Q293.935 717.307 299.745 717.307 Z\" fill=\"#000000\" fill-rule=\"nonzero\" fill-opacity=\"1\" /><path clip-path=\"url(#clip300)\" d=\"M115.256 411.15 L144.931 411.15 L144.931 415.085 L115.256 415.085 L115.256 411.15 Z\" fill=\"#000000\" fill-rule=\"nonzero\" fill-opacity=\"1\" /><path clip-path=\"url(#clip300)\" d=\"M165.024 396.498 Q161.413 396.498 159.584 400.062 Q157.778 403.604 157.778 410.734 Q157.778 417.84 159.584 421.405 Q161.413 424.946 165.024 424.946 Q168.658 424.946 170.464 421.405 Q172.292 417.84 172.292 410.734 Q172.292 403.604 170.464 400.062 Q168.658 396.498 165.024 396.498 M165.024 392.794 Q170.834 392.794 173.889 397.4 Q176.968 401.984 176.968 410.734 Q176.968 419.46 173.889 424.067 Q170.834 428.65 165.024 428.65 Q159.214 428.65 156.135 424.067 Q153.079 419.46 153.079 410.734 Q153.079 401.984 156.135 397.4 Q159.214 392.794 165.024 392.794 Z\" fill=\"#000000\" fill-rule=\"nonzero\" fill-opacity=\"1\" /><path clip-path=\"url(#clip300)\" d=\"M185.186 422.099 L190.07 422.099 L190.07 427.979 L185.186 427.979 L185.186 422.099 Z\" fill=\"#000000\" fill-rule=\"nonzero\" fill-opacity=\"1\" /><path clip-path=\"url(#clip300)\" d=\"M200.394 427.261 L200.394 423.002 Q202.153 423.835 203.959 424.275 Q205.764 424.715 207.5 424.715 Q212.13 424.715 214.561 421.613 Q217.014 418.488 217.361 412.146 Q216.019 414.136 213.959 415.201 Q211.899 416.266 209.399 416.266 Q204.213 416.266 201.181 413.141 Q198.172 409.993 198.172 404.553 Q198.172 399.229 201.32 396.011 Q204.468 392.794 209.699 392.794 Q215.695 392.794 218.843 397.4 Q222.014 401.984 222.014 410.734 Q222.014 418.905 218.125 423.789 Q214.26 428.65 207.709 428.65 Q205.949 428.65 204.144 428.303 Q202.338 427.956 200.394 427.261 M209.699 412.609 Q212.848 412.609 214.676 410.456 Q216.528 408.303 216.528 404.553 Q216.528 400.826 214.676 398.673 Q212.848 396.498 209.699 396.498 Q206.551 396.498 204.699 398.673 Q202.871 400.826 202.871 404.553 Q202.871 408.303 204.699 410.456 Q206.551 412.609 209.699 412.609 Z\" fill=\"#000000\" fill-rule=\"nonzero\" fill-opacity=\"1\" /><path clip-path=\"url(#clip300)\" d=\"M230.556 427.261 L230.556 423.002 Q232.315 423.835 234.121 424.275 Q235.926 424.715 237.662 424.715 Q242.292 424.715 244.722 421.613 Q247.176 418.488 247.523 412.146 Q246.181 414.136 244.121 415.201 Q242.06 416.266 239.56 416.266 Q234.375 416.266 231.343 413.141 Q228.334 409.993 228.334 404.553 Q228.334 399.229 231.482 396.011 Q234.63 392.794 239.861 392.794 Q245.857 392.794 249.005 397.4 Q252.176 401.984 252.176 410.734 Q252.176 418.905 248.287 423.789 Q244.421 428.65 237.871 428.65 Q236.111 428.65 234.306 428.303 Q232.5 427.956 230.556 427.261 M239.861 412.609 Q243.009 412.609 244.838 410.456 Q246.69 408.303 246.69 404.553 Q246.69 400.826 244.838 398.673 Q243.009 396.498 239.861 396.498 Q236.713 396.498 234.861 398.673 Q233.033 400.826 233.033 404.553 Q233.033 408.303 234.861 410.456 Q236.713 412.609 239.861 412.609 Z\" fill=\"#000000\" fill-rule=\"nonzero\" fill-opacity=\"1\" /><path clip-path=\"url(#clip300)\" d=\"M264.607 424.044 L280.926 424.044 L280.926 427.979 L258.982 427.979 L258.982 424.044 Q261.644 421.289 266.227 416.659 Q270.833 412.007 272.014 410.664 Q274.259 408.141 275.139 406.405 Q276.042 404.646 276.042 402.956 Q276.042 400.201 274.097 398.465 Q272.176 396.729 269.074 396.729 Q266.875 396.729 264.421 397.493 Q261.991 398.257 259.213 399.808 L259.213 395.085 Q262.037 393.951 264.491 393.373 Q266.945 392.794 268.982 392.794 Q274.352 392.794 277.546 395.479 Q280.741 398.164 280.741 402.655 Q280.741 404.785 279.931 406.706 Q279.144 408.604 277.037 411.197 Q276.458 411.868 273.357 415.085 Q270.255 418.28 264.607 424.044 Z\" fill=\"#000000\" fill-rule=\"nonzero\" fill-opacity=\"1\" /><path clip-path=\"url(#clip300)\" d=\"M290.787 393.419 L309.143 393.419 L309.143 397.354 L295.069 397.354 L295.069 405.826 Q296.088 405.479 297.106 405.317 Q298.125 405.132 299.143 405.132 Q304.93 405.132 308.31 408.303 Q311.69 411.474 311.69 416.891 Q311.69 422.47 308.217 425.571 Q304.745 428.65 298.426 428.65 Q296.25 428.65 293.981 428.28 Q291.736 427.909 289.329 427.169 L289.329 422.47 Q291.412 423.604 293.634 424.159 Q295.856 424.715 298.333 424.715 Q302.338 424.715 304.676 422.608 Q307.014 420.502 307.014 416.891 Q307.014 413.28 304.676 411.173 Q302.338 409.067 298.333 409.067 Q296.458 409.067 294.583 409.484 Q292.731 409.9 290.787 410.78 L290.787 393.419 Z\" fill=\"#000000\" fill-rule=\"nonzero\" fill-opacity=\"1\" /><path clip-path=\"url(#clip300)\" d=\"M114.26 86.6371 L143.936 86.6371 L143.936 90.5722 L114.26 90.5722 L114.26 86.6371 Z\" fill=\"#000000\" fill-rule=\"nonzero\" fill-opacity=\"1\" /><path clip-path=\"url(#clip300)\" d=\"M164.028 71.9844 Q160.417 71.9844 158.589 75.5492 Q156.783 79.0908 156.783 86.2204 Q156.783 93.3268 158.589 96.8916 Q160.417 100.433 164.028 100.433 Q167.663 100.433 169.468 96.8916 Q171.297 93.3268 171.297 86.2204 Q171.297 79.0908 169.468 75.5492 Q167.663 71.9844 164.028 71.9844 M164.028 68.2807 Q169.839 68.2807 172.894 72.8871 Q175.973 77.4704 175.973 86.2204 Q175.973 94.9472 172.894 99.5537 Q169.839 104.137 164.028 104.137 Q158.218 104.137 155.14 99.5537 Q152.084 94.9472 152.084 86.2204 Q152.084 77.4704 155.14 72.8871 Q158.218 68.2807 164.028 68.2807 Z\" fill=\"#000000\" fill-rule=\"nonzero\" fill-opacity=\"1\" /><path clip-path=\"url(#clip300)\" d=\"M184.19 97.5861 L189.075 97.5861 L189.075 103.466 L184.19 103.466 L184.19 97.5861 Z\" fill=\"#000000\" fill-rule=\"nonzero\" fill-opacity=\"1\" /><path clip-path=\"url(#clip300)\" d=\"M199.399 102.748 L199.399 98.4888 Q201.158 99.3222 202.963 99.762 Q204.769 100.202 206.505 100.202 Q211.135 100.202 213.565 97.1 Q216.019 93.975 216.366 87.6324 Q215.024 89.6232 212.963 90.688 Q210.903 91.7528 208.403 91.7528 Q203.218 91.7528 200.186 88.6278 Q197.176 85.4797 197.176 80.0399 Q197.176 74.7158 200.325 71.4983 Q203.473 68.2807 208.704 68.2807 Q214.699 68.2807 217.848 72.8871 Q221.019 77.4704 221.019 86.2204 Q221.019 94.3916 217.13 99.2759 Q213.264 104.137 206.713 104.137 Q204.954 104.137 203.149 103.79 Q201.343 103.443 199.399 102.748 M208.704 88.0954 Q211.852 88.0954 213.681 85.9426 Q215.533 83.7899 215.533 80.0399 Q215.533 76.313 213.681 74.1603 Q211.852 71.9844 208.704 71.9844 Q205.556 71.9844 203.704 74.1603 Q201.875 76.313 201.875 80.0399 Q201.875 83.7899 203.704 85.9426 Q205.556 88.0954 208.704 88.0954 Z\" fill=\"#000000\" fill-rule=\"nonzero\" fill-opacity=\"1\" /><path clip-path=\"url(#clip300)\" d=\"M229.56 102.748 L229.56 98.4888 Q231.32 99.3222 233.125 99.762 Q234.931 100.202 236.667 100.202 Q241.297 100.202 243.727 97.1 Q246.181 93.975 246.528 87.6324 Q245.185 89.6232 243.125 90.688 Q241.065 91.7528 238.565 91.7528 Q233.38 91.7528 230.347 88.6278 Q227.338 85.4797 227.338 80.0399 Q227.338 74.7158 230.486 71.4983 Q233.635 68.2807 238.866 68.2807 Q244.861 68.2807 248.009 72.8871 Q251.181 77.4704 251.181 86.2204 Q251.181 94.3916 247.292 99.2759 Q243.426 104.137 236.875 104.137 Q235.116 104.137 233.31 103.79 Q231.505 103.443 229.56 102.748 M238.866 88.0954 Q242.014 88.0954 243.843 85.9426 Q245.695 83.7899 245.695 80.0399 Q245.695 76.313 243.843 74.1603 Q242.014 71.9844 238.866 71.9844 Q235.718 71.9844 233.866 74.1603 Q232.037 76.313 232.037 80.0399 Q232.037 83.7899 233.866 85.9426 Q235.718 88.0954 238.866 88.0954 Z\" fill=\"#000000\" fill-rule=\"nonzero\" fill-opacity=\"1\" /><path clip-path=\"url(#clip300)\" d=\"M269.583 71.9844 Q265.972 71.9844 264.144 75.5492 Q262.338 79.0908 262.338 86.2204 Q262.338 93.3268 264.144 96.8916 Q265.972 100.433 269.583 100.433 Q273.218 100.433 275.023 96.8916 Q276.852 93.3268 276.852 86.2204 Q276.852 79.0908 275.023 75.5492 Q273.218 71.9844 269.583 71.9844 M269.583 68.2807 Q275.394 68.2807 278.449 72.8871 Q281.528 77.4704 281.528 86.2204 Q281.528 94.9472 278.449 99.5537 Q275.394 104.137 269.583 104.137 Q263.773 104.137 260.695 99.5537 Q257.639 94.9472 257.639 86.2204 Q257.639 77.4704 260.695 72.8871 Q263.773 68.2807 269.583 68.2807 Z\" fill=\"#000000\" fill-rule=\"nonzero\" fill-opacity=\"1\" /><path clip-path=\"url(#clip300)\" d=\"M299.745 71.9844 Q296.134 71.9844 294.305 75.5492 Q292.5 79.0908 292.5 86.2204 Q292.5 93.3268 294.305 96.8916 Q296.134 100.433 299.745 100.433 Q303.38 100.433 305.185 96.8916 Q307.014 93.3268 307.014 86.2204 Q307.014 79.0908 305.185 75.5492 Q303.38 71.9844 299.745 71.9844 M299.745 68.2807 Q305.555 68.2807 308.611 72.8871 Q311.69 77.4704 311.69 86.2204 Q311.69 94.9472 308.611 99.5537 Q305.555 104.137 299.745 104.137 Q293.935 104.137 290.856 99.5537 Q287.801 94.9472 287.801 86.2204 Q287.801 77.4704 290.856 72.8871 Q293.935 68.2807 299.745 68.2807 Z\" fill=\"#000000\" fill-rule=\"nonzero\" fill-opacity=\"1\" /><path clip-path=\"url(#clip300)\" d=\"M24.1199 765.105 Q25.8912 765.105 26.9862 766.232 Q28.0812 767.327 28.0812 768.712 Q28.0812 769.71 27.4693 770.451 Q26.8574 771.159 25.7946 771.159 Q24.6996 771.159 23.5402 770.322 Q22.3807 769.485 22.2197 767.585 Q21.0281 768.841 21.0281 770.837 Q21.0281 771.836 21.6722 772.673 Q22.2841 773.478 23.2825 773.929 Q24.3131 774.412 30.1424 775.507 Q32.0425 775.861 33.8782 776.184 Q35.714 776.506 37.6463 776.892 L37.6463 771.417 Q37.6463 770.709 37.6785 770.419 Q37.7107 770.129 37.8718 769.903 Q38.0328 769.646 38.3871 769.646 Q39.2888 769.646 39.5143 770.064 Q39.7075 770.451 39.7075 771.61 L39.7075 777.279 L60.6091 781.24 Q61.221 781.336 63.1534 781.755 Q65.0535 782.142 68.1775 783.076 Q71.3337 784.01 73.2016 784.944 Q74.2644 785.459 75.2628 786.135 Q76.2934 786.779 77.3239 787.713 Q78.3545 788.647 78.9664 789.871 Q79.6106 791.095 79.6106 792.383 Q79.6106 794.573 78.3867 796.28 Q77.1629 797.987 75.0695 797.987 Q73.2982 797.987 72.2032 796.892 Q71.1082 795.765 71.1082 794.38 Q71.1082 793.381 71.7201 792.673 Q72.332 791.932 73.3948 791.932 Q73.8457 791.932 74.361 792.093 Q74.8763 792.254 75.456 792.609 Q76.0679 792.963 76.4866 793.736 Q76.9053 794.509 76.9697 795.571 Q78.1613 794.315 78.1613 792.383 Q78.1613 791.771 77.9036 791.224 Q77.6782 790.676 77.0985 790.225 Q76.5188 789.742 75.9391 789.388 Q75.3916 789.034 74.3288 788.679 Q73.2982 788.325 72.5253 788.1 Q71.7523 787.874 70.3675 787.584 Q68.9826 787.262 68.1453 787.101 Q67.3401 786.94 65.762 786.65 L39.7075 781.723 L39.7075 786.071 Q39.7075 786.844 39.6753 787.166 Q39.6431 787.456 39.4821 787.681 Q39.2888 787.906 38.9023 787.906 Q38.2904 787.906 38.0328 787.649 Q37.7429 787.359 37.7107 787.037 Q37.6463 786.715 37.6463 785.942 L37.6463 781.369 Q29.4982 779.823 27.3082 779.211 Q24.9894 778.502 23.3791 777.407 Q21.7366 776.312 20.9637 775.089 Q20.1907 773.865 19.9009 772.866 Q19.5788 771.836 19.5788 770.837 Q19.5788 768.583 20.8027 766.844 Q21.9943 765.105 24.1199 765.105 Z\" fill=\"#000000\" fill-rule=\"nonzero\" fill-opacity=\"1\" /><path clip-path=\"url(#clip300)\" d=\"M49.5947 757.277 Q38.4515 757.277 29.466 753.122 Q25.6979 751.351 22.5418 748.871 Q19.3856 746.391 18.0007 744.749 Q16.6159 743.106 16.6159 742.656 Q16.6159 742.011 17.26 741.979 Q17.5821 741.979 18.3872 742.849 Q29.2084 753.477 49.5947 753.445 Q70.0454 753.445 80.4479 743.106 Q81.5751 741.979 81.9294 741.979 Q82.5735 741.979 82.5735 742.656 Q82.5735 743.106 81.2531 744.685 Q79.9326 746.263 76.9053 748.71 Q73.8779 751.158 70.1742 752.929 Q61.1888 757.277 49.5947 757.277 Z\" fill=\"#000000\" fill-rule=\"nonzero\" fill-opacity=\"1\" /><path clip-path=\"url(#clip300)\" d=\"M41.2856 704.116 Q43.0891 704.116 44.1197 705.243 Q45.1181 706.37 45.1181 707.658 Q45.1181 708.882 44.4096 709.526 Q43.701 710.17 42.7993 710.17 Q41.5754 710.17 40.5126 709.269 Q39.4498 708.367 39.2244 707.014 Q38.3871 708.335 38.3871 710.299 Q38.3871 711.587 39.0634 712.715 Q39.7397 713.81 40.6093 714.486 Q41.4788 715.13 42.7348 715.71 Q43.9587 716.257 44.6994 716.483 Q45.4079 716.676 46.1809 716.837 L55.1985 719.091 Q59.4819 720.186 60.9956 720.186 Q62.8635 720.186 64.1195 719.285 Q65.3434 718.383 65.3434 716.579 Q65.3434 715.871 65.1501 715.066 Q64.9247 714.26 64.345 713.23 Q63.7331 712.167 62.8313 711.233 Q61.8973 710.267 60.3192 709.333 Q58.7412 708.399 56.7122 707.787 Q56.0037 707.594 56.0037 706.95 Q56.0037 706.145 56.6478 706.145 Q57.1953 706.145 58.3547 706.595 Q59.4819 707.014 60.9634 707.948 Q62.4126 708.85 63.7331 710.041 Q65.0213 711.233 65.9231 713.004 Q66.8248 714.776 66.8248 716.708 Q66.8248 719.478 65.3434 721.314 Q63.8619 723.149 61.8007 723.826 Q62.0906 723.987 62.477 724.212 Q62.8635 724.438 63.7331 725.114 Q64.5704 725.758 65.2145 726.499 Q65.8264 727.239 66.3095 728.399 Q66.8248 729.526 66.8248 730.75 Q66.8248 732.296 66.3739 733.681 Q65.9231 735.033 64.8925 735.999 Q63.8619 736.966 62.4448 736.966 Q60.8667 736.966 59.7717 735.903 Q58.6445 734.808 58.6445 733.326 Q58.6445 732.392 59.192 731.652 Q59.7395 730.879 60.9312 730.879 Q62.2516 730.879 63.25 731.78 Q64.2484 732.682 64.506 733.97 Q65.3434 732.65 65.3434 730.685 Q65.3434 728.56 63.4754 726.885 Q61.6075 725.21 58.4835 724.405 Q50.9795 722.409 47.6301 721.636 Q44.2485 720.863 42.7993 720.863 Q41.4466 720.863 40.5126 721.217 Q39.5787 721.571 39.16 722.183 Q38.7091 722.763 38.5481 723.31 Q38.3871 723.826 38.3871 724.405 Q38.3871 725.371 38.7735 726.466 Q39.16 727.529 40.0618 728.818 Q40.9313 730.074 42.7348 731.265 Q44.5384 732.457 47.0182 733.262 Q47.759 733.423 47.759 734.131 Q47.7268 734.904 47.0826 734.904 Q46.5351 734.904 45.4079 734.486 Q44.2485 734.035 42.7993 733.133 Q41.35 732.199 40.0618 731.008 Q38.7413 729.784 37.8396 728.012 Q36.9378 726.209 36.9378 724.276 Q36.9378 723.407 37.131 722.57 Q37.2921 721.7 37.7751 720.669 Q38.2582 719.607 39.321 718.673 Q40.3838 717.739 41.9297 717.159 Q41.189 716.773 40.4804 716.257 Q39.7719 715.71 38.9023 714.872 Q38.0006 714.003 37.4853 712.811 Q36.9378 711.587 36.9378 710.235 Q36.9378 708.914 37.2921 707.626 Q37.6141 706.338 38.6769 705.243 Q39.7075 704.116 41.2856 704.116 Z\" fill=\"#000000\" fill-rule=\"nonzero\" fill-opacity=\"1\" /><path clip-path=\"url(#clip300)\" d=\"M81.9294 697.764 Q81.6073 697.764 80.8022 696.927 Q69.981 686.299 49.5947 686.299 Q29.144 686.299 18.8059 696.508 Q17.6143 697.764 17.26 697.764 Q16.6159 697.764 16.6159 697.12 Q16.6159 696.669 17.9363 695.091 Q19.2568 693.481 22.2841 691.066 Q25.3115 688.618 29.0151 686.814 Q38.0006 682.467 49.5947 682.467 Q60.7379 682.467 69.7234 686.621 Q73.4914 688.393 76.6476 690.872 Q79.8038 693.352 81.1886 694.995 Q82.5735 696.637 82.5735 697.12 Q82.5735 697.764 81.9294 697.764 Z\" fill=\"#000000\" fill-rule=\"nonzero\" fill-opacity=\"1\" /><polyline clip-path=\"url(#clip302)\" style=\"stroke:#009af9; stroke-linecap:round; stroke-linejoin:round; stroke-width:8; stroke-opacity:1; fill:none\" points=\"404.437,86.1857 413.895,112.017 423.353,137.589 432.81,162.901 442.268,187.953 451.726,212.746 461.184,237.279 470.642,261.553 480.1,285.567 489.558,309.321 499.015,332.816 508.473,356.051 517.931,379.026 527.389,401.742 536.847,424.199 546.305,446.395 555.763,468.332 565.22,490.01 574.678,511.428 584.136,532.586 593.594,553.485 603.052,574.124 612.51,594.503 621.968,614.623 631.425,634.483 640.883,654.084 650.341,673.425 659.799,692.506 669.257,711.328 678.715,729.89 688.173,748.192 697.63,766.235 707.088,784.019 716.546,801.542 726.004,818.807 735.462,835.811 744.92,852.556 754.378,869.041 763.835,885.267 773.293,901.233 782.751,916.939 792.209,932.386 801.667,947.573 811.125,962.501 820.583,977.169 830.04,991.577 839.498,1005.73 848.956,1019.62 858.414,1033.24 867.872,1046.61 877.33,1059.73 886.788,1072.58 896.246,1085.17 905.703,1097.5 915.161,1109.57 924.619,1121.38 934.077,1132.94 943.535,1144.23 952.993,1155.26 962.451,1166.04 971.908,1176.55 981.366,1186.8 990.824,1196.8 1000.28,1206.53 1009.74,1216.01 1019.2,1225.23 1028.66,1234.18 1038.11,1242.88 1047.57,1251.32 1057.03,1259.5 1066.49,1267.41 1075.94,1275.07 1085.4,1282.47 1094.86,1289.61 1104.32,1296.49 1113.78,1303.11 1123.23,1309.47 1132.69,1315.57 1142.15,1321.41 1151.61,1326.99 1161.07,1332.32 1170.52,1337.38 1179.98,1342.18 1189.44,1346.72 1198.9,1351.01 1208.35,1355.03 1217.81,1358.8 1227.27,1362.3 1236.73,1365.55 1246.19,1368.53 1255.64,1371.26 1265.1,1373.72 1274.56,1375.93 1284.02,1377.88 1293.48,1379.57 1302.93,1380.99 1312.39,1382.16 1321.85,1383.07 1331.31,1383.72 1340.76,1384.11 1350.22,1384.24 1359.68,1384.11 1369.14,1383.72 1378.6,1383.07 1388.05,1382.16 1397.51,1380.99 1406.97,1379.57 1416.43,1377.88 1425.89,1375.93 1435.34,1373.72 1444.8,1371.26 1454.26,1368.53 1463.72,1365.55 1473.17,1362.3 1482.63,1358.8 1492.09,1355.03 1501.55,1351.01 1511.01,1346.72 1520.46,1342.18 1529.92,1337.38 1539.38,1332.32 1548.84,1326.99 1558.3,1321.41 1567.75,1315.57 1577.21,1309.47 1586.67,1303.11 1596.13,1296.49 1605.58,1289.61 1615.04,1282.47 1624.5,1275.07 1633.96,1267.41 1643.42,1259.5 1652.87,1251.32 1662.33,1242.88 1671.79,1234.18 1681.25,1225.23 1690.71,1216.01 1700.16,1206.53 1709.62,1196.8 1719.08,1186.8 1728.54,1176.55 1738,1166.04 1747.45,1155.26 1756.91,1144.23 1766.37,1132.94 1775.83,1121.38 1785.28,1109.57 1794.74,1097.5 1804.2,1085.17 1813.66,1072.58 1823.12,1059.73 1832.57,1046.61 1842.03,1033.24 1851.49,1019.62 1860.95,1005.73 1870.41,991.577 1879.86,977.169 1889.32,962.501 1898.78,947.573 1908.24,932.386 1917.69,916.939 1927.15,901.233 1936.61,885.267 1946.07,869.041 1955.53,852.556 1964.98,835.811 1974.44,818.807 1983.9,801.542 1993.36,784.019 2002.82,766.235 2012.27,748.192 2021.73,729.89 2031.19,711.328 2040.65,692.506 2050.1,673.425 2059.56,654.084 2069.02,634.483 2078.48,614.623 2087.94,594.503 2097.39,574.124 2106.85,553.485 2116.31,532.586 2125.77,511.428 2135.23,490.01 2144.68,468.332 2154.14,446.395 2163.6,424.199 2173.06,401.742 2182.51,379.026 2191.97,356.051 2201.43,332.816 2210.89,309.321 2220.35,285.567 2229.8,261.553 2239.26,237.279 2248.72,212.746 2258.18,187.953 2267.64,162.901 2277.09,137.589 2286.55,112.017 2296.01,86.1857 \"/>\n",
       "</svg>\n"
      ]
     },
     "execution_count": 66,
     "metadata": {},
     "output_type": "execute_result"
    }
   ],
   "source": [
    "function f(x)\n",
    "    return x.^2 - 2x\n",
    "end\n",
    "\n",
    "function f(x::Interval{Float64})\n",
    "    return x^interval(2) - interval(2)*x\n",
    "end\n",
    "\n",
    "\n",
    "x = range(0.9, 1.1, step=0.001);\n",
    "y = f(x);\n",
    "\n",
    "println(f(interval(I\"0.9\",I\"1.1\")))\n",
    "println(f(1))\n",
    "println(f(1.1))\n",
    "\n",
    "plot(x, y, xlabel=\"\\$x\\$\", ylabel=\"\\$f\\\\,(x)\\$\", linewidth =2, legend = false)"
   ]
  },
  {
   "cell_type": "markdown",
   "metadata": {},
   "source": [
    "これから値域は $[-1,-0.99]$，一方で区間演算による区間拡張は $[-1.39,-0.59]$．だいぶ過大評価になってしまう．そこで区間幅を改良したい\n",
    "\n",
    "**アイディア1.** $f(x)=x(x-2)$;\n",
    "\n",
    "\\begin{align*}\n",
    "\t&x\\in[0.9,1.1]\\\\\n",
    "\t&x(x-2)=[0.9,1.1]\\times[-1.1,-0.9]=[-1.21,-0.81]\\mbox{（幅0.4）}\n",
    "\\end{align*}\n",
    "\n",
    "大分改善された．もう一声！\n",
    "\n",
    "**アイディア2.** $f(x)=(x-1)^2-1$;\n",
    "\n",
    "\\begin{align*}\n",
    "\tx\\in[0.9,1.1]&\\\\\n",
    "\t(x-1)^2-1=&[-0.1,0.1]^2-1\\\\\n",
    "\t=&[{\\color{red}{0}},0.01]-1\\\\\n",
    "\t=&[-1,-0.99]\\mbox{（幅0.01）}\n",
    "\\end{align*}"
   ]
  },
  {
   "cell_type": "code",
   "execution_count": 69,
   "metadata": {
    "tags": []
   },
   "outputs": [
    {
     "name": "stdout",
     "output_type": "stream",
     "text": [
      "Interval{Float64}(-1.3900000000000003, -0.5899999999999994, com)\n",
      "Interval{Float64}(-1.2100000000000004, -0.8099999999999998, com)\n",
      "Interval{Float64}(-1.0, -0.9899999999999999, com)\n"
     ]
    }
   ],
   "source": [
    "x = interval(I\"0.9\", I\"1.1\")\n",
    "\n",
    "i2 = interval(2)\n",
    "println(x^i2 - i2*x)\n",
    "println(x * (x-i2))\n",
    "println((x-interval(1))^i2 - interval(1))"
   ]
  },
  {
   "cell_type": "markdown",
   "metadata": {},
   "source": [
    "**注意**　区間の定義で、実数を端点にする時は`I\"0.1\"`などを使う。端点が浮動小数点の場合は`interval`でOK. `interval`の方が呼び出しは早い。例えば、0.1を含む区間は`interval`での定義では0.1に一番近い浮動小数点数を端点にもつ点区間が返されて、厳密な包含にならない。"
   ]
  },
  {
   "cell_type": "code",
   "execution_count": 75,
   "metadata": {},
   "outputs": [
    {
     "name": "stdout",
     "output_type": "stream",
     "text": [
      "  0.000000 seconds\n",
      "0011111110111001100110011001100110011001100110011001100110011010\n",
      "0011111110111001100110011001100110011001100110011001100110011010\n",
      "0011111110111001100110011001100110011001100110011001100110011010\n",
      "  0.000001 seconds\n",
      "0011111110111001100110011001100110011001100110011001100110011010\n",
      "0011111110111001100110011001100110011001100110011001100110011001\n",
      "0011111110111001100110011001100110011001100110011001100110011010\n"
     ]
    }
   ],
   "source": [
    "@time x = interval(0.1)\n",
    "println(bitstring(0.1))\n",
    "println(bitstring(inf(x)))\n",
    "println(bitstring(sup(x)))\n",
    "\n",
    "@time x = (I\"0.1\")\n",
    "println(bitstring(0.1))\n",
    "println(bitstring(inf(x)))\n",
    "println(bitstring(sup(x)))\n"
   ]
  },
  {
   "cell_type": "code",
   "execution_count": 87,
   "metadata": {
    "tags": []
   },
   "outputs": [
    {
     "name": "stdout",
     "output_type": "stream",
     "text": [
      "Interval{Float64}(1.988546365851573, 2.440000000000001, com)\n",
      "Interval{Float64}(-Inf, 2.939882026094574, trv)\n"
     ]
    },
    {
     "data": {
      "image/png": "[encoded data removed]",
      "image/svg+xml": [
       "<?xml version=\"1.0\" encoding=\"utf-8\"?>\n",
       "<svg xmlns=\"http://www.w3.org/2000/svg\" xmlns:xlink=\"http://www.w3.org/1999/xlink\" width=\"600\" height=\"400\" viewBox=\"0 0 2400 1600\">\n",
       "<defs>\n",
       "  <clipPath id=\"clip060\">\n",
       "    <rect x=\"0\" y=\"0\" width=\"2400\" height=\"1600\"/>\n",
       "  </clipPath>\n",
       "</defs>\n",
       "<path clip-path=\"url(#clip060)\" d=\"M0 1600 L2400 1600 L2400 8.88178e-14 L0 8.88178e-14  Z\" fill=\"#ffffff\" fill-rule=\"evenodd\" fill-opacity=\"1\"/>\n",
       "<defs>\n",
       "  <clipPath id=\"clip061\">\n",
       "    <rect x=\"480\" y=\"0\" width=\"1681\" height=\"1600\"/>\n",
       "  </clipPath>\n",
       "</defs>\n",
       "<path clip-path=\"url(#clip060)\" d=\"M175.445 1423.18 L2352.76 1423.18 L2352.76 47.2441 L175.445 47.2441  Z\" fill=\"#ffffff\" fill-rule=\"evenodd\" fill-opacity=\"1\"/>\n",
       "<defs>\n",
       "  <clipPath id=\"clip062\">\n",
       "    <rect x=\"175\" y=\"47\" width=\"2178\" height=\"1377\"/>\n",
       "  </clipPath>\n",
       "</defs>\n",
       "<polyline clip-path=\"url(#clip062)\" style=\"stroke:#000000; stroke-linecap:round; stroke-linejoin:round; stroke-width:2; stroke-opacity:0.1; fill:none\" points=\"237.067,1423.18 237.067,47.2441 \"/>\n",
       "<polyline clip-path=\"url(#clip062)\" style=\"stroke:#000000; stroke-linecap:round; stroke-linejoin:round; stroke-width:2; stroke-opacity:0.1; fill:none\" points=\"750.584,1423.18 750.584,47.2441 \"/>\n",
       "<polyline clip-path=\"url(#clip062)\" style=\"stroke:#000000; stroke-linecap:round; stroke-linejoin:round; stroke-width:2; stroke-opacity:0.1; fill:none\" points=\"1264.1,1423.18 1264.1,47.2441 \"/>\n",
       "<polyline clip-path=\"url(#clip062)\" style=\"stroke:#000000; stroke-linecap:round; stroke-linejoin:round; stroke-width:2; stroke-opacity:0.1; fill:none\" points=\"1777.62,1423.18 1777.62,47.2441 \"/>\n",
       "<polyline clip-path=\"url(#clip062)\" style=\"stroke:#000000; stroke-linecap:round; stroke-linejoin:round; stroke-width:2; stroke-opacity:0.1; fill:none\" points=\"2291.13,1423.18 2291.13,47.2441 \"/>\n",
       "<polyline clip-path=\"url(#clip060)\" style=\"stroke:#000000; stroke-linecap:round; stroke-linejoin:round; stroke-width:4; stroke-opacity:1; fill:none\" points=\"175.445,1423.18 2352.76,1423.18 \"/>\n",
       "<polyline clip-path=\"url(#clip060)\" style=\"stroke:#000000; stroke-linecap:round; stroke-linejoin:round; stroke-width:4; stroke-opacity:1; fill:none\" points=\"237.067,1423.18 237.067,1404.28 \"/>\n",
       "<polyline clip-path=\"url(#clip060)\" style=\"stroke:#000000; stroke-linecap:round; stroke-linejoin:round; stroke-width:4; stroke-opacity:1; fill:none\" points=\"750.584,1423.18 750.584,1404.28 \"/>\n",
       "<polyline clip-path=\"url(#clip060)\" style=\"stroke:#000000; stroke-linecap:round; stroke-linejoin:round; stroke-width:4; stroke-opacity:1; fill:none\" points=\"1264.1,1423.18 1264.1,1404.28 \"/>\n",
       "<polyline clip-path=\"url(#clip060)\" style=\"stroke:#000000; stroke-linecap:round; stroke-linejoin:round; stroke-width:4; stroke-opacity:1; fill:none\" points=\"1777.62,1423.18 1777.62,1404.28 \"/>\n",
       "<polyline clip-path=\"url(#clip060)\" style=\"stroke:#000000; stroke-linecap:round; stroke-linejoin:round; stroke-width:4; stroke-opacity:1; fill:none\" points=\"2291.13,1423.18 2291.13,1404.28 \"/>\n",
       "<path clip-path=\"url(#clip060)\" d=\"M214.452 1454.1 Q210.84 1454.1 209.012 1457.66 Q207.206 1461.2 207.206 1468.33 Q207.206 1475.44 209.012 1479.01 Q210.84 1482.55 214.452 1482.55 Q218.086 1482.55 219.891 1479.01 Q221.72 1475.44 221.72 1468.33 Q221.72 1461.2 219.891 1457.66 Q218.086 1454.1 214.452 1454.1 M214.452 1450.39 Q220.262 1450.39 223.317 1455 Q226.396 1459.58 226.396 1468.33 Q226.396 1477.06 223.317 1481.67 Q220.262 1486.25 214.452 1486.25 Q208.641 1486.25 205.563 1481.67 Q202.507 1477.06 202.507 1468.33 Q202.507 1459.58 205.563 1455 Q208.641 1450.39 214.452 1450.39 Z\" fill=\"#000000\" fill-rule=\"nonzero\" fill-opacity=\"1\" /><path clip-path=\"url(#clip060)\" d=\"M234.614 1479.7 L239.498 1479.7 L239.498 1485.58 L234.614 1485.58 L234.614 1479.7 Z\" fill=\"#000000\" fill-rule=\"nonzero\" fill-opacity=\"1\" /><path clip-path=\"url(#clip060)\" d=\"M259.683 1454.1 Q256.072 1454.1 254.243 1457.66 Q252.437 1461.2 252.437 1468.33 Q252.437 1475.44 254.243 1479.01 Q256.072 1482.55 259.683 1482.55 Q263.317 1482.55 265.123 1479.01 Q266.951 1475.44 266.951 1468.33 Q266.951 1461.2 265.123 1457.66 Q263.317 1454.1 259.683 1454.1 M259.683 1450.39 Q265.493 1450.39 268.549 1455 Q271.627 1459.58 271.627 1468.33 Q271.627 1477.06 268.549 1481.67 Q265.493 1486.25 259.683 1486.25 Q253.873 1486.25 250.794 1481.67 Q247.738 1477.06 247.738 1468.33 Q247.738 1459.58 250.794 1455 Q253.873 1450.39 259.683 1450.39 Z\" fill=\"#000000\" fill-rule=\"nonzero\" fill-opacity=\"1\" /><path clip-path=\"url(#clip060)\" d=\"M728.466 1454.1 Q724.855 1454.1 723.026 1457.66 Q721.221 1461.2 721.221 1468.33 Q721.221 1475.44 723.026 1479.01 Q724.855 1482.55 728.466 1482.55 Q732.1 1482.55 733.906 1479.01 Q735.734 1475.44 735.734 1468.33 Q735.734 1461.2 733.906 1457.66 Q732.1 1454.1 728.466 1454.1 M728.466 1450.39 Q734.276 1450.39 737.332 1455 Q740.41 1459.58 740.41 1468.33 Q740.41 1477.06 737.332 1481.67 Q734.276 1486.25 728.466 1486.25 Q722.656 1486.25 719.577 1481.67 Q716.522 1477.06 716.522 1468.33 Q716.522 1459.58 719.577 1455 Q722.656 1450.39 728.466 1450.39 Z\" fill=\"#000000\" fill-rule=\"nonzero\" fill-opacity=\"1\" /><path clip-path=\"url(#clip060)\" d=\"M748.628 1479.7 L753.512 1479.7 L753.512 1485.58 L748.628 1485.58 L748.628 1479.7 Z\" fill=\"#000000\" fill-rule=\"nonzero\" fill-opacity=\"1\" /><path clip-path=\"url(#clip060)\" d=\"M763.744 1451.02 L782.1 1451.02 L782.1 1454.96 L768.026 1454.96 L768.026 1463.43 Q769.044 1463.08 770.063 1462.92 Q771.081 1462.73 772.1 1462.73 Q777.887 1462.73 781.267 1465.9 Q784.646 1469.08 784.646 1474.49 Q784.646 1480.07 781.174 1483.17 Q777.702 1486.25 771.382 1486.25 Q769.206 1486.25 766.938 1485.88 Q764.693 1485.51 762.285 1484.77 L762.285 1480.07 Q764.369 1481.2 766.591 1481.76 Q768.813 1482.32 771.29 1482.32 Q775.294 1482.32 777.632 1480.21 Q779.97 1478.1 779.97 1474.49 Q779.97 1470.88 777.632 1468.77 Q775.294 1466.67 771.29 1466.67 Q769.415 1466.67 767.54 1467.08 Q765.688 1467.5 763.744 1468.38 L763.744 1451.02 Z\" fill=\"#000000\" fill-rule=\"nonzero\" fill-opacity=\"1\" /><path clip-path=\"url(#clip060)\" d=\"M1231.25 1481.64 L1238.89 1481.64 L1238.89 1455.28 L1230.58 1456.95 L1230.58 1452.69 L1238.85 1451.02 L1243.52 1451.02 L1243.52 1481.64 L1251.16 1481.64 L1251.16 1485.58 L1231.25 1485.58 L1231.25 1481.64 Z\" fill=\"#000000\" fill-rule=\"nonzero\" fill-opacity=\"1\" /><path clip-path=\"url(#clip060)\" d=\"M1260.61 1479.7 L1265.49 1479.7 L1265.49 1485.58 L1260.61 1485.58 L1260.61 1479.7 Z\" fill=\"#000000\" fill-rule=\"nonzero\" fill-opacity=\"1\" /><path clip-path=\"url(#clip060)\" d=\"M1285.67 1454.1 Q1282.06 1454.1 1280.23 1457.66 Q1278.43 1461.2 1278.43 1468.33 Q1278.43 1475.44 1280.23 1479.01 Q1282.06 1482.55 1285.67 1482.55 Q1289.31 1482.55 1291.11 1479.01 Q1292.94 1475.44 1292.94 1468.33 Q1292.94 1461.2 1291.11 1457.66 Q1289.31 1454.1 1285.67 1454.1 M1285.67 1450.39 Q1291.48 1450.39 1294.54 1455 Q1297.62 1459.58 1297.62 1468.33 Q1297.62 1477.06 1294.54 1481.67 Q1291.48 1486.25 1285.67 1486.25 Q1279.86 1486.25 1276.79 1481.67 Q1273.73 1477.06 1273.73 1468.33 Q1273.73 1459.58 1276.79 1455 Q1279.86 1450.39 1285.67 1450.39 Z\" fill=\"#000000\" fill-rule=\"nonzero\" fill-opacity=\"1\" /><path clip-path=\"url(#clip060)\" d=\"M1745.27 1481.64 L1752.91 1481.64 L1752.91 1455.28 L1744.6 1456.95 L1744.6 1452.69 L1752.86 1451.02 L1757.54 1451.02 L1757.54 1481.64 L1765.18 1481.64 L1765.18 1485.58 L1745.27 1485.58 L1745.27 1481.64 Z\" fill=\"#000000\" fill-rule=\"nonzero\" fill-opacity=\"1\" /><path clip-path=\"url(#clip060)\" d=\"M1774.62 1479.7 L1779.5 1479.7 L1779.5 1485.58 L1774.62 1485.58 L1774.62 1479.7 Z\" fill=\"#000000\" fill-rule=\"nonzero\" fill-opacity=\"1\" /><path clip-path=\"url(#clip060)\" d=\"M1789.74 1451.02 L1808.09 1451.02 L1808.09 1454.96 L1794.02 1454.96 L1794.02 1463.43 Q1795.04 1463.08 1796.05 1462.92 Q1797.07 1462.73 1798.09 1462.73 Q1803.88 1462.73 1807.26 1465.9 Q1810.64 1469.08 1810.64 1474.49 Q1810.64 1480.07 1807.17 1483.17 Q1803.69 1486.25 1797.37 1486.25 Q1795.2 1486.25 1792.93 1485.88 Q1790.68 1485.51 1788.28 1484.77 L1788.28 1480.07 Q1790.36 1481.2 1792.58 1481.76 Q1794.8 1482.32 1797.28 1482.32 Q1801.29 1482.32 1803.62 1480.21 Q1805.96 1478.1 1805.96 1474.49 Q1805.96 1470.88 1803.62 1468.77 Q1801.29 1466.67 1797.28 1466.67 Q1795.41 1466.67 1793.53 1467.08 Q1791.68 1467.5 1789.74 1468.38 L1789.74 1451.02 Z\" fill=\"#000000\" fill-rule=\"nonzero\" fill-opacity=\"1\" /><path clip-path=\"url(#clip060)\" d=\"M2262.37 1481.64 L2278.69 1481.64 L2278.69 1485.58 L2256.75 1485.58 L2256.75 1481.64 Q2259.41 1478.89 2263.99 1474.26 Q2268.6 1469.61 2269.78 1468.27 Q2272.03 1465.74 2272.9 1464.01 Q2273.81 1462.25 2273.81 1460.56 Q2273.81 1457.8 2271.86 1456.07 Q2269.94 1454.33 2266.84 1454.33 Q2264.64 1454.33 2262.19 1455.09 Q2259.76 1455.86 2256.98 1457.41 L2256.98 1452.69 Q2259.8 1451.55 2262.26 1450.97 Q2264.71 1450.39 2266.75 1450.39 Q2272.12 1450.39 2275.31 1453.08 Q2278.51 1455.77 2278.51 1460.26 Q2278.51 1462.39 2277.7 1464.31 Q2276.91 1466.2 2274.8 1468.8 Q2274.22 1469.47 2271.12 1472.69 Q2268.02 1475.88 2262.37 1481.64 Z\" fill=\"#000000\" fill-rule=\"nonzero\" fill-opacity=\"1\" /><path clip-path=\"url(#clip060)\" d=\"M2288.51 1479.7 L2293.39 1479.7 L2293.39 1485.58 L2288.51 1485.58 L2288.51 1479.7 Z\" fill=\"#000000\" fill-rule=\"nonzero\" fill-opacity=\"1\" /><path clip-path=\"url(#clip060)\" d=\"M2313.58 1454.1 Q2309.96 1454.1 2308.14 1457.66 Q2306.33 1461.2 2306.33 1468.33 Q2306.33 1475.44 2308.14 1479.01 Q2309.96 1482.55 2313.58 1482.55 Q2317.21 1482.55 2319.02 1479.01 Q2320.84 1475.44 2320.84 1468.33 Q2320.84 1461.2 2319.02 1457.66 Q2317.21 1454.1 2313.58 1454.1 M2313.58 1450.39 Q2319.39 1450.39 2322.44 1455 Q2325.52 1459.58 2325.52 1468.33 Q2325.52 1477.06 2322.44 1481.67 Q2319.39 1486.25 2313.58 1486.25 Q2307.77 1486.25 2304.69 1481.67 Q2301.63 1477.06 2301.63 1468.33 Q2301.63 1459.58 2304.69 1455 Q2307.77 1450.39 2313.58 1450.39 Z\" fill=\"#000000\" fill-rule=\"nonzero\" fill-opacity=\"1\" /><path clip-path=\"url(#clip060)\" d=\"M1278.27 1528.8 Q1278.27 1530.61 1277.15 1531.64 Q1276.02 1532.64 1274.73 1532.64 Q1273.51 1532.64 1272.86 1531.93 Q1272.22 1531.22 1272.22 1530.32 Q1272.22 1529.09 1273.12 1528.03 Q1274.02 1526.97 1275.38 1526.74 Q1274.06 1525.91 1272.09 1525.91 Q1270.8 1525.91 1269.68 1526.58 Q1268.58 1527.26 1267.9 1528.13 Q1267.26 1529 1266.68 1530.25 Q1266.13 1531.48 1265.91 1532.22 Q1265.71 1532.93 1265.55 1533.7 L1263.3 1542.72 Q1262.2 1547 1262.2 1548.51 Q1262.2 1550.38 1263.11 1551.64 Q1264.01 1552.86 1265.81 1552.86 Q1266.52 1552.86 1267.32 1552.67 Q1268.13 1552.44 1269.16 1551.86 Q1270.22 1551.25 1271.16 1550.35 Q1272.12 1549.42 1273.06 1547.84 Q1273.99 1546.26 1274.6 1544.23 Q1274.8 1543.52 1275.44 1543.52 Q1276.24 1543.52 1276.24 1544.17 Q1276.24 1544.71 1275.79 1545.87 Q1275.38 1547 1274.44 1548.48 Q1273.54 1549.93 1272.35 1551.25 Q1271.16 1552.54 1269.39 1553.44 Q1267.61 1554.34 1265.68 1554.34 Q1262.91 1554.34 1261.08 1552.86 Q1259.24 1551.38 1258.56 1549.32 Q1258.4 1549.61 1258.18 1550 Q1257.95 1550.38 1257.28 1551.25 Q1256.63 1552.09 1255.89 1552.73 Q1255.15 1553.34 1253.99 1553.83 Q1252.86 1554.34 1251.64 1554.34 Q1250.09 1554.34 1248.71 1553.89 Q1247.36 1553.44 1246.39 1552.41 Q1245.42 1551.38 1245.42 1549.96 Q1245.42 1548.38 1246.49 1547.29 Q1247.58 1546.16 1249.06 1546.16 Q1250 1546.16 1250.74 1546.71 Q1251.51 1547.26 1251.51 1548.45 Q1251.51 1549.77 1250.61 1550.77 Q1249.71 1551.77 1248.42 1552.02 Q1249.74 1552.86 1251.7 1552.86 Q1253.83 1552.86 1255.5 1550.99 Q1257.18 1549.13 1257.98 1546 Q1259.98 1538.5 1260.75 1535.15 Q1261.53 1531.77 1261.53 1530.32 Q1261.53 1528.96 1261.17 1528.03 Q1260.82 1527.1 1260.21 1526.68 Q1259.63 1526.23 1259.08 1526.07 Q1258.56 1525.91 1257.98 1525.91 Q1257.02 1525.91 1255.92 1526.29 Q1254.86 1526.68 1253.57 1527.58 Q1252.32 1528.45 1251.12 1530.25 Q1249.93 1532.06 1249.13 1534.54 Q1248.97 1535.28 1248.26 1535.28 Q1247.49 1535.24 1247.49 1534.6 Q1247.49 1534.05 1247.9 1532.93 Q1248.35 1531.77 1249.26 1530.32 Q1250.19 1528.87 1251.38 1527.58 Q1252.61 1526.26 1254.38 1525.36 Q1256.18 1524.46 1258.11 1524.46 Q1258.98 1524.46 1259.82 1524.65 Q1260.69 1524.81 1261.72 1525.29 Q1262.78 1525.78 1263.72 1526.84 Q1264.65 1527.9 1265.23 1529.45 Q1265.62 1528.71 1266.13 1528 Q1266.68 1527.29 1267.52 1526.42 Q1268.39 1525.52 1269.58 1525 Q1270.8 1524.46 1272.15 1524.46 Q1273.48 1524.46 1274.76 1524.81 Q1276.05 1525.13 1277.15 1526.19 Q1278.27 1527.23 1278.27 1528.8 Z\" fill=\"#000000\" fill-rule=\"nonzero\" fill-opacity=\"1\" /><polyline clip-path=\"url(#clip062)\" style=\"stroke:#000000; stroke-linecap:round; stroke-linejoin:round; stroke-width:2; stroke-opacity:0.1; fill:none\" points=\"175.445,1389.87 2352.76,1389.87 \"/>\n",
       "<polyline clip-path=\"url(#clip062)\" style=\"stroke:#000000; stroke-linecap:round; stroke-linejoin:round; stroke-width:2; stroke-opacity:0.1; fill:none\" points=\"175.445,1064.66 2352.76,1064.66 \"/>\n",
       "<polyline clip-path=\"url(#clip062)\" style=\"stroke:#000000; stroke-linecap:round; stroke-linejoin:round; stroke-width:2; stroke-opacity:0.1; fill:none\" points=\"175.445,739.439 2352.76,739.439 \"/>\n",
       "<polyline clip-path=\"url(#clip062)\" style=\"stroke:#000000; stroke-linecap:round; stroke-linejoin:round; stroke-width:2; stroke-opacity:0.1; fill:none\" points=\"175.445,414.221 2352.76,414.221 \"/>\n",
       "<polyline clip-path=\"url(#clip062)\" style=\"stroke:#000000; stroke-linecap:round; stroke-linejoin:round; stroke-width:2; stroke-opacity:0.1; fill:none\" points=\"175.445,89.0035 2352.76,89.0035 \"/>\n",
       "<polyline clip-path=\"url(#clip060)\" style=\"stroke:#000000; stroke-linecap:round; stroke-linejoin:round; stroke-width:4; stroke-opacity:1; fill:none\" points=\"175.445,1423.18 175.445,47.2441 \"/>\n",
       "<polyline clip-path=\"url(#clip060)\" style=\"stroke:#000000; stroke-linecap:round; stroke-linejoin:round; stroke-width:4; stroke-opacity:1; fill:none\" points=\"175.445,1389.87 194.343,1389.87 \"/>\n",
       "<polyline clip-path=\"url(#clip060)\" style=\"stroke:#000000; stroke-linecap:round; stroke-linejoin:round; stroke-width:4; stroke-opacity:1; fill:none\" points=\"175.445,1064.66 194.343,1064.66 \"/>\n",
       "<polyline clip-path=\"url(#clip060)\" style=\"stroke:#000000; stroke-linecap:round; stroke-linejoin:round; stroke-width:4; stroke-opacity:1; fill:none\" points=\"175.445,739.439 194.343,739.439 \"/>\n",
       "<polyline clip-path=\"url(#clip060)\" style=\"stroke:#000000; stroke-linecap:round; stroke-linejoin:round; stroke-width:4; stroke-opacity:1; fill:none\" points=\"175.445,414.221 194.343,414.221 \"/>\n",
       "<polyline clip-path=\"url(#clip060)\" style=\"stroke:#000000; stroke-linecap:round; stroke-linejoin:round; stroke-width:4; stroke-opacity:1; fill:none\" points=\"175.445,89.0035 194.343,89.0035 \"/>\n",
       "<path clip-path=\"url(#clip060)\" d=\"M119.538 1403.22 L127.177 1403.22 L127.177 1376.85 L118.867 1378.52 L118.867 1374.26 L127.13 1372.59 L131.806 1372.59 L131.806 1403.22 L139.445 1403.22 L139.445 1407.15 L119.538 1407.15 L119.538 1403.22 Z\" fill=\"#000000\" fill-rule=\"nonzero\" fill-opacity=\"1\" /><path clip-path=\"url(#clip060)\" d=\"M123.126 1078 L139.445 1078 L139.445 1081.94 L117.501 1081.94 L117.501 1078 Q120.163 1075.25 124.746 1070.62 Q129.353 1065.96 130.533 1064.62 Q132.779 1062.1 133.658 1060.36 Q134.561 1058.6 134.561 1056.91 Q134.561 1054.16 132.617 1052.42 Q130.695 1050.69 127.593 1050.69 Q125.394 1050.69 122.941 1051.45 Q120.51 1052.21 117.732 1053.77 L117.732 1049.04 Q120.556 1047.91 123.01 1047.33 Q125.464 1046.75 127.501 1046.75 Q132.871 1046.75 136.066 1049.44 Q139.26 1052.12 139.26 1056.61 Q139.26 1058.74 138.45 1060.66 Q137.663 1062.56 135.556 1065.15 Q134.978 1065.83 131.876 1069.04 Q128.774 1072.24 123.126 1078 Z\" fill=\"#000000\" fill-rule=\"nonzero\" fill-opacity=\"1\" /><path clip-path=\"url(#clip060)\" d=\"M132.316 738.085 Q135.672 738.802 137.547 741.071 Q139.445 743.339 139.445 746.672 Q139.445 751.788 135.927 754.589 Q132.408 757.39 125.927 757.39 Q123.751 757.39 121.436 756.95 Q119.144 756.533 116.691 755.677 L116.691 751.163 Q118.635 752.297 120.95 752.876 Q123.265 753.455 125.788 753.455 Q130.186 753.455 132.478 751.719 Q134.792 749.983 134.792 746.672 Q134.792 743.617 132.64 741.904 Q130.51 740.168 126.691 740.168 L122.663 740.168 L122.663 736.325 L126.876 736.325 Q130.325 736.325 132.154 734.96 Q133.982 733.571 133.982 730.978 Q133.982 728.316 132.084 726.904 Q130.209 725.469 126.691 725.469 Q124.769 725.469 122.57 725.885 Q120.371 726.302 117.732 727.182 L117.732 723.015 Q120.394 722.274 122.709 721.904 Q125.047 721.534 127.107 721.534 Q132.431 721.534 135.533 723.964 Q138.635 726.372 138.635 730.492 Q138.635 733.362 136.992 735.353 Q135.348 737.321 132.316 738.085 Z\" fill=\"#000000\" fill-rule=\"nonzero\" fill-opacity=\"1\" /><path clip-path=\"url(#clip060)\" d=\"M129.862 401.015 L118.056 419.464 L129.862 419.464 L129.862 401.015 M128.635 396.941 L134.515 396.941 L134.515 419.464 L139.445 419.464 L139.445 423.353 L134.515 423.353 L134.515 431.501 L129.862 431.501 L129.862 423.353 L114.26 423.353 L114.26 418.839 L128.635 396.941 Z\" fill=\"#000000\" fill-rule=\"nonzero\" fill-opacity=\"1\" /><path clip-path=\"url(#clip060)\" d=\"M118.543 71.7235 L136.899 71.7235 L136.899 75.6586 L122.825 75.6586 L122.825 84.1308 Q123.843 83.7836 124.862 83.6216 Q125.88 83.4364 126.899 83.4364 Q132.686 83.4364 136.066 86.6076 Q139.445 89.7789 139.445 95.1956 Q139.445 100.774 135.973 103.876 Q132.501 106.955 126.181 106.955 Q124.005 106.955 121.737 106.584 Q119.492 106.214 117.084 105.473 L117.084 100.774 Q119.168 101.908 121.39 102.464 Q123.612 103.02 126.089 103.02 Q130.093 103.02 132.431 100.913 Q134.769 98.8067 134.769 95.1956 Q134.769 91.5845 132.431 89.478 Q130.093 87.3715 126.089 87.3715 Q124.214 87.3715 122.339 87.7882 Q120.487 88.2049 118.543 89.0845 L118.543 71.7235 Z\" fill=\"#000000\" fill-rule=\"nonzero\" fill-opacity=\"1\" /><path clip-path=\"url(#clip060)\" d=\"M24.1199 765.105 Q25.8912 765.105 26.9862 766.232 Q28.0812 767.327 28.0812 768.712 Q28.0812 769.71 27.4693 770.451 Q26.8574 771.159 25.7946 771.159 Q24.6996 771.159 23.5402 770.322 Q22.3807 769.485 22.2197 767.585 Q21.0281 768.841 21.0281 770.837 Q21.0281 771.836 21.6722 772.673 Q22.2841 773.478 23.2825 773.929 Q24.3131 774.412 30.1424 775.507 Q32.0425 775.861 33.8782 776.184 Q35.714 776.506 37.6463 776.892 L37.6463 771.417 Q37.6463 770.709 37.6785 770.419 Q37.7107 770.129 37.8718 769.903 Q38.0328 769.646 38.3871 769.646 Q39.2888 769.646 39.5143 770.064 Q39.7075 770.451 39.7075 771.61 L39.7075 777.279 L60.6091 781.24 Q61.221 781.336 63.1534 781.755 Q65.0535 782.142 68.1775 783.076 Q71.3337 784.01 73.2016 784.944 Q74.2644 785.459 75.2628 786.135 Q76.2934 786.779 77.3239 787.713 Q78.3545 788.647 78.9664 789.871 Q79.6106 791.095 79.6106 792.383 Q79.6106 794.573 78.3867 796.28 Q77.1629 797.987 75.0695 797.987 Q73.2982 797.987 72.2032 796.892 Q71.1082 795.765 71.1082 794.38 Q71.1082 793.381 71.7201 792.673 Q72.332 791.932 73.3948 791.932 Q73.8457 791.932 74.361 792.093 Q74.8763 792.254 75.456 792.609 Q76.0679 792.963 76.4866 793.736 Q76.9053 794.509 76.9697 795.571 Q78.1613 794.315 78.1613 792.383 Q78.1613 791.771 77.9036 791.224 Q77.6782 790.676 77.0985 790.225 Q76.5188 789.742 75.9391 789.388 Q75.3916 789.034 74.3288 788.679 Q73.2982 788.325 72.5253 788.1 Q71.7523 787.874 70.3675 787.584 Q68.9826 787.262 68.1453 787.101 Q67.3401 786.94 65.762 786.65 L39.7075 781.723 L39.7075 786.071 Q39.7075 786.844 39.6753 787.166 Q39.6431 787.456 39.4821 787.681 Q39.2888 787.906 38.9023 787.906 Q38.2904 787.906 38.0328 787.649 Q37.7429 787.359 37.7107 787.037 Q37.6463 786.715 37.6463 785.942 L37.6463 781.369 Q29.4982 779.823 27.3082 779.211 Q24.9894 778.502 23.3791 777.407 Q21.7366 776.312 20.9637 775.089 Q20.1907 773.865 19.9009 772.866 Q19.5788 771.836 19.5788 770.837 Q19.5788 768.583 20.8027 766.844 Q21.9943 765.105 24.1199 765.105 Z\" fill=\"#000000\" fill-rule=\"nonzero\" fill-opacity=\"1\" /><path clip-path=\"url(#clip060)\" d=\"M49.5947 757.277 Q38.4515 757.277 29.466 753.122 Q25.6979 751.351 22.5418 748.871 Q19.3856 746.391 18.0007 744.749 Q16.6159 743.106 16.6159 742.656 Q16.6159 742.011 17.26 741.979 Q17.5821 741.979 18.3872 742.849 Q29.2084 753.477 49.5947 753.445 Q70.0454 753.445 80.4479 743.106 Q81.5751 741.979 81.9294 741.979 Q82.5735 741.979 82.5735 742.656 Q82.5735 743.106 81.2531 744.685 Q79.9326 746.263 76.9053 748.71 Q73.8779 751.158 70.1742 752.929 Q61.1888 757.277 49.5947 757.277 Z\" fill=\"#000000\" fill-rule=\"nonzero\" fill-opacity=\"1\" /><path clip-path=\"url(#clip060)\" d=\"M41.2856 704.116 Q43.0891 704.116 44.1197 705.243 Q45.1181 706.37 45.1181 707.658 Q45.1181 708.882 44.4096 709.526 Q43.701 710.17 42.7993 710.17 Q41.5754 710.17 40.5126 709.269 Q39.4498 708.367 39.2244 707.014 Q38.3871 708.335 38.3871 710.299 Q38.3871 711.587 39.0634 712.715 Q39.7397 713.81 40.6093 714.486 Q41.4788 715.13 42.7348 715.71 Q43.9587 716.257 44.6994 716.483 Q45.4079 716.676 46.1809 716.837 L55.1985 719.091 Q59.4819 720.186 60.9956 720.186 Q62.8635 720.186 64.1195 719.285 Q65.3434 718.383 65.3434 716.579 Q65.3434 715.871 65.1501 715.066 Q64.9247 714.26 64.345 713.23 Q63.7331 712.167 62.8313 711.233 Q61.8973 710.267 60.3192 709.333 Q58.7412 708.399 56.7122 707.787 Q56.0037 707.594 56.0037 706.95 Q56.0037 706.145 56.6478 706.145 Q57.1953 706.145 58.3547 706.595 Q59.4819 707.014 60.9634 707.948 Q62.4126 708.85 63.7331 710.041 Q65.0213 711.233 65.9231 713.004 Q66.8248 714.776 66.8248 716.708 Q66.8248 719.478 65.3434 721.314 Q63.8619 723.149 61.8007 723.826 Q62.0906 723.987 62.477 724.212 Q62.8635 724.438 63.7331 725.114 Q64.5704 725.758 65.2145 726.499 Q65.8264 727.239 66.3095 728.399 Q66.8248 729.526 66.8248 730.75 Q66.8248 732.296 66.3739 733.681 Q65.9231 735.033 64.8925 735.999 Q63.8619 736.966 62.4448 736.966 Q60.8667 736.966 59.7717 735.903 Q58.6445 734.808 58.6445 733.326 Q58.6445 732.392 59.192 731.652 Q59.7395 730.879 60.9312 730.879 Q62.2516 730.879 63.25 731.78 Q64.2484 732.682 64.506 733.97 Q65.3434 732.65 65.3434 730.685 Q65.3434 728.56 63.4754 726.885 Q61.6075 725.21 58.4835 724.405 Q50.9795 722.409 47.6301 721.636 Q44.2485 720.863 42.7993 720.863 Q41.4466 720.863 40.5126 721.217 Q39.5787 721.571 39.16 722.183 Q38.7091 722.763 38.5481 723.31 Q38.3871 723.826 38.3871 724.405 Q38.3871 725.371 38.7735 726.466 Q39.16 727.529 40.0618 728.818 Q40.9313 730.074 42.7348 731.265 Q44.5384 732.457 47.0182 733.262 Q47.759 733.423 47.759 734.131 Q47.7268 734.904 47.0826 734.904 Q46.5351 734.904 45.4079 734.486 Q44.2485 734.035 42.7993 733.133 Q41.35 732.199 40.0618 731.008 Q38.7413 729.784 37.8396 728.012 Q36.9378 726.209 36.9378 724.276 Q36.9378 723.407 37.131 722.57 Q37.2921 721.7 37.7751 720.669 Q38.2582 719.607 39.321 718.673 Q40.3838 717.739 41.9297 717.159 Q41.189 716.773 40.4804 716.257 Q39.7719 715.71 38.9023 714.872 Q38.0006 714.003 37.4853 712.811 Q36.9378 711.587 36.9378 710.235 Q36.9378 708.914 37.2921 707.626 Q37.6141 706.338 38.6769 705.243 Q39.7075 704.116 41.2856 704.116 Z\" fill=\"#000000\" fill-rule=\"nonzero\" fill-opacity=\"1\" /><path clip-path=\"url(#clip060)\" d=\"M81.9294 697.764 Q81.6073 697.764 80.8022 696.927 Q69.981 686.299 49.5947 686.299 Q29.144 686.299 18.8059 696.508 Q17.6143 697.764 17.26 697.764 Q16.6159 697.764 16.6159 697.12 Q16.6159 696.669 17.9363 695.091 Q19.2568 693.481 22.2841 691.066 Q25.3115 688.618 29.0151 686.814 Q38.0006 682.467 49.5947 682.467 Q60.7379 682.467 69.7234 686.621 Q73.4914 688.393 76.6476 690.872 Q79.8038 693.352 81.1886 694.995 Q82.5735 696.637 82.5735 697.12 Q82.5735 697.764 81.9294 697.764 Z\" fill=\"#000000\" fill-rule=\"nonzero\" fill-opacity=\"1\" /><polyline clip-path=\"url(#clip062)\" style=\"stroke:#009af9; stroke-linecap:round; stroke-linejoin:round; stroke-width:8; stroke-opacity:1; fill:none\" points=\"237.067,1384.24 339.771,1381.3 442.474,1371.89 545.177,1356 647.881,1333.65 750.584,1304.84 853.287,1269.59 955.991,1227.91 1058.69,1179.82 1161.4,1125.38 1264.1,1064.66 1366.8,997.811 1469.51,925.285 1572.21,849.617 1674.91,758.99 1777.62,660.952 1880.32,558.224 1983.02,449.608 2085.73,334.801 2188.43,213.681 2291.13,86.1857 \"/>\n",
       "</svg>\n"
      ],
      "text/html": [
       "<?xml version=\"1.0\" encoding=\"utf-8\"?>\n",
       "<svg xmlns=\"http://www.w3.org/2000/svg\" xmlns:xlink=\"http://www.w3.org/1999/xlink\" width=\"600\" height=\"400\" viewBox=\"0 0 2400 1600\">\n",
       "<defs>\n",
       "  <clipPath id=\"clip110\">\n",
       "    <rect x=\"0\" y=\"0\" width=\"2400\" height=\"1600\"/>\n",
       "  </clipPath>\n",
       "</defs>\n",
       "<path clip-path=\"url(#clip110)\" d=\"M0 1600 L2400 1600 L2400 8.88178e-14 L0 8.88178e-14  Z\" fill=\"#ffffff\" fill-rule=\"evenodd\" fill-opacity=\"1\"/>\n",
       "<defs>\n",
       "  <clipPath id=\"clip111\">\n",
       "    <rect x=\"480\" y=\"0\" width=\"1681\" height=\"1600\"/>\n",
       "  </clipPath>\n",
       "</defs>\n",
       "<path clip-path=\"url(#clip110)\" d=\"M175.445 1423.18 L2352.76 1423.18 L2352.76 47.2441 L175.445 47.2441  Z\" fill=\"#ffffff\" fill-rule=\"evenodd\" fill-opacity=\"1\"/>\n",
       "<defs>\n",
       "  <clipPath id=\"clip112\">\n",
       "    <rect x=\"175\" y=\"47\" width=\"2178\" height=\"1377\"/>\n",
       "  </clipPath>\n",
       "</defs>\n",
       "<polyline clip-path=\"url(#clip112)\" style=\"stroke:#000000; stroke-linecap:round; stroke-linejoin:round; stroke-width:2; stroke-opacity:0.1; fill:none\" points=\"237.067,1423.18 237.067,47.2441 \"/>\n",
       "<polyline clip-path=\"url(#clip112)\" style=\"stroke:#000000; stroke-linecap:round; stroke-linejoin:round; stroke-width:2; stroke-opacity:0.1; fill:none\" points=\"750.584,1423.18 750.584,47.2441 \"/>\n",
       "<polyline clip-path=\"url(#clip112)\" style=\"stroke:#000000; stroke-linecap:round; stroke-linejoin:round; stroke-width:2; stroke-opacity:0.1; fill:none\" points=\"1264.1,1423.18 1264.1,47.2441 \"/>\n",
       "<polyline clip-path=\"url(#clip112)\" style=\"stroke:#000000; stroke-linecap:round; stroke-linejoin:round; stroke-width:2; stroke-opacity:0.1; fill:none\" points=\"1777.62,1423.18 1777.62,47.2441 \"/>\n",
       "<polyline clip-path=\"url(#clip112)\" style=\"stroke:#000000; stroke-linecap:round; stroke-linejoin:round; stroke-width:2; stroke-opacity:0.1; fill:none\" points=\"2291.13,1423.18 2291.13,47.2441 \"/>\n",
       "<polyline clip-path=\"url(#clip110)\" style=\"stroke:#000000; stroke-linecap:round; stroke-linejoin:round; stroke-width:4; stroke-opacity:1; fill:none\" points=\"175.445,1423.18 2352.76,1423.18 \"/>\n",
       "<polyline clip-path=\"url(#clip110)\" style=\"stroke:#000000; stroke-linecap:round; stroke-linejoin:round; stroke-width:4; stroke-opacity:1; fill:none\" points=\"237.067,1423.18 237.067,1404.28 \"/>\n",
       "<polyline clip-path=\"url(#clip110)\" style=\"stroke:#000000; stroke-linecap:round; stroke-linejoin:round; stroke-width:4; stroke-opacity:1; fill:none\" points=\"750.584,1423.18 750.584,1404.28 \"/>\n",
       "<polyline clip-path=\"url(#clip110)\" style=\"stroke:#000000; stroke-linecap:round; stroke-linejoin:round; stroke-width:4; stroke-opacity:1; fill:none\" points=\"1264.1,1423.18 1264.1,1404.28 \"/>\n",
       "<polyline clip-path=\"url(#clip110)\" style=\"stroke:#000000; stroke-linecap:round; stroke-linejoin:round; stroke-width:4; stroke-opacity:1; fill:none\" points=\"1777.62,1423.18 1777.62,1404.28 \"/>\n",
       "<polyline clip-path=\"url(#clip110)\" style=\"stroke:#000000; stroke-linecap:round; stroke-linejoin:round; stroke-width:4; stroke-opacity:1; fill:none\" points=\"2291.13,1423.18 2291.13,1404.28 \"/>\n",
       "<path clip-path=\"url(#clip110)\" d=\"M214.452 1454.1 Q210.84 1454.1 209.012 1457.66 Q207.206 1461.2 207.206 1468.33 Q207.206 1475.44 209.012 1479.01 Q210.84 1482.55 214.452 1482.55 Q218.086 1482.55 219.891 1479.01 Q221.72 1475.44 221.72 1468.33 Q221.72 1461.2 219.891 1457.66 Q218.086 1454.1 214.452 1454.1 M214.452 1450.39 Q220.262 1450.39 223.317 1455 Q226.396 1459.58 226.396 1468.33 Q226.396 1477.06 223.317 1481.67 Q220.262 1486.25 214.452 1486.25 Q208.641 1486.25 205.563 1481.67 Q202.507 1477.06 202.507 1468.33 Q202.507 1459.58 205.563 1455 Q208.641 1450.39 214.452 1450.39 Z\" fill=\"#000000\" fill-rule=\"nonzero\" fill-opacity=\"1\" /><path clip-path=\"url(#clip110)\" d=\"M234.614 1479.7 L239.498 1479.7 L239.498 1485.58 L234.614 1485.58 L234.614 1479.7 Z\" fill=\"#000000\" fill-rule=\"nonzero\" fill-opacity=\"1\" /><path clip-path=\"url(#clip110)\" d=\"M259.683 1454.1 Q256.072 1454.1 254.243 1457.66 Q252.437 1461.2 252.437 1468.33 Q252.437 1475.44 254.243 1479.01 Q256.072 1482.55 259.683 1482.55 Q263.317 1482.55 265.123 1479.01 Q266.951 1475.44 266.951 1468.33 Q266.951 1461.2 265.123 1457.66 Q263.317 1454.1 259.683 1454.1 M259.683 1450.39 Q265.493 1450.39 268.549 1455 Q271.627 1459.58 271.627 1468.33 Q271.627 1477.06 268.549 1481.67 Q265.493 1486.25 259.683 1486.25 Q253.873 1486.25 250.794 1481.67 Q247.738 1477.06 247.738 1468.33 Q247.738 1459.58 250.794 1455 Q253.873 1450.39 259.683 1450.39 Z\" fill=\"#000000\" fill-rule=\"nonzero\" fill-opacity=\"1\" /><path clip-path=\"url(#clip110)\" d=\"M728.466 1454.1 Q724.855 1454.1 723.026 1457.66 Q721.221 1461.2 721.221 1468.33 Q721.221 1475.44 723.026 1479.01 Q724.855 1482.55 728.466 1482.55 Q732.1 1482.55 733.906 1479.01 Q735.734 1475.44 735.734 1468.33 Q735.734 1461.2 733.906 1457.66 Q732.1 1454.1 728.466 1454.1 M728.466 1450.39 Q734.276 1450.39 737.332 1455 Q740.41 1459.58 740.41 1468.33 Q740.41 1477.06 737.332 1481.67 Q734.276 1486.25 728.466 1486.25 Q722.656 1486.25 719.577 1481.67 Q716.522 1477.06 716.522 1468.33 Q716.522 1459.58 719.577 1455 Q722.656 1450.39 728.466 1450.39 Z\" fill=\"#000000\" fill-rule=\"nonzero\" fill-opacity=\"1\" /><path clip-path=\"url(#clip110)\" d=\"M748.628 1479.7 L753.512 1479.7 L753.512 1485.58 L748.628 1485.58 L748.628 1479.7 Z\" fill=\"#000000\" fill-rule=\"nonzero\" fill-opacity=\"1\" /><path clip-path=\"url(#clip110)\" d=\"M763.744 1451.02 L782.1 1451.02 L782.1 1454.96 L768.026 1454.96 L768.026 1463.43 Q769.044 1463.08 770.063 1462.92 Q771.081 1462.73 772.1 1462.73 Q777.887 1462.73 781.267 1465.9 Q784.646 1469.08 784.646 1474.49 Q784.646 1480.07 781.174 1483.17 Q777.702 1486.25 771.382 1486.25 Q769.206 1486.25 766.938 1485.88 Q764.693 1485.51 762.285 1484.77 L762.285 1480.07 Q764.369 1481.2 766.591 1481.76 Q768.813 1482.32 771.29 1482.32 Q775.294 1482.32 777.632 1480.21 Q779.97 1478.1 779.97 1474.49 Q779.97 1470.88 777.632 1468.77 Q775.294 1466.67 771.29 1466.67 Q769.415 1466.67 767.54 1467.08 Q765.688 1467.5 763.744 1468.38 L763.744 1451.02 Z\" fill=\"#000000\" fill-rule=\"nonzero\" fill-opacity=\"1\" /><path clip-path=\"url(#clip110)\" d=\"M1231.25 1481.64 L1238.89 1481.64 L1238.89 1455.28 L1230.58 1456.95 L1230.58 1452.69 L1238.85 1451.02 L1243.52 1451.02 L1243.52 1481.64 L1251.16 1481.64 L1251.16 1485.58 L1231.25 1485.58 L1231.25 1481.64 Z\" fill=\"#000000\" fill-rule=\"nonzero\" fill-opacity=\"1\" /><path clip-path=\"url(#clip110)\" d=\"M1260.61 1479.7 L1265.49 1479.7 L1265.49 1485.58 L1260.61 1485.58 L1260.61 1479.7 Z\" fill=\"#000000\" fill-rule=\"nonzero\" fill-opacity=\"1\" /><path clip-path=\"url(#clip110)\" d=\"M1285.67 1454.1 Q1282.06 1454.1 1280.23 1457.66 Q1278.43 1461.2 1278.43 1468.33 Q1278.43 1475.44 1280.23 1479.01 Q1282.06 1482.55 1285.67 1482.55 Q1289.31 1482.55 1291.11 1479.01 Q1292.94 1475.44 1292.94 1468.33 Q1292.94 1461.2 1291.11 1457.66 Q1289.31 1454.1 1285.67 1454.1 M1285.67 1450.39 Q1291.48 1450.39 1294.54 1455 Q1297.62 1459.58 1297.62 1468.33 Q1297.62 1477.06 1294.54 1481.67 Q1291.48 1486.25 1285.67 1486.25 Q1279.86 1486.25 1276.79 1481.67 Q1273.73 1477.06 1273.73 1468.33 Q1273.73 1459.58 1276.79 1455 Q1279.86 1450.39 1285.67 1450.39 Z\" fill=\"#000000\" fill-rule=\"nonzero\" fill-opacity=\"1\" /><path clip-path=\"url(#clip110)\" d=\"M1745.27 1481.64 L1752.91 1481.64 L1752.91 1455.28 L1744.6 1456.95 L1744.6 1452.69 L1752.86 1451.02 L1757.54 1451.02 L1757.54 1481.64 L1765.18 1481.64 L1765.18 1485.58 L1745.27 1485.58 L1745.27 1481.64 Z\" fill=\"#000000\" fill-rule=\"nonzero\" fill-opacity=\"1\" /><path clip-path=\"url(#clip110)\" d=\"M1774.62 1479.7 L1779.5 1479.7 L1779.5 1485.58 L1774.62 1485.58 L1774.62 1479.7 Z\" fill=\"#000000\" fill-rule=\"nonzero\" fill-opacity=\"1\" /><path clip-path=\"url(#clip110)\" d=\"M1789.74 1451.02 L1808.09 1451.02 L1808.09 1454.96 L1794.02 1454.96 L1794.02 1463.43 Q1795.04 1463.08 1796.05 1462.92 Q1797.07 1462.73 1798.09 1462.73 Q1803.88 1462.73 1807.26 1465.9 Q1810.64 1469.08 1810.64 1474.49 Q1810.64 1480.07 1807.17 1483.17 Q1803.69 1486.25 1797.37 1486.25 Q1795.2 1486.25 1792.93 1485.88 Q1790.68 1485.51 1788.28 1484.77 L1788.28 1480.07 Q1790.36 1481.2 1792.58 1481.76 Q1794.8 1482.32 1797.28 1482.32 Q1801.29 1482.32 1803.62 1480.21 Q1805.96 1478.1 1805.96 1474.49 Q1805.96 1470.88 1803.62 1468.77 Q1801.29 1466.67 1797.28 1466.67 Q1795.41 1466.67 1793.53 1467.08 Q1791.68 1467.5 1789.74 1468.38 L1789.74 1451.02 Z\" fill=\"#000000\" fill-rule=\"nonzero\" fill-opacity=\"1\" /><path clip-path=\"url(#clip110)\" d=\"M2262.37 1481.64 L2278.69 1481.64 L2278.69 1485.58 L2256.75 1485.58 L2256.75 1481.64 Q2259.41 1478.89 2263.99 1474.26 Q2268.6 1469.61 2269.78 1468.27 Q2272.03 1465.74 2272.9 1464.01 Q2273.81 1462.25 2273.81 1460.56 Q2273.81 1457.8 2271.86 1456.07 Q2269.94 1454.33 2266.84 1454.33 Q2264.64 1454.33 2262.19 1455.09 Q2259.76 1455.86 2256.98 1457.41 L2256.98 1452.69 Q2259.8 1451.55 2262.26 1450.97 Q2264.71 1450.39 2266.75 1450.39 Q2272.12 1450.39 2275.31 1453.08 Q2278.51 1455.77 2278.51 1460.26 Q2278.51 1462.39 2277.7 1464.31 Q2276.91 1466.2 2274.8 1468.8 Q2274.22 1469.47 2271.12 1472.69 Q2268.02 1475.88 2262.37 1481.64 Z\" fill=\"#000000\" fill-rule=\"nonzero\" fill-opacity=\"1\" /><path clip-path=\"url(#clip110)\" d=\"M2288.51 1479.7 L2293.39 1479.7 L2293.39 1485.58 L2288.51 1485.58 L2288.51 1479.7 Z\" fill=\"#000000\" fill-rule=\"nonzero\" fill-opacity=\"1\" /><path clip-path=\"url(#clip110)\" d=\"M2313.58 1454.1 Q2309.96 1454.1 2308.14 1457.66 Q2306.33 1461.2 2306.33 1468.33 Q2306.33 1475.44 2308.14 1479.01 Q2309.96 1482.55 2313.58 1482.55 Q2317.21 1482.55 2319.02 1479.01 Q2320.84 1475.44 2320.84 1468.33 Q2320.84 1461.2 2319.02 1457.66 Q2317.21 1454.1 2313.58 1454.1 M2313.58 1450.39 Q2319.39 1450.39 2322.44 1455 Q2325.52 1459.58 2325.52 1468.33 Q2325.52 1477.06 2322.44 1481.67 Q2319.39 1486.25 2313.58 1486.25 Q2307.77 1486.25 2304.69 1481.67 Q2301.63 1477.06 2301.63 1468.33 Q2301.63 1459.58 2304.69 1455 Q2307.77 1450.39 2313.58 1450.39 Z\" fill=\"#000000\" fill-rule=\"nonzero\" fill-opacity=\"1\" /><path clip-path=\"url(#clip110)\" d=\"M1278.27 1528.8 Q1278.27 1530.61 1277.15 1531.64 Q1276.02 1532.64 1274.73 1532.64 Q1273.51 1532.64 1272.86 1531.93 Q1272.22 1531.22 1272.22 1530.32 Q1272.22 1529.09 1273.12 1528.03 Q1274.02 1526.97 1275.38 1526.74 Q1274.06 1525.91 1272.09 1525.91 Q1270.8 1525.91 1269.68 1526.58 Q1268.58 1527.26 1267.9 1528.13 Q1267.26 1529 1266.68 1530.25 Q1266.13 1531.48 1265.91 1532.22 Q1265.71 1532.93 1265.55 1533.7 L1263.3 1542.72 Q1262.2 1547 1262.2 1548.51 Q1262.2 1550.38 1263.11 1551.64 Q1264.01 1552.86 1265.81 1552.86 Q1266.52 1552.86 1267.32 1552.67 Q1268.13 1552.44 1269.16 1551.86 Q1270.22 1551.25 1271.16 1550.35 Q1272.12 1549.42 1273.06 1547.84 Q1273.99 1546.26 1274.6 1544.23 Q1274.8 1543.52 1275.44 1543.52 Q1276.24 1543.52 1276.24 1544.17 Q1276.24 1544.71 1275.79 1545.87 Q1275.38 1547 1274.44 1548.48 Q1273.54 1549.93 1272.35 1551.25 Q1271.16 1552.54 1269.39 1553.44 Q1267.61 1554.34 1265.68 1554.34 Q1262.91 1554.34 1261.08 1552.86 Q1259.24 1551.38 1258.56 1549.32 Q1258.4 1549.61 1258.18 1550 Q1257.95 1550.38 1257.28 1551.25 Q1256.63 1552.09 1255.89 1552.73 Q1255.15 1553.34 1253.99 1553.83 Q1252.86 1554.34 1251.64 1554.34 Q1250.09 1554.34 1248.71 1553.89 Q1247.36 1553.44 1246.39 1552.41 Q1245.42 1551.38 1245.42 1549.96 Q1245.42 1548.38 1246.49 1547.29 Q1247.58 1546.16 1249.06 1546.16 Q1250 1546.16 1250.74 1546.71 Q1251.51 1547.26 1251.51 1548.45 Q1251.51 1549.77 1250.61 1550.77 Q1249.71 1551.77 1248.42 1552.02 Q1249.74 1552.86 1251.7 1552.86 Q1253.83 1552.86 1255.5 1550.99 Q1257.18 1549.13 1257.98 1546 Q1259.98 1538.5 1260.75 1535.15 Q1261.53 1531.77 1261.53 1530.32 Q1261.53 1528.96 1261.17 1528.03 Q1260.82 1527.1 1260.21 1526.68 Q1259.63 1526.23 1259.08 1526.07 Q1258.56 1525.91 1257.98 1525.91 Q1257.02 1525.91 1255.92 1526.29 Q1254.86 1526.68 1253.57 1527.58 Q1252.32 1528.45 1251.12 1530.25 Q1249.93 1532.06 1249.13 1534.54 Q1248.97 1535.28 1248.26 1535.28 Q1247.49 1535.24 1247.49 1534.6 Q1247.49 1534.05 1247.9 1532.93 Q1248.35 1531.77 1249.26 1530.32 Q1250.19 1528.87 1251.38 1527.58 Q1252.61 1526.26 1254.38 1525.36 Q1256.18 1524.46 1258.11 1524.46 Q1258.98 1524.46 1259.82 1524.65 Q1260.69 1524.81 1261.72 1525.29 Q1262.78 1525.78 1263.72 1526.84 Q1264.65 1527.9 1265.23 1529.45 Q1265.62 1528.71 1266.13 1528 Q1266.68 1527.29 1267.52 1526.42 Q1268.39 1525.52 1269.58 1525 Q1270.8 1524.46 1272.15 1524.46 Q1273.48 1524.46 1274.76 1524.81 Q1276.05 1525.13 1277.15 1526.19 Q1278.27 1527.23 1278.27 1528.8 Z\" fill=\"#000000\" fill-rule=\"nonzero\" fill-opacity=\"1\" /><polyline clip-path=\"url(#clip112)\" style=\"stroke:#000000; stroke-linecap:round; stroke-linejoin:round; stroke-width:2; stroke-opacity:0.1; fill:none\" points=\"175.445,1389.87 2352.76,1389.87 \"/>\n",
       "<polyline clip-path=\"url(#clip112)\" style=\"stroke:#000000; stroke-linecap:round; stroke-linejoin:round; stroke-width:2; stroke-opacity:0.1; fill:none\" points=\"175.445,1064.66 2352.76,1064.66 \"/>\n",
       "<polyline clip-path=\"url(#clip112)\" style=\"stroke:#000000; stroke-linecap:round; stroke-linejoin:round; stroke-width:2; stroke-opacity:0.1; fill:none\" points=\"175.445,739.439 2352.76,739.439 \"/>\n",
       "<polyline clip-path=\"url(#clip112)\" style=\"stroke:#000000; stroke-linecap:round; stroke-linejoin:round; stroke-width:2; stroke-opacity:0.1; fill:none\" points=\"175.445,414.221 2352.76,414.221 \"/>\n",
       "<polyline clip-path=\"url(#clip112)\" style=\"stroke:#000000; stroke-linecap:round; stroke-linejoin:round; stroke-width:2; stroke-opacity:0.1; fill:none\" points=\"175.445,89.0035 2352.76,89.0035 \"/>\n",
       "<polyline clip-path=\"url(#clip110)\" style=\"stroke:#000000; stroke-linecap:round; stroke-linejoin:round; stroke-width:4; stroke-opacity:1; fill:none\" points=\"175.445,1423.18 175.445,47.2441 \"/>\n",
       "<polyline clip-path=\"url(#clip110)\" style=\"stroke:#000000; stroke-linecap:round; stroke-linejoin:round; stroke-width:4; stroke-opacity:1; fill:none\" points=\"175.445,1389.87 194.343,1389.87 \"/>\n",
       "<polyline clip-path=\"url(#clip110)\" style=\"stroke:#000000; stroke-linecap:round; stroke-linejoin:round; stroke-width:4; stroke-opacity:1; fill:none\" points=\"175.445,1064.66 194.343,1064.66 \"/>\n",
       "<polyline clip-path=\"url(#clip110)\" style=\"stroke:#000000; stroke-linecap:round; stroke-linejoin:round; stroke-width:4; stroke-opacity:1; fill:none\" points=\"175.445,739.439 194.343,739.439 \"/>\n",
       "<polyline clip-path=\"url(#clip110)\" style=\"stroke:#000000; stroke-linecap:round; stroke-linejoin:round; stroke-width:4; stroke-opacity:1; fill:none\" points=\"175.445,414.221 194.343,414.221 \"/>\n",
       "<polyline clip-path=\"url(#clip110)\" style=\"stroke:#000000; stroke-linecap:round; stroke-linejoin:round; stroke-width:4; stroke-opacity:1; fill:none\" points=\"175.445,89.0035 194.343,89.0035 \"/>\n",
       "<path clip-path=\"url(#clip110)\" d=\"M119.538 1403.22 L127.177 1403.22 L127.177 1376.85 L118.867 1378.52 L118.867 1374.26 L127.13 1372.59 L131.806 1372.59 L131.806 1403.22 L139.445 1403.22 L139.445 1407.15 L119.538 1407.15 L119.538 1403.22 Z\" fill=\"#000000\" fill-rule=\"nonzero\" fill-opacity=\"1\" /><path clip-path=\"url(#clip110)\" d=\"M123.126 1078 L139.445 1078 L139.445 1081.94 L117.501 1081.94 L117.501 1078 Q120.163 1075.25 124.746 1070.62 Q129.353 1065.96 130.533 1064.62 Q132.779 1062.1 133.658 1060.36 Q134.561 1058.6 134.561 1056.91 Q134.561 1054.16 132.617 1052.42 Q130.695 1050.69 127.593 1050.69 Q125.394 1050.69 122.941 1051.45 Q120.51 1052.21 117.732 1053.77 L117.732 1049.04 Q120.556 1047.91 123.01 1047.33 Q125.464 1046.75 127.501 1046.75 Q132.871 1046.75 136.066 1049.44 Q139.26 1052.12 139.26 1056.61 Q139.26 1058.74 138.45 1060.66 Q137.663 1062.56 135.556 1065.15 Q134.978 1065.83 131.876 1069.04 Q128.774 1072.24 123.126 1078 Z\" fill=\"#000000\" fill-rule=\"nonzero\" fill-opacity=\"1\" /><path clip-path=\"url(#clip110)\" d=\"M132.316 738.085 Q135.672 738.802 137.547 741.071 Q139.445 743.339 139.445 746.672 Q139.445 751.788 135.927 754.589 Q132.408 757.39 125.927 757.39 Q123.751 757.39 121.436 756.95 Q119.144 756.533 116.691 755.677 L116.691 751.163 Q118.635 752.297 120.95 752.876 Q123.265 753.455 125.788 753.455 Q130.186 753.455 132.478 751.719 Q134.792 749.983 134.792 746.672 Q134.792 743.617 132.64 741.904 Q130.51 740.168 126.691 740.168 L122.663 740.168 L122.663 736.325 L126.876 736.325 Q130.325 736.325 132.154 734.96 Q133.982 733.571 133.982 730.978 Q133.982 728.316 132.084 726.904 Q130.209 725.469 126.691 725.469 Q124.769 725.469 122.57 725.885 Q120.371 726.302 117.732 727.182 L117.732 723.015 Q120.394 722.274 122.709 721.904 Q125.047 721.534 127.107 721.534 Q132.431 721.534 135.533 723.964 Q138.635 726.372 138.635 730.492 Q138.635 733.362 136.992 735.353 Q135.348 737.321 132.316 738.085 Z\" fill=\"#000000\" fill-rule=\"nonzero\" fill-opacity=\"1\" /><path clip-path=\"url(#clip110)\" d=\"M129.862 401.015 L118.056 419.464 L129.862 419.464 L129.862 401.015 M128.635 396.941 L134.515 396.941 L134.515 419.464 L139.445 419.464 L139.445 423.353 L134.515 423.353 L134.515 431.501 L129.862 431.501 L129.862 423.353 L114.26 423.353 L114.26 418.839 L128.635 396.941 Z\" fill=\"#000000\" fill-rule=\"nonzero\" fill-opacity=\"1\" /><path clip-path=\"url(#clip110)\" d=\"M118.543 71.7235 L136.899 71.7235 L136.899 75.6586 L122.825 75.6586 L122.825 84.1308 Q123.843 83.7836 124.862 83.6216 Q125.88 83.4364 126.899 83.4364 Q132.686 83.4364 136.066 86.6076 Q139.445 89.7789 139.445 95.1956 Q139.445 100.774 135.973 103.876 Q132.501 106.955 126.181 106.955 Q124.005 106.955 121.737 106.584 Q119.492 106.214 117.084 105.473 L117.084 100.774 Q119.168 101.908 121.39 102.464 Q123.612 103.02 126.089 103.02 Q130.093 103.02 132.431 100.913 Q134.769 98.8067 134.769 95.1956 Q134.769 91.5845 132.431 89.478 Q130.093 87.3715 126.089 87.3715 Q124.214 87.3715 122.339 87.7882 Q120.487 88.2049 118.543 89.0845 L118.543 71.7235 Z\" fill=\"#000000\" fill-rule=\"nonzero\" fill-opacity=\"1\" /><path clip-path=\"url(#clip110)\" d=\"M24.1199 765.105 Q25.8912 765.105 26.9862 766.232 Q28.0812 767.327 28.0812 768.712 Q28.0812 769.71 27.4693 770.451 Q26.8574 771.159 25.7946 771.159 Q24.6996 771.159 23.5402 770.322 Q22.3807 769.485 22.2197 767.585 Q21.0281 768.841 21.0281 770.837 Q21.0281 771.836 21.6722 772.673 Q22.2841 773.478 23.2825 773.929 Q24.3131 774.412 30.1424 775.507 Q32.0425 775.861 33.8782 776.184 Q35.714 776.506 37.6463 776.892 L37.6463 771.417 Q37.6463 770.709 37.6785 770.419 Q37.7107 770.129 37.8718 769.903 Q38.0328 769.646 38.3871 769.646 Q39.2888 769.646 39.5143 770.064 Q39.7075 770.451 39.7075 771.61 L39.7075 777.279 L60.6091 781.24 Q61.221 781.336 63.1534 781.755 Q65.0535 782.142 68.1775 783.076 Q71.3337 784.01 73.2016 784.944 Q74.2644 785.459 75.2628 786.135 Q76.2934 786.779 77.3239 787.713 Q78.3545 788.647 78.9664 789.871 Q79.6106 791.095 79.6106 792.383 Q79.6106 794.573 78.3867 796.28 Q77.1629 797.987 75.0695 797.987 Q73.2982 797.987 72.2032 796.892 Q71.1082 795.765 71.1082 794.38 Q71.1082 793.381 71.7201 792.673 Q72.332 791.932 73.3948 791.932 Q73.8457 791.932 74.361 792.093 Q74.8763 792.254 75.456 792.609 Q76.0679 792.963 76.4866 793.736 Q76.9053 794.509 76.9697 795.571 Q78.1613 794.315 78.1613 792.383 Q78.1613 791.771 77.9036 791.224 Q77.6782 790.676 77.0985 790.225 Q76.5188 789.742 75.9391 789.388 Q75.3916 789.034 74.3288 788.679 Q73.2982 788.325 72.5253 788.1 Q71.7523 787.874 70.3675 787.584 Q68.9826 787.262 68.1453 787.101 Q67.3401 786.94 65.762 786.65 L39.7075 781.723 L39.7075 786.071 Q39.7075 786.844 39.6753 787.166 Q39.6431 787.456 39.4821 787.681 Q39.2888 787.906 38.9023 787.906 Q38.2904 787.906 38.0328 787.649 Q37.7429 787.359 37.7107 787.037 Q37.6463 786.715 37.6463 785.942 L37.6463 781.369 Q29.4982 779.823 27.3082 779.211 Q24.9894 778.502 23.3791 777.407 Q21.7366 776.312 20.9637 775.089 Q20.1907 773.865 19.9009 772.866 Q19.5788 771.836 19.5788 770.837 Q19.5788 768.583 20.8027 766.844 Q21.9943 765.105 24.1199 765.105 Z\" fill=\"#000000\" fill-rule=\"nonzero\" fill-opacity=\"1\" /><path clip-path=\"url(#clip110)\" d=\"M49.5947 757.277 Q38.4515 757.277 29.466 753.122 Q25.6979 751.351 22.5418 748.871 Q19.3856 746.391 18.0007 744.749 Q16.6159 743.106 16.6159 742.656 Q16.6159 742.011 17.26 741.979 Q17.5821 741.979 18.3872 742.849 Q29.2084 753.477 49.5947 753.445 Q70.0454 753.445 80.4479 743.106 Q81.5751 741.979 81.9294 741.979 Q82.5735 741.979 82.5735 742.656 Q82.5735 743.106 81.2531 744.685 Q79.9326 746.263 76.9053 748.71 Q73.8779 751.158 70.1742 752.929 Q61.1888 757.277 49.5947 757.277 Z\" fill=\"#000000\" fill-rule=\"nonzero\" fill-opacity=\"1\" /><path clip-path=\"url(#clip110)\" d=\"M41.2856 704.116 Q43.0891 704.116 44.1197 705.243 Q45.1181 706.37 45.1181 707.658 Q45.1181 708.882 44.4096 709.526 Q43.701 710.17 42.7993 710.17 Q41.5754 710.17 40.5126 709.269 Q39.4498 708.367 39.2244 707.014 Q38.3871 708.335 38.3871 710.299 Q38.3871 711.587 39.0634 712.715 Q39.7397 713.81 40.6093 714.486 Q41.4788 715.13 42.7348 715.71 Q43.9587 716.257 44.6994 716.483 Q45.4079 716.676 46.1809 716.837 L55.1985 719.091 Q59.4819 720.186 60.9956 720.186 Q62.8635 720.186 64.1195 719.285 Q65.3434 718.383 65.3434 716.579 Q65.3434 715.871 65.1501 715.066 Q64.9247 714.26 64.345 713.23 Q63.7331 712.167 62.8313 711.233 Q61.8973 710.267 60.3192 709.333 Q58.7412 708.399 56.7122 707.787 Q56.0037 707.594 56.0037 706.95 Q56.0037 706.145 56.6478 706.145 Q57.1953 706.145 58.3547 706.595 Q59.4819 707.014 60.9634 707.948 Q62.4126 708.85 63.7331 710.041 Q65.0213 711.233 65.9231 713.004 Q66.8248 714.776 66.8248 716.708 Q66.8248 719.478 65.3434 721.314 Q63.8619 723.149 61.8007 723.826 Q62.0906 723.987 62.477 724.212 Q62.8635 724.438 63.7331 725.114 Q64.5704 725.758 65.2145 726.499 Q65.8264 727.239 66.3095 728.399 Q66.8248 729.526 66.8248 730.75 Q66.8248 732.296 66.3739 733.681 Q65.9231 735.033 64.8925 735.999 Q63.8619 736.966 62.4448 736.966 Q60.8667 736.966 59.7717 735.903 Q58.6445 734.808 58.6445 733.326 Q58.6445 732.392 59.192 731.652 Q59.7395 730.879 60.9312 730.879 Q62.2516 730.879 63.25 731.78 Q64.2484 732.682 64.506 733.97 Q65.3434 732.65 65.3434 730.685 Q65.3434 728.56 63.4754 726.885 Q61.6075 725.21 58.4835 724.405 Q50.9795 722.409 47.6301 721.636 Q44.2485 720.863 42.7993 720.863 Q41.4466 720.863 40.5126 721.217 Q39.5787 721.571 39.16 722.183 Q38.7091 722.763 38.5481 723.31 Q38.3871 723.826 38.3871 724.405 Q38.3871 725.371 38.7735 726.466 Q39.16 727.529 40.0618 728.818 Q40.9313 730.074 42.7348 731.265 Q44.5384 732.457 47.0182 733.262 Q47.759 733.423 47.759 734.131 Q47.7268 734.904 47.0826 734.904 Q46.5351 734.904 45.4079 734.486 Q44.2485 734.035 42.7993 733.133 Q41.35 732.199 40.0618 731.008 Q38.7413 729.784 37.8396 728.012 Q36.9378 726.209 36.9378 724.276 Q36.9378 723.407 37.131 722.57 Q37.2921 721.7 37.7751 720.669 Q38.2582 719.607 39.321 718.673 Q40.3838 717.739 41.9297 717.159 Q41.189 716.773 40.4804 716.257 Q39.7719 715.71 38.9023 714.872 Q38.0006 714.003 37.4853 712.811 Q36.9378 711.587 36.9378 710.235 Q36.9378 708.914 37.2921 707.626 Q37.6141 706.338 38.6769 705.243 Q39.7075 704.116 41.2856 704.116 Z\" fill=\"#000000\" fill-rule=\"nonzero\" fill-opacity=\"1\" /><path clip-path=\"url(#clip110)\" d=\"M81.9294 697.764 Q81.6073 697.764 80.8022 696.927 Q69.981 686.299 49.5947 686.299 Q29.144 686.299 18.8059 696.508 Q17.6143 697.764 17.26 697.764 Q16.6159 697.764 16.6159 697.12 Q16.6159 696.669 17.9363 695.091 Q19.2568 693.481 22.2841 691.066 Q25.3115 688.618 29.0151 686.814 Q38.0006 682.467 49.5947 682.467 Q60.7379 682.467 69.7234 686.621 Q73.4914 688.393 76.6476 690.872 Q79.8038 693.352 81.1886 694.995 Q82.5735 696.637 82.5735 697.12 Q82.5735 697.764 81.9294 697.764 Z\" fill=\"#000000\" fill-rule=\"nonzero\" fill-opacity=\"1\" /><polyline clip-path=\"url(#clip112)\" style=\"stroke:#009af9; stroke-linecap:round; stroke-linejoin:round; stroke-width:8; stroke-opacity:1; fill:none\" points=\"237.067,1384.24 339.771,1381.3 442.474,1371.89 545.177,1356 647.881,1333.65 750.584,1304.84 853.287,1269.59 955.991,1227.91 1058.69,1179.82 1161.4,1125.38 1264.1,1064.66 1366.8,997.811 1469.51,925.285 1572.21,849.617 1674.91,758.99 1777.62,660.952 1880.32,558.224 1983.02,449.608 2085.73,334.801 2188.43,213.681 2291.13,86.1857 \"/>\n",
       "</svg>\n"
      ]
     },
     "execution_count": 87,
     "metadata": {},
     "output_type": "execute_result"
    }
   ],
   "source": [
    "# Kahan's example\n",
    "f(x) = (1/80) * log(abs(3*(1 - x) + 1)) + x.^2 + 1\n",
    "f(x::Interval{Float64}) = (interval(1)/interval(80)) * log(abs(interval(3)*(interval(1) - x) + interval(1))) + x^interval(2) + interval(1)\n",
    "x = range(0, 2, step = 0.1)\n",
    "y = f.(x)\n",
    "\n",
    "println(f(interval(I\"1.0\",I\"1.2\")))\n",
    "println(f(interval(1.3,1.4)))\n",
    "plot(x, y, xlabel=\"\\$x\\$\", ylabel=\"\\$f\\\\,(x)\\$\", linewidth =2, legend = false)"
   ]
  },
  {
   "cell_type": "code",
   "execution_count": 81,
   "metadata": {
    "tags": []
   },
   "outputs": [
    {
     "data": {
      "image/png": "[encoded data removed]",
      "image/svg+xml": [
       "<?xml version=\"1.0\" encoding=\"utf-8\"?>\n",
       "<svg xmlns=\"http://www.w3.org/2000/svg\" xmlns:xlink=\"http://www.w3.org/1999/xlink\" width=\"600\" height=\"400\" viewBox=\"0 0 2400 1600\">\n",
       "<defs>\n",
       "  <clipPath id=\"clip520\">\n",
       "    <rect x=\"0\" y=\"0\" width=\"2400\" height=\"1600\"/>\n",
       "  </clipPath>\n",
       "</defs>\n",
       "<path clip-path=\"url(#clip520)\" d=\"M0 1600 L2400 1600 L2400 8.88178e-14 L0 8.88178e-14  Z\" fill=\"#ffffff\" fill-rule=\"evenodd\" fill-opacity=\"1\"/>\n",
       "<defs>\n",
       "  <clipPath id=\"clip521\">\n",
       "    <rect x=\"480\" y=\"0\" width=\"1681\" height=\"1600\"/>\n",
       "  </clipPath>\n",
       "</defs>\n",
       "<path clip-path=\"url(#clip520)\" d=\"M249.195 1423.18 L2352.76 1423.18 L2352.76 47.2441 L249.195 47.2441  Z\" fill=\"#ffffff\" fill-rule=\"evenodd\" fill-opacity=\"1\"/>\n",
       "<defs>\n",
       "  <clipPath id=\"clip522\">\n",
       "    <rect x=\"249\" y=\"47\" width=\"2105\" height=\"1377\"/>\n",
       "  </clipPath>\n",
       "</defs>\n",
       "<polyline clip-path=\"url(#clip522)\" style=\"stroke:#000000; stroke-linecap:round; stroke-linejoin:round; stroke-width:2; stroke-opacity:0.1; fill:none\" points=\"308.73,1423.18 308.73,47.2441 \"/>\n",
       "<polyline clip-path=\"url(#clip522)\" style=\"stroke:#000000; stroke-linecap:round; stroke-linejoin:round; stroke-width:2; stroke-opacity:0.1; fill:none\" points=\"804.852,1423.18 804.852,47.2441 \"/>\n",
       "<polyline clip-path=\"url(#clip522)\" style=\"stroke:#000000; stroke-linecap:round; stroke-linejoin:round; stroke-width:2; stroke-opacity:0.1; fill:none\" points=\"1300.98,1423.18 1300.98,47.2441 \"/>\n",
       "<polyline clip-path=\"url(#clip522)\" style=\"stroke:#000000; stroke-linecap:round; stroke-linejoin:round; stroke-width:2; stroke-opacity:0.1; fill:none\" points=\"1797.1,1423.18 1797.1,47.2441 \"/>\n",
       "<polyline clip-path=\"url(#clip522)\" style=\"stroke:#000000; stroke-linecap:round; stroke-linejoin:round; stroke-width:2; stroke-opacity:0.1; fill:none\" points=\"2293.22,1423.18 2293.22,47.2441 \"/>\n",
       "<polyline clip-path=\"url(#clip520)\" style=\"stroke:#000000; stroke-linecap:round; stroke-linejoin:round; stroke-width:4; stroke-opacity:1; fill:none\" points=\"249.195,1423.18 2352.76,1423.18 \"/>\n",
       "<polyline clip-path=\"url(#clip520)\" style=\"stroke:#000000; stroke-linecap:round; stroke-linejoin:round; stroke-width:4; stroke-opacity:1; fill:none\" points=\"308.73,1423.18 308.73,1404.28 \"/>\n",
       "<polyline clip-path=\"url(#clip520)\" style=\"stroke:#000000; stroke-linecap:round; stroke-linejoin:round; stroke-width:4; stroke-opacity:1; fill:none\" points=\"804.852,1423.18 804.852,1404.28 \"/>\n",
       "<polyline clip-path=\"url(#clip520)\" style=\"stroke:#000000; stroke-linecap:round; stroke-linejoin:round; stroke-width:4; stroke-opacity:1; fill:none\" points=\"1300.98,1423.18 1300.98,1404.28 \"/>\n",
       "<polyline clip-path=\"url(#clip520)\" style=\"stroke:#000000; stroke-linecap:round; stroke-linejoin:round; stroke-width:4; stroke-opacity:1; fill:none\" points=\"1797.1,1423.18 1797.1,1404.28 \"/>\n",
       "<polyline clip-path=\"url(#clip520)\" style=\"stroke:#000000; stroke-linecap:round; stroke-linejoin:round; stroke-width:4; stroke-opacity:1; fill:none\" points=\"2293.22,1423.18 2293.22,1404.28 \"/>\n",
       "<path clip-path=\"url(#clip520)\" d=\"M245.721 1481.64 L253.359 1481.64 L253.359 1455.28 L245.049 1456.95 L245.049 1452.69 L253.313 1451.02 L257.989 1451.02 L257.989 1481.64 L265.628 1481.64 L265.628 1485.58 L245.721 1485.58 L245.721 1481.64 Z\" fill=\"#000000\" fill-rule=\"nonzero\" fill-opacity=\"1\" /><path clip-path=\"url(#clip520)\" d=\"M275.072 1479.7 L279.957 1479.7 L279.957 1485.58 L275.072 1485.58 L275.072 1479.7 Z\" fill=\"#000000\" fill-rule=\"nonzero\" fill-opacity=\"1\" /><path clip-path=\"url(#clip520)\" d=\"M304.308 1466.95 Q307.665 1467.66 309.54 1469.93 Q311.438 1472.2 311.438 1475.53 Q311.438 1480.65 307.919 1483.45 Q304.401 1486.25 297.919 1486.25 Q295.744 1486.25 293.429 1485.81 Q291.137 1485.39 288.683 1484.54 L288.683 1480.02 Q290.628 1481.16 292.943 1481.74 Q295.257 1482.32 297.781 1482.32 Q302.179 1482.32 304.47 1480.58 Q306.785 1478.84 306.785 1475.53 Q306.785 1472.48 304.632 1470.77 Q302.503 1469.03 298.683 1469.03 L294.656 1469.03 L294.656 1465.19 L298.869 1465.19 Q302.318 1465.19 304.146 1463.82 Q305.975 1462.43 305.975 1459.84 Q305.975 1457.18 304.077 1455.77 Q302.202 1454.33 298.683 1454.33 Q296.762 1454.33 294.563 1454.75 Q292.364 1455.16 289.725 1456.04 L289.725 1451.88 Q292.387 1451.14 294.702 1450.77 Q297.04 1450.39 299.1 1450.39 Q304.424 1450.39 307.526 1452.83 Q310.628 1455.23 310.628 1459.35 Q310.628 1462.22 308.984 1464.21 Q307.341 1466.18 304.308 1466.95 Z\" fill=\"#000000\" fill-rule=\"nonzero\" fill-opacity=\"1\" /><path clip-path=\"url(#clip520)\" d=\"M330.304 1454.1 Q326.692 1454.1 324.864 1457.66 Q323.058 1461.2 323.058 1468.33 Q323.058 1475.44 324.864 1479.01 Q326.692 1482.55 330.304 1482.55 Q333.938 1482.55 335.743 1479.01 Q337.572 1475.44 337.572 1468.33 Q337.572 1461.2 335.743 1457.66 Q333.938 1454.1 330.304 1454.1 M330.304 1450.39 Q336.114 1450.39 339.169 1455 Q342.248 1459.58 342.248 1468.33 Q342.248 1477.06 339.169 1481.67 Q336.114 1486.25 330.304 1486.25 Q324.493 1486.25 321.415 1481.67 Q318.359 1477.06 318.359 1468.33 Q318.359 1459.58 321.415 1455 Q324.493 1450.39 330.304 1450.39 Z\" fill=\"#000000\" fill-rule=\"nonzero\" fill-opacity=\"1\" /><path clip-path=\"url(#clip520)\" d=\"M360.465 1454.1 Q356.854 1454.1 355.026 1457.66 Q353.22 1461.2 353.22 1468.33 Q353.22 1475.44 355.026 1479.01 Q356.854 1482.55 360.465 1482.55 Q364.1 1482.55 365.905 1479.01 Q367.734 1475.44 367.734 1468.33 Q367.734 1461.2 365.905 1457.66 Q364.1 1454.1 360.465 1454.1 M360.465 1450.39 Q366.276 1450.39 369.331 1455 Q372.41 1459.58 372.41 1468.33 Q372.41 1477.06 369.331 1481.67 Q366.276 1486.25 360.465 1486.25 Q354.655 1486.25 351.577 1481.67 Q348.521 1477.06 348.521 1468.33 Q348.521 1459.58 351.577 1455 Q354.655 1450.39 360.465 1450.39 Z\" fill=\"#000000\" fill-rule=\"nonzero\" fill-opacity=\"1\" /><path clip-path=\"url(#clip520)\" d=\"M742.341 1481.64 L749.98 1481.64 L749.98 1455.28 L741.67 1456.95 L741.67 1452.69 L749.934 1451.02 L754.61 1451.02 L754.61 1481.64 L762.249 1481.64 L762.249 1485.58 L742.341 1485.58 L742.341 1481.64 Z\" fill=\"#000000\" fill-rule=\"nonzero\" fill-opacity=\"1\" /><path clip-path=\"url(#clip520)\" d=\"M771.693 1479.7 L776.577 1479.7 L776.577 1485.58 L771.693 1485.58 L771.693 1479.7 Z\" fill=\"#000000\" fill-rule=\"nonzero\" fill-opacity=\"1\" /><path clip-path=\"url(#clip520)\" d=\"M800.929 1466.95 Q804.285 1467.66 806.16 1469.93 Q808.058 1472.2 808.058 1475.53 Q808.058 1480.65 804.54 1483.45 Q801.021 1486.25 794.54 1486.25 Q792.364 1486.25 790.049 1485.81 Q787.758 1485.39 785.304 1484.54 L785.304 1480.02 Q787.248 1481.16 789.563 1481.74 Q791.878 1482.32 794.401 1482.32 Q798.799 1482.32 801.091 1480.58 Q803.406 1478.84 803.406 1475.53 Q803.406 1472.48 801.253 1470.77 Q799.123 1469.03 795.304 1469.03 L791.276 1469.03 L791.276 1465.19 L795.489 1465.19 Q798.938 1465.19 800.767 1463.82 Q802.596 1462.43 802.596 1459.84 Q802.596 1457.18 800.697 1455.77 Q798.822 1454.33 795.304 1454.33 Q793.383 1454.33 791.184 1454.75 Q788.984 1455.16 786.346 1456.04 L786.346 1451.88 Q789.008 1451.14 791.322 1450.77 Q793.66 1450.39 795.721 1450.39 Q801.045 1450.39 804.146 1452.83 Q807.248 1455.23 807.248 1459.35 Q807.248 1462.22 805.605 1464.21 Q803.961 1466.18 800.929 1466.95 Z\" fill=\"#000000\" fill-rule=\"nonzero\" fill-opacity=\"1\" /><path clip-path=\"url(#clip520)\" d=\"M820.952 1481.64 L837.271 1481.64 L837.271 1485.58 L815.327 1485.58 L815.327 1481.64 Q817.989 1478.89 822.572 1474.26 Q827.179 1469.61 828.359 1468.27 Q830.605 1465.74 831.484 1464.01 Q832.387 1462.25 832.387 1460.56 Q832.387 1457.8 830.443 1456.07 Q828.521 1454.33 825.419 1454.33 Q823.22 1454.33 820.767 1455.09 Q818.336 1455.86 815.558 1457.41 L815.558 1452.69 Q818.382 1451.55 820.836 1450.97 Q823.29 1450.39 825.327 1450.39 Q830.697 1450.39 833.892 1453.08 Q837.086 1455.77 837.086 1460.26 Q837.086 1462.39 836.276 1464.31 Q835.489 1466.2 833.382 1468.8 Q832.804 1469.47 829.702 1472.69 Q826.6 1475.88 820.952 1481.64 Z\" fill=\"#000000\" fill-rule=\"nonzero\" fill-opacity=\"1\" /><path clip-path=\"url(#clip520)\" d=\"M847.132 1451.02 L865.489 1451.02 L865.489 1454.96 L851.415 1454.96 L851.415 1463.43 Q852.433 1463.08 853.452 1462.92 Q854.47 1462.73 855.489 1462.73 Q861.276 1462.73 864.655 1465.9 Q868.035 1469.08 868.035 1474.49 Q868.035 1480.07 864.563 1483.17 Q861.091 1486.25 854.771 1486.25 Q852.595 1486.25 850.327 1485.88 Q848.081 1485.51 845.674 1484.77 L845.674 1480.07 Q847.757 1481.2 849.98 1481.76 Q852.202 1482.32 854.679 1482.32 Q858.683 1482.32 861.021 1480.21 Q863.359 1478.1 863.359 1474.49 Q863.359 1470.88 861.021 1468.77 Q858.683 1466.67 854.679 1466.67 Q852.804 1466.67 850.929 1467.08 Q849.077 1467.5 847.132 1468.38 L847.132 1451.02 Z\" fill=\"#000000\" fill-rule=\"nonzero\" fill-opacity=\"1\" /><path clip-path=\"url(#clip520)\" d=\"M1237.97 1481.64 L1245.61 1481.64 L1245.61 1455.28 L1237.3 1456.95 L1237.3 1452.69 L1245.56 1451.02 L1250.23 1451.02 L1250.23 1481.64 L1257.87 1481.64 L1257.87 1485.58 L1237.97 1485.58 L1237.97 1481.64 Z\" fill=\"#000000\" fill-rule=\"nonzero\" fill-opacity=\"1\" /><path clip-path=\"url(#clip520)\" d=\"M1267.32 1479.7 L1272.2 1479.7 L1272.2 1485.58 L1267.32 1485.58 L1267.32 1479.7 Z\" fill=\"#000000\" fill-rule=\"nonzero\" fill-opacity=\"1\" /><path clip-path=\"url(#clip520)\" d=\"M1296.55 1466.95 Q1299.91 1467.66 1301.79 1469.93 Q1303.68 1472.2 1303.68 1475.53 Q1303.68 1480.65 1300.17 1483.45 Q1296.65 1486.25 1290.17 1486.25 Q1287.99 1486.25 1285.67 1485.81 Q1283.38 1485.39 1280.93 1484.54 L1280.93 1480.02 Q1282.87 1481.16 1285.19 1481.74 Q1287.5 1482.32 1290.03 1482.32 Q1294.42 1482.32 1296.72 1480.58 Q1299.03 1478.84 1299.03 1475.53 Q1299.03 1472.48 1296.88 1470.77 Q1294.75 1469.03 1290.93 1469.03 L1286.9 1469.03 L1286.9 1465.19 L1291.11 1465.19 Q1294.56 1465.19 1296.39 1463.82 Q1298.22 1462.43 1298.22 1459.84 Q1298.22 1457.18 1296.32 1455.77 Q1294.45 1454.33 1290.93 1454.33 Q1289.01 1454.33 1286.81 1454.75 Q1284.61 1455.16 1281.97 1456.04 L1281.97 1451.88 Q1284.63 1451.14 1286.95 1450.77 Q1289.29 1450.39 1291.35 1450.39 Q1296.67 1450.39 1299.77 1452.83 Q1302.87 1455.23 1302.87 1459.35 Q1302.87 1462.22 1301.23 1464.21 Q1299.59 1466.18 1296.55 1466.95 Z\" fill=\"#000000\" fill-rule=\"nonzero\" fill-opacity=\"1\" /><path clip-path=\"url(#clip520)\" d=\"M1312.6 1451.02 L1330.95 1451.02 L1330.95 1454.96 L1316.88 1454.96 L1316.88 1463.43 Q1317.9 1463.08 1318.92 1462.92 Q1319.93 1462.73 1320.95 1462.73 Q1326.74 1462.73 1330.12 1465.9 Q1333.5 1469.08 1333.5 1474.49 Q1333.5 1480.07 1330.03 1483.17 Q1326.55 1486.25 1320.23 1486.25 Q1318.06 1486.25 1315.79 1485.88 Q1313.54 1485.51 1311.14 1484.77 L1311.14 1480.07 Q1313.22 1481.2 1315.44 1481.76 Q1317.67 1482.32 1320.14 1482.32 Q1324.15 1482.32 1326.48 1480.21 Q1328.82 1478.1 1328.82 1474.49 Q1328.82 1470.88 1326.48 1468.77 Q1324.15 1466.67 1320.14 1466.67 Q1318.27 1466.67 1316.39 1467.08 Q1314.54 1467.5 1312.6 1468.38 L1312.6 1451.02 Z\" fill=\"#000000\" fill-rule=\"nonzero\" fill-opacity=\"1\" /><path clip-path=\"url(#clip520)\" d=\"M1352.71 1454.1 Q1349.1 1454.1 1347.27 1457.66 Q1345.47 1461.2 1345.47 1468.33 Q1345.47 1475.44 1347.27 1479.01 Q1349.1 1482.55 1352.71 1482.55 Q1356.35 1482.55 1358.15 1479.01 Q1359.98 1475.44 1359.98 1468.33 Q1359.98 1461.2 1358.15 1457.66 Q1356.35 1454.1 1352.71 1454.1 M1352.71 1450.39 Q1358.52 1450.39 1361.58 1455 Q1364.66 1459.58 1364.66 1468.33 Q1364.66 1477.06 1361.58 1481.67 Q1358.52 1486.25 1352.71 1486.25 Q1346.9 1486.25 1343.82 1481.67 Q1340.77 1477.06 1340.77 1468.33 Q1340.77 1459.58 1343.82 1455 Q1346.9 1450.39 1352.71 1450.39 Z\" fill=\"#000000\" fill-rule=\"nonzero\" fill-opacity=\"1\" /><path clip-path=\"url(#clip520)\" d=\"M1734.59 1481.64 L1742.23 1481.64 L1742.23 1455.28 L1733.92 1456.95 L1733.92 1452.69 L1742.18 1451.02 L1746.86 1451.02 L1746.86 1481.64 L1754.49 1481.64 L1754.49 1485.58 L1734.59 1485.58 L1734.59 1481.64 Z\" fill=\"#000000\" fill-rule=\"nonzero\" fill-opacity=\"1\" /><path clip-path=\"url(#clip520)\" d=\"M1763.94 1479.7 L1768.82 1479.7 L1768.82 1485.58 L1763.94 1485.58 L1763.94 1479.7 Z\" fill=\"#000000\" fill-rule=\"nonzero\" fill-opacity=\"1\" /><path clip-path=\"url(#clip520)\" d=\"M1793.17 1466.95 Q1796.53 1467.66 1798.41 1469.93 Q1800.3 1472.2 1800.3 1475.53 Q1800.3 1480.65 1796.79 1483.45 Q1793.27 1486.25 1786.79 1486.25 Q1784.61 1486.25 1782.3 1485.81 Q1780 1485.39 1777.55 1484.54 L1777.55 1480.02 Q1779.49 1481.16 1781.81 1481.74 Q1784.12 1482.32 1786.65 1482.32 Q1791.05 1482.32 1793.34 1480.58 Q1795.65 1478.84 1795.65 1475.53 Q1795.65 1472.48 1793.5 1470.77 Q1791.37 1469.03 1787.55 1469.03 L1783.52 1469.03 L1783.52 1465.19 L1787.73 1465.19 Q1791.18 1465.19 1793.01 1463.82 Q1794.84 1462.43 1794.84 1459.84 Q1794.84 1457.18 1792.94 1455.77 Q1791.07 1454.33 1787.55 1454.33 Q1785.63 1454.33 1783.43 1454.75 Q1781.23 1455.16 1778.59 1456.04 L1778.59 1451.88 Q1781.25 1451.14 1783.57 1450.77 Q1785.91 1450.39 1787.97 1450.39 Q1793.29 1450.39 1796.39 1452.83 Q1799.49 1455.23 1799.49 1459.35 Q1799.49 1462.22 1797.85 1464.21 Q1796.21 1466.18 1793.17 1466.95 Z\" fill=\"#000000\" fill-rule=\"nonzero\" fill-opacity=\"1\" /><path clip-path=\"url(#clip520)\" d=\"M1807.99 1451.02 L1830.21 1451.02 L1830.21 1453.01 L1817.67 1485.58 L1812.78 1485.58 L1824.59 1454.96 L1807.99 1454.96 L1807.99 1451.02 Z\" fill=\"#000000\" fill-rule=\"nonzero\" fill-opacity=\"1\" /><path clip-path=\"url(#clip520)\" d=\"M1839.38 1451.02 L1857.73 1451.02 L1857.73 1454.96 L1843.66 1454.96 L1843.66 1463.43 Q1844.68 1463.08 1845.7 1462.92 Q1846.72 1462.73 1847.73 1462.73 Q1853.52 1462.73 1856.9 1465.9 Q1860.28 1469.08 1860.28 1474.49 Q1860.28 1480.07 1856.81 1483.17 Q1853.34 1486.25 1847.02 1486.25 Q1844.84 1486.25 1842.57 1485.88 Q1840.33 1485.51 1837.92 1484.77 L1837.92 1480.07 Q1840 1481.2 1842.23 1481.76 Q1844.45 1482.32 1846.92 1482.32 Q1850.93 1482.32 1853.27 1480.21 Q1855.6 1478.1 1855.6 1474.49 Q1855.6 1470.88 1853.27 1468.77 Q1850.93 1466.67 1846.92 1466.67 Q1845.05 1466.67 1843.17 1467.08 Q1841.32 1467.5 1839.38 1468.38 L1839.38 1451.02 Z\" fill=\"#000000\" fill-rule=\"nonzero\" fill-opacity=\"1\" /><path clip-path=\"url(#clip520)\" d=\"M2230.21 1481.64 L2237.85 1481.64 L2237.85 1455.28 L2229.54 1456.95 L2229.54 1452.69 L2237.8 1451.02 L2242.48 1451.02 L2242.48 1481.64 L2250.12 1481.64 L2250.12 1485.58 L2230.21 1485.58 L2230.21 1481.64 Z\" fill=\"#000000\" fill-rule=\"nonzero\" fill-opacity=\"1\" /><path clip-path=\"url(#clip520)\" d=\"M2259.56 1479.7 L2264.45 1479.7 L2264.45 1485.58 L2259.56 1485.58 L2259.56 1479.7 Z\" fill=\"#000000\" fill-rule=\"nonzero\" fill-opacity=\"1\" /><path clip-path=\"url(#clip520)\" d=\"M2287.48 1455.09 L2275.67 1473.54 L2287.48 1473.54 L2287.48 1455.09 M2286.25 1451.02 L2292.13 1451.02 L2292.13 1473.54 L2297.06 1473.54 L2297.06 1477.43 L2292.13 1477.43 L2292.13 1485.58 L2287.48 1485.58 L2287.48 1477.43 L2271.88 1477.43 L2271.88 1472.92 L2286.25 1451.02 Z\" fill=\"#000000\" fill-rule=\"nonzero\" fill-opacity=\"1\" /><path clip-path=\"url(#clip520)\" d=\"M2314.8 1454.1 Q2311.18 1454.1 2309.36 1457.66 Q2307.55 1461.2 2307.55 1468.33 Q2307.55 1475.44 2309.36 1479.01 Q2311.18 1482.55 2314.8 1482.55 Q2318.43 1482.55 2320.23 1479.01 Q2322.06 1475.44 2322.06 1468.33 Q2322.06 1461.2 2320.23 1457.66 Q2318.43 1454.1 2314.8 1454.1 M2314.8 1450.39 Q2320.61 1450.39 2323.66 1455 Q2326.74 1459.58 2326.74 1468.33 Q2326.74 1477.06 2323.66 1481.67 Q2320.61 1486.25 2314.8 1486.25 Q2308.98 1486.25 2305.91 1481.67 Q2302.85 1477.06 2302.85 1468.33 Q2302.85 1459.58 2305.91 1455 Q2308.98 1450.39 2314.8 1450.39 Z\" fill=\"#000000\" fill-rule=\"nonzero\" fill-opacity=\"1\" /><path clip-path=\"url(#clip520)\" d=\"M2344.96 1454.1 Q2341.35 1454.1 2339.52 1457.66 Q2337.71 1461.2 2337.71 1468.33 Q2337.71 1475.44 2339.52 1479.01 Q2341.35 1482.55 2344.96 1482.55 Q2348.59 1482.55 2350.4 1479.01 Q2352.23 1475.44 2352.23 1468.33 Q2352.23 1461.2 2350.4 1457.66 Q2348.59 1454.1 2344.96 1454.1 M2344.96 1450.39 Q2350.77 1450.39 2353.82 1455 Q2356.9 1459.58 2356.9 1468.33 Q2356.9 1477.06 2353.82 1481.67 Q2350.77 1486.25 2344.96 1486.25 Q2339.15 1486.25 2336.07 1481.67 Q2333.01 1477.06 2333.01 1468.33 Q2333.01 1459.58 2336.07 1455 Q2339.15 1450.39 2344.96 1450.39 Z\" fill=\"#000000\" fill-rule=\"nonzero\" fill-opacity=\"1\" /><path clip-path=\"url(#clip520)\" d=\"M1315.15 1528.8 Q1315.15 1530.61 1314.02 1531.64 Q1312.89 1532.64 1311.61 1532.64 Q1310.38 1532.64 1309.74 1531.93 Q1309.09 1531.22 1309.09 1530.32 Q1309.09 1529.09 1310 1528.03 Q1310.9 1526.97 1312.25 1526.74 Q1310.93 1525.91 1308.97 1525.91 Q1307.68 1525.91 1306.55 1526.58 Q1305.45 1527.26 1304.78 1528.13 Q1304.13 1529 1303.55 1530.25 Q1303.01 1531.48 1302.78 1532.22 Q1302.59 1532.93 1302.43 1533.7 L1300.17 1542.72 Q1299.08 1547 1299.08 1548.51 Q1299.08 1550.38 1299.98 1551.64 Q1300.88 1552.86 1302.69 1552.86 Q1303.39 1552.86 1304.2 1552.67 Q1305 1552.44 1306.03 1551.86 Q1307.1 1551.25 1308.03 1550.35 Q1309 1549.42 1309.93 1547.84 Q1310.87 1546.26 1311.48 1544.23 Q1311.67 1543.52 1312.31 1543.52 Q1313.12 1543.52 1313.12 1544.17 Q1313.12 1544.71 1312.67 1545.87 Q1312.25 1547 1311.32 1548.48 Q1310.41 1549.93 1309.22 1551.25 Q1308.03 1552.54 1306.26 1553.44 Q1304.49 1554.34 1302.56 1554.34 Q1299.79 1554.34 1297.95 1552.86 Q1296.12 1551.38 1295.44 1549.32 Q1295.28 1549.61 1295.05 1550 Q1294.83 1550.38 1294.15 1551.25 Q1293.51 1552.09 1292.77 1552.73 Q1292.02 1553.34 1290.87 1553.83 Q1289.74 1554.34 1288.51 1554.34 Q1286.97 1554.34 1285.58 1553.89 Q1284.23 1553.44 1283.26 1552.41 Q1282.3 1551.38 1282.3 1549.96 Q1282.3 1548.38 1283.36 1547.29 Q1284.46 1546.16 1285.94 1546.16 Q1286.87 1546.16 1287.61 1546.71 Q1288.39 1547.26 1288.39 1548.45 Q1288.39 1549.77 1287.48 1550.77 Q1286.58 1551.77 1285.29 1552.02 Q1286.61 1552.86 1288.58 1552.86 Q1290.7 1552.86 1292.38 1550.99 Q1294.05 1549.13 1294.86 1546 Q1296.86 1538.5 1297.63 1535.15 Q1298.4 1531.77 1298.4 1530.32 Q1298.4 1528.96 1298.05 1528.03 Q1297.69 1527.1 1297.08 1526.68 Q1296.5 1526.23 1295.95 1526.07 Q1295.44 1525.91 1294.86 1525.91 Q1293.89 1525.91 1292.8 1526.29 Q1291.74 1526.68 1290.45 1527.58 Q1289.19 1528.45 1288 1530.25 Q1286.81 1532.06 1286 1534.54 Q1285.84 1535.28 1285.13 1535.28 Q1284.36 1535.24 1284.36 1534.6 Q1284.36 1534.05 1284.78 1532.93 Q1285.23 1531.77 1286.13 1530.32 Q1287.07 1528.87 1288.26 1527.58 Q1289.48 1526.26 1291.25 1525.36 Q1293.06 1524.46 1294.99 1524.46 Q1295.86 1524.46 1296.69 1524.65 Q1297.56 1524.81 1298.59 1525.29 Q1299.66 1525.78 1300.59 1526.84 Q1301.53 1527.9 1302.11 1529.45 Q1302.49 1528.71 1303.01 1528 Q1303.55 1527.29 1304.39 1526.42 Q1305.26 1525.52 1306.45 1525 Q1307.68 1524.46 1309.03 1524.46 Q1310.35 1524.46 1311.64 1524.81 Q1312.93 1525.13 1314.02 1526.19 Q1315.15 1527.23 1315.15 1528.8 Z\" fill=\"#000000\" fill-rule=\"nonzero\" fill-opacity=\"1\" /><polyline clip-path=\"url(#clip522)\" style=\"stroke:#000000; stroke-linecap:round; stroke-linejoin:round; stroke-width:2; stroke-opacity:0.1; fill:none\" points=\"249.195,1385.14 2352.76,1385.14 \"/>\n",
       "<polyline clip-path=\"url(#clip522)\" style=\"stroke:#000000; stroke-linecap:round; stroke-linejoin:round; stroke-width:2; stroke-opacity:0.1; fill:none\" points=\"249.195,1161.1 2352.76,1161.1 \"/>\n",
       "<polyline clip-path=\"url(#clip522)\" style=\"stroke:#000000; stroke-linecap:round; stroke-linejoin:round; stroke-width:2; stroke-opacity:0.1; fill:none\" points=\"249.195,937.046 2352.76,937.046 \"/>\n",
       "<polyline clip-path=\"url(#clip522)\" style=\"stroke:#000000; stroke-linecap:round; stroke-linejoin:round; stroke-width:2; stroke-opacity:0.1; fill:none\" points=\"249.195,712.996 2352.76,712.996 \"/>\n",
       "<polyline clip-path=\"url(#clip522)\" style=\"stroke:#000000; stroke-linecap:round; stroke-linejoin:round; stroke-width:2; stroke-opacity:0.1; fill:none\" points=\"249.195,488.946 2352.76,488.946 \"/>\n",
       "<polyline clip-path=\"url(#clip522)\" style=\"stroke:#000000; stroke-linecap:round; stroke-linejoin:round; stroke-width:2; stroke-opacity:0.1; fill:none\" points=\"249.195,264.897 2352.76,264.897 \"/>\n",
       "<polyline clip-path=\"url(#clip520)\" style=\"stroke:#000000; stroke-linecap:round; stroke-linejoin:round; stroke-width:4; stroke-opacity:1; fill:none\" points=\"249.195,1423.18 249.195,47.2441 \"/>\n",
       "<polyline clip-path=\"url(#clip520)\" style=\"stroke:#000000; stroke-linecap:round; stroke-linejoin:round; stroke-width:4; stroke-opacity:1; fill:none\" points=\"249.195,1385.14 268.092,1385.14 \"/>\n",
       "<polyline clip-path=\"url(#clip520)\" style=\"stroke:#000000; stroke-linecap:round; stroke-linejoin:round; stroke-width:4; stroke-opacity:1; fill:none\" points=\"249.195,1161.1 268.092,1161.1 \"/>\n",
       "<polyline clip-path=\"url(#clip520)\" style=\"stroke:#000000; stroke-linecap:round; stroke-linejoin:round; stroke-width:4; stroke-opacity:1; fill:none\" points=\"249.195,937.046 268.092,937.046 \"/>\n",
       "<polyline clip-path=\"url(#clip520)\" style=\"stroke:#000000; stroke-linecap:round; stroke-linejoin:round; stroke-width:4; stroke-opacity:1; fill:none\" points=\"249.195,712.996 268.092,712.996 \"/>\n",
       "<polyline clip-path=\"url(#clip520)\" style=\"stroke:#000000; stroke-linecap:round; stroke-linejoin:round; stroke-width:4; stroke-opacity:1; fill:none\" points=\"249.195,488.946 268.092,488.946 \"/>\n",
       "<polyline clip-path=\"url(#clip520)\" style=\"stroke:#000000; stroke-linecap:round; stroke-linejoin:round; stroke-width:4; stroke-opacity:1; fill:none\" points=\"249.195,264.897 268.092,264.897 \"/>\n",
       "<path clip-path=\"url(#clip520)\" d=\"M120.88 1398.49 L137.2 1398.49 L137.2 1402.42 L115.256 1402.42 L115.256 1398.49 Q117.918 1395.74 122.501 1391.11 Q127.107 1386.45 128.288 1385.11 Q130.533 1382.59 131.413 1380.85 Q132.316 1379.09 132.316 1377.4 Q132.316 1374.65 130.371 1372.91 Q128.45 1371.17 125.348 1371.17 Q123.149 1371.17 120.695 1371.94 Q118.265 1372.7 115.487 1374.25 L115.487 1369.53 Q118.311 1368.4 120.765 1367.82 Q123.218 1367.24 125.255 1367.24 Q130.626 1367.24 133.82 1369.92 Q137.015 1372.61 137.015 1377.1 Q137.015 1379.23 136.204 1381.15 Q135.417 1383.05 133.311 1385.64 Q132.732 1386.31 129.63 1389.53 Q126.529 1392.73 120.88 1398.49 Z\" fill=\"#000000\" fill-rule=\"nonzero\" fill-opacity=\"1\" /><path clip-path=\"url(#clip520)\" d=\"M147.015 1396.55 L151.899 1396.55 L151.899 1402.42 L147.015 1402.42 L147.015 1396.55 Z\" fill=\"#000000\" fill-rule=\"nonzero\" fill-opacity=\"1\" /><path clip-path=\"url(#clip520)\" d=\"M172.663 1383.28 Q169.514 1383.28 167.663 1385.43 Q165.834 1387.59 165.834 1391.34 Q165.834 1395.06 167.663 1397.24 Q169.514 1399.39 172.663 1399.39 Q175.811 1399.39 177.639 1397.24 Q179.491 1395.06 179.491 1391.34 Q179.491 1387.59 177.639 1385.43 Q175.811 1383.28 172.663 1383.28 M181.945 1368.63 L181.945 1372.89 Q180.186 1372.05 178.38 1371.61 Q176.598 1371.17 174.839 1371.17 Q170.209 1371.17 167.755 1374.3 Q165.325 1377.42 164.977 1383.74 Q166.343 1381.73 168.403 1380.67 Q170.464 1379.58 172.94 1379.58 Q178.149 1379.58 181.158 1382.75 Q184.19 1385.9 184.19 1391.34 Q184.19 1396.66 181.042 1399.88 Q177.894 1403.1 172.663 1403.1 Q166.667 1403.1 163.496 1398.51 Q160.325 1393.91 160.325 1385.18 Q160.325 1376.99 164.214 1372.12 Q168.102 1367.24 174.653 1367.24 Q176.413 1367.24 178.195 1367.59 Q180.001 1367.93 181.945 1368.63 Z\" fill=\"#000000\" fill-rule=\"nonzero\" fill-opacity=\"1\" /><path clip-path=\"url(#clip520)\" d=\"M192.292 1367.86 L210.649 1367.86 L210.649 1371.8 L196.575 1371.8 L196.575 1380.27 Q197.593 1379.92 198.612 1379.76 Q199.63 1379.58 200.649 1379.58 Q206.436 1379.58 209.815 1382.75 Q213.195 1385.92 213.195 1391.34 Q213.195 1396.92 209.723 1400.02 Q206.25 1403.1 199.931 1403.1 Q197.755 1403.1 195.487 1402.73 Q193.241 1402.36 190.834 1401.61 L190.834 1396.92 Q192.917 1398.05 195.139 1398.61 Q197.362 1399.16 199.838 1399.16 Q203.843 1399.16 206.181 1397.05 Q208.519 1394.95 208.519 1391.34 Q208.519 1387.73 206.181 1385.62 Q203.843 1383.51 199.838 1383.51 Q197.963 1383.51 196.088 1383.93 Q194.237 1384.35 192.292 1385.23 L192.292 1367.86 Z\" fill=\"#000000\" fill-rule=\"nonzero\" fill-opacity=\"1\" /><path clip-path=\"url(#clip520)\" d=\"M119.885 1174.44 L136.204 1174.44 L136.204 1178.38 L114.26 1178.38 L114.26 1174.44 Q116.922 1171.69 121.505 1167.06 Q126.112 1162.4 127.292 1161.06 Q129.538 1158.54 130.417 1156.8 Q131.32 1155.04 131.32 1153.35 Q131.32 1150.6 129.376 1148.86 Q127.455 1147.13 124.353 1147.13 Q122.154 1147.13 119.7 1147.89 Q117.269 1148.65 114.492 1150.2 L114.492 1145.48 Q117.316 1144.35 119.769 1143.77 Q122.223 1143.19 124.26 1143.19 Q129.63 1143.19 132.825 1145.88 Q136.019 1148.56 136.019 1153.05 Q136.019 1155.18 135.209 1157.1 Q134.422 1159 132.316 1161.59 Q131.737 1162.26 128.635 1165.48 Q125.533 1168.68 119.885 1174.44 Z\" fill=\"#000000\" fill-rule=\"nonzero\" fill-opacity=\"1\" /><path clip-path=\"url(#clip520)\" d=\"M146.019 1172.5 L150.903 1172.5 L150.903 1178.38 L146.019 1178.38 L146.019 1172.5 Z\" fill=\"#000000\" fill-rule=\"nonzero\" fill-opacity=\"1\" /><path clip-path=\"url(#clip520)\" d=\"M159.908 1143.82 L182.13 1143.82 L182.13 1145.81 L169.584 1178.38 L164.7 1178.38 L176.505 1147.75 L159.908 1147.75 L159.908 1143.82 Z\" fill=\"#000000\" fill-rule=\"nonzero\" fill-opacity=\"1\" /><path clip-path=\"url(#clip520)\" d=\"M201.25 1146.89 Q197.639 1146.89 195.811 1150.46 Q194.005 1154 194.005 1161.13 Q194.005 1168.24 195.811 1171.8 Q197.639 1175.34 201.25 1175.34 Q204.885 1175.34 206.69 1171.8 Q208.519 1168.24 208.519 1161.13 Q208.519 1154 206.69 1150.46 Q204.885 1146.89 201.25 1146.89 M201.25 1143.19 Q207.061 1143.19 210.116 1147.8 Q213.195 1152.38 213.195 1161.13 Q213.195 1169.86 210.116 1174.46 Q207.061 1179.05 201.25 1179.05 Q195.44 1179.05 192.362 1174.46 Q189.306 1169.86 189.306 1161.13 Q189.306 1152.38 192.362 1147.8 Q195.44 1143.19 201.25 1143.19 Z\" fill=\"#000000\" fill-rule=\"nonzero\" fill-opacity=\"1\" /><path clip-path=\"url(#clip520)\" d=\"M120.88 950.39 L137.2 950.39 L137.2 954.326 L115.256 954.326 L115.256 950.39 Q117.918 947.636 122.501 943.006 Q127.107 938.353 128.288 937.011 Q130.533 934.488 131.413 932.752 Q132.316 930.992 132.316 929.303 Q132.316 926.548 130.371 924.812 Q128.45 923.076 125.348 923.076 Q123.149 923.076 120.695 923.84 Q118.265 924.603 115.487 926.154 L115.487 921.432 Q118.311 920.298 120.765 919.719 Q123.218 919.141 125.255 919.141 Q130.626 919.141 133.82 921.826 Q137.015 924.511 137.015 929.002 Q137.015 931.131 136.204 933.053 Q135.417 934.951 133.311 937.543 Q132.732 938.215 129.63 941.432 Q126.529 944.627 120.88 950.39 Z\" fill=\"#000000\" fill-rule=\"nonzero\" fill-opacity=\"1\" /><path clip-path=\"url(#clip520)\" d=\"M147.015 948.446 L151.899 948.446 L151.899 954.326 L147.015 954.326 L147.015 948.446 Z\" fill=\"#000000\" fill-rule=\"nonzero\" fill-opacity=\"1\" /><path clip-path=\"url(#clip520)\" d=\"M160.903 919.766 L183.126 919.766 L183.126 921.756 L170.579 954.326 L165.695 954.326 L177.501 923.701 L160.903 923.701 L160.903 919.766 Z\" fill=\"#000000\" fill-rule=\"nonzero\" fill-opacity=\"1\" /><path clip-path=\"url(#clip520)\" d=\"M192.292 919.766 L210.649 919.766 L210.649 923.701 L196.575 923.701 L196.575 932.173 Q197.593 931.826 198.612 931.664 Q199.63 931.478 200.649 931.478 Q206.436 931.478 209.815 934.65 Q213.195 937.821 213.195 943.238 Q213.195 948.816 209.723 951.918 Q206.25 954.997 199.931 954.997 Q197.755 954.997 195.487 954.626 Q193.241 954.256 190.834 953.515 L190.834 948.816 Q192.917 949.951 195.139 950.506 Q197.362 951.062 199.838 951.062 Q203.843 951.062 206.181 948.955 Q208.519 946.849 208.519 943.238 Q208.519 939.627 206.181 937.52 Q203.843 935.414 199.838 935.414 Q197.963 935.414 196.088 935.83 Q194.237 936.247 192.292 937.127 L192.292 919.766 Z\" fill=\"#000000\" fill-rule=\"nonzero\" fill-opacity=\"1\" /><path clip-path=\"url(#clip520)\" d=\"M119.885 726.341 L136.204 726.341 L136.204 730.276 L114.26 730.276 L114.26 726.341 Q116.922 723.586 121.505 718.957 Q126.112 714.304 127.292 712.961 Q129.538 710.438 130.417 708.702 Q131.32 706.943 131.32 705.253 Q131.32 702.498 129.376 700.762 Q127.455 699.026 124.353 699.026 Q122.154 699.026 119.7 699.79 Q117.269 700.554 114.492 702.105 L114.492 697.383 Q117.316 696.248 119.769 695.67 Q122.223 695.091 124.26 695.091 Q129.63 695.091 132.825 697.776 Q136.019 700.461 136.019 704.952 Q136.019 707.082 135.209 709.003 Q134.422 710.901 132.316 713.494 Q131.737 714.165 128.635 717.382 Q125.533 720.577 119.885 726.341 Z\" fill=\"#000000\" fill-rule=\"nonzero\" fill-opacity=\"1\" /><path clip-path=\"url(#clip520)\" d=\"M146.019 724.396 L150.903 724.396 L150.903 730.276 L146.019 730.276 L146.019 724.396 Z\" fill=\"#000000\" fill-rule=\"nonzero\" fill-opacity=\"1\" /><path clip-path=\"url(#clip520)\" d=\"M171.089 713.864 Q167.755 713.864 165.834 715.646 Q163.936 717.429 163.936 720.554 Q163.936 723.679 165.834 725.461 Q167.755 727.244 171.089 727.244 Q174.422 727.244 176.343 725.461 Q178.264 723.656 178.264 720.554 Q178.264 717.429 176.343 715.646 Q174.445 713.864 171.089 713.864 M166.413 711.873 Q163.403 711.133 161.714 709.072 Q160.047 707.012 160.047 704.049 Q160.047 699.906 162.987 697.498 Q165.95 695.091 171.089 695.091 Q176.251 695.091 179.19 697.498 Q182.13 699.906 182.13 704.049 Q182.13 707.012 180.44 709.072 Q178.774 711.133 175.788 711.873 Q179.167 712.66 181.042 714.952 Q182.94 717.244 182.94 720.554 Q182.94 725.577 179.862 728.262 Q176.806 730.947 171.089 730.947 Q165.371 730.947 162.292 728.262 Q159.237 725.577 159.237 720.554 Q159.237 717.244 161.135 714.952 Q163.033 712.66 166.413 711.873 M164.7 704.489 Q164.7 707.174 166.366 708.679 Q168.056 710.183 171.089 710.183 Q174.098 710.183 175.788 708.679 Q177.501 707.174 177.501 704.489 Q177.501 701.804 175.788 700.299 Q174.098 698.795 171.089 698.795 Q168.056 698.795 166.366 700.299 Q164.7 701.804 164.7 704.489 Z\" fill=\"#000000\" fill-rule=\"nonzero\" fill-opacity=\"1\" /><path clip-path=\"url(#clip520)\" d=\"M201.25 698.795 Q197.639 698.795 195.811 702.359 Q194.005 705.901 194.005 713.031 Q194.005 720.137 195.811 723.702 Q197.639 727.244 201.25 727.244 Q204.885 727.244 206.69 723.702 Q208.519 720.137 208.519 713.031 Q208.519 705.901 206.69 702.359 Q204.885 698.795 201.25 698.795 M201.25 695.091 Q207.061 695.091 210.116 699.697 Q213.195 704.281 213.195 713.031 Q213.195 721.757 210.116 726.364 Q207.061 730.947 201.25 730.947 Q195.44 730.947 192.362 726.364 Q189.306 721.757 189.306 713.031 Q189.306 704.281 192.362 699.697 Q195.44 695.091 201.25 695.091 Z\" fill=\"#000000\" fill-rule=\"nonzero\" fill-opacity=\"1\" /><path clip-path=\"url(#clip520)\" d=\"M120.88 502.291 L137.2 502.291 L137.2 506.226 L115.256 506.226 L115.256 502.291 Q117.918 499.537 122.501 494.907 Q127.107 490.254 128.288 488.912 Q130.533 486.388 131.413 484.652 Q132.316 482.893 132.316 481.203 Q132.316 478.449 130.371 476.713 Q128.45 474.977 125.348 474.977 Q123.149 474.977 120.695 475.74 Q118.265 476.504 115.487 478.055 L115.487 473.333 Q118.311 472.199 120.765 471.62 Q123.218 471.041 125.255 471.041 Q130.626 471.041 133.82 473.727 Q137.015 476.412 137.015 480.902 Q137.015 483.032 136.204 484.953 Q135.417 486.851 133.311 489.444 Q132.732 490.115 129.63 493.333 Q126.529 496.527 120.88 502.291 Z\" fill=\"#000000\" fill-rule=\"nonzero\" fill-opacity=\"1\" /><path clip-path=\"url(#clip520)\" d=\"M147.015 500.347 L151.899 500.347 L151.899 506.226 L147.015 506.226 L147.015 500.347 Z\" fill=\"#000000\" fill-rule=\"nonzero\" fill-opacity=\"1\" /><path clip-path=\"url(#clip520)\" d=\"M172.084 489.814 Q168.751 489.814 166.829 491.597 Q164.931 493.379 164.931 496.504 Q164.931 499.629 166.829 501.412 Q168.751 503.194 172.084 503.194 Q175.417 503.194 177.339 501.412 Q179.26 499.606 179.26 496.504 Q179.26 493.379 177.339 491.597 Q175.44 489.814 172.084 489.814 M167.408 487.824 Q164.399 487.083 162.709 485.023 Q161.042 482.963 161.042 480 Q161.042 475.856 163.982 473.449 Q166.945 471.041 172.084 471.041 Q177.246 471.041 180.186 473.449 Q183.126 475.856 183.126 480 Q183.126 482.963 181.436 485.023 Q179.769 487.083 176.783 487.824 Q180.163 488.611 182.038 490.902 Q183.936 493.194 183.936 496.504 Q183.936 501.527 180.857 504.212 Q177.801 506.898 172.084 506.898 Q166.366 506.898 163.288 504.212 Q160.232 501.527 160.232 496.504 Q160.232 493.194 162.13 490.902 Q164.028 488.611 167.408 487.824 M165.695 480.439 Q165.695 483.125 167.362 484.629 Q169.052 486.134 172.084 486.134 Q175.093 486.134 176.783 484.629 Q178.496 483.125 178.496 480.439 Q178.496 477.754 176.783 476.25 Q175.093 474.745 172.084 474.745 Q169.052 474.745 167.362 476.25 Q165.695 477.754 165.695 480.439 Z\" fill=\"#000000\" fill-rule=\"nonzero\" fill-opacity=\"1\" /><path clip-path=\"url(#clip520)\" d=\"M192.292 471.666 L210.649 471.666 L210.649 475.601 L196.575 475.601 L196.575 484.074 Q197.593 483.726 198.612 483.564 Q199.63 483.379 200.649 483.379 Q206.436 483.379 209.815 486.551 Q213.195 489.722 213.195 495.138 Q213.195 500.717 209.723 503.819 Q206.25 506.898 199.931 506.898 Q197.755 506.898 195.487 506.527 Q193.241 506.157 190.834 505.416 L190.834 500.717 Q192.917 501.851 195.139 502.407 Q197.362 502.962 199.838 502.962 Q203.843 502.962 206.181 500.856 Q208.519 498.75 208.519 495.138 Q208.519 491.527 206.181 489.421 Q203.843 487.314 199.838 487.314 Q197.963 487.314 196.088 487.731 Q194.237 488.148 192.292 489.027 L192.292 471.666 Z\" fill=\"#000000\" fill-rule=\"nonzero\" fill-opacity=\"1\" /><path clip-path=\"url(#clip520)\" d=\"M119.885 278.242 L136.204 278.242 L136.204 282.177 L114.26 282.177 L114.26 278.242 Q116.922 275.487 121.505 270.857 Q126.112 266.205 127.292 264.862 Q129.538 262.339 130.417 260.603 Q131.32 258.844 131.32 257.154 Q131.32 254.399 129.376 252.663 Q127.455 250.927 124.353 250.927 Q122.154 250.927 119.7 251.691 Q117.269 252.455 114.492 254.006 L114.492 249.283 Q117.316 248.149 119.769 247.57 Q122.223 246.992 124.26 246.992 Q129.63 246.992 132.825 249.677 Q136.019 252.362 136.019 256.853 Q136.019 258.982 135.209 260.904 Q134.422 262.802 132.316 265.394 Q131.737 266.066 128.635 269.283 Q125.533 272.478 119.885 278.242 Z\" fill=\"#000000\" fill-rule=\"nonzero\" fill-opacity=\"1\" /><path clip-path=\"url(#clip520)\" d=\"M146.019 276.297 L150.903 276.297 L150.903 282.177 L146.019 282.177 L146.019 276.297 Z\" fill=\"#000000\" fill-rule=\"nonzero\" fill-opacity=\"1\" /><path clip-path=\"url(#clip520)\" d=\"M161.227 281.459 L161.227 277.2 Q162.987 278.033 164.792 278.473 Q166.598 278.913 168.334 278.913 Q172.964 278.913 175.394 275.811 Q177.848 272.686 178.195 266.343 Q176.852 268.334 174.792 269.399 Q172.732 270.464 170.232 270.464 Q165.047 270.464 162.015 267.339 Q159.005 264.191 159.005 258.751 Q159.005 253.427 162.153 250.209 Q165.302 246.992 170.533 246.992 Q176.528 246.992 179.676 251.598 Q182.848 256.181 182.848 264.931 Q182.848 273.103 178.959 277.987 Q175.093 282.848 168.542 282.848 Q166.783 282.848 164.977 282.501 Q163.172 282.154 161.227 281.459 M170.533 266.806 Q173.681 266.806 175.51 264.654 Q177.362 262.501 177.362 258.751 Q177.362 255.024 175.51 252.871 Q173.681 250.695 170.533 250.695 Q167.385 250.695 165.533 252.871 Q163.704 255.024 163.704 258.751 Q163.704 262.501 165.533 264.654 Q167.385 266.806 170.533 266.806 Z\" fill=\"#000000\" fill-rule=\"nonzero\" fill-opacity=\"1\" /><path clip-path=\"url(#clip520)\" d=\"M201.25 250.695 Q197.639 250.695 195.811 254.26 Q194.005 257.802 194.005 264.931 Q194.005 272.038 195.811 275.603 Q197.639 279.144 201.25 279.144 Q204.885 279.144 206.69 275.603 Q208.519 272.038 208.519 264.931 Q208.519 257.802 206.69 254.26 Q204.885 250.695 201.25 250.695 M201.25 246.992 Q207.061 246.992 210.116 251.598 Q213.195 256.181 213.195 264.931 Q213.195 273.658 210.116 278.265 Q207.061 282.848 201.25 282.848 Q195.44 282.848 192.362 278.265 Q189.306 273.658 189.306 264.931 Q189.306 256.181 192.362 251.598 Q195.44 246.992 201.25 246.992 Z\" fill=\"#000000\" fill-rule=\"nonzero\" fill-opacity=\"1\" /><path clip-path=\"url(#clip520)\" d=\"M24.1199 765.105 Q25.8912 765.105 26.9862 766.232 Q28.0812 767.327 28.0812 768.712 Q28.0812 769.71 27.4693 770.451 Q26.8574 771.159 25.7946 771.159 Q24.6996 771.159 23.5402 770.322 Q22.3807 769.485 22.2197 767.585 Q21.0281 768.841 21.0281 770.837 Q21.0281 771.836 21.6722 772.673 Q22.2841 773.478 23.2825 773.929 Q24.3131 774.412 30.1424 775.507 Q32.0425 775.861 33.8782 776.184 Q35.714 776.506 37.6463 776.892 L37.6463 771.417 Q37.6463 770.709 37.6785 770.419 Q37.7107 770.129 37.8718 769.903 Q38.0328 769.646 38.3871 769.646 Q39.2888 769.646 39.5143 770.064 Q39.7075 770.451 39.7075 771.61 L39.7075 777.279 L60.6091 781.24 Q61.221 781.336 63.1534 781.755 Q65.0535 782.142 68.1775 783.076 Q71.3337 784.01 73.2016 784.944 Q74.2644 785.459 75.2628 786.135 Q76.2934 786.779 77.3239 787.713 Q78.3545 788.647 78.9664 789.871 Q79.6106 791.095 79.6106 792.383 Q79.6106 794.573 78.3867 796.28 Q77.1629 797.987 75.0695 797.987 Q73.2982 797.987 72.2032 796.892 Q71.1082 795.765 71.1082 794.38 Q71.1082 793.381 71.7201 792.673 Q72.332 791.932 73.3948 791.932 Q73.8457 791.932 74.361 792.093 Q74.8763 792.254 75.456 792.609 Q76.0679 792.963 76.4866 793.736 Q76.9053 794.509 76.9697 795.571 Q78.1613 794.315 78.1613 792.383 Q78.1613 791.771 77.9036 791.224 Q77.6782 790.676 77.0985 790.225 Q76.5188 789.742 75.9391 789.388 Q75.3916 789.034 74.3288 788.679 Q73.2982 788.325 72.5253 788.1 Q71.7523 787.874 70.3675 787.584 Q68.9826 787.262 68.1453 787.101 Q67.3401 786.94 65.762 786.65 L39.7075 781.723 L39.7075 786.071 Q39.7075 786.844 39.6753 787.166 Q39.6431 787.456 39.4821 787.681 Q39.2888 787.906 38.9023 787.906 Q38.2904 787.906 38.0328 787.649 Q37.7429 787.359 37.7107 787.037 Q37.6463 786.715 37.6463 785.942 L37.6463 781.369 Q29.4982 779.823 27.3082 779.211 Q24.9894 778.502 23.3791 777.407 Q21.7366 776.312 20.9637 775.089 Q20.1907 773.865 19.9009 772.866 Q19.5788 771.836 19.5788 770.837 Q19.5788 768.583 20.8027 766.844 Q21.9943 765.105 24.1199 765.105 Z\" fill=\"#000000\" fill-rule=\"nonzero\" fill-opacity=\"1\" /><path clip-path=\"url(#clip520)\" d=\"M49.5947 757.277 Q38.4515 757.277 29.466 753.122 Q25.6979 751.351 22.5418 748.871 Q19.3856 746.391 18.0007 744.749 Q16.6159 743.106 16.6159 742.656 Q16.6159 742.011 17.26 741.979 Q17.5821 741.979 18.3872 742.849 Q29.2084 753.477 49.5947 753.445 Q70.0454 753.445 80.4479 743.106 Q81.5751 741.979 81.9294 741.979 Q82.5735 741.979 82.5735 742.656 Q82.5735 743.106 81.2531 744.685 Q79.9326 746.263 76.9053 748.71 Q73.8779 751.158 70.1742 752.929 Q61.1888 757.277 49.5947 757.277 Z\" fill=\"#000000\" fill-rule=\"nonzero\" fill-opacity=\"1\" /><path clip-path=\"url(#clip520)\" d=\"M41.2856 704.116 Q43.0891 704.116 44.1197 705.243 Q45.1181 706.37 45.1181 707.658 Q45.1181 708.882 44.4096 709.526 Q43.701 710.17 42.7993 710.17 Q41.5754 710.17 40.5126 709.269 Q39.4498 708.367 39.2244 707.014 Q38.3871 708.335 38.3871 710.299 Q38.3871 711.587 39.0634 712.715 Q39.7397 713.81 40.6093 714.486 Q41.4788 715.13 42.7348 715.71 Q43.9587 716.257 44.6994 716.483 Q45.4079 716.676 46.1809 716.837 L55.1985 719.091 Q59.4819 720.186 60.9956 720.186 Q62.8635 720.186 64.1195 719.285 Q65.3434 718.383 65.3434 716.579 Q65.3434 715.871 65.1501 715.066 Q64.9247 714.26 64.345 713.23 Q63.7331 712.167 62.8313 711.233 Q61.8973 710.267 60.3192 709.333 Q58.7412 708.399 56.7122 707.787 Q56.0037 707.594 56.0037 706.95 Q56.0037 706.145 56.6478 706.145 Q57.1953 706.145 58.3547 706.595 Q59.4819 707.014 60.9634 707.948 Q62.4126 708.85 63.7331 710.041 Q65.0213 711.233 65.9231 713.004 Q66.8248 714.776 66.8248 716.708 Q66.8248 719.478 65.3434 721.314 Q63.8619 723.149 61.8007 723.826 Q62.0906 723.987 62.477 724.212 Q62.8635 724.438 63.7331 725.114 Q64.5704 725.758 65.2145 726.499 Q65.8264 727.239 66.3095 728.399 Q66.8248 729.526 66.8248 730.75 Q66.8248 732.296 66.3739 733.681 Q65.9231 735.033 64.8925 735.999 Q63.8619 736.966 62.4448 736.966 Q60.8667 736.966 59.7717 735.903 Q58.6445 734.808 58.6445 733.326 Q58.6445 732.392 59.192 731.652 Q59.7395 730.879 60.9312 730.879 Q62.2516 730.879 63.25 731.78 Q64.2484 732.682 64.506 733.97 Q65.3434 732.65 65.3434 730.685 Q65.3434 728.56 63.4754 726.885 Q61.6075 725.21 58.4835 724.405 Q50.9795 722.409 47.6301 721.636 Q44.2485 720.863 42.7993 720.863 Q41.4466 720.863 40.5126 721.217 Q39.5787 721.571 39.16 722.183 Q38.7091 722.763 38.5481 723.31 Q38.3871 723.826 38.3871 724.405 Q38.3871 725.371 38.7735 726.466 Q39.16 727.529 40.0618 728.818 Q40.9313 730.074 42.7348 731.265 Q44.5384 732.457 47.0182 733.262 Q47.759 733.423 47.759 734.131 Q47.7268 734.904 47.0826 734.904 Q46.5351 734.904 45.4079 734.486 Q44.2485 734.035 42.7993 733.133 Q41.35 732.199 40.0618 731.008 Q38.7413 729.784 37.8396 728.012 Q36.9378 726.209 36.9378 724.276 Q36.9378 723.407 37.131 722.57 Q37.2921 721.7 37.7751 720.669 Q38.2582 719.607 39.321 718.673 Q40.3838 717.739 41.9297 717.159 Q41.189 716.773 40.4804 716.257 Q39.7719 715.71 38.9023 714.872 Q38.0006 714.003 37.4853 712.811 Q36.9378 711.587 36.9378 710.235 Q36.9378 708.914 37.2921 707.626 Q37.6141 706.338 38.6769 705.243 Q39.7075 704.116 41.2856 704.116 Z\" fill=\"#000000\" fill-rule=\"nonzero\" fill-opacity=\"1\" /><path clip-path=\"url(#clip520)\" d=\"M81.9294 697.764 Q81.6073 697.764 80.8022 696.927 Q69.981 686.299 49.5947 686.299 Q29.144 686.299 18.8059 696.508 Q17.6143 697.764 17.26 697.764 Q16.6159 697.764 16.6159 697.12 Q16.6159 696.669 17.9363 695.091 Q19.2568 693.481 22.2841 691.066 Q25.3115 688.618 29.0151 686.814 Q38.0006 682.467 49.5947 682.467 Q60.7379 682.467 69.7234 686.621 Q73.4914 688.393 76.6476 690.872 Q79.8038 693.352 81.1886 694.995 Q82.5735 696.637 82.5735 697.12 Q82.5735 697.764 81.9294 697.764 Z\" fill=\"#000000\" fill-rule=\"nonzero\" fill-opacity=\"1\" /><polyline clip-path=\"url(#clip522)\" style=\"stroke:#009af9; stroke-linecap:round; stroke-linejoin:round; stroke-width:8; stroke-opacity:1; fill:none\" points=\"308.73,1334.88 321.65,1328.4 441.115,1269.47 512.908,1235.21 573.609,1207.23 639.547,1178.25 700.336,1153.44 732.922,1141.22 765.508,1130.03 803.262,1118.88 841.016,1110.63 857.792,1108.37 874.568,1107.35 891.343,1108.09 908.119,1111.41 915.474,1114.05 922.83,1117.71 930.185,1122.73 937.54,1129.68 941.218,1134.15 944.896,1139.53 948.574,1146.11 952.251,1154.32 954.09,1159.26 955.929,1164.93 957.768,1171.53 959.607,1179.37 961.446,1188.91 963.284,1200.97 964.204,1208.37 965.123,1217.1 966.043,1227.67 966.962,1241.01 967.463,1250.05 967.964,1260.95 968.466,1274.68 968.967,1293.14 969.468,1321.25 969.969,1381.48 970.471,1384.24 970.972,1321.36 971.473,1292.24 971.974,1273.01 972.475,1258.58 972.977,1247.01 973.478,1237.33 973.979,1228.99 974.48,1221.67 974.981,1215.13 975.984,1203.81 976.986,1194.21 977.989,1185.86 978.991,1178.46 980.996,1165.71 983.001,1154.94 985.006,1145.57 987.01,1137.23 989.015,1129.7 991.02,1122.82 995.03,1110.52 999.039,1099.71 1007.06,1081.13 1015.08,1065.26 1023.1,1051.2 1031.12,1038.45 1047.25,1015.55 1063.38,995.15 1079.52,976.452 1095.65,958.981 1131.33,923.362 1167.01,890.53 1200.95,861.011 1234.9,832.692 1305.49,776.462 1364.91,731.049 1437.46,677.203 1503.91,628.98 1565.29,585.135 1627.47,541.245 1697.15,492.546 1760.29,448.77 1832.59,398.976 1899.52,353.119 1965.52,308.095 2029.59,264.522 2095.27,219.97 2167.24,171.263 2271.77,100.655 2293.22,86.1857 \"/>\n",
       "</svg>\n"
      ],
      "text/html": [
       "<?xml version=\"1.0\" encoding=\"utf-8\"?>\n",
       "<svg xmlns=\"http://www.w3.org/2000/svg\" xmlns:xlink=\"http://www.w3.org/1999/xlink\" width=\"600\" height=\"400\" viewBox=\"0 0 2400 1600\">\n",
       "<defs>\n",
       "  <clipPath id=\"clip570\">\n",
       "    <rect x=\"0\" y=\"0\" width=\"2400\" height=\"1600\"/>\n",
       "  </clipPath>\n",
       "</defs>\n",
       "<path clip-path=\"url(#clip570)\" d=\"M0 1600 L2400 1600 L2400 8.88178e-14 L0 8.88178e-14  Z\" fill=\"#ffffff\" fill-rule=\"evenodd\" fill-opacity=\"1\"/>\n",
       "<defs>\n",
       "  <clipPath id=\"clip571\">\n",
       "    <rect x=\"480\" y=\"0\" width=\"1681\" height=\"1600\"/>\n",
       "  </clipPath>\n",
       "</defs>\n",
       "<path clip-path=\"url(#clip570)\" d=\"M249.195 1423.18 L2352.76 1423.18 L2352.76 47.2441 L249.195 47.2441  Z\" fill=\"#ffffff\" fill-rule=\"evenodd\" fill-opacity=\"1\"/>\n",
       "<defs>\n",
       "  <clipPath id=\"clip572\">\n",
       "    <rect x=\"249\" y=\"47\" width=\"2105\" height=\"1377\"/>\n",
       "  </clipPath>\n",
       "</defs>\n",
       "<polyline clip-path=\"url(#clip572)\" style=\"stroke:#000000; stroke-linecap:round; stroke-linejoin:round; stroke-width:2; stroke-opacity:0.1; fill:none\" points=\"308.73,1423.18 308.73,47.2441 \"/>\n",
       "<polyline clip-path=\"url(#clip572)\" style=\"stroke:#000000; stroke-linecap:round; stroke-linejoin:round; stroke-width:2; stroke-opacity:0.1; fill:none\" points=\"804.852,1423.18 804.852,47.2441 \"/>\n",
       "<polyline clip-path=\"url(#clip572)\" style=\"stroke:#000000; stroke-linecap:round; stroke-linejoin:round; stroke-width:2; stroke-opacity:0.1; fill:none\" points=\"1300.98,1423.18 1300.98,47.2441 \"/>\n",
       "<polyline clip-path=\"url(#clip572)\" style=\"stroke:#000000; stroke-linecap:round; stroke-linejoin:round; stroke-width:2; stroke-opacity:0.1; fill:none\" points=\"1797.1,1423.18 1797.1,47.2441 \"/>\n",
       "<polyline clip-path=\"url(#clip572)\" style=\"stroke:#000000; stroke-linecap:round; stroke-linejoin:round; stroke-width:2; stroke-opacity:0.1; fill:none\" points=\"2293.22,1423.18 2293.22,47.2441 \"/>\n",
       "<polyline clip-path=\"url(#clip570)\" style=\"stroke:#000000; stroke-linecap:round; stroke-linejoin:round; stroke-width:4; stroke-opacity:1; fill:none\" points=\"249.195,1423.18 2352.76,1423.18 \"/>\n",
       "<polyline clip-path=\"url(#clip570)\" style=\"stroke:#000000; stroke-linecap:round; stroke-linejoin:round; stroke-width:4; stroke-opacity:1; fill:none\" points=\"308.73,1423.18 308.73,1404.28 \"/>\n",
       "<polyline clip-path=\"url(#clip570)\" style=\"stroke:#000000; stroke-linecap:round; stroke-linejoin:round; stroke-width:4; stroke-opacity:1; fill:none\" points=\"804.852,1423.18 804.852,1404.28 \"/>\n",
       "<polyline clip-path=\"url(#clip570)\" style=\"stroke:#000000; stroke-linecap:round; stroke-linejoin:round; stroke-width:4; stroke-opacity:1; fill:none\" points=\"1300.98,1423.18 1300.98,1404.28 \"/>\n",
       "<polyline clip-path=\"url(#clip570)\" style=\"stroke:#000000; stroke-linecap:round; stroke-linejoin:round; stroke-width:4; stroke-opacity:1; fill:none\" points=\"1797.1,1423.18 1797.1,1404.28 \"/>\n",
       "<polyline clip-path=\"url(#clip570)\" style=\"stroke:#000000; stroke-linecap:round; stroke-linejoin:round; stroke-width:4; stroke-opacity:1; fill:none\" points=\"2293.22,1423.18 2293.22,1404.28 \"/>\n",
       "<path clip-path=\"url(#clip570)\" d=\"M245.721 1481.64 L253.359 1481.64 L253.359 1455.28 L245.049 1456.95 L245.049 1452.69 L253.313 1451.02 L257.989 1451.02 L257.989 1481.64 L265.628 1481.64 L265.628 1485.58 L245.721 1485.58 L245.721 1481.64 Z\" fill=\"#000000\" fill-rule=\"nonzero\" fill-opacity=\"1\" /><path clip-path=\"url(#clip570)\" d=\"M275.072 1479.7 L279.957 1479.7 L279.957 1485.58 L275.072 1485.58 L275.072 1479.7 Z\" fill=\"#000000\" fill-rule=\"nonzero\" fill-opacity=\"1\" /><path clip-path=\"url(#clip570)\" d=\"M304.308 1466.95 Q307.665 1467.66 309.54 1469.93 Q311.438 1472.2 311.438 1475.53 Q311.438 1480.65 307.919 1483.45 Q304.401 1486.25 297.919 1486.25 Q295.744 1486.25 293.429 1485.81 Q291.137 1485.39 288.683 1484.54 L288.683 1480.02 Q290.628 1481.16 292.943 1481.74 Q295.257 1482.32 297.781 1482.32 Q302.179 1482.32 304.47 1480.58 Q306.785 1478.84 306.785 1475.53 Q306.785 1472.48 304.632 1470.77 Q302.503 1469.03 298.683 1469.03 L294.656 1469.03 L294.656 1465.19 L298.869 1465.19 Q302.318 1465.19 304.146 1463.82 Q305.975 1462.43 305.975 1459.84 Q305.975 1457.18 304.077 1455.77 Q302.202 1454.33 298.683 1454.33 Q296.762 1454.33 294.563 1454.75 Q292.364 1455.16 289.725 1456.04 L289.725 1451.88 Q292.387 1451.14 294.702 1450.77 Q297.04 1450.39 299.1 1450.39 Q304.424 1450.39 307.526 1452.83 Q310.628 1455.23 310.628 1459.35 Q310.628 1462.22 308.984 1464.21 Q307.341 1466.18 304.308 1466.95 Z\" fill=\"#000000\" fill-rule=\"nonzero\" fill-opacity=\"1\" /><path clip-path=\"url(#clip570)\" d=\"M330.304 1454.1 Q326.692 1454.1 324.864 1457.66 Q323.058 1461.2 323.058 1468.33 Q323.058 1475.44 324.864 1479.01 Q326.692 1482.55 330.304 1482.55 Q333.938 1482.55 335.743 1479.01 Q337.572 1475.44 337.572 1468.33 Q337.572 1461.2 335.743 1457.66 Q333.938 1454.1 330.304 1454.1 M330.304 1450.39 Q336.114 1450.39 339.169 1455 Q342.248 1459.58 342.248 1468.33 Q342.248 1477.06 339.169 1481.67 Q336.114 1486.25 330.304 1486.25 Q324.493 1486.25 321.415 1481.67 Q318.359 1477.06 318.359 1468.33 Q318.359 1459.58 321.415 1455 Q324.493 1450.39 330.304 1450.39 Z\" fill=\"#000000\" fill-rule=\"nonzero\" fill-opacity=\"1\" /><path clip-path=\"url(#clip570)\" d=\"M360.465 1454.1 Q356.854 1454.1 355.026 1457.66 Q353.22 1461.2 353.22 1468.33 Q353.22 1475.44 355.026 1479.01 Q356.854 1482.55 360.465 1482.55 Q364.1 1482.55 365.905 1479.01 Q367.734 1475.44 367.734 1468.33 Q367.734 1461.2 365.905 1457.66 Q364.1 1454.1 360.465 1454.1 M360.465 1450.39 Q366.276 1450.39 369.331 1455 Q372.41 1459.58 372.41 1468.33 Q372.41 1477.06 369.331 1481.67 Q366.276 1486.25 360.465 1486.25 Q354.655 1486.25 351.577 1481.67 Q348.521 1477.06 348.521 1468.33 Q348.521 1459.58 351.577 1455 Q354.655 1450.39 360.465 1450.39 Z\" fill=\"#000000\" fill-rule=\"nonzero\" fill-opacity=\"1\" /><path clip-path=\"url(#clip570)\" d=\"M742.341 1481.64 L749.98 1481.64 L749.98 1455.28 L741.67 1456.95 L741.67 1452.69 L749.934 1451.02 L754.61 1451.02 L754.61 1481.64 L762.249 1481.64 L762.249 1485.58 L742.341 1485.58 L742.341 1481.64 Z\" fill=\"#000000\" fill-rule=\"nonzero\" fill-opacity=\"1\" /><path clip-path=\"url(#clip570)\" d=\"M771.693 1479.7 L776.577 1479.7 L776.577 1485.58 L771.693 1485.58 L771.693 1479.7 Z\" fill=\"#000000\" fill-rule=\"nonzero\" fill-opacity=\"1\" /><path clip-path=\"url(#clip570)\" d=\"M800.929 1466.95 Q804.285 1467.66 806.16 1469.93 Q808.058 1472.2 808.058 1475.53 Q808.058 1480.65 804.54 1483.45 Q801.021 1486.25 794.54 1486.25 Q792.364 1486.25 790.049 1485.81 Q787.758 1485.39 785.304 1484.54 L785.304 1480.02 Q787.248 1481.16 789.563 1481.74 Q791.878 1482.32 794.401 1482.32 Q798.799 1482.32 801.091 1480.58 Q803.406 1478.84 803.406 1475.53 Q803.406 1472.48 801.253 1470.77 Q799.123 1469.03 795.304 1469.03 L791.276 1469.03 L791.276 1465.19 L795.489 1465.19 Q798.938 1465.19 800.767 1463.82 Q802.596 1462.43 802.596 1459.84 Q802.596 1457.18 800.697 1455.77 Q798.822 1454.33 795.304 1454.33 Q793.383 1454.33 791.184 1454.75 Q788.984 1455.16 786.346 1456.04 L786.346 1451.88 Q789.008 1451.14 791.322 1450.77 Q793.66 1450.39 795.721 1450.39 Q801.045 1450.39 804.146 1452.83 Q807.248 1455.23 807.248 1459.35 Q807.248 1462.22 805.605 1464.21 Q803.961 1466.18 800.929 1466.95 Z\" fill=\"#000000\" fill-rule=\"nonzero\" fill-opacity=\"1\" /><path clip-path=\"url(#clip570)\" d=\"M820.952 1481.64 L837.271 1481.64 L837.271 1485.58 L815.327 1485.58 L815.327 1481.64 Q817.989 1478.89 822.572 1474.26 Q827.179 1469.61 828.359 1468.27 Q830.605 1465.74 831.484 1464.01 Q832.387 1462.25 832.387 1460.56 Q832.387 1457.8 830.443 1456.07 Q828.521 1454.33 825.419 1454.33 Q823.22 1454.33 820.767 1455.09 Q818.336 1455.86 815.558 1457.41 L815.558 1452.69 Q818.382 1451.55 820.836 1450.97 Q823.29 1450.39 825.327 1450.39 Q830.697 1450.39 833.892 1453.08 Q837.086 1455.77 837.086 1460.26 Q837.086 1462.39 836.276 1464.31 Q835.489 1466.2 833.382 1468.8 Q832.804 1469.47 829.702 1472.69 Q826.6 1475.88 820.952 1481.64 Z\" fill=\"#000000\" fill-rule=\"nonzero\" fill-opacity=\"1\" /><path clip-path=\"url(#clip570)\" d=\"M847.132 1451.02 L865.489 1451.02 L865.489 1454.96 L851.415 1454.96 L851.415 1463.43 Q852.433 1463.08 853.452 1462.92 Q854.47 1462.73 855.489 1462.73 Q861.276 1462.73 864.655 1465.9 Q868.035 1469.08 868.035 1474.49 Q868.035 1480.07 864.563 1483.17 Q861.091 1486.25 854.771 1486.25 Q852.595 1486.25 850.327 1485.88 Q848.081 1485.51 845.674 1484.77 L845.674 1480.07 Q847.757 1481.2 849.98 1481.76 Q852.202 1482.32 854.679 1482.32 Q858.683 1482.32 861.021 1480.21 Q863.359 1478.1 863.359 1474.49 Q863.359 1470.88 861.021 1468.77 Q858.683 1466.67 854.679 1466.67 Q852.804 1466.67 850.929 1467.08 Q849.077 1467.5 847.132 1468.38 L847.132 1451.02 Z\" fill=\"#000000\" fill-rule=\"nonzero\" fill-opacity=\"1\" /><path clip-path=\"url(#clip570)\" d=\"M1237.97 1481.64 L1245.61 1481.64 L1245.61 1455.28 L1237.3 1456.95 L1237.3 1452.69 L1245.56 1451.02 L1250.23 1451.02 L1250.23 1481.64 L1257.87 1481.64 L1257.87 1485.58 L1237.97 1485.58 L1237.97 1481.64 Z\" fill=\"#000000\" fill-rule=\"nonzero\" fill-opacity=\"1\" /><path clip-path=\"url(#clip570)\" d=\"M1267.32 1479.7 L1272.2 1479.7 L1272.2 1485.58 L1267.32 1485.58 L1267.32 1479.7 Z\" fill=\"#000000\" fill-rule=\"nonzero\" fill-opacity=\"1\" /><path clip-path=\"url(#clip570)\" d=\"M1296.55 1466.95 Q1299.91 1467.66 1301.79 1469.93 Q1303.68 1472.2 1303.68 1475.53 Q1303.68 1480.65 1300.17 1483.45 Q1296.65 1486.25 1290.17 1486.25 Q1287.99 1486.25 1285.67 1485.81 Q1283.38 1485.39 1280.93 1484.54 L1280.93 1480.02 Q1282.87 1481.16 1285.19 1481.74 Q1287.5 1482.32 1290.03 1482.32 Q1294.42 1482.32 1296.72 1480.58 Q1299.03 1478.84 1299.03 1475.53 Q1299.03 1472.48 1296.88 1470.77 Q1294.75 1469.03 1290.93 1469.03 L1286.9 1469.03 L1286.9 1465.19 L1291.11 1465.19 Q1294.56 1465.19 1296.39 1463.82 Q1298.22 1462.43 1298.22 1459.84 Q1298.22 1457.18 1296.32 1455.77 Q1294.45 1454.33 1290.93 1454.33 Q1289.01 1454.33 1286.81 1454.75 Q1284.61 1455.16 1281.97 1456.04 L1281.97 1451.88 Q1284.63 1451.14 1286.95 1450.77 Q1289.29 1450.39 1291.35 1450.39 Q1296.67 1450.39 1299.77 1452.83 Q1302.87 1455.23 1302.87 1459.35 Q1302.87 1462.22 1301.23 1464.21 Q1299.59 1466.18 1296.55 1466.95 Z\" fill=\"#000000\" fill-rule=\"nonzero\" fill-opacity=\"1\" /><path clip-path=\"url(#clip570)\" d=\"M1312.6 1451.02 L1330.95 1451.02 L1330.95 1454.96 L1316.88 1454.96 L1316.88 1463.43 Q1317.9 1463.08 1318.92 1462.92 Q1319.93 1462.73 1320.95 1462.73 Q1326.74 1462.73 1330.12 1465.9 Q1333.5 1469.08 1333.5 1474.49 Q1333.5 1480.07 1330.03 1483.17 Q1326.55 1486.25 1320.23 1486.25 Q1318.06 1486.25 1315.79 1485.88 Q1313.54 1485.51 1311.14 1484.77 L1311.14 1480.07 Q1313.22 1481.2 1315.44 1481.76 Q1317.67 1482.32 1320.14 1482.32 Q1324.15 1482.32 1326.48 1480.21 Q1328.82 1478.1 1328.82 1474.49 Q1328.82 1470.88 1326.48 1468.77 Q1324.15 1466.67 1320.14 1466.67 Q1318.27 1466.67 1316.39 1467.08 Q1314.54 1467.5 1312.6 1468.38 L1312.6 1451.02 Z\" fill=\"#000000\" fill-rule=\"nonzero\" fill-opacity=\"1\" /><path clip-path=\"url(#clip570)\" d=\"M1352.71 1454.1 Q1349.1 1454.1 1347.27 1457.66 Q1345.47 1461.2 1345.47 1468.33 Q1345.47 1475.44 1347.27 1479.01 Q1349.1 1482.55 1352.71 1482.55 Q1356.35 1482.55 1358.15 1479.01 Q1359.98 1475.44 1359.98 1468.33 Q1359.98 1461.2 1358.15 1457.66 Q1356.35 1454.1 1352.71 1454.1 M1352.71 1450.39 Q1358.52 1450.39 1361.58 1455 Q1364.66 1459.58 1364.66 1468.33 Q1364.66 1477.06 1361.58 1481.67 Q1358.52 1486.25 1352.71 1486.25 Q1346.9 1486.25 1343.82 1481.67 Q1340.77 1477.06 1340.77 1468.33 Q1340.77 1459.58 1343.82 1455 Q1346.9 1450.39 1352.71 1450.39 Z\" fill=\"#000000\" fill-rule=\"nonzero\" fill-opacity=\"1\" /><path clip-path=\"url(#clip570)\" d=\"M1734.59 1481.64 L1742.23 1481.64 L1742.23 1455.28 L1733.92 1456.95 L1733.92 1452.69 L1742.18 1451.02 L1746.86 1451.02 L1746.86 1481.64 L1754.49 1481.64 L1754.49 1485.58 L1734.59 1485.58 L1734.59 1481.64 Z\" fill=\"#000000\" fill-rule=\"nonzero\" fill-opacity=\"1\" /><path clip-path=\"url(#clip570)\" d=\"M1763.94 1479.7 L1768.82 1479.7 L1768.82 1485.58 L1763.94 1485.58 L1763.94 1479.7 Z\" fill=\"#000000\" fill-rule=\"nonzero\" fill-opacity=\"1\" /><path clip-path=\"url(#clip570)\" d=\"M1793.17 1466.95 Q1796.53 1467.66 1798.41 1469.93 Q1800.3 1472.2 1800.3 1475.53 Q1800.3 1480.65 1796.79 1483.45 Q1793.27 1486.25 1786.79 1486.25 Q1784.61 1486.25 1782.3 1485.81 Q1780 1485.39 1777.55 1484.54 L1777.55 1480.02 Q1779.49 1481.16 1781.81 1481.74 Q1784.12 1482.32 1786.65 1482.32 Q1791.05 1482.32 1793.34 1480.58 Q1795.65 1478.84 1795.65 1475.53 Q1795.65 1472.48 1793.5 1470.77 Q1791.37 1469.03 1787.55 1469.03 L1783.52 1469.03 L1783.52 1465.19 L1787.73 1465.19 Q1791.18 1465.19 1793.01 1463.82 Q1794.84 1462.43 1794.84 1459.84 Q1794.84 1457.18 1792.94 1455.77 Q1791.07 1454.33 1787.55 1454.33 Q1785.63 1454.33 1783.43 1454.75 Q1781.23 1455.16 1778.59 1456.04 L1778.59 1451.88 Q1781.25 1451.14 1783.57 1450.77 Q1785.91 1450.39 1787.97 1450.39 Q1793.29 1450.39 1796.39 1452.83 Q1799.49 1455.23 1799.49 1459.35 Q1799.49 1462.22 1797.85 1464.21 Q1796.21 1466.18 1793.17 1466.95 Z\" fill=\"#000000\" fill-rule=\"nonzero\" fill-opacity=\"1\" /><path clip-path=\"url(#clip570)\" d=\"M1807.99 1451.02 L1830.21 1451.02 L1830.21 1453.01 L1817.67 1485.58 L1812.78 1485.58 L1824.59 1454.96 L1807.99 1454.96 L1807.99 1451.02 Z\" fill=\"#000000\" fill-rule=\"nonzero\" fill-opacity=\"1\" /><path clip-path=\"url(#clip570)\" d=\"M1839.38 1451.02 L1857.73 1451.02 L1857.73 1454.96 L1843.66 1454.96 L1843.66 1463.43 Q1844.68 1463.08 1845.7 1462.92 Q1846.72 1462.73 1847.73 1462.73 Q1853.52 1462.73 1856.9 1465.9 Q1860.28 1469.08 1860.28 1474.49 Q1860.28 1480.07 1856.81 1483.17 Q1853.34 1486.25 1847.02 1486.25 Q1844.84 1486.25 1842.57 1485.88 Q1840.33 1485.51 1837.92 1484.77 L1837.92 1480.07 Q1840 1481.2 1842.23 1481.76 Q1844.45 1482.32 1846.92 1482.32 Q1850.93 1482.32 1853.27 1480.21 Q1855.6 1478.1 1855.6 1474.49 Q1855.6 1470.88 1853.27 1468.77 Q1850.93 1466.67 1846.92 1466.67 Q1845.05 1466.67 1843.17 1467.08 Q1841.32 1467.5 1839.38 1468.38 L1839.38 1451.02 Z\" fill=\"#000000\" fill-rule=\"nonzero\" fill-opacity=\"1\" /><path clip-path=\"url(#clip570)\" d=\"M2230.21 1481.64 L2237.85 1481.64 L2237.85 1455.28 L2229.54 1456.95 L2229.54 1452.69 L2237.8 1451.02 L2242.48 1451.02 L2242.48 1481.64 L2250.12 1481.64 L2250.12 1485.58 L2230.21 1485.58 L2230.21 1481.64 Z\" fill=\"#000000\" fill-rule=\"nonzero\" fill-opacity=\"1\" /><path clip-path=\"url(#clip570)\" d=\"M2259.56 1479.7 L2264.45 1479.7 L2264.45 1485.58 L2259.56 1485.58 L2259.56 1479.7 Z\" fill=\"#000000\" fill-rule=\"nonzero\" fill-opacity=\"1\" /><path clip-path=\"url(#clip570)\" d=\"M2287.48 1455.09 L2275.67 1473.54 L2287.48 1473.54 L2287.48 1455.09 M2286.25 1451.02 L2292.13 1451.02 L2292.13 1473.54 L2297.06 1473.54 L2297.06 1477.43 L2292.13 1477.43 L2292.13 1485.58 L2287.48 1485.58 L2287.48 1477.43 L2271.88 1477.43 L2271.88 1472.92 L2286.25 1451.02 Z\" fill=\"#000000\" fill-rule=\"nonzero\" fill-opacity=\"1\" /><path clip-path=\"url(#clip570)\" d=\"M2314.8 1454.1 Q2311.18 1454.1 2309.36 1457.66 Q2307.55 1461.2 2307.55 1468.33 Q2307.55 1475.44 2309.36 1479.01 Q2311.18 1482.55 2314.8 1482.55 Q2318.43 1482.55 2320.23 1479.01 Q2322.06 1475.44 2322.06 1468.33 Q2322.06 1461.2 2320.23 1457.66 Q2318.43 1454.1 2314.8 1454.1 M2314.8 1450.39 Q2320.61 1450.39 2323.66 1455 Q2326.74 1459.58 2326.74 1468.33 Q2326.74 1477.06 2323.66 1481.67 Q2320.61 1486.25 2314.8 1486.25 Q2308.98 1486.25 2305.91 1481.67 Q2302.85 1477.06 2302.85 1468.33 Q2302.85 1459.58 2305.91 1455 Q2308.98 1450.39 2314.8 1450.39 Z\" fill=\"#000000\" fill-rule=\"nonzero\" fill-opacity=\"1\" /><path clip-path=\"url(#clip570)\" d=\"M2344.96 1454.1 Q2341.35 1454.1 2339.52 1457.66 Q2337.71 1461.2 2337.71 1468.33 Q2337.71 1475.44 2339.52 1479.01 Q2341.35 1482.55 2344.96 1482.55 Q2348.59 1482.55 2350.4 1479.01 Q2352.23 1475.44 2352.23 1468.33 Q2352.23 1461.2 2350.4 1457.66 Q2348.59 1454.1 2344.96 1454.1 M2344.96 1450.39 Q2350.77 1450.39 2353.82 1455 Q2356.9 1459.58 2356.9 1468.33 Q2356.9 1477.06 2353.82 1481.67 Q2350.77 1486.25 2344.96 1486.25 Q2339.15 1486.25 2336.07 1481.67 Q2333.01 1477.06 2333.01 1468.33 Q2333.01 1459.58 2336.07 1455 Q2339.15 1450.39 2344.96 1450.39 Z\" fill=\"#000000\" fill-rule=\"nonzero\" fill-opacity=\"1\" /><path clip-path=\"url(#clip570)\" d=\"M1315.15 1528.8 Q1315.15 1530.61 1314.02 1531.64 Q1312.89 1532.64 1311.61 1532.64 Q1310.38 1532.64 1309.74 1531.93 Q1309.09 1531.22 1309.09 1530.32 Q1309.09 1529.09 1310 1528.03 Q1310.9 1526.97 1312.25 1526.74 Q1310.93 1525.91 1308.97 1525.91 Q1307.68 1525.91 1306.55 1526.58 Q1305.45 1527.26 1304.78 1528.13 Q1304.13 1529 1303.55 1530.25 Q1303.01 1531.48 1302.78 1532.22 Q1302.59 1532.93 1302.43 1533.7 L1300.17 1542.72 Q1299.08 1547 1299.08 1548.51 Q1299.08 1550.38 1299.98 1551.64 Q1300.88 1552.86 1302.69 1552.86 Q1303.39 1552.86 1304.2 1552.67 Q1305 1552.44 1306.03 1551.86 Q1307.1 1551.25 1308.03 1550.35 Q1309 1549.42 1309.93 1547.84 Q1310.87 1546.26 1311.48 1544.23 Q1311.67 1543.52 1312.31 1543.52 Q1313.12 1543.52 1313.12 1544.17 Q1313.12 1544.71 1312.67 1545.87 Q1312.25 1547 1311.32 1548.48 Q1310.41 1549.93 1309.22 1551.25 Q1308.03 1552.54 1306.26 1553.44 Q1304.49 1554.34 1302.56 1554.34 Q1299.79 1554.34 1297.95 1552.86 Q1296.12 1551.38 1295.44 1549.32 Q1295.28 1549.61 1295.05 1550 Q1294.83 1550.38 1294.15 1551.25 Q1293.51 1552.09 1292.77 1552.73 Q1292.02 1553.34 1290.87 1553.83 Q1289.74 1554.34 1288.51 1554.34 Q1286.97 1554.34 1285.58 1553.89 Q1284.23 1553.44 1283.26 1552.41 Q1282.3 1551.38 1282.3 1549.96 Q1282.3 1548.38 1283.36 1547.29 Q1284.46 1546.16 1285.94 1546.16 Q1286.87 1546.16 1287.61 1546.71 Q1288.39 1547.26 1288.39 1548.45 Q1288.39 1549.77 1287.48 1550.77 Q1286.58 1551.77 1285.29 1552.02 Q1286.61 1552.86 1288.58 1552.86 Q1290.7 1552.86 1292.38 1550.99 Q1294.05 1549.13 1294.86 1546 Q1296.86 1538.5 1297.63 1535.15 Q1298.4 1531.77 1298.4 1530.32 Q1298.4 1528.96 1298.05 1528.03 Q1297.69 1527.1 1297.08 1526.68 Q1296.5 1526.23 1295.95 1526.07 Q1295.44 1525.91 1294.86 1525.91 Q1293.89 1525.91 1292.8 1526.29 Q1291.74 1526.68 1290.45 1527.58 Q1289.19 1528.45 1288 1530.25 Q1286.81 1532.06 1286 1534.54 Q1285.84 1535.28 1285.13 1535.28 Q1284.36 1535.24 1284.36 1534.6 Q1284.36 1534.05 1284.78 1532.93 Q1285.23 1531.77 1286.13 1530.32 Q1287.07 1528.87 1288.26 1527.58 Q1289.48 1526.26 1291.25 1525.36 Q1293.06 1524.46 1294.99 1524.46 Q1295.86 1524.46 1296.69 1524.65 Q1297.56 1524.81 1298.59 1525.29 Q1299.66 1525.78 1300.59 1526.84 Q1301.53 1527.9 1302.11 1529.45 Q1302.49 1528.71 1303.01 1528 Q1303.55 1527.29 1304.39 1526.42 Q1305.26 1525.52 1306.45 1525 Q1307.68 1524.46 1309.03 1524.46 Q1310.35 1524.46 1311.64 1524.81 Q1312.93 1525.13 1314.02 1526.19 Q1315.15 1527.23 1315.15 1528.8 Z\" fill=\"#000000\" fill-rule=\"nonzero\" fill-opacity=\"1\" /><polyline clip-path=\"url(#clip572)\" style=\"stroke:#000000; stroke-linecap:round; stroke-linejoin:round; stroke-width:2; stroke-opacity:0.1; fill:none\" points=\"249.195,1385.14 2352.76,1385.14 \"/>\n",
       "<polyline clip-path=\"url(#clip572)\" style=\"stroke:#000000; stroke-linecap:round; stroke-linejoin:round; stroke-width:2; stroke-opacity:0.1; fill:none\" points=\"249.195,1161.1 2352.76,1161.1 \"/>\n",
       "<polyline clip-path=\"url(#clip572)\" style=\"stroke:#000000; stroke-linecap:round; stroke-linejoin:round; stroke-width:2; stroke-opacity:0.1; fill:none\" points=\"249.195,937.046 2352.76,937.046 \"/>\n",
       "<polyline clip-path=\"url(#clip572)\" style=\"stroke:#000000; stroke-linecap:round; stroke-linejoin:round; stroke-width:2; stroke-opacity:0.1; fill:none\" points=\"249.195,712.996 2352.76,712.996 \"/>\n",
       "<polyline clip-path=\"url(#clip572)\" style=\"stroke:#000000; stroke-linecap:round; stroke-linejoin:round; stroke-width:2; stroke-opacity:0.1; fill:none\" points=\"249.195,488.946 2352.76,488.946 \"/>\n",
       "<polyline clip-path=\"url(#clip572)\" style=\"stroke:#000000; stroke-linecap:round; stroke-linejoin:round; stroke-width:2; stroke-opacity:0.1; fill:none\" points=\"249.195,264.897 2352.76,264.897 \"/>\n",
       "<polyline clip-path=\"url(#clip570)\" style=\"stroke:#000000; stroke-linecap:round; stroke-linejoin:round; stroke-width:4; stroke-opacity:1; fill:none\" points=\"249.195,1423.18 249.195,47.2441 \"/>\n",
       "<polyline clip-path=\"url(#clip570)\" style=\"stroke:#000000; stroke-linecap:round; stroke-linejoin:round; stroke-width:4; stroke-opacity:1; fill:none\" points=\"249.195,1385.14 268.092,1385.14 \"/>\n",
       "<polyline clip-path=\"url(#clip570)\" style=\"stroke:#000000; stroke-linecap:round; stroke-linejoin:round; stroke-width:4; stroke-opacity:1; fill:none\" points=\"249.195,1161.1 268.092,1161.1 \"/>\n",
       "<polyline clip-path=\"url(#clip570)\" style=\"stroke:#000000; stroke-linecap:round; stroke-linejoin:round; stroke-width:4; stroke-opacity:1; fill:none\" points=\"249.195,937.046 268.092,937.046 \"/>\n",
       "<polyline clip-path=\"url(#clip570)\" style=\"stroke:#000000; stroke-linecap:round; stroke-linejoin:round; stroke-width:4; stroke-opacity:1; fill:none\" points=\"249.195,712.996 268.092,712.996 \"/>\n",
       "<polyline clip-path=\"url(#clip570)\" style=\"stroke:#000000; stroke-linecap:round; stroke-linejoin:round; stroke-width:4; stroke-opacity:1; fill:none\" points=\"249.195,488.946 268.092,488.946 \"/>\n",
       "<polyline clip-path=\"url(#clip570)\" style=\"stroke:#000000; stroke-linecap:round; stroke-linejoin:round; stroke-width:4; stroke-opacity:1; fill:none\" points=\"249.195,264.897 268.092,264.897 \"/>\n",
       "<path clip-path=\"url(#clip570)\" d=\"M120.88 1398.49 L137.2 1398.49 L137.2 1402.42 L115.256 1402.42 L115.256 1398.49 Q117.918 1395.74 122.501 1391.11 Q127.107 1386.45 128.288 1385.11 Q130.533 1382.59 131.413 1380.85 Q132.316 1379.09 132.316 1377.4 Q132.316 1374.65 130.371 1372.91 Q128.45 1371.17 125.348 1371.17 Q123.149 1371.17 120.695 1371.94 Q118.265 1372.7 115.487 1374.25 L115.487 1369.53 Q118.311 1368.4 120.765 1367.82 Q123.218 1367.24 125.255 1367.24 Q130.626 1367.24 133.82 1369.92 Q137.015 1372.61 137.015 1377.1 Q137.015 1379.23 136.204 1381.15 Q135.417 1383.05 133.311 1385.64 Q132.732 1386.31 129.63 1389.53 Q126.529 1392.73 120.88 1398.49 Z\" fill=\"#000000\" fill-rule=\"nonzero\" fill-opacity=\"1\" /><path clip-path=\"url(#clip570)\" d=\"M147.015 1396.55 L151.899 1396.55 L151.899 1402.42 L147.015 1402.42 L147.015 1396.55 Z\" fill=\"#000000\" fill-rule=\"nonzero\" fill-opacity=\"1\" /><path clip-path=\"url(#clip570)\" d=\"M172.663 1383.28 Q169.514 1383.28 167.663 1385.43 Q165.834 1387.59 165.834 1391.34 Q165.834 1395.06 167.663 1397.24 Q169.514 1399.39 172.663 1399.39 Q175.811 1399.39 177.639 1397.24 Q179.491 1395.06 179.491 1391.34 Q179.491 1387.59 177.639 1385.43 Q175.811 1383.28 172.663 1383.28 M181.945 1368.63 L181.945 1372.89 Q180.186 1372.05 178.38 1371.61 Q176.598 1371.17 174.839 1371.17 Q170.209 1371.17 167.755 1374.3 Q165.325 1377.42 164.977 1383.74 Q166.343 1381.73 168.403 1380.67 Q170.464 1379.58 172.94 1379.58 Q178.149 1379.58 181.158 1382.75 Q184.19 1385.9 184.19 1391.34 Q184.19 1396.66 181.042 1399.88 Q177.894 1403.1 172.663 1403.1 Q166.667 1403.1 163.496 1398.51 Q160.325 1393.91 160.325 1385.18 Q160.325 1376.99 164.214 1372.12 Q168.102 1367.24 174.653 1367.24 Q176.413 1367.24 178.195 1367.59 Q180.001 1367.93 181.945 1368.63 Z\" fill=\"#000000\" fill-rule=\"nonzero\" fill-opacity=\"1\" /><path clip-path=\"url(#clip570)\" d=\"M192.292 1367.86 L210.649 1367.86 L210.649 1371.8 L196.575 1371.8 L196.575 1380.27 Q197.593 1379.92 198.612 1379.76 Q199.63 1379.58 200.649 1379.58 Q206.436 1379.58 209.815 1382.75 Q213.195 1385.92 213.195 1391.34 Q213.195 1396.92 209.723 1400.02 Q206.25 1403.1 199.931 1403.1 Q197.755 1403.1 195.487 1402.73 Q193.241 1402.36 190.834 1401.61 L190.834 1396.92 Q192.917 1398.05 195.139 1398.61 Q197.362 1399.16 199.838 1399.16 Q203.843 1399.16 206.181 1397.05 Q208.519 1394.95 208.519 1391.34 Q208.519 1387.73 206.181 1385.62 Q203.843 1383.51 199.838 1383.51 Q197.963 1383.51 196.088 1383.93 Q194.237 1384.35 192.292 1385.23 L192.292 1367.86 Z\" fill=\"#000000\" fill-rule=\"nonzero\" fill-opacity=\"1\" /><path clip-path=\"url(#clip570)\" d=\"M119.885 1174.44 L136.204 1174.44 L136.204 1178.38 L114.26 1178.38 L114.26 1174.44 Q116.922 1171.69 121.505 1167.06 Q126.112 1162.4 127.292 1161.06 Q129.538 1158.54 130.417 1156.8 Q131.32 1155.04 131.32 1153.35 Q131.32 1150.6 129.376 1148.86 Q127.455 1147.13 124.353 1147.13 Q122.154 1147.13 119.7 1147.89 Q117.269 1148.65 114.492 1150.2 L114.492 1145.48 Q117.316 1144.35 119.769 1143.77 Q122.223 1143.19 124.26 1143.19 Q129.63 1143.19 132.825 1145.88 Q136.019 1148.56 136.019 1153.05 Q136.019 1155.18 135.209 1157.1 Q134.422 1159 132.316 1161.59 Q131.737 1162.26 128.635 1165.48 Q125.533 1168.68 119.885 1174.44 Z\" fill=\"#000000\" fill-rule=\"nonzero\" fill-opacity=\"1\" /><path clip-path=\"url(#clip570)\" d=\"M146.019 1172.5 L150.903 1172.5 L150.903 1178.38 L146.019 1178.38 L146.019 1172.5 Z\" fill=\"#000000\" fill-rule=\"nonzero\" fill-opacity=\"1\" /><path clip-path=\"url(#clip570)\" d=\"M159.908 1143.82 L182.13 1143.82 L182.13 1145.81 L169.584 1178.38 L164.7 1178.38 L176.505 1147.75 L159.908 1147.75 L159.908 1143.82 Z\" fill=\"#000000\" fill-rule=\"nonzero\" fill-opacity=\"1\" /><path clip-path=\"url(#clip570)\" d=\"M201.25 1146.89 Q197.639 1146.89 195.811 1150.46 Q194.005 1154 194.005 1161.13 Q194.005 1168.24 195.811 1171.8 Q197.639 1175.34 201.25 1175.34 Q204.885 1175.34 206.69 1171.8 Q208.519 1168.24 208.519 1161.13 Q208.519 1154 206.69 1150.46 Q204.885 1146.89 201.25 1146.89 M201.25 1143.19 Q207.061 1143.19 210.116 1147.8 Q213.195 1152.38 213.195 1161.13 Q213.195 1169.86 210.116 1174.46 Q207.061 1179.05 201.25 1179.05 Q195.44 1179.05 192.362 1174.46 Q189.306 1169.86 189.306 1161.13 Q189.306 1152.38 192.362 1147.8 Q195.44 1143.19 201.25 1143.19 Z\" fill=\"#000000\" fill-rule=\"nonzero\" fill-opacity=\"1\" /><path clip-path=\"url(#clip570)\" d=\"M120.88 950.39 L137.2 950.39 L137.2 954.326 L115.256 954.326 L115.256 950.39 Q117.918 947.636 122.501 943.006 Q127.107 938.353 128.288 937.011 Q130.533 934.488 131.413 932.752 Q132.316 930.992 132.316 929.303 Q132.316 926.548 130.371 924.812 Q128.45 923.076 125.348 923.076 Q123.149 923.076 120.695 923.84 Q118.265 924.603 115.487 926.154 L115.487 921.432 Q118.311 920.298 120.765 919.719 Q123.218 919.141 125.255 919.141 Q130.626 919.141 133.82 921.826 Q137.015 924.511 137.015 929.002 Q137.015 931.131 136.204 933.053 Q135.417 934.951 133.311 937.543 Q132.732 938.215 129.63 941.432 Q126.529 944.627 120.88 950.39 Z\" fill=\"#000000\" fill-rule=\"nonzero\" fill-opacity=\"1\" /><path clip-path=\"url(#clip570)\" d=\"M147.015 948.446 L151.899 948.446 L151.899 954.326 L147.015 954.326 L147.015 948.446 Z\" fill=\"#000000\" fill-rule=\"nonzero\" fill-opacity=\"1\" /><path clip-path=\"url(#clip570)\" d=\"M160.903 919.766 L183.126 919.766 L183.126 921.756 L170.579 954.326 L165.695 954.326 L177.501 923.701 L160.903 923.701 L160.903 919.766 Z\" fill=\"#000000\" fill-rule=\"nonzero\" fill-opacity=\"1\" /><path clip-path=\"url(#clip570)\" d=\"M192.292 919.766 L210.649 919.766 L210.649 923.701 L196.575 923.701 L196.575 932.173 Q197.593 931.826 198.612 931.664 Q199.63 931.478 200.649 931.478 Q206.436 931.478 209.815 934.65 Q213.195 937.821 213.195 943.238 Q213.195 948.816 209.723 951.918 Q206.25 954.997 199.931 954.997 Q197.755 954.997 195.487 954.626 Q193.241 954.256 190.834 953.515 L190.834 948.816 Q192.917 949.951 195.139 950.506 Q197.362 951.062 199.838 951.062 Q203.843 951.062 206.181 948.955 Q208.519 946.849 208.519 943.238 Q208.519 939.627 206.181 937.52 Q203.843 935.414 199.838 935.414 Q197.963 935.414 196.088 935.83 Q194.237 936.247 192.292 937.127 L192.292 919.766 Z\" fill=\"#000000\" fill-rule=\"nonzero\" fill-opacity=\"1\" /><path clip-path=\"url(#clip570)\" d=\"M119.885 726.341 L136.204 726.341 L136.204 730.276 L114.26 730.276 L114.26 726.341 Q116.922 723.586 121.505 718.957 Q126.112 714.304 127.292 712.961 Q129.538 710.438 130.417 708.702 Q131.32 706.943 131.32 705.253 Q131.32 702.498 129.376 700.762 Q127.455 699.026 124.353 699.026 Q122.154 699.026 119.7 699.79 Q117.269 700.554 114.492 702.105 L114.492 697.383 Q117.316 696.248 119.769 695.67 Q122.223 695.091 124.26 695.091 Q129.63 695.091 132.825 697.776 Q136.019 700.461 136.019 704.952 Q136.019 707.082 135.209 709.003 Q134.422 710.901 132.316 713.494 Q131.737 714.165 128.635 717.382 Q125.533 720.577 119.885 726.341 Z\" fill=\"#000000\" fill-rule=\"nonzero\" fill-opacity=\"1\" /><path clip-path=\"url(#clip570)\" d=\"M146.019 724.396 L150.903 724.396 L150.903 730.276 L146.019 730.276 L146.019 724.396 Z\" fill=\"#000000\" fill-rule=\"nonzero\" fill-opacity=\"1\" /><path clip-path=\"url(#clip570)\" d=\"M171.089 713.864 Q167.755 713.864 165.834 715.646 Q163.936 717.429 163.936 720.554 Q163.936 723.679 165.834 725.461 Q167.755 727.244 171.089 727.244 Q174.422 727.244 176.343 725.461 Q178.264 723.656 178.264 720.554 Q178.264 717.429 176.343 715.646 Q174.445 713.864 171.089 713.864 M166.413 711.873 Q163.403 711.133 161.714 709.072 Q160.047 707.012 160.047 704.049 Q160.047 699.906 162.987 697.498 Q165.95 695.091 171.089 695.091 Q176.251 695.091 179.19 697.498 Q182.13 699.906 182.13 704.049 Q182.13 707.012 180.44 709.072 Q178.774 711.133 175.788 711.873 Q179.167 712.66 181.042 714.952 Q182.94 717.244 182.94 720.554 Q182.94 725.577 179.862 728.262 Q176.806 730.947 171.089 730.947 Q165.371 730.947 162.292 728.262 Q159.237 725.577 159.237 720.554 Q159.237 717.244 161.135 714.952 Q163.033 712.66 166.413 711.873 M164.7 704.489 Q164.7 707.174 166.366 708.679 Q168.056 710.183 171.089 710.183 Q174.098 710.183 175.788 708.679 Q177.501 707.174 177.501 704.489 Q177.501 701.804 175.788 700.299 Q174.098 698.795 171.089 698.795 Q168.056 698.795 166.366 700.299 Q164.7 701.804 164.7 704.489 Z\" fill=\"#000000\" fill-rule=\"nonzero\" fill-opacity=\"1\" /><path clip-path=\"url(#clip570)\" d=\"M201.25 698.795 Q197.639 698.795 195.811 702.359 Q194.005 705.901 194.005 713.031 Q194.005 720.137 195.811 723.702 Q197.639 727.244 201.25 727.244 Q204.885 727.244 206.69 723.702 Q208.519 720.137 208.519 713.031 Q208.519 705.901 206.69 702.359 Q204.885 698.795 201.25 698.795 M201.25 695.091 Q207.061 695.091 210.116 699.697 Q213.195 704.281 213.195 713.031 Q213.195 721.757 210.116 726.364 Q207.061 730.947 201.25 730.947 Q195.44 730.947 192.362 726.364 Q189.306 721.757 189.306 713.031 Q189.306 704.281 192.362 699.697 Q195.44 695.091 201.25 695.091 Z\" fill=\"#000000\" fill-rule=\"nonzero\" fill-opacity=\"1\" /><path clip-path=\"url(#clip570)\" d=\"M120.88 502.291 L137.2 502.291 L137.2 506.226 L115.256 506.226 L115.256 502.291 Q117.918 499.537 122.501 494.907 Q127.107 490.254 128.288 488.912 Q130.533 486.388 131.413 484.652 Q132.316 482.893 132.316 481.203 Q132.316 478.449 130.371 476.713 Q128.45 474.977 125.348 474.977 Q123.149 474.977 120.695 475.74 Q118.265 476.504 115.487 478.055 L115.487 473.333 Q118.311 472.199 120.765 471.62 Q123.218 471.041 125.255 471.041 Q130.626 471.041 133.82 473.727 Q137.015 476.412 137.015 480.902 Q137.015 483.032 136.204 484.953 Q135.417 486.851 133.311 489.444 Q132.732 490.115 129.63 493.333 Q126.529 496.527 120.88 502.291 Z\" fill=\"#000000\" fill-rule=\"nonzero\" fill-opacity=\"1\" /><path clip-path=\"url(#clip570)\" d=\"M147.015 500.347 L151.899 500.347 L151.899 506.226 L147.015 506.226 L147.015 500.347 Z\" fill=\"#000000\" fill-rule=\"nonzero\" fill-opacity=\"1\" /><path clip-path=\"url(#clip570)\" d=\"M172.084 489.814 Q168.751 489.814 166.829 491.597 Q164.931 493.379 164.931 496.504 Q164.931 499.629 166.829 501.412 Q168.751 503.194 172.084 503.194 Q175.417 503.194 177.339 501.412 Q179.26 499.606 179.26 496.504 Q179.26 493.379 177.339 491.597 Q175.44 489.814 172.084 489.814 M167.408 487.824 Q164.399 487.083 162.709 485.023 Q161.042 482.963 161.042 480 Q161.042 475.856 163.982 473.449 Q166.945 471.041 172.084 471.041 Q177.246 471.041 180.186 473.449 Q183.126 475.856 183.126 480 Q183.126 482.963 181.436 485.023 Q179.769 487.083 176.783 487.824 Q180.163 488.611 182.038 490.902 Q183.936 493.194 183.936 496.504 Q183.936 501.527 180.857 504.212 Q177.801 506.898 172.084 506.898 Q166.366 506.898 163.288 504.212 Q160.232 501.527 160.232 496.504 Q160.232 493.194 162.13 490.902 Q164.028 488.611 167.408 487.824 M165.695 480.439 Q165.695 483.125 167.362 484.629 Q169.052 486.134 172.084 486.134 Q175.093 486.134 176.783 484.629 Q178.496 483.125 178.496 480.439 Q178.496 477.754 176.783 476.25 Q175.093 474.745 172.084 474.745 Q169.052 474.745 167.362 476.25 Q165.695 477.754 165.695 480.439 Z\" fill=\"#000000\" fill-rule=\"nonzero\" fill-opacity=\"1\" /><path clip-path=\"url(#clip570)\" d=\"M192.292 471.666 L210.649 471.666 L210.649 475.601 L196.575 475.601 L196.575 484.074 Q197.593 483.726 198.612 483.564 Q199.63 483.379 200.649 483.379 Q206.436 483.379 209.815 486.551 Q213.195 489.722 213.195 495.138 Q213.195 500.717 209.723 503.819 Q206.25 506.898 199.931 506.898 Q197.755 506.898 195.487 506.527 Q193.241 506.157 190.834 505.416 L190.834 500.717 Q192.917 501.851 195.139 502.407 Q197.362 502.962 199.838 502.962 Q203.843 502.962 206.181 500.856 Q208.519 498.75 208.519 495.138 Q208.519 491.527 206.181 489.421 Q203.843 487.314 199.838 487.314 Q197.963 487.314 196.088 487.731 Q194.237 488.148 192.292 489.027 L192.292 471.666 Z\" fill=\"#000000\" fill-rule=\"nonzero\" fill-opacity=\"1\" /><path clip-path=\"url(#clip570)\" d=\"M119.885 278.242 L136.204 278.242 L136.204 282.177 L114.26 282.177 L114.26 278.242 Q116.922 275.487 121.505 270.857 Q126.112 266.205 127.292 264.862 Q129.538 262.339 130.417 260.603 Q131.32 258.844 131.32 257.154 Q131.32 254.399 129.376 252.663 Q127.455 250.927 124.353 250.927 Q122.154 250.927 119.7 251.691 Q117.269 252.455 114.492 254.006 L114.492 249.283 Q117.316 248.149 119.769 247.57 Q122.223 246.992 124.26 246.992 Q129.63 246.992 132.825 249.677 Q136.019 252.362 136.019 256.853 Q136.019 258.982 135.209 260.904 Q134.422 262.802 132.316 265.394 Q131.737 266.066 128.635 269.283 Q125.533 272.478 119.885 278.242 Z\" fill=\"#000000\" fill-rule=\"nonzero\" fill-opacity=\"1\" /><path clip-path=\"url(#clip570)\" d=\"M146.019 276.297 L150.903 276.297 L150.903 282.177 L146.019 282.177 L146.019 276.297 Z\" fill=\"#000000\" fill-rule=\"nonzero\" fill-opacity=\"1\" /><path clip-path=\"url(#clip570)\" d=\"M161.227 281.459 L161.227 277.2 Q162.987 278.033 164.792 278.473 Q166.598 278.913 168.334 278.913 Q172.964 278.913 175.394 275.811 Q177.848 272.686 178.195 266.343 Q176.852 268.334 174.792 269.399 Q172.732 270.464 170.232 270.464 Q165.047 270.464 162.015 267.339 Q159.005 264.191 159.005 258.751 Q159.005 253.427 162.153 250.209 Q165.302 246.992 170.533 246.992 Q176.528 246.992 179.676 251.598 Q182.848 256.181 182.848 264.931 Q182.848 273.103 178.959 277.987 Q175.093 282.848 168.542 282.848 Q166.783 282.848 164.977 282.501 Q163.172 282.154 161.227 281.459 M170.533 266.806 Q173.681 266.806 175.51 264.654 Q177.362 262.501 177.362 258.751 Q177.362 255.024 175.51 252.871 Q173.681 250.695 170.533 250.695 Q167.385 250.695 165.533 252.871 Q163.704 255.024 163.704 258.751 Q163.704 262.501 165.533 264.654 Q167.385 266.806 170.533 266.806 Z\" fill=\"#000000\" fill-rule=\"nonzero\" fill-opacity=\"1\" /><path clip-path=\"url(#clip570)\" d=\"M201.25 250.695 Q197.639 250.695 195.811 254.26 Q194.005 257.802 194.005 264.931 Q194.005 272.038 195.811 275.603 Q197.639 279.144 201.25 279.144 Q204.885 279.144 206.69 275.603 Q208.519 272.038 208.519 264.931 Q208.519 257.802 206.69 254.26 Q204.885 250.695 201.25 250.695 M201.25 246.992 Q207.061 246.992 210.116 251.598 Q213.195 256.181 213.195 264.931 Q213.195 273.658 210.116 278.265 Q207.061 282.848 201.25 282.848 Q195.44 282.848 192.362 278.265 Q189.306 273.658 189.306 264.931 Q189.306 256.181 192.362 251.598 Q195.44 246.992 201.25 246.992 Z\" fill=\"#000000\" fill-rule=\"nonzero\" fill-opacity=\"1\" /><path clip-path=\"url(#clip570)\" d=\"M24.1199 765.105 Q25.8912 765.105 26.9862 766.232 Q28.0812 767.327 28.0812 768.712 Q28.0812 769.71 27.4693 770.451 Q26.8574 771.159 25.7946 771.159 Q24.6996 771.159 23.5402 770.322 Q22.3807 769.485 22.2197 767.585 Q21.0281 768.841 21.0281 770.837 Q21.0281 771.836 21.6722 772.673 Q22.2841 773.478 23.2825 773.929 Q24.3131 774.412 30.1424 775.507 Q32.0425 775.861 33.8782 776.184 Q35.714 776.506 37.6463 776.892 L37.6463 771.417 Q37.6463 770.709 37.6785 770.419 Q37.7107 770.129 37.8718 769.903 Q38.0328 769.646 38.3871 769.646 Q39.2888 769.646 39.5143 770.064 Q39.7075 770.451 39.7075 771.61 L39.7075 777.279 L60.6091 781.24 Q61.221 781.336 63.1534 781.755 Q65.0535 782.142 68.1775 783.076 Q71.3337 784.01 73.2016 784.944 Q74.2644 785.459 75.2628 786.135 Q76.2934 786.779 77.3239 787.713 Q78.3545 788.647 78.9664 789.871 Q79.6106 791.095 79.6106 792.383 Q79.6106 794.573 78.3867 796.28 Q77.1629 797.987 75.0695 797.987 Q73.2982 797.987 72.2032 796.892 Q71.1082 795.765 71.1082 794.38 Q71.1082 793.381 71.7201 792.673 Q72.332 791.932 73.3948 791.932 Q73.8457 791.932 74.361 792.093 Q74.8763 792.254 75.456 792.609 Q76.0679 792.963 76.4866 793.736 Q76.9053 794.509 76.9697 795.571 Q78.1613 794.315 78.1613 792.383 Q78.1613 791.771 77.9036 791.224 Q77.6782 790.676 77.0985 790.225 Q76.5188 789.742 75.9391 789.388 Q75.3916 789.034 74.3288 788.679 Q73.2982 788.325 72.5253 788.1 Q71.7523 787.874 70.3675 787.584 Q68.9826 787.262 68.1453 787.101 Q67.3401 786.94 65.762 786.65 L39.7075 781.723 L39.7075 786.071 Q39.7075 786.844 39.6753 787.166 Q39.6431 787.456 39.4821 787.681 Q39.2888 787.906 38.9023 787.906 Q38.2904 787.906 38.0328 787.649 Q37.7429 787.359 37.7107 787.037 Q37.6463 786.715 37.6463 785.942 L37.6463 781.369 Q29.4982 779.823 27.3082 779.211 Q24.9894 778.502 23.3791 777.407 Q21.7366 776.312 20.9637 775.089 Q20.1907 773.865 19.9009 772.866 Q19.5788 771.836 19.5788 770.837 Q19.5788 768.583 20.8027 766.844 Q21.9943 765.105 24.1199 765.105 Z\" fill=\"#000000\" fill-rule=\"nonzero\" fill-opacity=\"1\" /><path clip-path=\"url(#clip570)\" d=\"M49.5947 757.277 Q38.4515 757.277 29.466 753.122 Q25.6979 751.351 22.5418 748.871 Q19.3856 746.391 18.0007 744.749 Q16.6159 743.106 16.6159 742.656 Q16.6159 742.011 17.26 741.979 Q17.5821 741.979 18.3872 742.849 Q29.2084 753.477 49.5947 753.445 Q70.0454 753.445 80.4479 743.106 Q81.5751 741.979 81.9294 741.979 Q82.5735 741.979 82.5735 742.656 Q82.5735 743.106 81.2531 744.685 Q79.9326 746.263 76.9053 748.71 Q73.8779 751.158 70.1742 752.929 Q61.1888 757.277 49.5947 757.277 Z\" fill=\"#000000\" fill-rule=\"nonzero\" fill-opacity=\"1\" /><path clip-path=\"url(#clip570)\" d=\"M41.2856 704.116 Q43.0891 704.116 44.1197 705.243 Q45.1181 706.37 45.1181 707.658 Q45.1181 708.882 44.4096 709.526 Q43.701 710.17 42.7993 710.17 Q41.5754 710.17 40.5126 709.269 Q39.4498 708.367 39.2244 707.014 Q38.3871 708.335 38.3871 710.299 Q38.3871 711.587 39.0634 712.715 Q39.7397 713.81 40.6093 714.486 Q41.4788 715.13 42.7348 715.71 Q43.9587 716.257 44.6994 716.483 Q45.4079 716.676 46.1809 716.837 L55.1985 719.091 Q59.4819 720.186 60.9956 720.186 Q62.8635 720.186 64.1195 719.285 Q65.3434 718.383 65.3434 716.579 Q65.3434 715.871 65.1501 715.066 Q64.9247 714.26 64.345 713.23 Q63.7331 712.167 62.8313 711.233 Q61.8973 710.267 60.3192 709.333 Q58.7412 708.399 56.7122 707.787 Q56.0037 707.594 56.0037 706.95 Q56.0037 706.145 56.6478 706.145 Q57.1953 706.145 58.3547 706.595 Q59.4819 707.014 60.9634 707.948 Q62.4126 708.85 63.7331 710.041 Q65.0213 711.233 65.9231 713.004 Q66.8248 714.776 66.8248 716.708 Q66.8248 719.478 65.3434 721.314 Q63.8619 723.149 61.8007 723.826 Q62.0906 723.987 62.477 724.212 Q62.8635 724.438 63.7331 725.114 Q64.5704 725.758 65.2145 726.499 Q65.8264 727.239 66.3095 728.399 Q66.8248 729.526 66.8248 730.75 Q66.8248 732.296 66.3739 733.681 Q65.9231 735.033 64.8925 735.999 Q63.8619 736.966 62.4448 736.966 Q60.8667 736.966 59.7717 735.903 Q58.6445 734.808 58.6445 733.326 Q58.6445 732.392 59.192 731.652 Q59.7395 730.879 60.9312 730.879 Q62.2516 730.879 63.25 731.78 Q64.2484 732.682 64.506 733.97 Q65.3434 732.65 65.3434 730.685 Q65.3434 728.56 63.4754 726.885 Q61.6075 725.21 58.4835 724.405 Q50.9795 722.409 47.6301 721.636 Q44.2485 720.863 42.7993 720.863 Q41.4466 720.863 40.5126 721.217 Q39.5787 721.571 39.16 722.183 Q38.7091 722.763 38.5481 723.31 Q38.3871 723.826 38.3871 724.405 Q38.3871 725.371 38.7735 726.466 Q39.16 727.529 40.0618 728.818 Q40.9313 730.074 42.7348 731.265 Q44.5384 732.457 47.0182 733.262 Q47.759 733.423 47.759 734.131 Q47.7268 734.904 47.0826 734.904 Q46.5351 734.904 45.4079 734.486 Q44.2485 734.035 42.7993 733.133 Q41.35 732.199 40.0618 731.008 Q38.7413 729.784 37.8396 728.012 Q36.9378 726.209 36.9378 724.276 Q36.9378 723.407 37.131 722.57 Q37.2921 721.7 37.7751 720.669 Q38.2582 719.607 39.321 718.673 Q40.3838 717.739 41.9297 717.159 Q41.189 716.773 40.4804 716.257 Q39.7719 715.71 38.9023 714.872 Q38.0006 714.003 37.4853 712.811 Q36.9378 711.587 36.9378 710.235 Q36.9378 708.914 37.2921 707.626 Q37.6141 706.338 38.6769 705.243 Q39.7075 704.116 41.2856 704.116 Z\" fill=\"#000000\" fill-rule=\"nonzero\" fill-opacity=\"1\" /><path clip-path=\"url(#clip570)\" d=\"M81.9294 697.764 Q81.6073 697.764 80.8022 696.927 Q69.981 686.299 49.5947 686.299 Q29.144 686.299 18.8059 696.508 Q17.6143 697.764 17.26 697.764 Q16.6159 697.764 16.6159 697.12 Q16.6159 696.669 17.9363 695.091 Q19.2568 693.481 22.2841 691.066 Q25.3115 688.618 29.0151 686.814 Q38.0006 682.467 49.5947 682.467 Q60.7379 682.467 69.7234 686.621 Q73.4914 688.393 76.6476 690.872 Q79.8038 693.352 81.1886 694.995 Q82.5735 696.637 82.5735 697.12 Q82.5735 697.764 81.9294 697.764 Z\" fill=\"#000000\" fill-rule=\"nonzero\" fill-opacity=\"1\" /><polyline clip-path=\"url(#clip572)\" style=\"stroke:#009af9; stroke-linecap:round; stroke-linejoin:round; stroke-width:8; stroke-opacity:1; fill:none\" points=\"308.73,1334.88 321.65,1328.4 441.115,1269.47 512.908,1235.21 573.609,1207.23 639.547,1178.25 700.336,1153.44 732.922,1141.22 765.508,1130.03 803.262,1118.88 841.016,1110.63 857.792,1108.37 874.568,1107.35 891.343,1108.09 908.119,1111.41 915.474,1114.05 922.83,1117.71 930.185,1122.73 937.54,1129.68 941.218,1134.15 944.896,1139.53 948.574,1146.11 952.251,1154.32 954.09,1159.26 955.929,1164.93 957.768,1171.53 959.607,1179.37 961.446,1188.91 963.284,1200.97 964.204,1208.37 965.123,1217.1 966.043,1227.67 966.962,1241.01 967.463,1250.05 967.964,1260.95 968.466,1274.68 968.967,1293.14 969.468,1321.25 969.969,1381.48 970.471,1384.24 970.972,1321.36 971.473,1292.24 971.974,1273.01 972.475,1258.58 972.977,1247.01 973.478,1237.33 973.979,1228.99 974.48,1221.67 974.981,1215.13 975.984,1203.81 976.986,1194.21 977.989,1185.86 978.991,1178.46 980.996,1165.71 983.001,1154.94 985.006,1145.57 987.01,1137.23 989.015,1129.7 991.02,1122.82 995.03,1110.52 999.039,1099.71 1007.06,1081.13 1015.08,1065.26 1023.1,1051.2 1031.12,1038.45 1047.25,1015.55 1063.38,995.15 1079.52,976.452 1095.65,958.981 1131.33,923.362 1167.01,890.53 1200.95,861.011 1234.9,832.692 1305.49,776.462 1364.91,731.049 1437.46,677.203 1503.91,628.98 1565.29,585.135 1627.47,541.245 1697.15,492.546 1760.29,448.77 1832.59,398.976 1899.52,353.119 1965.52,308.095 2029.59,264.522 2095.27,219.97 2167.24,171.263 2271.77,100.655 2293.22,86.1857 \"/>\n",
       "</svg>\n"
      ]
     },
     "execution_count": 81,
     "metadata": {},
     "output_type": "execute_result"
    }
   ],
   "source": [
    "plot(f, 1.3, 1.4, xlabel=\"\\$x\\$\", ylabel=\"\\$f\\\\,(x)\\$\", linewidth =2, legend = false)"
   ]
  },
  {
   "cell_type": "markdown",
   "metadata": {},
   "source": [
    "### 区間幅の抑制のための工夫\n",
    "\n",
    "1. **区間分割**\n",
    "$$\n",
    "\t\\boldsymbol{I}=\\boldsymbol{I}_1\\cup\\boldsymbol{I}_2\n",
    "$$\n",
    "と考えて，$f_{[\\,]}(\\boldsymbol{I}_1)\\cup f_{[\\,]}(\\boldsymbol{I}_2)$を計算する．\n",
    "\n",
    "1. **平均値形式**  \n",
    "区間拡張$f_{[\\,]}(\\boldsymbol{I})$を\n",
    "$$\n",
    "\tf_{[\\,]}(\\boldsymbol{I})=f(c)+f'_{[\\,]}(\\boldsymbol{I})(\\boldsymbol{I}-c),~c=\\mathrm{mid}(\\boldsymbol{I})\n",
    "$$\n",
    "によって得る．ただし$f'_{[\\,]}(\\boldsymbol{I})$は区間$\\boldsymbol{I}$における$f$の1階微分の区間拡張．\n",
    "\n"
   ]
  },
  {
   "cell_type": "markdown",
   "metadata": {},
   "source": [
    "## 機械区間演算\n",
    "\n",
    "区間演算をコンピュータで実現するには$\\mathbb{R}$の代わりに$\\mathbb{F}$を使った区間が必要．そのような区間全体を\n",
    "\n",
    "$$\n",
    "\t\\mathbb{IF}:=\\{\\boldsymbol{x}\\in\\mathbb{IR}: \\underline{x},~\\overline{x}\\in\\mathbb{F}\\}\n",
    "$$\n",
    "\n",
    "と定義する．IEEE754規格に準拠したシステム上では演算後の丸めの向きを制御することができる．\n",
    "演算結果が浮動小数点数でない場合，丸めの向きを制御して計算する．\n",
    "いま$a,b\\in\\mathbb{F}$に対して，$\\circ\\in\\{+,-,\\times,\\div\\}$として\n",
    "\n",
    "\\begin{align*}\n",
    "\t\\mathtt{fl}_{\\bigtriangledown}\\!\\left(a\\circ b\\right)&:=\\max\\{x\\in\\mathbb{F}:x\\le a\\circ b\\}\\mbox{（下向き丸め）}\\\\\n",
    "\t\\mathtt{fl}_{\\bigtriangleup}\\!\\left(a\\circ b\\right)&:=\\min\\{x\\in\\mathbb{F}:x\\ge a\\circ b\\}\\mbox{（上向き丸め）}\n",
    "\\end{align*}\n",
    "\n",
    "とすると\n",
    "\n",
    "$$\n",
    "\t\\mathtt{fl}_{\\bigtriangledown}\\!\\left(a\\circ b\\right)\\le a\\circ b\\le\\mathtt{fl}_{\\bigtriangleup}\\!\\left(a\\circ b\\right)\n",
    "$$\n",
    "\n",
    "が成立する．\n",
    "\n",
    "$\\boldsymbol{X}=[a,b]$, $\\boldsymbol{Y}=[c,d]$ ($a,b,c,d\\in\\mathbb{F}$)に対して，機械区間演算は次のように実現できる．\n",
    "\n",
    "\\begin{align*}\n",
    "\t\\boldsymbol{X}+\\boldsymbol{Y}&=[\\mathtt{fl}_{\\bigtriangledown}\\!\\left(a+c\\right),\\mathtt{fl}_{\\bigtriangleup}\\!\\left(b+d\\right)]\\\\\n",
    "\t\\boldsymbol{X}-\\boldsymbol{Y}&=[\\mathtt{fl}_{\\bigtriangledown}\\!\\left(a-d\\right),\\mathtt{fl}_{\\bigtriangleup}\\!\\left(b-c\\right)]\\\\\n",
    "\t\\boldsymbol{X}\\times\\boldsymbol{Y}&=[\\mathtt{fl}_{\\bigtriangledown}\\!\\left(\\min\\{ac,ad,bc,bd\\}\\right),\\mathtt{fl}_{\\bigtriangleup}\\!\\left(\\max\\{ac,ad,bc,bd\\}\\right)]\\\\\n",
    "\t\\boldsymbol{X}\\div\\boldsymbol{Y}&=[\\mathtt{fl}_{\\bigtriangledown}\\!\\left(\\min\\{a/c,a/d,b/c,b/d\\}\\right),\\mathtt{fl}_{\\bigtriangleup}\\!\\left(\\max\\{a/c,a/d,b/c,b/d\\}\\right)]\n",
    "\\end{align*}\n",
    "\n",
    "\n",
    "|$\\boldsymbol{X}\\times\\boldsymbol{Y}$|$c>0$|$0\\in\\boldsymbol{Y}$|$d<0$|\n",
    "|:-------------:|:-------------:|:-------------:|:-------------:|\n",
    "|$a>0$|$[\\mathtt{fl}_{\\bigtriangledown}\\!\\left(ac\\right),\\mathtt{fl}_{\\bigtriangleup}\\!\\left(bd\\right)]$|$[\\mathtt{fl}_{\\bigtriangledown}\\!\\left(bc\\right),\\mathtt{fl}_{\\bigtriangleup}\\!\\left(bd\\right)]$|$[\\mathtt{fl}_{\\bigtriangledown}\\!\\left(bc\\right),\\mathtt{fl}_{\\bigtriangleup}\\!\\left(ad\\right)]$|\n",
    "|$0\\in\\boldsymbol{X}$|$[\\mathtt{fl}_{\\bigtriangledown}\\!\\left(ad\\right),\\mathtt{fl}_{\\bigtriangleup}\\!\\left(bd\\right)]$|$B$|$[\\mathtt{fl}_{\\bigtriangledown}\\!\\left(bc\\right),\\mathtt{fl}_{\\bigtriangleup}\\!\\left(ac\\right)]$|\n",
    "|$b<0$|$[\\mathtt{fl}_{\\bigtriangledown}\\!\\left(ad\\right),\\mathtt{fl}_{\\bigtriangleup}\\!\\left(bc\\right)]$|$[\\mathtt{fl}_{\\bigtriangledown}\\!\\left(ad\\right),\\mathtt{fl}_{\\bigtriangleup}\\!\\left(ad\\right)]$|$[\\mathtt{fl}_{\\bigtriangledown}\\!\\left(bd\\right),\\mathtt{fl}_{\\bigtriangleup}\\!\\left(ac\\right)]$|\n",
    "\n",
    "ただし $B=[\\min\\{\\mathtt{fl}_{\\bigtriangledown}\\!\\left(ad\\right),\\mathtt{fl}_{\\bigtriangledown}\\!\\left(bc\\right)\\},\\max\\{\\mathtt{fl}_{\\bigtriangleup}\\!\\left(ad\\right),\\mathtt{fl}_{\\bigtriangleup}\\!\\left(bc\\right)\\}].$"
   ]
  },
  {
   "cell_type": "markdown",
   "metadata": {},
   "source": [
    "## ベクトル・行列の区間演算\n",
    "\n",
    "上で述べた丸めの向きを制御することにより，ベクトル $x,y\\in\\mathbb{F}^n$ の内積 $x^Ty$，行列 $A, B\\in\\mathbb{F}^n$ の積，あるいは，ベクトル行列積 $Ax$ の結果を区間で厳密に包含することができる．\n",
    "\n",
    "$$\n",
    "\t\\mathtt{fl}_{\\bigtriangledown}\\!\\left(x^Ty\\right)\\le x^Ty\\le\\mathtt{fl}_{\\bigtriangleup}\\!\\left(x^Ty\\right)\n",
    "$$\n",
    "\n",
    "$$\n",
    "\t\\mathtt{fl}_{\\bigtriangledown}\\!\\left(Ax\\right)\\le Ax\\le\\mathtt{fl}_{\\bigtriangleup}\\!\\left(Ax\\right)\n",
    "$$\n",
    "\n",
    "$$\n",
    "\t\\mathtt{fl}_{\\bigtriangledown}\\!\\left(AB\\right)\\le AB\\le\\mathtt{fl}_{\\bigtriangleup}\\!\\left(AB\\right)\n",
    "$$\n",
    "\n",
    "このようにすると丸め方向の制御で区間演算が容易にできる．しかし，行列ベクトル積，行列積を高速に実装することは職人芸のレベルの難しさである（例えば，キャシュサイズをみて最適なブロック分割などを行う）．そのため通常は数値計算ライブラリを利用するのが主流である．\n",
    "\n",
    "**注意**　Juliaでは現状、丸め方向の制御ができない。従って、上で紹介しているような区間演算ができない（と思う）。丸め方向を指定してBLASを使った区間演算とかはできない模様（本当？）。現状は各演算を区間演算にした演算が以下のようにできている。"
   ]
  },
  {
   "cell_type": "markdown",
   "metadata": {},
   "source": [
    "`IntervalArithmetic.jl`を利用すると半ば強引に丸めの向きを制御できる。"
   ]
  },
  {
   "cell_type": "code",
   "execution_count": 35,
   "metadata": {},
   "outputs": [
    {
     "name": "stdout",
     "output_type": "stream",
     "text": [
      "xup = 0.020000000000000004\n",
      "xdown = 0.019999999999999993\n"
     ]
    },
    {
     "data": {
      "text/plain": [
       "true"
      ]
     },
     "execution_count": 35,
     "metadata": {},
     "output_type": "execute_result"
    }
   ],
   "source": [
    "setrounding(Float64, RoundUp)\n",
    "xup = parse(Float64, \"0.1\") * parse(Float64, \"0.2\")\n",
    "\n",
    "setrounding(Float64, RoundDown)\n",
    "xdown = parse(Float64, \"0.1\") * parse(Float64, \"0.2\")\n",
    "\n",
    "setrounding(Float64, RoundNearest)\n",
    "\n",
    "@show xup\n",
    "@show xdown\n",
    "xup > xdown"
   ]
  },
  {
   "cell_type": "markdown",
   "metadata": {},
   "source": [
    "しかしながら、BLASを利用する丸め向きの制御には（今の所）失敗している。"
   ]
  },
  {
   "cell_type": "code",
   "execution_count": 40,
   "metadata": {},
   "outputs": [
    {
     "name": "stdout",
     "output_type": "stream",
     "text": [
      "n = 63\n",
      "all(Cup .> Cdown) = true\n",
      "n = 64\n",
      "all(Cup .> Cdown) = true\n",
      "n = 65\n",
      "all(Cup .> Cdown) = false\n",
      "n = 66\n",
      "all(Cup .> Cdown) = false\n"
     ]
    }
   ],
   "source": [
    "for n = 63:66\n",
    "    @show n\n",
    "    A, B = randn(n,n), randn(n,n)\n",
    "    setrounding(Float64, RoundUp) # RoundUp\n",
    "    Cup = A*B;\n",
    "    setrounding(Float64, RoundDown) # RoundDown\n",
    "    Cdown = A*B;\n",
    "    setrounding(Float64, RoundNearest) # RoundNearest\n",
    "    # Cnearest = A*B;\n",
    "    @show all(Cup .> Cdown)\n",
    "end"
   ]
  },
  {
   "cell_type": "code",
   "execution_count": 41,
   "metadata": {},
   "outputs": [
    {
     "data": {
      "text/plain": [
       "LinearAlgebra.BLAS.LBTConfig\n",
       "Libraries: \n",
       "└ [ILP64] libopenblas64_.dylib"
      ]
     },
     "execution_count": 41,
     "metadata": {},
     "output_type": "execute_result"
    }
   ],
   "source": [
    "using LinearAlgebra\n",
    "BLAS.get_config()"
   ]
  },
  {
   "cell_type": "markdown",
   "metadata": {},
   "source": [
    "丸めの向きを制御しているので、必ず大小関係が成立しているはずであるが、$n=65$からは上向き丸め、下向き丸めの計算結果が同じになるケースが発生する。これでは精度保証ができているとは言えない。これはBLASが原因であることが知られているが、現状、対策がない。唯一、Intel CPUでMKLを使っているケースのみ成功することが観測されている。"
   ]
  },
  {
   "cell_type": "code",
   "execution_count": 42,
   "metadata": {
    "tags": []
   },
   "outputs": [
    {
     "name": "stdout",
     "output_type": "stream",
     "text": [
      "n = 63\n",
      "all(Cup .> Cdown) = true\n",
      "n = 64\n",
      "all(Cup .> Cdown) = true\n",
      "n = 65\n",
      "all(Cup .> Cdown) = false\n",
      "n = 66\n",
      "all(Cup .> Cdown) = false\n"
     ]
    }
   ],
   "source": [
    "using MKL\n",
    "for n = 63:66\n",
    "    @show n\n",
    "    A, B = randn(n,n), randn(n,n)\n",
    "    setrounding(Float64, RoundUp) # RoundUp\n",
    "    Cup = A*B;\n",
    "    setrounding(Float64, RoundDown) # RoundDown\n",
    "    Cdown = A*B;\n",
    "    setrounding(Float64, RoundNearest) # RoundNearest\n",
    "    # Cnearest = A*B;\n",
    "    @show all(Cup .> Cdown)\n",
    "end"
   ]
  },
  {
   "cell_type": "code",
   "execution_count": 43,
   "metadata": {},
   "outputs": [
    {
     "data": {
      "text/plain": [
       "LinearAlgebra.BLAS.LBTConfig\n",
       "Libraries: \n",
       "└ [ILP64] libopenblas64_.dylib"
      ]
     },
     "execution_count": 43,
     "metadata": {},
     "output_type": "execute_result"
    }
   ],
   "source": [
    "BLAS.get_config()"
   ]
  },
  {
   "cell_type": "markdown",
   "metadata": {},
   "source": [
    "私のラップトップ環境（Apple siliconチップ）ではMKLは使えなかった。。"
   ]
  },
  {
   "cell_type": "code",
   "execution_count": 44,
   "metadata": {},
   "outputs": [
    {
     "name": "stdout",
     "output_type": "stream",
     "text": [
      "Julia Version 1.7.2\n",
      "Commit bf53498635 (2022-02-06 15:21 UTC)\n",
      "Platform Info:\n",
      "  OS: macOS (arm64-apple-darwin21.2.0)\n",
      "  CPU: Apple M1 Max\n",
      "  WORD_SIZE: 64\n",
      "  LIBM: libopenlibm\n",
      "  LLVM: libLLVM-12.0.1 (ORCJIT, cyclone)\n"
     ]
    }
   ],
   "source": [
    "versioninfo()"
   ]
  },
  {
   "cell_type": "code",
   "execution_count": 45,
   "metadata": {
    "tags": []
   },
   "outputs": [
    {
     "name": "stdout",
     "output_type": "stream",
     "text": [
      "\u001b[32m\u001b[1m      Status\u001b[22m\u001b[39m `~/.julia/environments/v1.7/Project.toml`\n",
      " \u001b[90m [d1acc4aa] \u001b[39mIntervalArithmetic v0.20.3\n"
     ]
    }
   ],
   "source": [
    "using Pkg; Pkg.status(\"IntervalArithmetic\")"
   ]
  },
  {
   "cell_type": "code",
   "execution_count": 30,
   "metadata": {
    "tags": []
   },
   "outputs": [
    {
     "data": {
      "text/plain": [
       "/ (generic function with 1 method)"
      ]
     },
     "execution_count": 30,
     "metadata": {},
     "output_type": "execute_result"
    }
   ],
   "source": [
    "using SetRoundingLLVM\n",
    "\n",
    "struct Interval{T <: Number}\n",
    "    lo::T\n",
    "    hi::T\n",
    "end\n",
    "\n",
    "# import Base: *\n",
    "# import Base.: +\n",
    "# import Base: -\n",
    "# import Base: /\n",
    "\n",
    "function +(a::Interval{T}, b::Interval{T}) where T <: Real\n",
    "    llvm_setrounding(RoundDown) do\n",
    "        lo = a.lo + b.lo\n",
    "    end\n",
    "    llvm_setrounding(RoundUp) do\n",
    "        hi = a.hi + b.hi\n",
    "    end\n",
    "    Interval{T}(lo, hi)\n",
    "end\n",
    "\n",
    "function -(a::Interval{T}, b::Interval{T}) where T <: Real\n",
    "    llvm_setrounding(RoundDown) do\n",
    "        lo = a.lo - b.hi\n",
    "    end\n",
    "    llvm_setrounding(RoundUp) do\n",
    "        hi = a.hi - b.lo\n",
    "    end\n",
    "    Interval{T}(lo, hi)\n",
    "end\n",
    "\n",
    "function *(a::Interval{T}, b::Interval{T}) where T <: Real\n",
    "    llvm_setrounding(RoundDown) do\n",
    "        lo = min(a.lo * b.lo, a.lo * b.hi, a.hi * b.lo, a.hi * b.hi)\n",
    "    end\n",
    "    llvm_setrounding(RoundUp) do\n",
    "        hi = max(a.lo * b.lo, a.lo * b.hi, a.hi * b.lo, a.hi * b.hi)\n",
    "    end\n",
    "    Interval{T}(lo, hi)\n",
    "end\n",
    "\n",
    "function /(a::Interval{T}, b::Interval{T}) where T <: Real\n",
    "    llvm_setrounding(RoundDown) do\n",
    "        lo = min(a.lo / b.lo, a.lo / b.hi, a.hi / b.lo, a.hi / b.hi)\n",
    "    end\n",
    "    llvm_setrounding(RoundUp) do\n",
    "        hi = max(a.lo / b.lo, a.lo / b.hi, a.hi / b.lo, a.hi / b.hi)\n",
    "    end\n",
    "    Interval{T}(lo, hi)\n",
    "end\n",
    "\n"
   ]
  },
  {
   "cell_type": "code",
   "execution_count": 31,
   "metadata": {
    "tags": []
   },
   "outputs": [
    {
     "ename": "LoadError",
     "evalue": "MethodError: no method matching +(::Float64, ::Float64)\nYou may have intended to import Base.:+",
     "output_type": "error",
     "traceback": [
      "MethodError: no method matching +(::Float64, ::Float64)\nYou may have intended to import Base.:+",
      "",
      "Stacktrace:",
      " [1] (::var\"#153#155\"{Interval{Float64}, Interval{Float64}})()",
      "   @ Main ./In[30]:15",
      " [2] llvm_setrounding(f::var\"#153#155\"{Interval{Float64}, Interval{Float64}}, rounding::RoundingMode{:Down})",
      "   @ SetRoundingLLVM ~/.julia/packages/SetRoundingLLVM/T9jCQ/src/SetRoundingLLVM.jl:64",
      " [3] +(a::Interval{Float64}, b::Interval{Float64})",
      "   @ Main ./In[30]:14",
      " [4] top-level scope",
      "   @ show.jl:1047"
     ]
    }
   ],
   "source": [
    "\n",
    "X = Interval(1.,2.)\n",
    "Y = Interval(-1.,2.)\n",
    "\n",
    "\n",
    "@show X + Y"
   ]
  },
  {
   "cell_type": "markdown",
   "metadata": {},
   "source": [
    "### 謝辞\n",
    "\n",
    "本資料は教員が学生の頃に精度保証付き数値計算の諸論を教えて下さった[柏木雅英](http://www.kashi.info.waseda.ac.jp/~kashi/)先生の「数値解析特論」の講義資料が基になっています.\n",
    "また, 以下のような文献・Web ページ等を参考にこの文章は書いています.\n",
    "\n",
    "### 参考文献\n",
    "\n",
    "1. 伊理正夫, 藤野和建, 数値計算の常識, 共立出版, 1985.<br>\n",
    "(Twitterとかでも度々話題に上がる名著. IEEE754 の制定の年にすでに浮動小数点数に対する注意が詰まっている書籍が出版されている. 桁落ち, 情報落ちなどの誤差に詳しい)\n",
    "1. 齊藤宣一, 数値解析入門, 東京大学出版会, 2012.<br>\n",
    "(数値解析学の現在最も詳しい教科書)\n",
    "1. 大石進一編著, 精度保証付き数値計算の基礎, コロナ社, 2018.<br>\n",
    "(精度保証付き数値計算の教科書. 浮動小数点数および区間演算に詳しい. この1章が読めたら大したもの)\n",
    "1. [ushiostarfish, IEEE 754 浮動小数点入門.](https://ushiostarfish.hatenablog.com/entry/2019/08/12/210023)<br>\n",
    "(IEEE 754 浮動小数点数を細かく紹介し, 丸め誤差の詳細, および区間演算について触れている)\n",
    "1. Nick Higham, [What Is Floating-Point Arithmetic](https://nhigham.com/2020/05/04/what-is-floating-point-arithmetic/)/[IEEE Standard Arithmetic](https://nhigham.com/2020/05/07/what-is-ieee-standard-arithmetic/).<br>\n",
    "(数値解析の超有名人によるブログ記事, (IEEE754/854)浮動小数点数について端的にまとめられている)\n",
    "1. Nick Higham, [What Is Rounding?](https://nhigham.com/2020/04/28/what-is-rounding/).<br>\n",
    "    (数値解析の超有名人によるブログ記事, 丸めについて端的にまとめられている)\n",
    "1. [Calculating with sets: Interval methods in Julia](https://github.com/dpsanders/IntervalsJuliaCon2020).<br>\n",
    "(Juliaで区間演算をするJuliaCon2020のチュートリアル資料、[動画](https://youtu.be/LAuRCy9jUU8)も公開されている)\n",
    "1. [IntervalArithmetic.jl: Basic usage](https://github.com/JuliaIntervals/IntervalArithmetic.jl/blob/master/docs/src/usage.md).<br>\n",
    "(IntervalArithmetic.jlの区間演算の説明ページ)\n",
    "1. matsueushi, [デフォルトの丸めモードで上付き丸め、下付き丸めをエミュレートする(Julia)](https://matsueushi.github.io/posts/rounding-emulator/).<br>\n",
    "(IntervalArithmetic.jlの丸め変更はこれを使用しているようです)\n",
    "1. matsueushi, [Juliaで丸めモードを指定して浮動小数点数の計算をする(したい)](https://matsueushi.github.io/posts/julia-rounding/).<br>\n",
    "(丸めモードの指定ができない！？最近点丸めだけで区間演算しないといけないのか...)"
   ]
  }
 ],
 "metadata": {
  "kernelspec": {
   "display_name": "Julia 1.10.0",
   "language": "julia",
   "name": "julia-1.10"
  },
  "language_info": {
   "file_extension": ".jl",
   "mimetype": "application/julia",
   "name": "julia",
   "version": "1.10.0"
  }
 },
 "nbformat": 4,
 "nbformat_minor": 4
}
